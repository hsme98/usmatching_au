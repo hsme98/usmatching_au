{
 "cells": [
  {
   "cell_type": "code",
   "execution_count": 2,
   "id": "b222518e-b8d4-44f7-8759-e74ef01e414c",
   "metadata": {},
   "outputs": [],
   "source": [
    "import os\n",
    "import time\n",
    "import argparse\n",
    "\n",
    "import torchvision\n",
    "import torch\n",
    "import torch.nn as nn\n",
    "\n",
    "from util import AverageMeter\n",
    "from align_uniform import align_loss, uniform_loss_prelog\n",
    "from tqdm import tqdm\n",
    "from collections import defaultdict\n",
    "import copy\n",
    "\n",
    "import matplotlib.pyplot as plt"
   ]
  },
  {
   "cell_type": "code",
   "execution_count": 3,
   "id": "2a5340b7-eceb-45c2-8f7b-494047cfe942",
   "metadata": {},
   "outputs": [],
   "source": [
    "if torch.cuda.is_available():\n",
    "    torch.cuda.set_device(1)"
   ]
  },
  {
   "cell_type": "code",
   "execution_count": 4,
   "id": "aeb00b7e-af7b-43e7-9537-ca6b07d57cb7",
   "metadata": {},
   "outputs": [],
   "source": [
    "n_class = int(2 ** 16)"
   ]
  },
  {
   "cell_type": "code",
   "execution_count": 5,
   "id": "39d50a93-8e06-4cf1-9e76-138789c32b46",
   "metadata": {},
   "outputs": [],
   "source": [
    "n_epochs = 200"
   ]
  },
  {
   "cell_type": "code",
   "execution_count": 6,
   "id": "a45a8da4-b432-4276-b016-d9dc2ecf5242",
   "metadata": {},
   "outputs": [],
   "source": [
    "n_dims = 3"
   ]
  },
  {
   "cell_type": "code",
   "execution_count": null,
   "id": "75cced64-f4b7-490f-b74a-5e7be7ec479b",
   "metadata": {},
   "outputs": [],
   "source": [
    "data_y0 = np.random.rand((n_class,)) # mostly along the first dimension\n",
    "data_y1 = np.random.rand() # mostly along the last dimension"
   ]
  }
 ],
 "metadata": {
  "kernelspec": {
   "display_name": "usmatching_env",
   "language": "python",
   "name": "usmatching_env"
  },
  "language_info": {
   "codemirror_mode": {
    "name": "ipython",
    "version": 3
   },
   "file_extension": ".py",
   "mimetype": "text/x-python",
   "name": "python",
   "nbconvert_exporter": "python",
   "pygments_lexer": "ipython3",
   "version": "3.9.18"
  }
 },
 "nbformat": 4,
 "nbformat_minor": 5
}
