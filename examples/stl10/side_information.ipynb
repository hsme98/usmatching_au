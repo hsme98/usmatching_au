{
 "cells": [
  {
   "cell_type": "code",
   "execution_count": 1,
   "id": "b222518e-b8d4-44f7-8759-e74ef01e414c",
   "metadata": {},
   "outputs": [],
   "source": [
    "import os\n",
    "import time\n",
    "import argparse\n",
    "\n",
    "import torchvision\n",
    "import torch\n",
    "import torch.nn as nn\n",
    "\n",
    "from util import AverageMeter\n",
    "from encoder import SmallAlexNet\n",
    "from align_uniform import align_loss, uniform_loss_prelog\n",
    "from tqdm import tqdm\n",
    "from collections import defaultdict\n",
    "import copy\n",
    "\n",
    "import matplotlib.pyplot as plt\n",
    "\n",
    "\n",
    "class TwoAugUnsupervisedDatasetLbl(torch.utils.data.Dataset):\n",
    "    r\"\"\"Returns two augmentation and no labels.\"\"\"\n",
    "\n",
    "    def __init__(self, dataset, transform, lblmap=None):\n",
    "        self.dataset = dataset\n",
    "        self.transform = transform\n",
    "        self.lblmap = copy.deepcopy(lblmap)\n",
    "\n",
    "    def __getitem__(self, index):\n",
    "        image, lbl = self.dataset[index]\n",
    "        lbl2return = lbl if self.lblmap is None else self.lblmap[lbl]\n",
    "        return self.transform(image), self.transform(image), lbl2return\n",
    "\n",
    "    def __len__(self):\n",
    "        return len(self.dataset)\n",
    "\n",
    "def parse_option():\n",
    "    parser = argparse.ArgumentParser('STL-10 Representation Learning with Alignment and Uniformity Losses')\n",
    "\n",
    "    parser.add_argument('--align_w', type=float, default=1, help='Alignment loss weight')\n",
    "    parser.add_argument('--unif_w', type=float, default=1, help='Uniformity loss weight')\n",
    "    parser.add_argument('--align_alpha', type=float, default=2, help='alpha in alignment loss')\n",
    "    parser.add_argument('--unif_t', type=float, default=2, help='t in uniformity loss')\n",
    "\n",
    "    parser.add_argument('--batch_size', type=int, default=256, help='Batch size')\n",
    "    parser.add_argument('--epochs', type=int, default=400, help='Number of training epochs')\n",
    "    parser.add_argument('--iter', type=int, default=0, help='Number of training epochs')\n",
    "    parser.add_argument('--lr', type=float, default=None,\n",
    "                        help='Learning rate. Default is linear scaling 0.12 per 256 batch size')\n",
    "    parser.add_argument('--lr_decay_rate', type=float, default=0.1, help='Learning rate decay rate')\n",
    "    parser.add_argument('--lr_decay_epochs', default=[155, 170, 185], nargs='*', type=int,\n",
    "                        help='When to decay learning rate')\n",
    "    parser.add_argument('--momentum', type=float, default=0.9, help='SGD momentum')\n",
    "    parser.add_argument('--weight_decay', type=float, default=1e-4, help='L2 weight decay')\n",
    "    parser.add_argument('--feat_dim', type=int, default=128, help='Feature dimensionality')\n",
    "\n",
    "    parser.add_argument('--num_workers', type=int, default=4, help='Number of data loader workers to use')\n",
    "    parser.add_argument('--log_interval', type=int, default=40, help='Number of iterations between logs')\n",
    "    parser.add_argument('--gpus', default=[0], nargs='*', type=int,\n",
    "                        help='List of GPU indices to use, e.g., --gpus 0 1 2 3')\n",
    "\n",
    "    parser.add_argument('--data_folder', type=str, default='./data', help='Path to data')\n",
    "    parser.add_argument('--result_folder', type=str, default='./results', help='Base directory to save model')\n",
    "\n",
    "    opt = parser.parse_args(\"\")\n",
    "\n",
    "    if opt.lr is None:\n",
    "        opt.lr = 0.12 * (opt.batch_size / 256)\n",
    "\n",
    "    opt.gpus = list(map(lambda x: torch.device('cuda', x), opt.gpus))\n",
    "\n",
    "    opt.save_folder = os.path.join(\n",
    "        opt.result_folder,\n",
    "        f\"cifar100_400_sideinformation_align{opt.align_w:g}alpha{opt.align_alpha:g}_unif{opt.unif_w:g}t{opt.unif_t:g}_iter{opt.iter}\"\n",
    "    )\n",
    "    os.makedirs(opt.save_folder, exist_ok=True)\n",
    "\n",
    "    return opt\n",
    "\n",
    "\n",
    "opt = parse_option()"
   ]
  },
  {
   "cell_type": "code",
   "execution_count": 2,
   "id": "d516e1e3-c712-47e8-8915-724ce21f0f38",
   "metadata": {},
   "outputs": [],
   "source": [
    "transform = torchvision.transforms.Compose([\n",
    "        torchvision.transforms.RandomResizedCrop(32, scale=(0.08, 1)),\n",
    "        torchvision.transforms.RandomHorizontalFlip(),\n",
    "        torchvision.transforms.ColorJitter(0.4, 0.4, 0.4, 0.4),\n",
    "        torchvision.transforms.RandomGrayscale(p=0.2),\n",
    "        torchvision.transforms.ToTensor(),\n",
    "        torchvision.transforms.Normalize(\n",
    "            (0.44087801806139126, 0.42790631331699347, 0.3867879370752931),\n",
    "            (0.26826768628079806, 0.2610450402318512, 0.26866836876860795),\n",
    "        ),\n",
    "    ])\n",
    "\n",
    "old_lbls = list(range(100))\n",
    "labels_2_keep = list(range(25))\n",
    "# labels_2_keep = [0,1,2,3]\n",
    "\n",
    "old2new = {}\n",
    "count = 0\n",
    "for old_lbl in old_lbls:\n",
    "    if old_lbl in labels_2_keep: \n",
    "        old2new[old_lbl] = count\n",
    "        count += 1\n",
    "\n",
    "for old_lbl in old_lbls:\n",
    "    if old_lbl not in labels_2_keep: \n",
    "        old2new[old_lbl] = count\n",
    "\n",
    "new_lbls = list(range(count+1))"
   ]
  },
  {
   "cell_type": "code",
   "execution_count": null,
   "id": "da97cad4-1401-46e3-96c9-aad3f6fbedff",
   "metadata": {},
   "outputs": [
    {
     "name": "stdout",
     "output_type": "stream",
     "text": [
      "Optimize: 1 * loss_align(alpha=2) + 1 * loss_uniform(t=2)\n",
      "Files already downloaded and verified\n",
      "Epoch 0/400\tIt 0/196\talign_loss 1.170543 (1.170543)\tuniform_loss -2.484235 (-2.484235)\ttotal_loss -1.313692 (-1.313692)\titer_time 3.413382 (3.413382)\n"
     ]
    }
   ],
   "source": [
    "def get_data_loader(opt):\n",
    "    transform = torchvision.transforms.Compose([\n",
    "        torchvision.transforms.RandomResizedCrop(32, scale=(0.08, 1)),\n",
    "        torchvision.transforms.RandomHorizontalFlip(),\n",
    "        torchvision.transforms.ColorJitter(0.4, 0.4, 0.4, 0.4),\n",
    "        torchvision.transforms.RandomGrayscale(p=0.2),\n",
    "        torchvision.transforms.ToTensor(),\n",
    "        torchvision.transforms.Normalize(\n",
    "            (0.44087801806139126, 0.42790631331699347, 0.3867879370752931),\n",
    "            (0.26826768628079806, 0.2610450402318512, 0.26866836876860795),\n",
    "        ),\n",
    "    ])\n",
    "    dataset = TwoAugUnsupervisedDatasetLbl(\n",
    "        torchvision.datasets.CIFAR100(opt.data_folder, 'train', download=True), \n",
    "        transform=transform, \n",
    "        lblmap=old2new )\n",
    "    \n",
    "    return torch.utils.data.DataLoader(dataset, batch_size=opt.batch_size, num_workers=opt.num_workers,\n",
    "                                       shuffle=True, pin_memory=True)\n",
    "\n",
    "\n",
    "print(f'Optimize: {opt.align_w:g} * loss_align(alpha={opt.align_alpha:g}) + {opt.unif_w:g} * loss_uniform(t={opt.unif_t:g})')\n",
    "\n",
    "torch.cuda.set_device(opt.gpus[0])\n",
    "torch.backends.cudnn.deterministic = True\n",
    "torch.backends.cudnn.benchmark = True\n",
    "\n",
    "encoder = SmallAlexNet(feat_dim=opt.feat_dim, cifar=True).to(opt.gpus[0])\n",
    "\n",
    "optim = torch.optim.Adam(encoder.parameters(), lr=1e-2)\n",
    "\n",
    "loader = get_data_loader(opt)\n",
    "align_meter = AverageMeter('align_loss')\n",
    "unif_meter = AverageMeter('uniform_loss')\n",
    "loss_meter = AverageMeter('total_loss')\n",
    "it_time_meter = AverageMeter('iter_time')\n",
    "\n",
    "for epoch in range(opt.epochs):\n",
    "    align_meter.reset()\n",
    "    unif_meter.reset()\n",
    "    loss_meter.reset()\n",
    "    it_time_meter.reset()\n",
    "    t0 = time.time()\n",
    "    for ii, (im_x, im_y, lbl) in enumerate(loader):\n",
    "        optim.zero_grad()\n",
    "        x, y = encoder(torch.cat([im_x.to(opt.gpus[0]), im_y.to(opt.gpus[0])])).chunk(2)\n",
    "        \n",
    "        align_loss_val = align_loss(x, y, alpha=opt.align_alpha)\n",
    "        # group according to new_lbls\n",
    "\n",
    "        z = torch.cat( [x, y])\n",
    "        lbl_z = torch.cat([lbl, lbl])\n",
    "        unif_losses = torch.cat([uniform_loss_prelog(z[lbl_z==new_lbl]) for new_lbl in new_lbls])\n",
    "        unif_loss_val = torch.log( torch.mean(unif_losses) )\n",
    "        \n",
    "        loss = align_loss_val * opt.align_w + unif_loss_val * opt.unif_w\n",
    "        align_meter.update(align_loss_val, x.shape[0])\n",
    "        unif_meter.update(unif_loss_val)\n",
    "        loss_meter.update(loss, x.shape[0])\n",
    "        loss.backward()\n",
    "        optim.step()\n",
    "        it_time_meter.update(time.time() - t0)\n",
    "        if ii % opt.log_interval == 0:\n",
    "            print(f\"Epoch {epoch}/{opt.epochs}\\tIt {ii}/{len(loader)}\\t\" +\n",
    "                  f\"{align_meter}\\t{unif_meter}\\t{loss_meter}\\t{it_time_meter}\")\n",
    "        t0 = time.time()\n",
    "\n",
    "ckpt_file = os.path.join(opt.save_folder, 'encoder.pth')\n",
    "torch.save(encoder.state_dict(), ckpt_file)\n",
    "print(f'Saved to {ckpt_file}')"
   ]
  },
  {
   "cell_type": "code",
   "execution_count": null,
   "id": "46dfeed1-b6e6-4cb3-a96b-68fa78bcf010",
   "metadata": {},
   "outputs": [],
   "source": [
    "\"\"\"\n",
    "    Here we  do the linear evaluation, the old labels are provided to the linear objective as one hot\n",
    "\"\"\"\n",
    "import time\n",
    "import argparse\n",
    "\n",
    "import torchvision\n",
    "import torch\n",
    "import torch.nn as nn\n",
    "import torch.nn.functional as F\n",
    "\n",
    "from util import AverageMeter\n",
    "from encoder import SmallAlexNet\n",
    "MODEL_2_LOAD = \"./results/base_200_sideinformation_align1alpha2_unif1t2_iter0/encoder.pth\"\n",
    "MODEL_2_LOAD = \"./results/base_200_4_sideinformation_align1alpha2_unif1t2_iter0/encoder.pth\"\n",
    "MODEL_2_LOAD=\"./results/manual_labels_align1alpha2_unif1t2_iter0/encoder.pth\"\n",
    "MODEL_2_LOAD=\"./results/cifar100_manual_labels_align1alpha2_unif1t2_iter0/encoder.pth\"\n",
    "MODEL_2_LOAD=\"./results/cifar100_sideinformation_align1alpha2_unif1t2_iter0/encoder.pth\"\n",
    "\n",
    "USE_MOD_LBL = False\n",
    "encoder = SmallAlexNet(feat_dim=opt.feat_dim, cifar=True).to(opt.gpus[0])\n",
    "encoder.load_state_dict(torch.load(MODEL_2_LOAD))"
   ]
  },
  {
   "cell_type": "code",
   "execution_count": 10,
   "id": "00c18248-7d9a-4388-a6e3-e3304ba5f363",
   "metadata": {},
   "outputs": [],
   "source": [
    "def parse_option():\n",
    "    parser = argparse.ArgumentParser('STL-10 Representation Learning with Alignment and Uniformity Losses')\n",
    "\n",
    "    parser.add_argument('--encoder_checkpoint', type=str, help='Encoder checkpoint to evaluate', default=MODEL_2_LOAD)\n",
    "    parser.add_argument('--feat_dim', type=int, default=128, help='Encoder feature dimensionality')\n",
    "    parser.add_argument('--layer_index', type=int, default=-2, help='Evaluation layer')\n",
    "\n",
    "    parser.add_argument('--batch_size', type=int, default=128, help='Batch size')\n",
    "    parser.add_argument('--epochs', type=int, default=100, help='Number of training epochs')\n",
    "    parser.add_argument('--lr', type=float, default=1e-3, help='Learning rate')\n",
    "    parser.add_argument('--lr_decay_rate', type=float, default=0.2, help='Learning rate decay rate')\n",
    "    parser.add_argument('--lr_decay_epochs', type=str, default='60,80', help='When to decay learning rate')\n",
    "\n",
    "    parser.add_argument('--num_workers', type=int, default=6, help='Number of data loader workers to use')\n",
    "    parser.add_argument('--log_interval', type=int, default=40, help='Number of iterations between logs')\n",
    "    parser.add_argument('--gpus', default=[0], nargs='*', type=int,\n",
    "                        help='List of GPU indices to use, e.g., --gpus 0 1 2 3')\n",
    "\n",
    "    parser.add_argument('--data_folder', type=str, default='./data', help='Path to data')\n",
    "\n",
    "    opt = parser.parse_args(\"\")\n",
    "\n",
    "    if opt.lr is None:\n",
    "        opt.lr = 0.12 * (opt.batch_size / 256)\n",
    "\n",
    "    opt.gpu = torch.device('cuda', opt.gpus[0])\n",
    "    opt.lr_decay_epochs = list(map(int, opt.lr_decay_epochs.split(',')))\n",
    "\n",
    "    return opt\n",
    "\n",
    "\n",
    "class DatasetModifiedLbl(torch.utils.data.Dataset):\n",
    "    r\"\"\"Returns two augmentation and no labels.\"\"\"\n",
    "\n",
    "    def __init__(self, dataset, lblmap=None):\n",
    "        self.dataset = dataset\n",
    "        self.lblmap = copy.deepcopy(lblmap)\n",
    "\n",
    "    def __getitem__(self, index):\n",
    "        image, lbl = self.dataset[index]\n",
    "        lbl2return = lbl if self.lblmap is None else self.lblmap[lbl]\n",
    "        return image, lbl2return\n",
    "\n",
    "    def __len__(self):\n",
    "        return len(self.dataset)"
   ]
  },
  {
   "cell_type": "code",
   "execution_count": 11,
   "id": "42651724-4da3-439f-b35d-f15b322ebc46",
   "metadata": {},
   "outputs": [],
   "source": [
    "class DatasetModifiedLblandLbl(torch.utils.data.Dataset):\n",
    "    r\"\"\"Returns two augmentation and no labels.\"\"\"\n",
    "\n",
    "    def __init__(self, dataset, lblmap):\n",
    "        self.dataset = dataset\n",
    "        self.lblmap = copy.deepcopy(lblmap)\n",
    "\n",
    "    def __getitem__(self, index):\n",
    "        image, lbl = self.dataset[index]\n",
    "        return image, self.lblmap[lbl], lbl\n",
    "\n",
    "    def __len__(self):\n",
    "        return len(self.dataset)"
   ]
  },
  {
   "cell_type": "code",
   "execution_count": 12,
   "id": "bb10fe91-33c3-4ee2-b5b7-d3f1011380de",
   "metadata": {},
   "outputs": [],
   "source": [
    "def get_data_loaders(opt):\n",
    "    train_transform = torchvision.transforms.Compose([\n",
    "        torchvision.transforms.RandomResizedCrop(32, scale=(0.08, 1)),\n",
    "        torchvision.transforms.ToTensor(),\n",
    "        torchvision.transforms.Normalize(\n",
    "            (0.44087801806139126, 0.42790631331699347, 0.3867879370752931),\n",
    "            (0.26826768628079806, 0.2610450402318512, 0.26866836876860795),\n",
    "        ),\n",
    "        torchvision.transforms.RandomHorizontalFlip()\n",
    "    ])\n",
    "    val_transform = torchvision.transforms.Compose([\n",
    "        torchvision.transforms.Resize(70),\n",
    "        torchvision.transforms.CenterCrop(32),\n",
    "        torchvision.transforms.ToTensor(),\n",
    "        torchvision.transforms.Normalize(\n",
    "            (0.44087801806139126, 0.42790631331699347, 0.3867879370752931),\n",
    "            (0.26826768628079806, 0.2610450402318512, 0.26866836876860795),\n",
    "        ),\n",
    "    ])\n",
    "    train_dataset = DatasetModifiedLblandLbl( torchvision.datasets.CIFAR100(opt.data_folder, 'train', download=True, transform=train_transform), lblmap=old2new)\n",
    "    val_dataset =  DatasetModifiedLblandLbl( torchvision.datasets.CIFAR100(opt.data_folder, 'test', transform=val_transform), lblmap=old2new)\n",
    "    train_loader = torch.utils.data.DataLoader(train_dataset, batch_size=opt.batch_size,\n",
    "                                               num_workers=opt.num_workers, shuffle=True, pin_memory=True)\n",
    "    val_loader = torch.utils.data.DataLoader(val_dataset, batch_size=opt.batch_size,\n",
    "                                             num_workers=opt.num_workers, pin_memory=True)\n",
    "    return train_loader, val_loader\n",
    "\n",
    "\n",
    "def validate_comb(opt, encoder, classifier, val_loader):\n",
    "    correct = 0\n",
    "    with torch.no_grad():\n",
    "        for images, labels_mod, labels_act in val_loader:\n",
    "            pred = classifier(torch.cat( (encoder(images.to(opt.gpus[0]), layer_index=opt.layer_index).flatten(1), torch.nn.functional.one_hot(labels_mod.to(opt.gpus[0]), num_classes=len(labels_2_keep)+1)), dim=1)).argmax(dim=1)\n",
    "            correct += (pred.cpu() == labels_act).sum().item()\n",
    "    return correct / len(val_loader.dataset)\n",
    "\n",
    "def validate(opt, encoder, classifier, val_loader):\n",
    "    correct = 0\n",
    "    with torch.no_grad():\n",
    "        for images, labels_mod, labels_act in val_loader:\n",
    "            pred = classifier( encoder(images.to(opt.gpus[0]), layer_index=opt.layer_index).flatten(1) ).argmax(dim=1)\n",
    "            correct += (pred.cpu() == labels_act).sum().item()\n",
    "    return correct / len(val_loader.dataset)"
   ]
  },
  {
   "cell_type": "code",
   "execution_count": 13,
   "id": "146282ba-d904-4d56-ae75-491417d7eb3c",
   "metadata": {},
   "outputs": [],
   "source": [
    "opt.gpu=opt.gpus[0]"
   ]
  },
  {
   "cell_type": "code",
   "execution_count": 14,
   "id": "7b0e8d1a-d5f1-4580-9ad6-37b38c2827ef",
   "metadata": {},
   "outputs": [
    {
     "name": "stdout",
     "output_type": "stream",
     "text": [
      "Files already downloaded and verified\n",
      "Feature dimension: 4096\n"
     ]
    },
    {
     "name": "stderr",
     "output_type": "stream",
     "text": [
      "  0%|                                                                                                                                                  | 0/100 [00:00<?, ?it/s]"
     ]
    },
    {
     "name": "stdout",
     "output_type": "stream",
     "text": [
      "Epoch 0/100\tIt 0/391\tloss 4.607521 (4.607521)\titer_time 0.099628 (0.099628)\n",
      "Epoch 0/100\tIt 40/391\tloss 3.905118 (4.197085)\titer_time 0.005078 (0.010257)\n",
      "Epoch 0/100\tIt 80/391\tloss 3.484926 (3.905156)\titer_time 0.005043 (0.009125)\n",
      "Epoch 0/100\tIt 120/391\tloss 3.272768 (3.715056)\titer_time 0.005205 (0.008926)\n",
      "Epoch 0/100\tIt 160/391\tloss 3.061009 (3.562499)\titer_time 0.005024 (0.008908)\n",
      "Epoch 0/100\tIt 200/391\tloss 2.903367 (3.454365)\titer_time 0.004706 (0.008753)\n",
      "Epoch 0/100\tIt 240/391\tloss 2.838861 (3.358420)\titer_time 0.009608 (0.008611)\n",
      "Epoch 0/100\tIt 280/391\tloss 2.703639 (3.285984)\titer_time 0.030228 (0.008636)\n",
      "Epoch 0/100\tIt 320/391\tloss 2.756047 (3.223621)\titer_time 0.029022 (0.008637)\n",
      "Epoch 0/100\tIt 360/391\tloss 2.799281 (3.171773)\titer_time 0.004683 (0.008645)\n"
     ]
    },
    {
     "name": "stderr",
     "output_type": "stream",
     "text": [
      "  1%|█▍                                                                                                                                        | 1/100 [00:06<10:16,  6.23s/it]"
     ]
    },
    {
     "name": "stdout",
     "output_type": "stream",
     "text": [
      "Epoch 0/100\tval_acc 32.84%\n",
      "Epoch 1/100\tIt 0/391\tloss 2.739886 (2.739886)\titer_time 0.103920 (0.103920)\n",
      "Epoch 1/100\tIt 40/391\tloss 2.705095 (2.662412)\titer_time 0.004777 (0.011043)\n",
      "Epoch 1/100\tIt 80/391\tloss 2.461795 (2.632401)\titer_time 0.018184 (0.010019)\n",
      "Epoch 1/100\tIt 120/391\tloss 2.613197 (2.632971)\titer_time 0.004960 (0.009194)\n",
      "Epoch 1/100\tIt 160/391\tloss 2.644512 (2.631217)\titer_time 0.019723 (0.008979)\n",
      "Epoch 1/100\tIt 200/391\tloss 2.579678 (2.625735)\titer_time 0.005044 (0.008762)\n",
      "Epoch 1/100\tIt 240/391\tloss 2.530645 (2.615306)\titer_time 0.004725 (0.008609)\n",
      "Epoch 1/100\tIt 280/391\tloss 2.685738 (2.610246)\titer_time 0.016864 (0.008615)\n",
      "Epoch 1/100\tIt 320/391\tloss 2.395944 (2.601833)\titer_time 0.004920 (0.008676)\n",
      "Epoch 1/100\tIt 360/391\tloss 2.483490 (2.593659)\titer_time 0.004784 (0.008666)\n"
     ]
    },
    {
     "name": "stderr",
     "output_type": "stream",
     "text": [
      "  2%|██▊                                                                                                                                       | 2/100 [00:12<10:07,  6.20s/it]"
     ]
    },
    {
     "name": "stdout",
     "output_type": "stream",
     "text": [
      "Epoch 1/100\tval_acc 35.37%\n",
      "Epoch 2/100\tIt 0/391\tloss 2.739130 (2.739130)\titer_time 0.098551 (0.098551)\n",
      "Epoch 2/100\tIt 40/391\tloss 2.381817 (2.482710)\titer_time 0.004825 (0.010527)\n",
      "Epoch 2/100\tIt 80/391\tloss 2.375330 (2.474176)\titer_time 0.004902 (0.009330)\n",
      "Epoch 2/100\tIt 120/391\tloss 2.222826 (2.475822)\titer_time 0.004712 (0.009001)\n",
      "Epoch 2/100\tIt 160/391\tloss 2.176385 (2.478808)\titer_time 0.005133 (0.008907)\n",
      "Epoch 2/100\tIt 200/391\tloss 2.658645 (2.475097)\titer_time 0.004874 (0.008775)\n",
      "Epoch 2/100\tIt 240/391\tloss 2.457829 (2.470846)\titer_time 0.005016 (0.008699)\n",
      "Epoch 2/100\tIt 280/391\tloss 2.190024 (2.467911)\titer_time 0.005036 (0.008593)\n",
      "Epoch 2/100\tIt 320/391\tloss 2.406237 (2.463467)\titer_time 0.005367 (0.008456)\n",
      "Epoch 2/100\tIt 360/391\tloss 2.348676 (2.463449)\titer_time 0.021386 (0.008451)\n"
     ]
    },
    {
     "name": "stderr",
     "output_type": "stream",
     "text": [
      "  3%|████▏                                                                                                                                     | 3/100 [00:18<09:55,  6.14s/it]"
     ]
    },
    {
     "name": "stdout",
     "output_type": "stream",
     "text": [
      "Epoch 2/100\tval_acc 36.71%\n",
      "Epoch 3/100\tIt 0/391\tloss 2.502881 (2.502881)\titer_time 0.099500 (0.099500)\n",
      "Epoch 3/100\tIt 40/391\tloss 2.293525 (2.351550)\titer_time 0.004808 (0.011218)\n",
      "Epoch 3/100\tIt 80/391\tloss 2.459039 (2.376831)\titer_time 0.017932 (0.010174)\n",
      "Epoch 3/100\tIt 120/391\tloss 2.859833 (2.376492)\titer_time 0.005298 (0.009227)\n",
      "Epoch 3/100\tIt 160/391\tloss 2.406574 (2.384044)\titer_time 0.010987 (0.009137)\n",
      "Epoch 3/100\tIt 200/391\tloss 2.653572 (2.385927)\titer_time 0.004974 (0.008780)\n",
      "Epoch 3/100\tIt 240/391\tloss 2.327132 (2.383910)\titer_time 0.004986 (0.008693)\n",
      "Epoch 3/100\tIt 280/391\tloss 2.261758 (2.391434)\titer_time 0.010283 (0.008640)\n",
      "Epoch 3/100\tIt 320/391\tloss 2.393767 (2.390467)\titer_time 0.004995 (0.008561)\n",
      "Epoch 3/100\tIt 360/391\tloss 2.250165 (2.390850)\titer_time 0.004966 (0.008493)\n"
     ]
    },
    {
     "name": "stderr",
     "output_type": "stream",
     "text": [
      "  4%|█████▌                                                                                                                                    | 4/100 [00:24<09:46,  6.11s/it]"
     ]
    },
    {
     "name": "stdout",
     "output_type": "stream",
     "text": [
      "Epoch 3/100\tval_acc 37.6%\n",
      "Epoch 4/100\tIt 0/391\tloss 2.300701 (2.300701)\titer_time 0.118571 (0.118571)\n",
      "Epoch 4/100\tIt 40/391\tloss 2.544976 (2.318841)\titer_time 0.007751 (0.010482)\n",
      "Epoch 4/100\tIt 80/391\tloss 2.496604 (2.328153)\titer_time 0.004864 (0.009432)\n",
      "Epoch 4/100\tIt 120/391\tloss 2.177196 (2.337068)\titer_time 0.005006 (0.009067)\n",
      "Epoch 4/100\tIt 160/391\tloss 2.414633 (2.344266)\titer_time 0.008915 (0.008852)\n",
      "Epoch 4/100\tIt 200/391\tloss 2.384373 (2.350565)\titer_time 0.004658 (0.008639)\n",
      "Epoch 4/100\tIt 240/391\tloss 2.492121 (2.345095)\titer_time 0.004786 (0.008519)\n",
      "Epoch 4/100\tIt 280/391\tloss 2.291677 (2.344655)\titer_time 0.005098 (0.008486)\n",
      "Epoch 4/100\tIt 320/391\tloss 2.348954 (2.344007)\titer_time 0.004773 (0.008512)\n",
      "Epoch 4/100\tIt 360/391\tloss 2.132143 (2.344082)\titer_time 0.004963 (0.008439)\n"
     ]
    },
    {
     "name": "stderr",
     "output_type": "stream",
     "text": [
      "  5%|██████▉                                                                                                                                   | 5/100 [00:30<09:40,  6.11s/it]"
     ]
    },
    {
     "name": "stdout",
     "output_type": "stream",
     "text": [
      "Epoch 4/100\tval_acc 38.26%\n",
      "Epoch 5/100\tIt 0/391\tloss 2.320901 (2.320901)\titer_time 0.119988 (0.119988)\n",
      "Epoch 5/100\tIt 40/391\tloss 2.421325 (2.294241)\titer_time 0.004957 (0.010089)\n",
      "Epoch 5/100\tIt 80/391\tloss 2.307942 (2.298982)\titer_time 0.007914 (0.009082)\n",
      "Epoch 5/100\tIt 120/391\tloss 2.584363 (2.294641)\titer_time 0.005262 (0.008652)\n",
      "Epoch 5/100\tIt 160/391\tloss 2.356166 (2.304600)\titer_time 0.004943 (0.008528)\n",
      "Epoch 5/100\tIt 200/391\tloss 2.220845 (2.307098)\titer_time 0.011248 (0.008431)\n",
      "Epoch 5/100\tIt 240/391\tloss 2.279059 (2.299303)\titer_time 0.004924 (0.008387)\n",
      "Epoch 5/100\tIt 280/391\tloss 2.278745 (2.303731)\titer_time 0.005110 (0.008368)\n",
      "Epoch 5/100\tIt 320/391\tloss 2.381857 (2.304088)\titer_time 0.025493 (0.008361)\n",
      "Epoch 5/100\tIt 360/391\tloss 2.269632 (2.302532)\titer_time 0.005043 (0.008275)\n"
     ]
    },
    {
     "name": "stderr",
     "output_type": "stream",
     "text": [
      "  6%|████████▎                                                                                                                                 | 6/100 [00:36<09:31,  6.07s/it]"
     ]
    },
    {
     "name": "stdout",
     "output_type": "stream",
     "text": [
      "Epoch 5/100\tval_acc 38.9%\n",
      "Epoch 6/100\tIt 0/391\tloss 2.043574 (2.043574)\titer_time 0.101890 (0.101890)\n",
      "Epoch 6/100\tIt 40/391\tloss 2.380728 (2.247993)\titer_time 0.005215 (0.010987)\n",
      "Epoch 6/100\tIt 80/391\tloss 2.750546 (2.288017)\titer_time 0.016325 (0.009376)\n",
      "Epoch 6/100\tIt 120/391\tloss 2.154503 (2.270351)\titer_time 0.004741 (0.009170)\n",
      "Epoch 6/100\tIt 160/391\tloss 2.143884 (2.270865)\titer_time 0.005164 (0.009148)\n",
      "Epoch 6/100\tIt 200/391\tloss 2.264806 (2.271491)\titer_time 0.004976 (0.008909)\n",
      "Epoch 6/100\tIt 240/391\tloss 2.202191 (2.269156)\titer_time 0.004932 (0.008926)\n",
      "Epoch 6/100\tIt 280/391\tloss 2.371518 (2.272477)\titer_time 0.004693 (0.008839)\n",
      "Epoch 6/100\tIt 320/391\tloss 2.146800 (2.273046)\titer_time 0.004845 (0.008926)\n",
      "Epoch 6/100\tIt 360/391\tloss 2.487267 (2.271341)\titer_time 0.004703 (0.008813)\n"
     ]
    },
    {
     "name": "stderr",
     "output_type": "stream",
     "text": [
      "  7%|█████████▋                                                                                                                                | 7/100 [00:42<09:28,  6.12s/it]"
     ]
    },
    {
     "name": "stdout",
     "output_type": "stream",
     "text": [
      "Epoch 6/100\tval_acc 39.29%\n",
      "Epoch 7/100\tIt 0/391\tloss 2.316791 (2.316791)\titer_time 0.105319 (0.105319)\n",
      "Epoch 7/100\tIt 40/391\tloss 1.955586 (2.208167)\titer_time 0.004928 (0.010352)\n",
      "Epoch 7/100\tIt 80/391\tloss 2.264788 (2.200315)\titer_time 0.005185 (0.009437)\n",
      "Epoch 7/100\tIt 120/391\tloss 2.504409 (2.224012)\titer_time 0.016222 (0.009019)\n",
      "Epoch 7/100\tIt 160/391\tloss 2.359607 (2.226723)\titer_time 0.004973 (0.009008)\n",
      "Epoch 7/100\tIt 200/391\tloss 2.262427 (2.229292)\titer_time 0.026601 (0.008903)\n",
      "Epoch 7/100\tIt 240/391\tloss 2.226571 (2.226890)\titer_time 0.022526 (0.008756)\n",
      "Epoch 7/100\tIt 280/391\tloss 2.359841 (2.230509)\titer_time 0.004899 (0.008750)\n",
      "Epoch 7/100\tIt 320/391\tloss 2.460229 (2.227996)\titer_time 0.005355 (0.008750)\n",
      "Epoch 7/100\tIt 360/391\tloss 2.166053 (2.228202)\titer_time 0.023919 (0.008676)\n"
     ]
    },
    {
     "name": "stderr",
     "output_type": "stream",
     "text": [
      "  8%|███████████                                                                                                                               | 8/100 [00:48<09:23,  6.12s/it]"
     ]
    },
    {
     "name": "stdout",
     "output_type": "stream",
     "text": [
      "Epoch 7/100\tval_acc 39.69%\n",
      "Epoch 8/100\tIt 0/391\tloss 1.965752 (1.965752)\titer_time 0.100565 (0.100565)\n",
      "Epoch 8/100\tIt 40/391\tloss 2.094476 (2.226670)\titer_time 0.005115 (0.010175)\n",
      "Epoch 8/100\tIt 80/391\tloss 2.130908 (2.225749)\titer_time 0.023059 (0.009270)\n",
      "Epoch 8/100\tIt 120/391\tloss 2.325482 (2.212714)\titer_time 0.004879 (0.008711)\n",
      "Epoch 8/100\tIt 160/391\tloss 2.262461 (2.208975)\titer_time 0.004954 (0.008509)\n",
      "Epoch 8/100\tIt 200/391\tloss 2.332862 (2.212129)\titer_time 0.005353 (0.008457)\n",
      "Epoch 8/100\tIt 240/391\tloss 2.412527 (2.205216)\titer_time 0.005229 (0.008393)\n",
      "Epoch 8/100\tIt 280/391\tloss 2.328029 (2.211778)\titer_time 0.004923 (0.008283)\n",
      "Epoch 8/100\tIt 320/391\tloss 2.035512 (2.213712)\titer_time 0.004960 (0.008218)\n",
      "Epoch 8/100\tIt 360/391\tloss 2.174893 (2.209158)\titer_time 0.017296 (0.008183)\n"
     ]
    },
    {
     "name": "stderr",
     "output_type": "stream",
     "text": [
      "  9%|████████████▍                                                                                                                             | 9/100 [00:54<09:12,  6.07s/it]"
     ]
    },
    {
     "name": "stdout",
     "output_type": "stream",
     "text": [
      "Epoch 8/100\tval_acc 40.06%\n",
      "Epoch 9/100\tIt 0/391\tloss 1.904132 (1.904132)\titer_time 0.116330 (0.116330)\n",
      "Epoch 9/100\tIt 40/391\tloss 2.256415 (2.186218)\titer_time 0.005020 (0.010317)\n",
      "Epoch 9/100\tIt 80/391\tloss 2.173943 (2.186996)\titer_time 0.004888 (0.009216)\n",
      "Epoch 9/100\tIt 120/391\tloss 2.033791 (2.189285)\titer_time 0.005037 (0.008737)\n",
      "Epoch 9/100\tIt 160/391\tloss 2.012881 (2.189415)\titer_time 0.004941 (0.008586)\n",
      "Epoch 9/100\tIt 200/391\tloss 2.140981 (2.192875)\titer_time 0.004997 (0.008537)\n",
      "Epoch 9/100\tIt 240/391\tloss 2.252023 (2.194371)\titer_time 0.027403 (0.008493)\n",
      "Epoch 9/100\tIt 280/391\tloss 2.213365 (2.197410)\titer_time 0.005055 (0.008298)\n",
      "Epoch 9/100\tIt 320/391\tloss 2.075807 (2.196322)\titer_time 0.005062 (0.008291)\n",
      "Epoch 9/100\tIt 360/391\tloss 2.509606 (2.192041)\titer_time 0.004723 (0.008350)\n"
     ]
    },
    {
     "name": "stderr",
     "output_type": "stream",
     "text": [
      " 10%|█████████████▋                                                                                                                           | 10/100 [01:01<09:09,  6.11s/it]"
     ]
    },
    {
     "name": "stdout",
     "output_type": "stream",
     "text": [
      "Epoch 9/100\tval_acc 40.45%\n",
      "Epoch 10/100\tIt 0/391\tloss 2.103325 (2.103325)\titer_time 0.099767 (0.099767)\n",
      "Epoch 10/100\tIt 40/391\tloss 1.926887 (2.182274)\titer_time 0.005078 (0.010635)\n",
      "Epoch 10/100\tIt 80/391\tloss 2.069104 (2.186292)\titer_time 0.004714 (0.009536)\n",
      "Epoch 10/100\tIt 120/391\tloss 2.337014 (2.186362)\titer_time 0.004859 (0.009347)\n",
      "Epoch 10/100\tIt 160/391\tloss 1.937606 (2.176270)\titer_time 0.004973 (0.009346)\n",
      "Epoch 10/100\tIt 200/391\tloss 2.446547 (2.179525)\titer_time 0.005009 (0.009173)\n",
      "Epoch 10/100\tIt 240/391\tloss 2.249418 (2.176135)\titer_time 0.005424 (0.009026)\n",
      "Epoch 10/100\tIt 280/391\tloss 2.269075 (2.180179)\titer_time 0.005082 (0.008816)\n",
      "Epoch 10/100\tIt 320/391\tloss 2.171921 (2.175401)\titer_time 0.005131 (0.008750)\n",
      "Epoch 10/100\tIt 360/391\tloss 2.583627 (2.173442)\titer_time 0.005027 (0.008678)\n"
     ]
    },
    {
     "name": "stderr",
     "output_type": "stream",
     "text": [
      " 11%|███████████████                                                                                                                          | 11/100 [01:07<09:05,  6.13s/it]"
     ]
    },
    {
     "name": "stdout",
     "output_type": "stream",
     "text": [
      "Epoch 10/100\tval_acc 40.89%\n",
      "Epoch 11/100\tIt 0/391\tloss 2.098807 (2.098807)\titer_time 0.099225 (0.099225)\n",
      "Epoch 11/100\tIt 40/391\tloss 2.096352 (2.142255)\titer_time 0.016672 (0.010565)\n",
      "Epoch 11/100\tIt 80/391\tloss 1.908875 (2.129576)\titer_time 0.005029 (0.009220)\n",
      "Epoch 11/100\tIt 120/391\tloss 1.978552 (2.129199)\titer_time 0.004945 (0.008736)\n",
      "Epoch 11/100\tIt 160/391\tloss 2.055690 (2.130944)\titer_time 0.026556 (0.008629)\n",
      "Epoch 11/100\tIt 200/391\tloss 2.144235 (2.139083)\titer_time 0.004987 (0.008412)\n",
      "Epoch 11/100\tIt 240/391\tloss 2.176706 (2.146340)\titer_time 0.005023 (0.008363)\n",
      "Epoch 11/100\tIt 280/391\tloss 2.142986 (2.148006)\titer_time 0.023223 (0.008329)\n",
      "Epoch 11/100\tIt 320/391\tloss 2.205807 (2.152656)\titer_time 0.004933 (0.008226)\n",
      "Epoch 11/100\tIt 360/391\tloss 2.067489 (2.158051)\titer_time 0.005234 (0.008154)\n"
     ]
    },
    {
     "name": "stderr",
     "output_type": "stream",
     "text": [
      " 12%|████████████████▍                                                                                                                        | 12/100 [01:13<09:00,  6.14s/it]"
     ]
    },
    {
     "name": "stdout",
     "output_type": "stream",
     "text": [
      "Epoch 11/100\tval_acc 41.09%\n",
      "Epoch 12/100\tIt 0/391\tloss 2.038116 (2.038116)\titer_time 0.102408 (0.102408)\n",
      "Epoch 12/100\tIt 40/391\tloss 2.260733 (2.136010)\titer_time 0.005023 (0.010331)\n",
      "Epoch 12/100\tIt 80/391\tloss 2.319032 (2.163386)\titer_time 0.004708 (0.009221)\n",
      "Epoch 12/100\tIt 120/391\tloss 2.103851 (2.146477)\titer_time 0.004870 (0.008855)\n",
      "Epoch 12/100\tIt 160/391\tloss 2.193433 (2.141063)\titer_time 0.004806 (0.008600)\n",
      "Epoch 12/100\tIt 200/391\tloss 2.456195 (2.147349)\titer_time 0.004852 (0.008663)\n",
      "Epoch 12/100\tIt 240/391\tloss 1.950900 (2.141647)\titer_time 0.004754 (0.008568)\n",
      "Epoch 12/100\tIt 280/391\tloss 1.942787 (2.140996)\titer_time 0.004869 (0.008562)\n",
      "Epoch 12/100\tIt 320/391\tloss 2.401213 (2.148768)\titer_time 0.004743 (0.008540)\n",
      "Epoch 12/100\tIt 360/391\tloss 2.087904 (2.147679)\titer_time 0.004816 (0.008509)\n"
     ]
    },
    {
     "name": "stderr",
     "output_type": "stream",
     "text": [
      " 13%|█████████████████▊                                                                                                                       | 13/100 [01:19<08:55,  6.16s/it]"
     ]
    },
    {
     "name": "stdout",
     "output_type": "stream",
     "text": [
      "Epoch 12/100\tval_acc 41.43%\n",
      "Epoch 13/100\tIt 0/391\tloss 1.905328 (1.905328)\titer_time 0.118948 (0.118948)\n",
      "Epoch 13/100\tIt 40/391\tloss 2.250306 (2.082228)\titer_time 0.005339 (0.011217)\n",
      "Epoch 13/100\tIt 80/391\tloss 1.941451 (2.091975)\titer_time 0.005081 (0.009331)\n",
      "Epoch 13/100\tIt 120/391\tloss 2.061427 (2.107946)\titer_time 0.004903 (0.008894)\n",
      "Epoch 13/100\tIt 160/391\tloss 2.387115 (2.110530)\titer_time 0.005196 (0.008804)\n",
      "Epoch 13/100\tIt 200/391\tloss 2.134454 (2.113749)\titer_time 0.004937 (0.008694)\n",
      "Epoch 13/100\tIt 240/391\tloss 2.233635 (2.115956)\titer_time 0.004951 (0.008446)\n",
      "Epoch 13/100\tIt 280/391\tloss 2.201389 (2.114999)\titer_time 0.004837 (0.008415)\n",
      "Epoch 13/100\tIt 320/391\tloss 2.086199 (2.119175)\titer_time 0.005217 (0.008385)\n",
      "Epoch 13/100\tIt 360/391\tloss 2.164670 (2.119866)\titer_time 0.015586 (0.008409)\n"
     ]
    },
    {
     "name": "stderr",
     "output_type": "stream",
     "text": [
      " 14%|███████████████████▏                                                                                                                     | 14/100 [01:25<08:49,  6.16s/it]"
     ]
    },
    {
     "name": "stdout",
     "output_type": "stream",
     "text": [
      "Epoch 13/100\tval_acc 41.81%\n",
      "Epoch 14/100\tIt 0/391\tloss 2.150934 (2.150934)\titer_time 0.101128 (0.101128)\n",
      "Epoch 14/100\tIt 40/391\tloss 1.919829 (2.093998)\titer_time 0.016119 (0.010725)\n",
      "Epoch 14/100\tIt 80/391\tloss 2.183081 (2.102417)\titer_time 0.031543 (0.009758)\n",
      "Epoch 14/100\tIt 120/391\tloss 2.222980 (2.100161)\titer_time 0.014195 (0.009247)\n",
      "Epoch 14/100\tIt 160/391\tloss 2.452598 (2.095459)\titer_time 0.004982 (0.008871)\n",
      "Epoch 14/100\tIt 200/391\tloss 2.185271 (2.106142)\titer_time 0.005326 (0.008613)\n",
      "Epoch 14/100\tIt 240/391\tloss 2.194177 (2.106812)\titer_time 0.004815 (0.008511)\n",
      "Epoch 14/100\tIt 280/391\tloss 2.075547 (2.108352)\titer_time 0.005159 (0.008523)\n",
      "Epoch 14/100\tIt 320/391\tloss 2.025884 (2.108103)\titer_time 0.004948 (0.008447)\n",
      "Epoch 14/100\tIt 360/391\tloss 2.322089 (2.110956)\titer_time 0.004872 (0.008370)\n"
     ]
    },
    {
     "name": "stderr",
     "output_type": "stream",
     "text": [
      " 15%|████████████████████▌                                                                                                                    | 15/100 [01:31<08:41,  6.14s/it]"
     ]
    },
    {
     "name": "stdout",
     "output_type": "stream",
     "text": [
      "Epoch 14/100\tval_acc 41.97%\n",
      "Epoch 15/100\tIt 0/391\tloss 2.149159 (2.149159)\titer_time 0.101786 (0.101786)\n",
      "Epoch 15/100\tIt 40/391\tloss 2.466039 (2.101251)\titer_time 0.004688 (0.010973)\n",
      "Epoch 15/100\tIt 80/391\tloss 1.867011 (2.074185)\titer_time 0.004991 (0.009670)\n",
      "Epoch 15/100\tIt 120/391\tloss 2.247872 (2.076211)\titer_time 0.010404 (0.009261)\n",
      "Epoch 15/100\tIt 160/391\tloss 2.236578 (2.075137)\titer_time 0.012952 (0.008990)\n",
      "Epoch 15/100\tIt 200/391\tloss 2.192996 (2.075780)\titer_time 0.004916 (0.008890)\n",
      "Epoch 15/100\tIt 240/391\tloss 2.019377 (2.076609)\titer_time 0.004776 (0.008864)\n",
      "Epoch 15/100\tIt 280/391\tloss 2.223459 (2.085709)\titer_time 0.005260 (0.008746)\n",
      "Epoch 15/100\tIt 320/391\tloss 2.036312 (2.088832)\titer_time 0.004979 (0.008640)\n",
      "Epoch 15/100\tIt 360/391\tloss 2.313132 (2.087975)\titer_time 0.004750 (0.008669)\n"
     ]
    },
    {
     "name": "stderr",
     "output_type": "stream",
     "text": [
      " 16%|█████████████████████▉                                                                                                                   | 16/100 [01:38<08:36,  6.15s/it]"
     ]
    },
    {
     "name": "stdout",
     "output_type": "stream",
     "text": [
      "Epoch 15/100\tval_acc 42.28%\n",
      "Epoch 16/100\tIt 0/391\tloss 2.231405 (2.231405)\titer_time 0.099287 (0.099287)\n",
      "Epoch 16/100\tIt 40/391\tloss 2.060786 (2.075574)\titer_time 0.005014 (0.011260)\n",
      "Epoch 16/100\tIt 80/391\tloss 2.315652 (2.082866)\titer_time 0.005315 (0.009755)\n",
      "Epoch 16/100\tIt 120/391\tloss 2.174554 (2.087161)\titer_time 0.025756 (0.009159)\n",
      "Epoch 16/100\tIt 160/391\tloss 2.173178 (2.087717)\titer_time 0.005022 (0.008906)\n",
      "Epoch 16/100\tIt 200/391\tloss 1.888680 (2.083910)\titer_time 0.004757 (0.008783)\n",
      "Epoch 16/100\tIt 240/391\tloss 2.005292 (2.079006)\titer_time 0.025083 (0.008613)\n",
      "Epoch 16/100\tIt 280/391\tloss 1.951373 (2.079026)\titer_time 0.004977 (0.008489)\n",
      "Epoch 16/100\tIt 320/391\tloss 2.316564 (2.078251)\titer_time 0.005157 (0.008455)\n",
      "Epoch 16/100\tIt 360/391\tloss 2.129911 (2.082013)\titer_time 0.005134 (0.008390)\n"
     ]
    },
    {
     "name": "stderr",
     "output_type": "stream",
     "text": [
      " 17%|███████████████████████▎                                                                                                                 | 17/100 [01:44<08:31,  6.16s/it]"
     ]
    },
    {
     "name": "stdout",
     "output_type": "stream",
     "text": [
      "Epoch 16/100\tval_acc 42.51%\n",
      "Epoch 17/100\tIt 0/391\tloss 1.928273 (1.928273)\titer_time 0.100422 (0.100422)\n",
      "Epoch 17/100\tIt 40/391\tloss 2.129981 (2.068932)\titer_time 0.005092 (0.010416)\n",
      "Epoch 17/100\tIt 80/391\tloss 2.259131 (2.061019)\titer_time 0.004781 (0.009157)\n",
      "Epoch 17/100\tIt 120/391\tloss 2.162414 (2.069061)\titer_time 0.005062 (0.008807)\n",
      "Epoch 17/100\tIt 160/391\tloss 2.178116 (2.067918)\titer_time 0.020353 (0.008500)\n",
      "Epoch 17/100\tIt 200/391\tloss 2.020501 (2.067190)\titer_time 0.004968 (0.008362)\n",
      "Epoch 17/100\tIt 240/391\tloss 1.839126 (2.063777)\titer_time 0.014130 (0.008277)\n",
      "Epoch 17/100\tIt 280/391\tloss 2.208632 (2.064703)\titer_time 0.004683 (0.008287)\n",
      "Epoch 17/100\tIt 320/391\tloss 2.123410 (2.059723)\titer_time 0.025514 (0.008303)\n",
      "Epoch 17/100\tIt 360/391\tloss 1.898752 (2.060708)\titer_time 0.005101 (0.008243)\n"
     ]
    },
    {
     "name": "stderr",
     "output_type": "stream",
     "text": [
      " 18%|████████████████████████▋                                                                                                                | 18/100 [01:50<08:22,  6.13s/it]"
     ]
    },
    {
     "name": "stdout",
     "output_type": "stream",
     "text": [
      "Epoch 17/100\tval_acc 42.68%\n",
      "Epoch 18/100\tIt 0/391\tloss 1.996182 (1.996182)\titer_time 0.097039 (0.097039)\n",
      "Epoch 18/100\tIt 40/391\tloss 1.998348 (1.994820)\titer_time 0.004923 (0.010369)\n",
      "Epoch 18/100\tIt 80/391\tloss 1.829887 (2.035784)\titer_time 0.005073 (0.009069)\n",
      "Epoch 18/100\tIt 120/391\tloss 1.715597 (2.028224)\titer_time 0.004931 (0.008833)\n",
      "Epoch 18/100\tIt 160/391\tloss 2.171799 (2.037323)\titer_time 0.023756 (0.008637)\n",
      "Epoch 18/100\tIt 200/391\tloss 2.164151 (2.039227)\titer_time 0.004696 (0.008436)\n",
      "Epoch 18/100\tIt 240/391\tloss 2.079733 (2.040402)\titer_time 0.004835 (0.008427)\n",
      "Epoch 18/100\tIt 280/391\tloss 1.779599 (2.043902)\titer_time 0.004922 (0.008271)\n",
      "Epoch 18/100\tIt 320/391\tloss 1.990798 (2.045211)\titer_time 0.017671 (0.008241)\n",
      "Epoch 18/100\tIt 360/391\tloss 1.905905 (2.043998)\titer_time 0.022427 (0.008216)\n"
     ]
    },
    {
     "name": "stderr",
     "output_type": "stream",
     "text": [
      " 19%|██████████████████████████                                                                                                               | 19/100 [01:56<08:14,  6.11s/it]"
     ]
    },
    {
     "name": "stdout",
     "output_type": "stream",
     "text": [
      "Epoch 18/100\tval_acc 42.8%\n",
      "Epoch 19/100\tIt 0/391\tloss 1.856793 (1.856793)\titer_time 0.099810 (0.099810)\n",
      "Epoch 19/100\tIt 40/391\tloss 2.221458 (2.007637)\titer_time 0.004757 (0.011156)\n",
      "Epoch 19/100\tIt 80/391\tloss 2.177422 (2.017500)\titer_time 0.019679 (0.009387)\n",
      "Epoch 19/100\tIt 120/391\tloss 1.885818 (2.028398)\titer_time 0.004896 (0.008974)\n",
      "Epoch 19/100\tIt 160/391\tloss 1.835882 (2.029543)\titer_time 0.005080 (0.008909)\n",
      "Epoch 19/100\tIt 200/391\tloss 2.035971 (2.029613)\titer_time 0.004789 (0.008610)\n",
      "Epoch 19/100\tIt 240/391\tloss 2.249745 (2.031265)\titer_time 0.005018 (0.008573)\n",
      "Epoch 19/100\tIt 280/391\tloss 2.182249 (2.032357)\titer_time 0.004811 (0.008624)\n",
      "Epoch 19/100\tIt 320/391\tloss 1.928762 (2.035674)\titer_time 0.018733 (0.008553)\n",
      "Epoch 19/100\tIt 360/391\tloss 2.107076 (2.039623)\titer_time 0.004912 (0.008590)\n"
     ]
    },
    {
     "name": "stderr",
     "output_type": "stream",
     "text": [
      " 20%|███████████████████████████▍                                                                                                             | 20/100 [02:02<08:10,  6.13s/it]"
     ]
    },
    {
     "name": "stdout",
     "output_type": "stream",
     "text": [
      "Epoch 19/100\tval_acc 42.86%\n",
      "Epoch 20/100\tIt 0/391\tloss 2.133306 (2.133306)\titer_time 0.121671 (0.121671)\n",
      "Epoch 20/100\tIt 40/391\tloss 1.994964 (1.969277)\titer_time 0.004654 (0.011165)\n",
      "Epoch 20/100\tIt 80/391\tloss 1.953084 (2.012241)\titer_time 0.004705 (0.009988)\n",
      "Epoch 20/100\tIt 120/391\tloss 1.693084 (2.023793)\titer_time 0.016822 (0.009664)\n",
      "Epoch 20/100\tIt 160/391\tloss 1.989649 (2.016915)\titer_time 0.005105 (0.009136)\n",
      "Epoch 20/100\tIt 200/391\tloss 2.030354 (2.019606)\titer_time 0.005188 (0.008946)\n",
      "Epoch 20/100\tIt 240/391\tloss 2.088324 (2.019876)\titer_time 0.023241 (0.008825)\n",
      "Epoch 20/100\tIt 280/391\tloss 2.128557 (2.024917)\titer_time 0.004703 (0.008621)\n",
      "Epoch 20/100\tIt 320/391\tloss 2.020305 (2.029294)\titer_time 0.020230 (0.008566)\n",
      "Epoch 20/100\tIt 360/391\tloss 2.094332 (2.027685)\titer_time 0.005134 (0.008484)\n"
     ]
    },
    {
     "name": "stderr",
     "output_type": "stream",
     "text": [
      " 21%|████████████████████████████▊                                                                                                            | 21/100 [02:08<08:04,  6.13s/it]"
     ]
    },
    {
     "name": "stdout",
     "output_type": "stream",
     "text": [
      "Epoch 20/100\tval_acc 43.31%\n",
      "Epoch 21/100\tIt 0/391\tloss 2.133212 (2.133212)\titer_time 0.100771 (0.100771)\n",
      "Epoch 21/100\tIt 40/391\tloss 1.892859 (1.980466)\titer_time 0.004954 (0.010976)\n",
      "Epoch 21/100\tIt 80/391\tloss 2.059856 (2.007036)\titer_time 0.004803 (0.009458)\n",
      "Epoch 21/100\tIt 120/391\tloss 1.990045 (2.009385)\titer_time 0.009104 (0.009296)\n",
      "Epoch 21/100\tIt 160/391\tloss 1.942028 (2.018093)\titer_time 0.004585 (0.009327)\n",
      "Epoch 21/100\tIt 200/391\tloss 1.959716 (2.016974)\titer_time 0.004960 (0.009218)\n",
      "Epoch 21/100\tIt 240/391\tloss 2.088339 (2.021386)\titer_time 0.028825 (0.009224)\n",
      "Epoch 21/100\tIt 280/391\tloss 2.107996 (2.017470)\titer_time 0.004687 (0.009155)\n",
      "Epoch 21/100\tIt 320/391\tloss 2.196538 (2.017135)\titer_time 0.004779 (0.009176)\n",
      "Epoch 21/100\tIt 360/391\tloss 2.199277 (2.022708)\titer_time 0.028502 (0.009186)\n"
     ]
    },
    {
     "name": "stderr",
     "output_type": "stream",
     "text": [
      " 22%|██████████████████████████████▏                                                                                                          | 22/100 [02:15<08:05,  6.22s/it]"
     ]
    },
    {
     "name": "stdout",
     "output_type": "stream",
     "text": [
      "Epoch 21/100\tval_acc 43.33%\n",
      "Epoch 22/100\tIt 0/391\tloss 1.918061 (1.918061)\titer_time 0.098071 (0.098071)\n",
      "Epoch 22/100\tIt 40/391\tloss 2.075123 (2.042582)\titer_time 0.005150 (0.010912)\n",
      "Epoch 22/100\tIt 80/391\tloss 1.851073 (2.012936)\titer_time 0.005081 (0.009217)\n",
      "Epoch 22/100\tIt 120/391\tloss 2.239351 (2.026534)\titer_time 0.020619 (0.008959)\n",
      "Epoch 22/100\tIt 160/391\tloss 2.065562 (2.014672)\titer_time 0.030226 (0.008996)\n",
      "Epoch 22/100\tIt 200/391\tloss 2.062414 (2.014397)\titer_time 0.005064 (0.008816)\n",
      "Epoch 22/100\tIt 240/391\tloss 2.263378 (2.018285)\titer_time 0.004998 (0.008604)\n",
      "Epoch 22/100\tIt 280/391\tloss 2.200206 (2.019500)\titer_time 0.005002 (0.008523)\n",
      "Epoch 22/100\tIt 320/391\tloss 2.017107 (2.020365)\titer_time 0.005160 (0.008486)\n",
      "Epoch 22/100\tIt 360/391\tloss 1.780295 (2.019130)\titer_time 0.005267 (0.008393)\n"
     ]
    },
    {
     "name": "stderr",
     "output_type": "stream",
     "text": [
      " 23%|███████████████████████████████▌                                                                                                         | 23/100 [02:21<07:54,  6.16s/it]"
     ]
    },
    {
     "name": "stdout",
     "output_type": "stream",
     "text": [
      "Epoch 22/100\tval_acc 43.72%\n",
      "Epoch 23/100\tIt 0/391\tloss 2.010567 (2.010567)\titer_time 0.097184 (0.097184)\n",
      "Epoch 23/100\tIt 40/391\tloss 1.983336 (1.960011)\titer_time 0.004776 (0.011191)\n",
      "Epoch 23/100\tIt 80/391\tloss 2.042523 (1.961881)\titer_time 0.005027 (0.009701)\n",
      "Epoch 23/100\tIt 120/391\tloss 1.883152 (1.972411)\titer_time 0.004953 (0.009651)\n",
      "Epoch 23/100\tIt 160/391\tloss 1.706345 (1.981005)\titer_time 0.015930 (0.009179)\n",
      "Epoch 23/100\tIt 200/391\tloss 2.000626 (1.983157)\titer_time 0.005041 (0.008890)\n",
      "Epoch 23/100\tIt 240/391\tloss 2.080717 (1.991634)\titer_time 0.005381 (0.008907)\n",
      "Epoch 23/100\tIt 280/391\tloss 1.966499 (1.996269)\titer_time 0.004937 (0.008847)\n",
      "Epoch 23/100\tIt 320/391\tloss 1.915984 (2.000176)\titer_time 0.005242 (0.008669)\n",
      "Epoch 23/100\tIt 360/391\tloss 2.133240 (2.001910)\titer_time 0.009965 (0.008544)\n"
     ]
    },
    {
     "name": "stderr",
     "output_type": "stream",
     "text": [
      " 24%|████████████████████████████████▉                                                                                                        | 24/100 [02:27<07:47,  6.15s/it]"
     ]
    },
    {
     "name": "stdout",
     "output_type": "stream",
     "text": [
      "Epoch 23/100\tval_acc 43.74%\n",
      "Epoch 24/100\tIt 0/391\tloss 1.997394 (1.997394)\titer_time 0.099416 (0.099416)\n",
      "Epoch 24/100\tIt 40/391\tloss 2.095061 (1.992425)\titer_time 0.011653 (0.011012)\n",
      "Epoch 24/100\tIt 80/391\tloss 1.803584 (2.006399)\titer_time 0.004928 (0.009643)\n",
      "Epoch 24/100\tIt 120/391\tloss 1.886798 (1.990755)\titer_time 0.029338 (0.009161)\n",
      "Epoch 24/100\tIt 160/391\tloss 1.934558 (1.987292)\titer_time 0.004923 (0.008803)\n",
      "Epoch 24/100\tIt 200/391\tloss 1.990596 (1.988444)\titer_time 0.004774 (0.008534)\n",
      "Epoch 24/100\tIt 240/391\tloss 2.201932 (1.990374)\titer_time 0.011639 (0.008416)\n",
      "Epoch 24/100\tIt 280/391\tloss 1.725504 (1.991288)\titer_time 0.023312 (0.008397)\n",
      "Epoch 24/100\tIt 320/391\tloss 1.789819 (1.993052)\titer_time 0.004973 (0.008319)\n",
      "Epoch 24/100\tIt 360/391\tloss 1.943921 (1.996023)\titer_time 0.005137 (0.008329)\n"
     ]
    },
    {
     "name": "stderr",
     "output_type": "stream",
     "text": [
      " 25%|██████████████████████████████████▎                                                                                                      | 25/100 [02:33<07:40,  6.15s/it]"
     ]
    },
    {
     "name": "stdout",
     "output_type": "stream",
     "text": [
      "Epoch 24/100\tval_acc 43.88%\n",
      "Epoch 25/100\tIt 0/391\tloss 2.048926 (2.048926)\titer_time 0.099504 (0.099504)\n",
      "Epoch 25/100\tIt 40/391\tloss 2.056208 (2.000226)\titer_time 0.005062 (0.011092)\n",
      "Epoch 25/100\tIt 80/391\tloss 2.071812 (1.992365)\titer_time 0.017206 (0.009626)\n",
      "Epoch 25/100\tIt 120/391\tloss 1.780649 (1.988768)\titer_time 0.004885 (0.009236)\n",
      "Epoch 25/100\tIt 160/391\tloss 1.960720 (1.989805)\titer_time 0.005031 (0.008845)\n",
      "Epoch 25/100\tIt 200/391\tloss 1.999361 (1.990518)\titer_time 0.004899 (0.008586)\n",
      "Epoch 25/100\tIt 240/391\tloss 2.124046 (1.991409)\titer_time 0.004975 (0.008602)\n",
      "Epoch 25/100\tIt 280/391\tloss 2.098851 (1.990059)\titer_time 0.022543 (0.008558)\n",
      "Epoch 25/100\tIt 320/391\tloss 2.052932 (1.987777)\titer_time 0.004960 (0.008447)\n",
      "Epoch 25/100\tIt 360/391\tloss 1.866265 (1.990285)\titer_time 0.004926 (0.008349)\n"
     ]
    },
    {
     "name": "stderr",
     "output_type": "stream",
     "text": [
      " 26%|███████████████████████████████████▌                                                                                                     | 26/100 [02:39<07:31,  6.10s/it]"
     ]
    },
    {
     "name": "stdout",
     "output_type": "stream",
     "text": [
      "Epoch 25/100\tval_acc 43.85%\n",
      "Epoch 26/100\tIt 0/391\tloss 1.884717 (1.884717)\titer_time 0.100104 (0.100104)\n",
      "Epoch 26/100\tIt 40/391\tloss 1.596058 (1.930661)\titer_time 0.005124 (0.010757)\n",
      "Epoch 26/100\tIt 80/391\tloss 1.921423 (1.949736)\titer_time 0.004910 (0.009350)\n",
      "Epoch 26/100\tIt 120/391\tloss 2.022011 (1.969096)\titer_time 0.005207 (0.009109)\n",
      "Epoch 26/100\tIt 160/391\tloss 1.862852 (1.972159)\titer_time 0.019111 (0.008914)\n",
      "Epoch 26/100\tIt 200/391\tloss 1.890775 (1.976382)\titer_time 0.008928 (0.008704)\n",
      "Epoch 26/100\tIt 240/391\tloss 2.082870 (1.980350)\titer_time 0.004854 (0.008727)\n",
      "Epoch 26/100\tIt 280/391\tloss 2.060945 (1.978860)\titer_time 0.004791 (0.008552)\n",
      "Epoch 26/100\tIt 320/391\tloss 2.320035 (1.980951)\titer_time 0.004972 (0.008498)\n",
      "Epoch 26/100\tIt 360/391\tloss 2.021728 (1.984036)\titer_time 0.004941 (0.008478)\n"
     ]
    },
    {
     "name": "stderr",
     "output_type": "stream",
     "text": [
      " 27%|████████████████████████████████████▉                                                                                                    | 27/100 [02:45<07:25,  6.10s/it]"
     ]
    },
    {
     "name": "stdout",
     "output_type": "stream",
     "text": [
      "Epoch 26/100\tval_acc 44.11%\n",
      "Epoch 27/100\tIt 0/391\tloss 1.757815 (1.757815)\titer_time 0.096744 (0.096744)\n",
      "Epoch 27/100\tIt 40/391\tloss 2.017128 (1.934400)\titer_time 0.005068 (0.010877)\n",
      "Epoch 27/100\tIt 80/391\tloss 1.873962 (1.955323)\titer_time 0.004700 (0.009359)\n",
      "Epoch 27/100\tIt 120/391\tloss 2.003651 (1.949499)\titer_time 0.004966 (0.009140)\n",
      "Epoch 27/100\tIt 160/391\tloss 2.085484 (1.949843)\titer_time 0.010226 (0.008772)\n",
      "Epoch 27/100\tIt 200/391\tloss 2.158766 (1.956470)\titer_time 0.005073 (0.008583)\n",
      "Epoch 27/100\tIt 240/391\tloss 1.886198 (1.956580)\titer_time 0.004673 (0.008588)\n",
      "Epoch 27/100\tIt 280/391\tloss 2.014489 (1.958677)\titer_time 0.004913 (0.008498)\n",
      "Epoch 27/100\tIt 320/391\tloss 2.008768 (1.963513)\titer_time 0.004888 (0.008521)\n",
      "Epoch 27/100\tIt 360/391\tloss 2.133363 (1.966709)\titer_time 0.004788 (0.008558)\n"
     ]
    },
    {
     "name": "stderr",
     "output_type": "stream",
     "text": [
      " 28%|██████████████████████████████████████▎                                                                                                  | 28/100 [02:51<07:20,  6.11s/it]"
     ]
    },
    {
     "name": "stdout",
     "output_type": "stream",
     "text": [
      "Epoch 27/100\tval_acc 44.27%\n",
      "Epoch 28/100\tIt 0/391\tloss 1.946747 (1.946747)\titer_time 0.100507 (0.100507)\n",
      "Epoch 28/100\tIt 40/391\tloss 1.919493 (1.943701)\titer_time 0.004772 (0.011352)\n",
      "Epoch 28/100\tIt 80/391\tloss 1.994709 (1.920936)\titer_time 0.029113 (0.010431)\n",
      "Epoch 28/100\tIt 120/391\tloss 2.078103 (1.932227)\titer_time 0.004710 (0.009902)\n",
      "Epoch 28/100\tIt 160/391\tloss 2.033607 (1.936550)\titer_time 0.004949 (0.009766)\n",
      "Epoch 28/100\tIt 200/391\tloss 1.955731 (1.940194)\titer_time 0.014748 (0.009347)\n",
      "Epoch 28/100\tIt 240/391\tloss 1.801082 (1.946363)\titer_time 0.031328 (0.009334)\n",
      "Epoch 28/100\tIt 280/391\tloss 1.866891 (1.947288)\titer_time 0.004928 (0.009080)\n",
      "Epoch 28/100\tIt 320/391\tloss 2.204473 (1.947644)\titer_time 0.005008 (0.008883)\n",
      "Epoch 28/100\tIt 360/391\tloss 1.738435 (1.948230)\titer_time 0.005025 (0.008839)\n"
     ]
    },
    {
     "name": "stderr",
     "output_type": "stream",
     "text": [
      " 29%|███████████████████████████████████████▋                                                                                                 | 29/100 [02:57<07:15,  6.14s/it]"
     ]
    },
    {
     "name": "stdout",
     "output_type": "stream",
     "text": [
      "Epoch 28/100\tval_acc 44.43%\n",
      "Epoch 29/100\tIt 0/391\tloss 2.126192 (2.126192)\titer_time 0.115666 (0.115666)\n",
      "Epoch 29/100\tIt 40/391\tloss 1.975475 (1.928340)\titer_time 0.004705 (0.011495)\n",
      "Epoch 29/100\tIt 80/391\tloss 1.741176 (1.941621)\titer_time 0.004739 (0.010027)\n",
      "Epoch 29/100\tIt 120/391\tloss 1.873244 (1.938348)\titer_time 0.004800 (0.009511)\n",
      "Epoch 29/100\tIt 160/391\tloss 1.814207 (1.936881)\titer_time 0.004916 (0.009453)\n",
      "Epoch 29/100\tIt 200/391\tloss 1.896852 (1.941984)\titer_time 0.005016 (0.009208)\n",
      "Epoch 29/100\tIt 240/391\tloss 1.940150 (1.946110)\titer_time 0.004571 (0.009130)\n",
      "Epoch 29/100\tIt 280/391\tloss 1.962295 (1.948553)\titer_time 0.022909 (0.009042)\n",
      "Epoch 29/100\tIt 320/391\tloss 2.103812 (1.951897)\titer_time 0.005095 (0.008866)\n",
      "Epoch 29/100\tIt 360/391\tloss 1.881297 (1.954400)\titer_time 0.021945 (0.008806)\n"
     ]
    },
    {
     "name": "stderr",
     "output_type": "stream",
     "text": [
      " 30%|█████████████████████████████████████████                                                                                                | 30/100 [03:04<07:12,  6.18s/it]"
     ]
    },
    {
     "name": "stdout",
     "output_type": "stream",
     "text": [
      "Epoch 29/100\tval_acc 44.36%\n",
      "Epoch 30/100\tIt 0/391\tloss 1.751454 (1.751454)\titer_time 0.098674 (0.098674)\n",
      "Epoch 30/100\tIt 40/391\tloss 1.838170 (1.941674)\titer_time 0.005180 (0.010386)\n",
      "Epoch 30/100\tIt 80/391\tloss 1.801080 (1.937797)\titer_time 0.029260 (0.009314)\n",
      "Epoch 30/100\tIt 120/391\tloss 2.153855 (1.932095)\titer_time 0.005136 (0.008907)\n",
      "Epoch 30/100\tIt 160/391\tloss 2.143237 (1.931531)\titer_time 0.005234 (0.008790)\n",
      "Epoch 30/100\tIt 200/391\tloss 1.828396 (1.936322)\titer_time 0.023585 (0.008687)\n",
      "Epoch 30/100\tIt 240/391\tloss 2.061470 (1.938642)\titer_time 0.004861 (0.008546)\n",
      "Epoch 30/100\tIt 280/391\tloss 2.162436 (1.942860)\titer_time 0.004762 (0.008472)\n",
      "Epoch 30/100\tIt 320/391\tloss 2.043529 (1.944789)\titer_time 0.004944 (0.008526)\n",
      "Epoch 30/100\tIt 360/391\tloss 1.644864 (1.949497)\titer_time 0.004873 (0.008422)\n"
     ]
    },
    {
     "name": "stderr",
     "output_type": "stream",
     "text": [
      " 31%|██████████████████████████████████████████▍                                                                                              | 31/100 [03:10<07:03,  6.14s/it]"
     ]
    },
    {
     "name": "stdout",
     "output_type": "stream",
     "text": [
      "Epoch 30/100\tval_acc 44.51%\n",
      "Epoch 31/100\tIt 0/391\tloss 2.013150 (2.013150)\titer_time 0.097544 (0.097544)\n",
      "Epoch 31/100\tIt 40/391\tloss 1.930167 (1.933091)\titer_time 0.004934 (0.010663)\n",
      "Epoch 31/100\tIt 80/391\tloss 2.090831 (1.929328)\titer_time 0.021753 (0.009661)\n",
      "Epoch 31/100\tIt 120/391\tloss 1.969158 (1.925523)\titer_time 0.004916 (0.009072)\n",
      "Epoch 31/100\tIt 160/391\tloss 1.836933 (1.924475)\titer_time 0.004773 (0.008901)\n",
      "Epoch 31/100\tIt 200/391\tloss 2.150196 (1.923587)\titer_time 0.009579 (0.008529)\n",
      "Epoch 31/100\tIt 240/391\tloss 1.981089 (1.929637)\titer_time 0.004933 (0.008407)\n",
      "Epoch 31/100\tIt 280/391\tloss 1.940797 (1.932035)\titer_time 0.004956 (0.008374)\n",
      "Epoch 31/100\tIt 320/391\tloss 2.215691 (1.934099)\titer_time 0.005011 (0.008344)\n",
      "Epoch 31/100\tIt 360/391\tloss 1.897701 (1.937276)\titer_time 0.004705 (0.008286)\n"
     ]
    },
    {
     "name": "stderr",
     "output_type": "stream",
     "text": [
      " 32%|███████████████████████████████████████████▊                                                                                             | 32/100 [03:16<06:54,  6.10s/it]"
     ]
    },
    {
     "name": "stdout",
     "output_type": "stream",
     "text": [
      "Epoch 31/100\tval_acc 44.75%\n",
      "Epoch 32/100\tIt 0/391\tloss 1.894990 (1.894990)\titer_time 0.111091 (0.111091)\n",
      "Epoch 32/100\tIt 40/391\tloss 1.967560 (1.913900)\titer_time 0.004968 (0.010058)\n",
      "Epoch 32/100\tIt 80/391\tloss 1.825797 (1.898948)\titer_time 0.004766 (0.009196)\n",
      "Epoch 32/100\tIt 120/391\tloss 1.951224 (1.899328)\titer_time 0.005043 (0.009028)\n",
      "Epoch 32/100\tIt 160/391\tloss 1.694398 (1.908746)\titer_time 0.004968 (0.009021)\n",
      "Epoch 32/100\tIt 200/391\tloss 1.873558 (1.918236)\titer_time 0.004880 (0.008970)\n",
      "Epoch 32/100\tIt 240/391\tloss 1.831605 (1.918026)\titer_time 0.004977 (0.008815)\n",
      "Epoch 32/100\tIt 280/391\tloss 2.018616 (1.922214)\titer_time 0.004966 (0.008718)\n",
      "Epoch 32/100\tIt 320/391\tloss 1.816828 (1.927277)\titer_time 0.011866 (0.008607)\n",
      "Epoch 32/100\tIt 360/391\tloss 1.845373 (1.929022)\titer_time 0.004919 (0.008510)\n"
     ]
    },
    {
     "name": "stderr",
     "output_type": "stream",
     "text": [
      " 33%|█████████████████████████████████████████████▏                                                                                           | 33/100 [03:22<06:48,  6.09s/it]"
     ]
    },
    {
     "name": "stdout",
     "output_type": "stream",
     "text": [
      "Epoch 32/100\tval_acc 44.84%\n",
      "Epoch 33/100\tIt 0/391\tloss 1.663393 (1.663393)\titer_time 0.097154 (0.097154)\n",
      "Epoch 33/100\tIt 40/391\tloss 1.954808 (1.872101)\titer_time 0.004992 (0.010373)\n",
      "Epoch 33/100\tIt 80/391\tloss 1.883932 (1.882331)\titer_time 0.023422 (0.009229)\n",
      "Epoch 33/100\tIt 120/391\tloss 1.879555 (1.889210)\titer_time 0.005272 (0.008714)\n",
      "Epoch 33/100\tIt 160/391\tloss 1.980459 (1.903781)\titer_time 0.004991 (0.008638)\n",
      "Epoch 33/100\tIt 200/391\tloss 1.859424 (1.902175)\titer_time 0.007645 (0.008554)\n",
      "Epoch 33/100\tIt 240/391\tloss 2.144001 (1.908006)\titer_time 0.005038 (0.008416)\n",
      "Epoch 33/100\tIt 280/391\tloss 1.795066 (1.912108)\titer_time 0.004927 (0.008369)\n",
      "Epoch 33/100\tIt 320/391\tloss 1.833565 (1.914044)\titer_time 0.022228 (0.008350)\n",
      "Epoch 33/100\tIt 360/391\tloss 1.921571 (1.918723)\titer_time 0.004970 (0.008282)\n"
     ]
    },
    {
     "name": "stderr",
     "output_type": "stream",
     "text": [
      " 34%|██████████████████████████████████████████████▌                                                                                          | 34/100 [03:28<06:41,  6.09s/it]"
     ]
    },
    {
     "name": "stdout",
     "output_type": "stream",
     "text": [
      "Epoch 33/100\tval_acc 44.92%\n",
      "Epoch 34/100\tIt 0/391\tloss 1.900849 (1.900849)\titer_time 0.099410 (0.099410)\n",
      "Epoch 34/100\tIt 40/391\tloss 2.083513 (1.875046)\titer_time 0.005269 (0.010635)\n",
      "Epoch 34/100\tIt 80/391\tloss 1.962191 (1.878909)\titer_time 0.009675 (0.009330)\n",
      "Epoch 34/100\tIt 120/391\tloss 1.994236 (1.891186)\titer_time 0.004992 (0.009043)\n",
      "Epoch 34/100\tIt 160/391\tloss 1.836205 (1.894851)\titer_time 0.004942 (0.008696)\n",
      "Epoch 34/100\tIt 200/391\tloss 2.076928 (1.906137)\titer_time 0.005459 (0.008465)\n",
      "Epoch 34/100\tIt 240/391\tloss 1.927536 (1.908469)\titer_time 0.007986 (0.008517)\n",
      "Epoch 34/100\tIt 280/391\tloss 1.932761 (1.909311)\titer_time 0.004871 (0.008570)\n",
      "Epoch 34/100\tIt 320/391\tloss 1.806444 (1.912298)\titer_time 0.005068 (0.008622)\n",
      "Epoch 34/100\tIt 360/391\tloss 2.126656 (1.918396)\titer_time 0.004915 (0.008556)\n"
     ]
    },
    {
     "name": "stderr",
     "output_type": "stream",
     "text": [
      " 35%|███████████████████████████████████████████████▉                                                                                         | 35/100 [03:34<06:37,  6.12s/it]"
     ]
    },
    {
     "name": "stdout",
     "output_type": "stream",
     "text": [
      "Epoch 34/100\tval_acc 44.95%\n",
      "Epoch 35/100\tIt 0/391\tloss 2.003034 (2.003034)\titer_time 0.106956 (0.106956)\n",
      "Epoch 35/100\tIt 40/391\tloss 1.977291 (1.896126)\titer_time 0.004962 (0.010445)\n",
      "Epoch 35/100\tIt 80/391\tloss 2.078332 (1.907102)\titer_time 0.005310 (0.009133)\n",
      "Epoch 35/100\tIt 120/391\tloss 1.934666 (1.905205)\titer_time 0.004937 (0.008707)\n",
      "Epoch 35/100\tIt 160/391\tloss 1.692035 (1.914177)\titer_time 0.004987 (0.008473)\n",
      "Epoch 35/100\tIt 200/391\tloss 1.981377 (1.910652)\titer_time 0.005139 (0.008390)\n",
      "Epoch 35/100\tIt 240/391\tloss 1.925541 (1.912387)\titer_time 0.004981 (0.008264)\n",
      "Epoch 35/100\tIt 280/391\tloss 1.973117 (1.915313)\titer_time 0.013421 (0.008241)\n",
      "Epoch 35/100\tIt 320/391\tloss 2.210727 (1.916737)\titer_time 0.005279 (0.008199)\n",
      "Epoch 35/100\tIt 360/391\tloss 2.031551 (1.914919)\titer_time 0.004953 (0.008167)\n"
     ]
    },
    {
     "name": "stderr",
     "output_type": "stream",
     "text": [
      " 36%|█████████████████████████████████████████████████▎                                                                                       | 36/100 [03:40<06:31,  6.12s/it]"
     ]
    },
    {
     "name": "stdout",
     "output_type": "stream",
     "text": [
      "Epoch 35/100\tval_acc 45.13%\n",
      "Epoch 36/100\tIt 0/391\tloss 1.606046 (1.606046)\titer_time 0.097546 (0.097546)\n",
      "Epoch 36/100\tIt 40/391\tloss 2.169724 (1.897335)\titer_time 0.004712 (0.011158)\n",
      "Epoch 36/100\tIt 80/391\tloss 1.932891 (1.909147)\titer_time 0.004734 (0.010336)\n",
      "Epoch 36/100\tIt 120/391\tloss 1.951563 (1.909573)\titer_time 0.005343 (0.009537)\n",
      "Epoch 36/100\tIt 160/391\tloss 1.945943 (1.907845)\titer_time 0.004894 (0.009229)\n",
      "Epoch 36/100\tIt 200/391\tloss 1.741833 (1.903547)\titer_time 0.004840 (0.009092)\n",
      "Epoch 36/100\tIt 240/391\tloss 1.577301 (1.903590)\titer_time 0.004966 (0.009006)\n",
      "Epoch 36/100\tIt 280/391\tloss 1.735216 (1.906096)\titer_time 0.004967 (0.008700)\n",
      "Epoch 36/100\tIt 320/391\tloss 1.805380 (1.907637)\titer_time 0.004993 (0.008785)\n",
      "Epoch 36/100\tIt 360/391\tloss 1.774307 (1.903690)\titer_time 0.025802 (0.008787)\n"
     ]
    },
    {
     "name": "stderr",
     "output_type": "stream",
     "text": [
      " 37%|██████████████████████████████████████████████████▋                                                                                      | 37/100 [03:46<06:27,  6.16s/it]"
     ]
    },
    {
     "name": "stdout",
     "output_type": "stream",
     "text": [
      "Epoch 36/100\tval_acc 45.15%\n",
      "Epoch 37/100\tIt 0/391\tloss 2.274345 (2.274345)\titer_time 0.100187 (0.100187)\n",
      "Epoch 37/100\tIt 40/391\tloss 2.040664 (1.863757)\titer_time 0.005136 (0.010064)\n",
      "Epoch 37/100\tIt 80/391\tloss 2.071751 (1.898525)\titer_time 0.021539 (0.009060)\n",
      "Epoch 37/100\tIt 120/391\tloss 1.743442 (1.894363)\titer_time 0.005009 (0.008622)\n",
      "Epoch 37/100\tIt 160/391\tloss 2.009196 (1.899461)\titer_time 0.005061 (0.008380)\n",
      "Epoch 37/100\tIt 200/391\tloss 1.755522 (1.897081)\titer_time 0.004973 (0.008322)\n",
      "Epoch 37/100\tIt 240/391\tloss 2.196033 (1.900231)\titer_time 0.004966 (0.008249)\n",
      "Epoch 37/100\tIt 280/391\tloss 1.872751 (1.904413)\titer_time 0.005025 (0.008278)\n",
      "Epoch 37/100\tIt 320/391\tloss 1.920772 (1.903970)\titer_time 0.005400 (0.008262)\n",
      "Epoch 37/100\tIt 360/391\tloss 1.906476 (1.908756)\titer_time 0.005208 (0.008219)\n"
     ]
    },
    {
     "name": "stderr",
     "output_type": "stream",
     "text": [
      " 38%|████████████████████████████████████████████████████                                                                                     | 38/100 [03:52<06:17,  6.09s/it]"
     ]
    },
    {
     "name": "stdout",
     "output_type": "stream",
     "text": [
      "Epoch 37/100\tval_acc 45.5%\n",
      "Epoch 38/100\tIt 0/391\tloss 1.774555 (1.774555)\titer_time 0.099493 (0.099493)\n",
      "Epoch 38/100\tIt 40/391\tloss 1.733625 (1.868369)\titer_time 0.017145 (0.010299)\n",
      "Epoch 38/100\tIt 80/391\tloss 1.986690 (1.881427)\titer_time 0.005062 (0.009049)\n",
      "Epoch 38/100\tIt 120/391\tloss 1.765023 (1.887469)\titer_time 0.030454 (0.008715)\n",
      "Epoch 38/100\tIt 160/391\tloss 1.849008 (1.891778)\titer_time 0.004733 (0.008626)\n",
      "Epoch 38/100\tIt 200/391\tloss 1.840491 (1.889403)\titer_time 0.005021 (0.008587)\n",
      "Epoch 38/100\tIt 240/391\tloss 2.210243 (1.900920)\titer_time 0.026402 (0.008583)\n",
      "Epoch 38/100\tIt 280/391\tloss 1.640043 (1.895460)\titer_time 0.004954 (0.008458)\n",
      "Epoch 38/100\tIt 320/391\tloss 1.801848 (1.891653)\titer_time 0.005216 (0.008426)\n",
      "Epoch 38/100\tIt 360/391\tloss 1.990790 (1.890861)\titer_time 0.022229 (0.008387)\n"
     ]
    },
    {
     "name": "stderr",
     "output_type": "stream",
     "text": [
      " 39%|█████████████████████████████████████████████████████▍                                                                                   | 39/100 [03:58<06:10,  6.07s/it]"
     ]
    },
    {
     "name": "stdout",
     "output_type": "stream",
     "text": [
      "Epoch 38/100\tval_acc 45.58%\n",
      "Epoch 39/100\tIt 0/391\tloss 1.724687 (1.724687)\titer_time 0.119412 (0.119412)\n",
      "Epoch 39/100\tIt 40/391\tloss 1.797673 (1.847259)\titer_time 0.004898 (0.011662)\n",
      "Epoch 39/100\tIt 80/391\tloss 1.963102 (1.857344)\titer_time 0.004909 (0.010147)\n",
      "Epoch 39/100\tIt 120/391\tloss 1.895382 (1.865441)\titer_time 0.020069 (0.009396)\n",
      "Epoch 39/100\tIt 160/391\tloss 2.028783 (1.879128)\titer_time 0.005016 (0.009008)\n",
      "Epoch 39/100\tIt 200/391\tloss 2.000746 (1.878376)\titer_time 0.004898 (0.008789)\n",
      "Epoch 39/100\tIt 240/391\tloss 1.844466 (1.878717)\titer_time 0.005051 (0.008572)\n",
      "Epoch 39/100\tIt 280/391\tloss 1.796200 (1.886564)\titer_time 0.005056 (0.008472)\n",
      "Epoch 39/100\tIt 320/391\tloss 2.091927 (1.894655)\titer_time 0.013629 (0.008436)\n",
      "Epoch 39/100\tIt 360/391\tloss 2.063523 (1.896188)\titer_time 0.004840 (0.008482)\n"
     ]
    },
    {
     "name": "stderr",
     "output_type": "stream",
     "text": [
      " 40%|██████████████████████████████████████████████████████▊                                                                                  | 40/100 [04:05<06:05,  6.09s/it]"
     ]
    },
    {
     "name": "stdout",
     "output_type": "stream",
     "text": [
      "Epoch 39/100\tval_acc 45.55%\n",
      "Epoch 40/100\tIt 0/391\tloss 1.746866 (1.746866)\titer_time 0.118457 (0.118457)\n",
      "Epoch 40/100\tIt 40/391\tloss 2.003635 (1.869871)\titer_time 0.005095 (0.010288)\n",
      "Epoch 40/100\tIt 80/391\tloss 2.050479 (1.889801)\titer_time 0.007217 (0.009502)\n",
      "Epoch 40/100\tIt 120/391\tloss 1.958355 (1.884555)\titer_time 0.004953 (0.009377)\n",
      "Epoch 40/100\tIt 160/391\tloss 1.770414 (1.876531)\titer_time 0.004693 (0.009088)\n",
      "Epoch 40/100\tIt 200/391\tloss 2.057091 (1.874678)\titer_time 0.022122 (0.008887)\n",
      "Epoch 40/100\tIt 240/391\tloss 1.995616 (1.879567)\titer_time 0.005068 (0.008674)\n",
      "Epoch 40/100\tIt 280/391\tloss 1.817665 (1.885533)\titer_time 0.004985 (0.008554)\n",
      "Epoch 40/100\tIt 320/391\tloss 1.985475 (1.888853)\titer_time 0.005274 (0.008471)\n",
      "Epoch 40/100\tIt 360/391\tloss 1.746684 (1.891404)\titer_time 0.005109 (0.008429)\n"
     ]
    },
    {
     "name": "stderr",
     "output_type": "stream",
     "text": [
      " 41%|████████████████████████████████████████████████████████▏                                                                                | 41/100 [04:11<05:58,  6.08s/it]"
     ]
    },
    {
     "name": "stdout",
     "output_type": "stream",
     "text": [
      "Epoch 40/100\tval_acc 45.68%\n",
      "Epoch 41/100\tIt 0/391\tloss 1.770959 (1.770959)\titer_time 0.119210 (0.119210)\n",
      "Epoch 41/100\tIt 40/391\tloss 1.671964 (1.831466)\titer_time 0.005217 (0.010335)\n",
      "Epoch 41/100\tIt 80/391\tloss 1.867620 (1.849193)\titer_time 0.004986 (0.009144)\n",
      "Epoch 41/100\tIt 120/391\tloss 2.084395 (1.859806)\titer_time 0.005053 (0.008873)\n",
      "Epoch 41/100\tIt 160/391\tloss 1.949496 (1.868704)\titer_time 0.027647 (0.008618)\n",
      "Epoch 41/100\tIt 200/391\tloss 1.817975 (1.875494)\titer_time 0.004933 (0.008348)\n",
      "Epoch 41/100\tIt 240/391\tloss 1.810173 (1.879980)\titer_time 0.004930 (0.008341)\n",
      "Epoch 41/100\tIt 280/391\tloss 2.035511 (1.881335)\titer_time 0.004918 (0.008308)\n",
      "Epoch 41/100\tIt 320/391\tloss 1.907581 (1.881680)\titer_time 0.005102 (0.008314)\n",
      "Epoch 41/100\tIt 360/391\tloss 1.950957 (1.884356)\titer_time 0.004714 (0.008244)\n"
     ]
    },
    {
     "name": "stderr",
     "output_type": "stream",
     "text": [
      " 42%|█████████████████████████████████████████████████████████▌                                                                               | 42/100 [04:16<05:49,  6.03s/it]"
     ]
    },
    {
     "name": "stdout",
     "output_type": "stream",
     "text": [
      "Epoch 41/100\tval_acc 45.75%\n",
      "Epoch 42/100\tIt 0/391\tloss 1.851200 (1.851200)\titer_time 0.100261 (0.100261)\n",
      "Epoch 42/100\tIt 40/391\tloss 1.979127 (1.876306)\titer_time 0.010998 (0.010991)\n",
      "Epoch 42/100\tIt 80/391\tloss 2.047934 (1.871940)\titer_time 0.020064 (0.009641)\n",
      "Epoch 42/100\tIt 120/391\tloss 2.050918 (1.874524)\titer_time 0.006194 (0.009346)\n",
      "Epoch 42/100\tIt 160/391\tloss 1.871803 (1.880337)\titer_time 0.004937 (0.008994)\n",
      "Epoch 42/100\tIt 200/391\tloss 1.874759 (1.874644)\titer_time 0.005098 (0.008751)\n",
      "Epoch 42/100\tIt 240/391\tloss 1.833282 (1.875475)\titer_time 0.005075 (0.008812)\n",
      "Epoch 42/100\tIt 280/391\tloss 1.808516 (1.876633)\titer_time 0.004929 (0.008618)\n",
      "Epoch 42/100\tIt 320/391\tloss 1.703694 (1.878738)\titer_time 0.004982 (0.008589)\n",
      "Epoch 42/100\tIt 360/391\tloss 1.881510 (1.876178)\titer_time 0.005171 (0.008506)\n"
     ]
    },
    {
     "name": "stderr",
     "output_type": "stream",
     "text": [
      " 43%|██████████████████████████████████████████████████████████▉                                                                              | 43/100 [04:23<05:46,  6.07s/it]"
     ]
    },
    {
     "name": "stdout",
     "output_type": "stream",
     "text": [
      "Epoch 42/100\tval_acc 45.72%\n",
      "Epoch 43/100\tIt 0/391\tloss 1.779359 (1.779359)\titer_time 0.097368 (0.097368)\n",
      "Epoch 43/100\tIt 40/391\tloss 1.949594 (1.877766)\titer_time 0.004970 (0.010301)\n",
      "Epoch 43/100\tIt 80/391\tloss 1.959974 (1.864332)\titer_time 0.004786 (0.009312)\n",
      "Epoch 43/100\tIt 120/391\tloss 1.869918 (1.863076)\titer_time 0.005360 (0.009083)\n",
      "Epoch 43/100\tIt 160/391\tloss 1.634579 (1.864431)\titer_time 0.014446 (0.008840)\n",
      "Epoch 43/100\tIt 200/391\tloss 2.081902 (1.867995)\titer_time 0.004728 (0.008745)\n",
      "Epoch 43/100\tIt 240/391\tloss 1.891291 (1.868571)\titer_time 0.004965 (0.008772)\n",
      "Epoch 43/100\tIt 280/391\tloss 1.794331 (1.867617)\titer_time 0.022295 (0.008697)\n",
      "Epoch 43/100\tIt 320/391\tloss 2.031013 (1.863519)\titer_time 0.004888 (0.008569)\n",
      "Epoch 43/100\tIt 360/391\tloss 1.989572 (1.863225)\titer_time 0.005110 (0.008526)\n"
     ]
    },
    {
     "name": "stderr",
     "output_type": "stream",
     "text": [
      " 44%|████████████████████████████████████████████████████████████▎                                                                            | 44/100 [04:29<05:41,  6.10s/it]"
     ]
    },
    {
     "name": "stdout",
     "output_type": "stream",
     "text": [
      "Epoch 43/100\tval_acc 45.91%\n",
      "Epoch 44/100\tIt 0/391\tloss 1.886491 (1.886491)\titer_time 0.099013 (0.099013)\n",
      "Epoch 44/100\tIt 40/391\tloss 1.635990 (1.839928)\titer_time 0.005033 (0.010686)\n",
      "Epoch 44/100\tIt 80/391\tloss 2.057750 (1.848387)\titer_time 0.004733 (0.009606)\n",
      "Epoch 44/100\tIt 120/391\tloss 1.844370 (1.844722)\titer_time 0.011761 (0.008913)\n",
      "Epoch 44/100\tIt 160/391\tloss 1.751108 (1.853144)\titer_time 0.004792 (0.008786)\n",
      "Epoch 44/100\tIt 200/391\tloss 2.055668 (1.858647)\titer_time 0.021197 (0.008701)\n",
      "Epoch 44/100\tIt 240/391\tloss 1.468319 (1.859159)\titer_time 0.004960 (0.008569)\n",
      "Epoch 44/100\tIt 280/391\tloss 1.793771 (1.860034)\titer_time 0.004802 (0.008487)\n",
      "Epoch 44/100\tIt 320/391\tloss 1.837081 (1.861747)\titer_time 0.006458 (0.008395)\n",
      "Epoch 44/100\tIt 360/391\tloss 1.773946 (1.859320)\titer_time 0.005241 (0.008388)\n"
     ]
    },
    {
     "name": "stderr",
     "output_type": "stream",
     "text": [
      " 45%|█████████████████████████████████████████████████████████████▋                                                                           | 45/100 [04:35<05:34,  6.08s/it]"
     ]
    },
    {
     "name": "stdout",
     "output_type": "stream",
     "text": [
      "Epoch 44/100\tval_acc 45.86%\n",
      "Epoch 45/100\tIt 0/391\tloss 2.019575 (2.019575)\titer_time 0.118457 (0.118457)\n",
      "Epoch 45/100\tIt 40/391\tloss 1.920431 (1.882934)\titer_time 0.005043 (0.010505)\n",
      "Epoch 45/100\tIt 80/391\tloss 1.781880 (1.836569)\titer_time 0.005036 (0.009619)\n",
      "Epoch 45/100\tIt 120/391\tloss 1.915912 (1.838677)\titer_time 0.005039 (0.008885)\n",
      "Epoch 45/100\tIt 160/391\tloss 1.788059 (1.841977)\titer_time 0.004994 (0.008756)\n",
      "Epoch 45/100\tIt 200/391\tloss 1.848480 (1.840907)\titer_time 0.004965 (0.008585)\n",
      "Epoch 45/100\tIt 240/391\tloss 1.735436 (1.848545)\titer_time 0.004938 (0.008371)\n",
      "Epoch 45/100\tIt 280/391\tloss 1.446943 (1.849677)\titer_time 0.004961 (0.008300)\n",
      "Epoch 45/100\tIt 320/391\tloss 1.785530 (1.855671)\titer_time 0.005382 (0.008323)\n",
      "Epoch 45/100\tIt 360/391\tloss 1.945515 (1.859124)\titer_time 0.005001 (0.008302)\n"
     ]
    },
    {
     "name": "stderr",
     "output_type": "stream",
     "text": [
      " 46%|███████████████████████████████████████████████████████████████                                                                          | 46/100 [04:41<05:27,  6.06s/it]"
     ]
    },
    {
     "name": "stdout",
     "output_type": "stream",
     "text": [
      "Epoch 45/100\tval_acc 46.11%\n",
      "Epoch 46/100\tIt 0/391\tloss 1.883288 (1.883288)\titer_time 0.099113 (0.099113)\n",
      "Epoch 46/100\tIt 40/391\tloss 1.852424 (1.831275)\titer_time 0.005053 (0.011024)\n",
      "Epoch 46/100\tIt 80/391\tloss 1.663879 (1.828411)\titer_time 0.005101 (0.009357)\n",
      "Epoch 46/100\tIt 120/391\tloss 1.795899 (1.820559)\titer_time 0.005051 (0.008828)\n",
      "Epoch 46/100\tIt 160/391\tloss 1.776611 (1.833638)\titer_time 0.004959 (0.008683)\n",
      "Epoch 46/100\tIt 200/391\tloss 1.943781 (1.837756)\titer_time 0.004868 (0.008602)\n",
      "Epoch 46/100\tIt 240/391\tloss 1.780132 (1.842661)\titer_time 0.016990 (0.008476)\n",
      "Epoch 46/100\tIt 280/391\tloss 2.060698 (1.847835)\titer_time 0.004941 (0.008448)\n",
      "Epoch 46/100\tIt 320/391\tloss 1.608659 (1.847429)\titer_time 0.004918 (0.008363)\n",
      "Epoch 46/100\tIt 360/391\tloss 1.964764 (1.850628)\titer_time 0.005002 (0.008307)\n"
     ]
    },
    {
     "name": "stderr",
     "output_type": "stream",
     "text": [
      " 47%|████████████████████████████████████████████████████████████████▍                                                                        | 47/100 [04:47<05:21,  6.06s/it]"
     ]
    },
    {
     "name": "stdout",
     "output_type": "stream",
     "text": [
      "Epoch 46/100\tval_acc 46.12%\n",
      "Epoch 47/100\tIt 0/391\tloss 1.767545 (1.767545)\titer_time 0.119506 (0.119506)\n",
      "Epoch 47/100\tIt 40/391\tloss 1.791432 (1.827247)\titer_time 0.004974 (0.011097)\n",
      "Epoch 47/100\tIt 80/391\tloss 1.864599 (1.832355)\titer_time 0.005247 (0.009633)\n",
      "Epoch 47/100\tIt 120/391\tloss 1.877443 (1.835947)\titer_time 0.004879 (0.009029)\n",
      "Epoch 47/100\tIt 160/391\tloss 2.010062 (1.844227)\titer_time 0.004703 (0.008759)\n",
      "Epoch 47/100\tIt 200/391\tloss 2.031415 (1.843600)\titer_time 0.005052 (0.008640)\n",
      "Epoch 47/100\tIt 240/391\tloss 1.866974 (1.845132)\titer_time 0.015388 (0.008584)\n",
      "Epoch 47/100\tIt 280/391\tloss 1.568604 (1.848623)\titer_time 0.005026 (0.008485)\n",
      "Epoch 47/100\tIt 320/391\tloss 1.690059 (1.851271)\titer_time 0.004963 (0.008504)\n",
      "Epoch 47/100\tIt 360/391\tloss 1.640350 (1.850834)\titer_time 0.020405 (0.008488)\n"
     ]
    },
    {
     "name": "stderr",
     "output_type": "stream",
     "text": [
      " 48%|█████████████████████████████████████████████████████████████████▊                                                                       | 48/100 [04:53<05:16,  6.08s/it]"
     ]
    },
    {
     "name": "stdout",
     "output_type": "stream",
     "text": [
      "Epoch 47/100\tval_acc 46.06%\n",
      "Epoch 48/100\tIt 0/391\tloss 2.099349 (2.099349)\titer_time 0.100062 (0.100062)\n",
      "Epoch 48/100\tIt 40/391\tloss 1.731694 (1.819744)\titer_time 0.004699 (0.010848)\n",
      "Epoch 48/100\tIt 80/391\tloss 1.854413 (1.822116)\titer_time 0.004726 (0.010232)\n",
      "Epoch 48/100\tIt 120/391\tloss 1.919333 (1.836254)\titer_time 0.016005 (0.009638)\n",
      "Epoch 48/100\tIt 160/391\tloss 1.812513 (1.829069)\titer_time 0.004982 (0.009168)\n",
      "Epoch 48/100\tIt 200/391\tloss 2.064372 (1.835197)\titer_time 0.005030 (0.009018)\n",
      "Epoch 48/100\tIt 240/391\tloss 2.041222 (1.836437)\titer_time 0.005080 (0.008916)\n",
      "Epoch 48/100\tIt 280/391\tloss 1.788022 (1.842646)\titer_time 0.004958 (0.008783)\n",
      "Epoch 48/100\tIt 320/391\tloss 1.863853 (1.840037)\titer_time 0.005053 (0.008760)\n",
      "Epoch 48/100\tIt 360/391\tloss 1.973518 (1.844321)\titer_time 0.005106 (0.008716)\n"
     ]
    },
    {
     "name": "stderr",
     "output_type": "stream",
     "text": [
      " 49%|███████████████████████████████████████████████████████████████████▏                                                                     | 49/100 [04:59<05:12,  6.13s/it]"
     ]
    },
    {
     "name": "stdout",
     "output_type": "stream",
     "text": [
      "Epoch 48/100\tval_acc 46.43%\n",
      "Epoch 49/100\tIt 0/391\tloss 1.779652 (1.779652)\titer_time 0.100362 (0.100362)\n",
      "Epoch 49/100\tIt 40/391\tloss 1.813184 (1.824904)\titer_time 0.004958 (0.011080)\n",
      "Epoch 49/100\tIt 80/391\tloss 1.783603 (1.820920)\titer_time 0.004933 (0.009656)\n",
      "Epoch 49/100\tIt 120/391\tloss 2.024935 (1.819414)\titer_time 0.004936 (0.009136)\n",
      "Epoch 49/100\tIt 160/391\tloss 1.919198 (1.829611)\titer_time 0.005086 (0.008817)\n",
      "Epoch 49/100\tIt 200/391\tloss 1.872248 (1.840345)\titer_time 0.005311 (0.008502)\n",
      "Epoch 49/100\tIt 240/391\tloss 2.012169 (1.843376)\titer_time 0.005064 (0.008397)\n",
      "Epoch 49/100\tIt 280/391\tloss 2.198581 (1.847922)\titer_time 0.025401 (0.008338)\n",
      "Epoch 49/100\tIt 320/391\tloss 1.780651 (1.845019)\titer_time 0.005005 (0.008268)\n",
      "Epoch 49/100\tIt 360/391\tloss 2.014597 (1.848274)\titer_time 0.004781 (0.008236)\n"
     ]
    },
    {
     "name": "stderr",
     "output_type": "stream",
     "text": [
      " 50%|████████████████████████████████████████████████████████████████████▌                                                                    | 50/100 [05:05<05:03,  6.08s/it]"
     ]
    },
    {
     "name": "stdout",
     "output_type": "stream",
     "text": [
      "Epoch 49/100\tval_acc 46.32%\n",
      "Epoch 50/100\tIt 0/391\tloss 1.692702 (1.692702)\titer_time 0.116336 (0.116336)\n",
      "Epoch 50/100\tIt 40/391\tloss 1.743662 (1.824581)\titer_time 0.005261 (0.010679)\n",
      "Epoch 50/100\tIt 80/391\tloss 1.662584 (1.819268)\titer_time 0.004892 (0.009221)\n",
      "Epoch 50/100\tIt 120/391\tloss 1.699483 (1.826654)\titer_time 0.010671 (0.008751)\n",
      "Epoch 50/100\tIt 160/391\tloss 1.872967 (1.828844)\titer_time 0.004935 (0.008576)\n",
      "Epoch 50/100\tIt 200/391\tloss 1.711084 (1.831266)\titer_time 0.024384 (0.008526)\n",
      "Epoch 50/100\tIt 240/391\tloss 2.024964 (1.831832)\titer_time 0.005150 (0.008396)\n",
      "Epoch 50/100\tIt 280/391\tloss 1.703608 (1.830416)\titer_time 0.004928 (0.008346)\n",
      "Epoch 50/100\tIt 320/391\tloss 1.693646 (1.834045)\titer_time 0.005456 (0.008308)\n",
      "Epoch 50/100\tIt 360/391\tloss 1.811934 (1.828110)\titer_time 0.004772 (0.008372)\n"
     ]
    },
    {
     "name": "stderr",
     "output_type": "stream",
     "text": [
      " 51%|█████████████████████████████████████████████████████████████████████▊                                                                   | 51/100 [05:11<04:56,  6.04s/it]"
     ]
    },
    {
     "name": "stdout",
     "output_type": "stream",
     "text": [
      "Epoch 50/100\tval_acc 46.61%\n",
      "Epoch 51/100\tIt 0/391\tloss 1.907531 (1.907531)\titer_time 0.117584 (0.117584)\n",
      "Epoch 51/100\tIt 40/391\tloss 1.791132 (1.858151)\titer_time 0.004765 (0.011158)\n",
      "Epoch 51/100\tIt 80/391\tloss 1.694652 (1.869809)\titer_time 0.018262 (0.010090)\n",
      "Epoch 51/100\tIt 120/391\tloss 1.891285 (1.856325)\titer_time 0.005123 (0.009214)\n",
      "Epoch 51/100\tIt 160/391\tloss 1.896857 (1.857220)\titer_time 0.005083 (0.008990)\n",
      "Epoch 51/100\tIt 200/391\tloss 2.083375 (1.853540)\titer_time 0.005439 (0.008948)\n",
      "Epoch 51/100\tIt 240/391\tloss 2.013798 (1.851770)\titer_time 0.005057 (0.008716)\n",
      "Epoch 51/100\tIt 280/391\tloss 1.847909 (1.848300)\titer_time 0.005136 (0.008666)\n",
      "Epoch 51/100\tIt 320/391\tloss 1.649237 (1.843805)\titer_time 0.004734 (0.008723)\n",
      "Epoch 51/100\tIt 360/391\tloss 1.849049 (1.844060)\titer_time 0.004686 (0.008566)\n"
     ]
    },
    {
     "name": "stderr",
     "output_type": "stream",
     "text": [
      " 52%|███████████████████████████████████████████████████████████████████████▏                                                                 | 52/100 [05:17<04:51,  6.07s/it]"
     ]
    },
    {
     "name": "stdout",
     "output_type": "stream",
     "text": [
      "Epoch 51/100\tval_acc 46.63%\n",
      "Epoch 52/100\tIt 0/391\tloss 1.946375 (1.946375)\titer_time 0.099965 (0.099965)\n",
      "Epoch 52/100\tIt 40/391\tloss 1.777582 (1.850277)\titer_time 0.004880 (0.010794)\n",
      "Epoch 52/100\tIt 80/391\tloss 1.789916 (1.829123)\titer_time 0.004982 (0.010006)\n",
      "Epoch 52/100\tIt 120/391\tloss 1.844322 (1.819154)\titer_time 0.010481 (0.009049)\n",
      "Epoch 52/100\tIt 160/391\tloss 1.734530 (1.817794)\titer_time 0.005118 (0.008762)\n",
      "Epoch 52/100\tIt 200/391\tloss 1.604853 (1.820386)\titer_time 0.023805 (0.008671)\n",
      "Epoch 52/100\tIt 240/391\tloss 1.514610 (1.813538)\titer_time 0.004874 (0.008584)\n",
      "Epoch 52/100\tIt 280/391\tloss 1.871034 (1.814826)\titer_time 0.005112 (0.008549)\n",
      "Epoch 52/100\tIt 320/391\tloss 1.993520 (1.821535)\titer_time 0.023340 (0.008509)\n",
      "Epoch 52/100\tIt 360/391\tloss 2.051559 (1.823783)\titer_time 0.005208 (0.008361)\n"
     ]
    },
    {
     "name": "stderr",
     "output_type": "stream",
     "text": [
      " 53%|████████████████████████████████████████████████████████████████████████▌                                                                | 53/100 [05:23<04:45,  6.07s/it]"
     ]
    },
    {
     "name": "stdout",
     "output_type": "stream",
     "text": [
      "Epoch 52/100\tval_acc 46.63%\n",
      "Epoch 53/100\tIt 0/391\tloss 1.787736 (1.787736)\titer_time 0.099431 (0.099431)\n",
      "Epoch 53/100\tIt 40/391\tloss 1.880849 (1.822422)\titer_time 0.004940 (0.010894)\n",
      "Epoch 53/100\tIt 80/391\tloss 1.777891 (1.811822)\titer_time 0.005275 (0.009285)\n",
      "Epoch 53/100\tIt 120/391\tloss 1.804060 (1.821228)\titer_time 0.005027 (0.008740)\n",
      "Epoch 53/100\tIt 160/391\tloss 1.688365 (1.823914)\titer_time 0.005046 (0.008730)\n",
      "Epoch 53/100\tIt 200/391\tloss 1.707112 (1.819804)\titer_time 0.005170 (0.008414)\n",
      "Epoch 53/100\tIt 240/391\tloss 2.135828 (1.823991)\titer_time 0.004918 (0.008376)\n",
      "Epoch 53/100\tIt 280/391\tloss 1.740788 (1.826435)\titer_time 0.004948 (0.008355)\n",
      "Epoch 53/100\tIt 320/391\tloss 1.480659 (1.823544)\titer_time 0.026077 (0.008345)\n",
      "Epoch 53/100\tIt 360/391\tloss 1.796116 (1.825034)\titer_time 0.005450 (0.008321)\n"
     ]
    },
    {
     "name": "stderr",
     "output_type": "stream",
     "text": [
      " 54%|█████████████████████████████████████████████████████████████████████████▉                                                               | 54/100 [05:29<04:38,  6.06s/it]"
     ]
    },
    {
     "name": "stdout",
     "output_type": "stream",
     "text": [
      "Epoch 53/100\tval_acc 46.54%\n",
      "Epoch 54/100\tIt 0/391\tloss 1.628720 (1.628720)\titer_time 0.099610 (0.099610)\n",
      "Epoch 54/100\tIt 40/391\tloss 1.734874 (1.779030)\titer_time 0.004969 (0.010466)\n",
      "Epoch 54/100\tIt 80/391\tloss 1.602041 (1.787690)\titer_time 0.011668 (0.009225)\n",
      "Epoch 54/100\tIt 120/391\tloss 1.821259 (1.788305)\titer_time 0.005069 (0.008886)\n",
      "Epoch 54/100\tIt 160/391\tloss 1.897875 (1.801644)\titer_time 0.004959 (0.008692)\n",
      "Epoch 54/100\tIt 200/391\tloss 1.854619 (1.807465)\titer_time 0.028064 (0.008542)\n",
      "Epoch 54/100\tIt 240/391\tloss 2.062162 (1.810362)\titer_time 0.004774 (0.008437)\n",
      "Epoch 54/100\tIt 280/391\tloss 1.977943 (1.815453)\titer_time 0.004950 (0.008338)\n",
      "Epoch 54/100\tIt 320/391\tloss 1.927905 (1.821424)\titer_time 0.004806 (0.008288)\n",
      "Epoch 54/100\tIt 360/391\tloss 1.675367 (1.819581)\titer_time 0.004697 (0.008278)\n"
     ]
    },
    {
     "name": "stderr",
     "output_type": "stream",
     "text": [
      " 55%|███████████████████████████████████████████████████████████████████████████▎                                                             | 55/100 [05:36<04:32,  6.06s/it]"
     ]
    },
    {
     "name": "stdout",
     "output_type": "stream",
     "text": [
      "Epoch 54/100\tval_acc 46.61%\n",
      "Epoch 55/100\tIt 0/391\tloss 1.875499 (1.875499)\titer_time 0.100407 (0.100407)\n",
      "Epoch 55/100\tIt 40/391\tloss 2.028631 (1.811985)\titer_time 0.004869 (0.011021)\n",
      "Epoch 55/100\tIt 80/391\tloss 1.629682 (1.794858)\titer_time 0.004630 (0.009695)\n",
      "Epoch 55/100\tIt 120/391\tloss 2.087911 (1.790707)\titer_time 0.004784 (0.009098)\n",
      "Epoch 55/100\tIt 160/391\tloss 1.557871 (1.795192)\titer_time 0.004913 (0.008986)\n",
      "Epoch 55/100\tIt 200/391\tloss 1.800359 (1.797371)\titer_time 0.004969 (0.008828)\n",
      "Epoch 55/100\tIt 240/391\tloss 1.991267 (1.804906)\titer_time 0.005059 (0.008735)\n",
      "Epoch 55/100\tIt 280/391\tloss 1.706105 (1.810128)\titer_time 0.005264 (0.008647)\n",
      "Epoch 55/100\tIt 320/391\tloss 1.782693 (1.816110)\titer_time 0.004857 (0.008588)\n",
      "Epoch 55/100\tIt 360/391\tloss 1.655822 (1.819187)\titer_time 0.024027 (0.008581)\n"
     ]
    },
    {
     "name": "stderr",
     "output_type": "stream",
     "text": [
      " 56%|████████████████████████████████████████████████████████████████████████████▋                                                            | 56/100 [05:42<04:29,  6.13s/it]"
     ]
    },
    {
     "name": "stdout",
     "output_type": "stream",
     "text": [
      "Epoch 55/100\tval_acc 46.74%\n",
      "Epoch 56/100\tIt 0/391\tloss 1.887132 (1.887132)\titer_time 0.100446 (0.100446)\n",
      "Epoch 56/100\tIt 40/391\tloss 1.892051 (1.806762)\titer_time 0.005062 (0.010461)\n",
      "Epoch 56/100\tIt 80/391\tloss 1.694761 (1.800531)\titer_time 0.004765 (0.009260)\n",
      "Epoch 56/100\tIt 120/391\tloss 1.922372 (1.809747)\titer_time 0.010260 (0.009241)\n",
      "Epoch 56/100\tIt 160/391\tloss 1.585245 (1.806449)\titer_time 0.005102 (0.009086)\n",
      "Epoch 56/100\tIt 200/391\tloss 1.562497 (1.805376)\titer_time 0.005114 (0.008814)\n",
      "Epoch 56/100\tIt 240/391\tloss 1.928153 (1.813173)\titer_time 0.005220 (0.008608)\n",
      "Epoch 56/100\tIt 280/391\tloss 1.862714 (1.816376)\titer_time 0.004947 (0.008504)\n",
      "Epoch 56/100\tIt 320/391\tloss 1.838410 (1.814914)\titer_time 0.005137 (0.008437)\n",
      "Epoch 56/100\tIt 360/391\tloss 1.889056 (1.811218)\titer_time 0.004946 (0.008462)\n"
     ]
    },
    {
     "name": "stderr",
     "output_type": "stream",
     "text": [
      " 57%|██████████████████████████████████████████████████████████████████████████████                                                           | 57/100 [05:48<04:22,  6.11s/it]"
     ]
    },
    {
     "name": "stdout",
     "output_type": "stream",
     "text": [
      "Epoch 56/100\tval_acc 46.83%\n",
      "Epoch 57/100\tIt 0/391\tloss 1.808322 (1.808322)\titer_time 0.100554 (0.100554)\n",
      "Epoch 57/100\tIt 40/391\tloss 1.827528 (1.779454)\titer_time 0.004942 (0.010849)\n",
      "Epoch 57/100\tIt 80/391\tloss 1.806043 (1.755613)\titer_time 0.005215 (0.009514)\n",
      "Epoch 57/100\tIt 120/391\tloss 2.111962 (1.768303)\titer_time 0.005203 (0.009073)\n",
      "Epoch 57/100\tIt 160/391\tloss 1.769012 (1.779294)\titer_time 0.004643 (0.009067)\n",
      "Epoch 57/100\tIt 200/391\tloss 1.724300 (1.780366)\titer_time 0.005630 (0.009002)\n",
      "Epoch 57/100\tIt 240/391\tloss 2.036187 (1.785188)\titer_time 0.004911 (0.008804)\n",
      "Epoch 57/100\tIt 280/391\tloss 1.731674 (1.793742)\titer_time 0.004980 (0.008681)\n",
      "Epoch 57/100\tIt 320/391\tloss 1.887993 (1.790714)\titer_time 0.005059 (0.008609)\n",
      "Epoch 57/100\tIt 360/391\tloss 1.695069 (1.792002)\titer_time 0.004953 (0.008541)\n"
     ]
    },
    {
     "name": "stderr",
     "output_type": "stream",
     "text": [
      " 58%|███████████████████████████████████████████████████████████████████████████████▍                                                         | 58/100 [05:54<04:16,  6.10s/it]"
     ]
    },
    {
     "name": "stdout",
     "output_type": "stream",
     "text": [
      "Epoch 57/100\tval_acc 46.73%\n",
      "Epoch 58/100\tIt 0/391\tloss 1.802693 (1.802693)\titer_time 0.100618 (0.100618)\n",
      "Epoch 58/100\tIt 40/391\tloss 1.811342 (1.796992)\titer_time 0.004976 (0.010423)\n",
      "Epoch 58/100\tIt 80/391\tloss 1.968375 (1.806518)\titer_time 0.004990 (0.009269)\n",
      "Epoch 58/100\tIt 120/391\tloss 1.705678 (1.793289)\titer_time 0.004963 (0.008670)\n",
      "Epoch 58/100\tIt 160/391\tloss 1.876295 (1.800037)\titer_time 0.005098 (0.008528)\n",
      "Epoch 58/100\tIt 200/391\tloss 1.840159 (1.794976)\titer_time 0.018092 (0.008497)\n",
      "Epoch 58/100\tIt 240/391\tloss 1.467432 (1.796763)\titer_time 0.024386 (0.008448)\n",
      "Epoch 58/100\tIt 280/391\tloss 2.001454 (1.798078)\titer_time 0.005459 (0.008389)\n",
      "Epoch 58/100\tIt 320/391\tloss 1.982185 (1.799430)\titer_time 0.005066 (0.008314)\n",
      "Epoch 58/100\tIt 360/391\tloss 1.661116 (1.797379)\titer_time 0.005045 (0.008318)\n"
     ]
    },
    {
     "name": "stderr",
     "output_type": "stream",
     "text": [
      " 59%|████████████████████████████████████████████████████████████████████████████████▊                                                        | 59/100 [06:00<04:08,  6.07s/it]"
     ]
    },
    {
     "name": "stdout",
     "output_type": "stream",
     "text": [
      "Epoch 58/100\tval_acc 46.67%\n",
      "Epoch 59/100\tIt 0/391\tloss 1.828000 (1.828000)\titer_time 0.101319 (0.101319)\n",
      "Epoch 59/100\tIt 40/391\tloss 1.733769 (1.740650)\titer_time 0.004870 (0.010467)\n",
      "Epoch 59/100\tIt 80/391\tloss 1.821586 (1.783390)\titer_time 0.004929 (0.009151)\n",
      "Epoch 59/100\tIt 120/391\tloss 1.855976 (1.783065)\titer_time 0.004949 (0.008902)\n",
      "Epoch 59/100\tIt 160/391\tloss 1.650560 (1.785904)\titer_time 0.005229 (0.008575)\n",
      "Epoch 59/100\tIt 200/391\tloss 1.452328 (1.790711)\titer_time 0.005353 (0.008320)\n",
      "Epoch 59/100\tIt 240/391\tloss 1.628664 (1.787492)\titer_time 0.004725 (0.008206)\n",
      "Epoch 59/100\tIt 280/391\tloss 2.010527 (1.787097)\titer_time 0.007086 (0.008213)\n",
      "Epoch 59/100\tIt 320/391\tloss 1.833138 (1.793175)\titer_time 0.004838 (0.008260)\n",
      "Epoch 59/100\tIt 360/391\tloss 1.850721 (1.799556)\titer_time 0.004953 (0.008248)\n"
     ]
    },
    {
     "name": "stderr",
     "output_type": "stream",
     "text": [
      " 60%|██████████████████████████████████████████████████████████████████████████████████▏                                                      | 60/100 [06:06<04:03,  6.10s/it]"
     ]
    },
    {
     "name": "stdout",
     "output_type": "stream",
     "text": [
      "Epoch 59/100\tval_acc 46.91%\n",
      "Epoch 60/100\tIt 0/391\tloss 1.994521 (1.994521)\titer_time 0.118787 (0.118787)\n",
      "Epoch 60/100\tIt 40/391\tloss 1.722680 (1.770209)\titer_time 0.005061 (0.010846)\n",
      "Epoch 60/100\tIt 80/391\tloss 1.810429 (1.756887)\titer_time 0.005035 (0.009636)\n",
      "Epoch 60/100\tIt 120/391\tloss 1.956586 (1.782348)\titer_time 0.024132 (0.009014)\n",
      "Epoch 60/100\tIt 160/391\tloss 1.870727 (1.779125)\titer_time 0.005007 (0.008697)\n",
      "Epoch 60/100\tIt 200/391\tloss 2.066286 (1.776667)\titer_time 0.005393 (0.008524)\n",
      "Epoch 60/100\tIt 240/391\tloss 1.812310 (1.775979)\titer_time 0.004755 (0.008454)\n",
      "Epoch 60/100\tIt 280/391\tloss 2.010548 (1.775043)\titer_time 0.004820 (0.008593)\n",
      "Epoch 60/100\tIt 320/391\tloss 1.871224 (1.775384)\titer_time 0.004775 (0.008616)\n",
      "Epoch 60/100\tIt 360/391\tloss 1.816809 (1.773896)\titer_time 0.004575 (0.008707)\n"
     ]
    },
    {
     "name": "stderr",
     "output_type": "stream",
     "text": [
      " 61%|███████████████████████████████████████████████████████████████████████████████████▌                                                     | 61/100 [06:12<03:58,  6.11s/it]"
     ]
    },
    {
     "name": "stdout",
     "output_type": "stream",
     "text": [
      "Epoch 60/100\tval_acc 47.29%\n",
      "Epoch 61/100\tIt 0/391\tloss 1.656641 (1.656641)\titer_time 0.104172 (0.104172)\n",
      "Epoch 61/100\tIt 40/391\tloss 1.847527 (1.793559)\titer_time 0.004897 (0.011196)\n",
      "Epoch 61/100\tIt 80/391\tloss 1.766315 (1.775465)\titer_time 0.005477 (0.009432)\n",
      "Epoch 61/100\tIt 120/391\tloss 2.018255 (1.771258)\titer_time 0.022805 (0.009056)\n",
      "Epoch 61/100\tIt 160/391\tloss 1.583462 (1.775844)\titer_time 0.005090 (0.008770)\n",
      "Epoch 61/100\tIt 200/391\tloss 1.678100 (1.776437)\titer_time 0.004992 (0.008575)\n",
      "Epoch 61/100\tIt 240/391\tloss 1.516686 (1.783106)\titer_time 0.005339 (0.008555)\n",
      "Epoch 61/100\tIt 280/391\tloss 1.675291 (1.779094)\titer_time 0.017300 (0.008408)\n",
      "Epoch 61/100\tIt 320/391\tloss 1.640298 (1.780848)\titer_time 0.004648 (0.008399)\n",
      "Epoch 61/100\tIt 360/391\tloss 1.667754 (1.778322)\titer_time 0.005000 (0.008395)\n"
     ]
    },
    {
     "name": "stderr",
     "output_type": "stream",
     "text": [
      " 62%|████████████████████████████████████████████████████████████████████████████████████▉                                                    | 62/100 [06:18<03:53,  6.14s/it]"
     ]
    },
    {
     "name": "stdout",
     "output_type": "stream",
     "text": [
      "Epoch 61/100\tval_acc 47.35%\n",
      "Epoch 62/100\tIt 0/391\tloss 1.604336 (1.604336)\titer_time 0.118871 (0.118871)\n",
      "Epoch 62/100\tIt 40/391\tloss 1.521875 (1.735012)\titer_time 0.004901 (0.010837)\n",
      "Epoch 62/100\tIt 80/391\tloss 1.993508 (1.756421)\titer_time 0.004737 (0.009731)\n",
      "Epoch 62/100\tIt 120/391\tloss 1.596814 (1.764022)\titer_time 0.024999 (0.009272)\n",
      "Epoch 62/100\tIt 160/391\tloss 1.456852 (1.756123)\titer_time 0.005024 (0.008878)\n",
      "Epoch 62/100\tIt 200/391\tloss 1.833204 (1.765264)\titer_time 0.004590 (0.008789)\n",
      "Epoch 62/100\tIt 240/391\tloss 2.121809 (1.770579)\titer_time 0.015455 (0.008623)\n",
      "Epoch 62/100\tIt 280/391\tloss 1.879136 (1.777522)\titer_time 0.004997 (0.008527)\n",
      "Epoch 62/100\tIt 320/391\tloss 1.499715 (1.771694)\titer_time 0.024515 (0.008450)\n",
      "Epoch 62/100\tIt 360/391\tloss 1.736768 (1.769935)\titer_time 0.004931 (0.008360)\n"
     ]
    },
    {
     "name": "stderr",
     "output_type": "stream",
     "text": [
      " 63%|██████████████████████████████████████████████████████████████████████████████████████▎                                                  | 63/100 [06:25<03:46,  6.12s/it]"
     ]
    },
    {
     "name": "stdout",
     "output_type": "stream",
     "text": [
      "Epoch 62/100\tval_acc 47.4%\n",
      "Epoch 63/100\tIt 0/391\tloss 1.833598 (1.833598)\titer_time 0.101080 (0.101080)\n",
      "Epoch 63/100\tIt 40/391\tloss 1.665804 (1.779181)\titer_time 0.004970 (0.010812)\n",
      "Epoch 63/100\tIt 80/391\tloss 2.083157 (1.781480)\titer_time 0.019539 (0.009686)\n",
      "Epoch 63/100\tIt 120/391\tloss 1.877378 (1.765772)\titer_time 0.005113 (0.008988)\n",
      "Epoch 63/100\tIt 160/391\tloss 1.608310 (1.771320)\titer_time 0.005043 (0.008660)\n",
      "Epoch 63/100\tIt 200/391\tloss 1.790243 (1.764125)\titer_time 0.019539 (0.008539)\n",
      "Epoch 63/100\tIt 240/391\tloss 1.518654 (1.769705)\titer_time 0.004962 (0.008446)\n",
      "Epoch 63/100\tIt 280/391\tloss 1.875137 (1.770205)\titer_time 0.004955 (0.008409)\n",
      "Epoch 63/100\tIt 320/391\tloss 1.952772 (1.772538)\titer_time 0.005160 (0.008339)\n",
      "Epoch 63/100\tIt 360/391\tloss 1.920574 (1.771398)\titer_time 0.005141 (0.008329)\n"
     ]
    },
    {
     "name": "stderr",
     "output_type": "stream",
     "text": [
      " 64%|███████████████████████████████████████████████████████████████████████████████████████▋                                                 | 64/100 [06:31<03:40,  6.14s/it]"
     ]
    },
    {
     "name": "stdout",
     "output_type": "stream",
     "text": [
      "Epoch 63/100\tval_acc 47.4%\n",
      "Epoch 64/100\tIt 0/391\tloss 1.653319 (1.653319)\titer_time 0.100865 (0.100865)\n",
      "Epoch 64/100\tIt 40/391\tloss 1.932267 (1.706927)\titer_time 0.005051 (0.009972)\n",
      "Epoch 64/100\tIt 80/391\tloss 2.054377 (1.729276)\titer_time 0.004814 (0.009386)\n",
      "Epoch 64/100\tIt 120/391\tloss 1.966934 (1.740374)\titer_time 0.031243 (0.009150)\n",
      "Epoch 64/100\tIt 160/391\tloss 1.702542 (1.741799)\titer_time 0.005057 (0.008942)\n",
      "Epoch 64/100\tIt 200/391\tloss 1.982283 (1.747066)\titer_time 0.005150 (0.008773)\n",
      "Epoch 64/100\tIt 240/391\tloss 2.046949 (1.748673)\titer_time 0.024991 (0.008712)\n",
      "Epoch 64/100\tIt 280/391\tloss 1.645151 (1.748063)\titer_time 0.004985 (0.008581)\n",
      "Epoch 64/100\tIt 320/391\tloss 1.701149 (1.750693)\titer_time 0.004702 (0.008569)\n",
      "Epoch 64/100\tIt 360/391\tloss 1.818175 (1.753529)\titer_time 0.023388 (0.008556)\n"
     ]
    },
    {
     "name": "stderr",
     "output_type": "stream",
     "text": [
      " 65%|█████████████████████████████████████████████████████████████████████████████████████████                                                | 65/100 [06:37<03:35,  6.17s/it]"
     ]
    },
    {
     "name": "stdout",
     "output_type": "stream",
     "text": [
      "Epoch 64/100\tval_acc 47.5%\n",
      "Epoch 65/100\tIt 0/391\tloss 1.942860 (1.942860)\titer_time 0.118269 (0.118269)\n",
      "Epoch 65/100\tIt 40/391\tloss 2.062432 (1.791176)\titer_time 0.004718 (0.011004)\n",
      "Epoch 65/100\tIt 80/391\tloss 1.770541 (1.780747)\titer_time 0.022732 (0.009930)\n",
      "Epoch 65/100\tIt 120/391\tloss 1.626028 (1.771363)\titer_time 0.004966 (0.009183)\n",
      "Epoch 65/100\tIt 160/391\tloss 1.773363 (1.761589)\titer_time 0.004955 (0.008872)\n",
      "Epoch 65/100\tIt 200/391\tloss 1.822244 (1.762466)\titer_time 0.009493 (0.008595)\n",
      "Epoch 65/100\tIt 240/391\tloss 1.568844 (1.762791)\titer_time 0.030894 (0.008711)\n",
      "Epoch 65/100\tIt 280/391\tloss 1.787842 (1.765360)\titer_time 0.005081 (0.008532)\n",
      "Epoch 65/100\tIt 320/391\tloss 1.654701 (1.768718)\titer_time 0.027734 (0.008638)\n",
      "Epoch 65/100\tIt 360/391\tloss 1.758773 (1.769100)\titer_time 0.004761 (0.008660)\n"
     ]
    },
    {
     "name": "stderr",
     "output_type": "stream",
     "text": [
      " 66%|██████████████████████████████████████████████████████████████████████████████████████████▍                                              | 66/100 [06:43<03:30,  6.18s/it]"
     ]
    },
    {
     "name": "stdout",
     "output_type": "stream",
     "text": [
      "Epoch 65/100\tval_acc 47.5%\n",
      "Epoch 66/100\tIt 0/391\tloss 1.747837 (1.747837)\titer_time 0.119430 (0.119430)\n",
      "Epoch 66/100\tIt 40/391\tloss 1.665020 (1.741407)\titer_time 0.005239 (0.010216)\n",
      "Epoch 66/100\tIt 80/391\tloss 1.698803 (1.753032)\titer_time 0.024241 (0.009363)\n",
      "Epoch 66/100\tIt 120/391\tloss 1.749082 (1.764020)\titer_time 0.005077 (0.008714)\n",
      "Epoch 66/100\tIt 160/391\tloss 1.952106 (1.765389)\titer_time 0.005437 (0.008543)\n",
      "Epoch 66/100\tIt 200/391\tloss 1.901769 (1.765467)\titer_time 0.005344 (0.008272)\n",
      "Epoch 66/100\tIt 240/391\tloss 1.709179 (1.763191)\titer_time 0.005277 (0.008378)\n",
      "Epoch 66/100\tIt 280/391\tloss 1.771149 (1.762460)\titer_time 0.031083 (0.008425)\n",
      "Epoch 66/100\tIt 320/391\tloss 1.632040 (1.757878)\titer_time 0.005237 (0.008464)\n",
      "Epoch 66/100\tIt 360/391\tloss 1.669803 (1.760917)\titer_time 0.004935 (0.008371)\n"
     ]
    },
    {
     "name": "stderr",
     "output_type": "stream",
     "text": [
      " 67%|███████████████████████████████████████████████████████████████████████████████████████████▊                                             | 67/100 [06:49<03:23,  6.15s/it]"
     ]
    },
    {
     "name": "stdout",
     "output_type": "stream",
     "text": [
      "Epoch 66/100\tval_acc 47.53%\n",
      "Epoch 67/100\tIt 0/391\tloss 2.008635 (2.008635)\titer_time 0.115771 (0.115771)\n",
      "Epoch 67/100\tIt 40/391\tloss 1.788597 (1.738011)\titer_time 0.004731 (0.011378)\n",
      "Epoch 67/100\tIt 80/391\tloss 1.802635 (1.751054)\titer_time 0.004847 (0.010380)\n",
      "Epoch 67/100\tIt 120/391\tloss 2.028998 (1.754220)\titer_time 0.005013 (0.009642)\n",
      "Epoch 67/100\tIt 160/391\tloss 1.690832 (1.761212)\titer_time 0.005032 (0.009242)\n",
      "Epoch 67/100\tIt 200/391\tloss 1.900356 (1.760961)\titer_time 0.004941 (0.008831)\n",
      "Epoch 67/100\tIt 240/391\tloss 1.413575 (1.756552)\titer_time 0.004913 (0.008720)\n",
      "Epoch 67/100\tIt 280/391\tloss 1.679632 (1.756164)\titer_time 0.004942 (0.008592)\n",
      "Epoch 67/100\tIt 320/391\tloss 1.804123 (1.755404)\titer_time 0.005229 (0.008496)\n",
      "Epoch 67/100\tIt 360/391\tloss 1.798922 (1.755174)\titer_time 0.025640 (0.008510)\n"
     ]
    },
    {
     "name": "stderr",
     "output_type": "stream",
     "text": [
      " 68%|█████████████████████████████████████████████████████████████████████████████████████████████▏                                           | 68/100 [06:55<03:16,  6.15s/it]"
     ]
    },
    {
     "name": "stdout",
     "output_type": "stream",
     "text": [
      "Epoch 67/100\tval_acc 47.42%\n",
      "Epoch 68/100\tIt 0/391\tloss 1.633999 (1.633999)\titer_time 0.120511 (0.120511)\n",
      "Epoch 68/100\tIt 40/391\tloss 1.676176 (1.787845)\titer_time 0.005021 (0.010755)\n",
      "Epoch 68/100\tIt 80/391\tloss 1.634218 (1.764080)\titer_time 0.005244 (0.009671)\n",
      "Epoch 68/100\tIt 120/391\tloss 1.710465 (1.752576)\titer_time 0.030489 (0.009524)\n",
      "Epoch 68/100\tIt 160/391\tloss 1.793255 (1.760625)\titer_time 0.004792 (0.009336)\n",
      "Epoch 68/100\tIt 200/391\tloss 1.922671 (1.761091)\titer_time 0.005531 (0.009068)\n",
      "Epoch 68/100\tIt 240/391\tloss 1.981645 (1.756479)\titer_time 0.005651 (0.008790)\n",
      "Epoch 68/100\tIt 280/391\tloss 1.639254 (1.757209)\titer_time 0.004987 (0.008736)\n",
      "Epoch 68/100\tIt 320/391\tloss 1.610013 (1.760567)\titer_time 0.004771 (0.008621)\n",
      "Epoch 68/100\tIt 360/391\tloss 1.922773 (1.761766)\titer_time 0.005013 (0.008649)\n"
     ]
    },
    {
     "name": "stderr",
     "output_type": "stream",
     "text": [
      " 69%|██████████████████████████████████████████████████████████████████████████████████████████████▌                                          | 69/100 [07:02<03:10,  6.15s/it]"
     ]
    },
    {
     "name": "stdout",
     "output_type": "stream",
     "text": [
      "Epoch 68/100\tval_acc 47.48%\n",
      "Epoch 69/100\tIt 0/391\tloss 1.741722 (1.741722)\titer_time 0.118985 (0.118985)\n",
      "Epoch 69/100\tIt 40/391\tloss 1.682523 (1.739829)\titer_time 0.005254 (0.011545)\n",
      "Epoch 69/100\tIt 80/391\tloss 1.790306 (1.754551)\titer_time 0.004981 (0.009750)\n",
      "Epoch 69/100\tIt 120/391\tloss 1.737219 (1.758750)\titer_time 0.020314 (0.009136)\n",
      "Epoch 69/100\tIt 160/391\tloss 1.630934 (1.762665)\titer_time 0.005203 (0.008940)\n",
      "Epoch 69/100\tIt 200/391\tloss 1.959212 (1.768585)\titer_time 0.019014 (0.008682)\n",
      "Epoch 69/100\tIt 240/391\tloss 1.970472 (1.765803)\titer_time 0.005168 (0.008600)\n",
      "Epoch 69/100\tIt 280/391\tloss 1.988034 (1.766940)\titer_time 0.004948 (0.008534)\n",
      "Epoch 69/100\tIt 320/391\tloss 1.655371 (1.765222)\titer_time 0.005296 (0.008410)\n",
      "Epoch 69/100\tIt 360/391\tloss 1.751995 (1.761980)\titer_time 0.004975 (0.008300)\n"
     ]
    },
    {
     "name": "stderr",
     "output_type": "stream",
     "text": [
      " 70%|███████████████████████████████████████████████████████████████████████████████████████████████▉                                         | 70/100 [07:08<03:02,  6.10s/it]"
     ]
    },
    {
     "name": "stdout",
     "output_type": "stream",
     "text": [
      "Epoch 69/100\tval_acc 47.57%\n",
      "Epoch 70/100\tIt 0/391\tloss 1.662210 (1.662210)\titer_time 0.118283 (0.118283)\n",
      "Epoch 70/100\tIt 40/391\tloss 2.010796 (1.742660)\titer_time 0.026212 (0.011044)\n",
      "Epoch 70/100\tIt 80/391\tloss 1.860893 (1.741390)\titer_time 0.004970 (0.009763)\n",
      "Epoch 70/100\tIt 120/391\tloss 1.526410 (1.746937)\titer_time 0.005178 (0.009071)\n",
      "Epoch 70/100\tIt 160/391\tloss 1.592347 (1.750266)\titer_time 0.005201 (0.008820)\n",
      "Epoch 70/100\tIt 200/391\tloss 1.687498 (1.751468)\titer_time 0.005263 (0.008700)\n",
      "Epoch 70/100\tIt 240/391\tloss 1.682490 (1.753669)\titer_time 0.004931 (0.008640)\n",
      "Epoch 70/100\tIt 280/391\tloss 1.887255 (1.765019)\titer_time 0.004975 (0.008377)\n",
      "Epoch 70/100\tIt 320/391\tloss 1.852861 (1.765577)\titer_time 0.004973 (0.008359)\n",
      "Epoch 70/100\tIt 360/391\tloss 1.826161 (1.760773)\titer_time 0.028089 (0.008367)\n"
     ]
    },
    {
     "name": "stderr",
     "output_type": "stream",
     "text": [
      " 71%|█████████████████████████████████████████████████████████████████████████████████████████████████▎                                       | 71/100 [07:14<02:56,  6.09s/it]"
     ]
    },
    {
     "name": "stdout",
     "output_type": "stream",
     "text": [
      "Epoch 70/100\tval_acc 47.68%\n",
      "Epoch 71/100\tIt 0/391\tloss 1.646261 (1.646261)\titer_time 0.118251 (0.118251)\n",
      "Epoch 71/100\tIt 40/391\tloss 1.771917 (1.767257)\titer_time 0.005036 (0.011633)\n",
      "Epoch 71/100\tIt 80/391\tloss 1.653522 (1.763440)\titer_time 0.005348 (0.010368)\n",
      "Epoch 71/100\tIt 120/391\tloss 1.676184 (1.755301)\titer_time 0.004887 (0.009886)\n",
      "Epoch 71/100\tIt 160/391\tloss 1.801726 (1.767841)\titer_time 0.005013 (0.009655)\n",
      "Epoch 71/100\tIt 200/391\tloss 1.728998 (1.756218)\titer_time 0.004953 (0.009482)\n",
      "Epoch 71/100\tIt 240/391\tloss 1.807834 (1.755652)\titer_time 0.004978 (0.009349)\n",
      "Epoch 71/100\tIt 280/391\tloss 2.183727 (1.755620)\titer_time 0.004981 (0.009153)\n",
      "Epoch 71/100\tIt 320/391\tloss 1.925217 (1.758344)\titer_time 0.005182 (0.008944)\n",
      "Epoch 71/100\tIt 360/391\tloss 1.586238 (1.758891)\titer_time 0.005217 (0.008865)\n"
     ]
    },
    {
     "name": "stderr",
     "output_type": "stream",
     "text": [
      " 72%|██████████████████████████████████████████████████████████████████████████████████████████████████▋                                      | 72/100 [07:20<02:51,  6.14s/it]"
     ]
    },
    {
     "name": "stdout",
     "output_type": "stream",
     "text": [
      "Epoch 71/100\tval_acc 47.65%\n",
      "Epoch 72/100\tIt 0/391\tloss 1.707600 (1.707600)\titer_time 0.098087 (0.098087)\n",
      "Epoch 72/100\tIt 40/391\tloss 1.652436 (1.796314)\titer_time 0.004966 (0.010304)\n",
      "Epoch 72/100\tIt 80/391\tloss 1.737201 (1.781376)\titer_time 0.017682 (0.009289)\n",
      "Epoch 72/100\tIt 120/391\tloss 1.534500 (1.791834)\titer_time 0.005027 (0.008985)\n",
      "Epoch 72/100\tIt 160/391\tloss 1.685851 (1.776123)\titer_time 0.005046 (0.008680)\n",
      "Epoch 72/100\tIt 200/391\tloss 1.838331 (1.773555)\titer_time 0.004951 (0.008631)\n",
      "Epoch 72/100\tIt 240/391\tloss 1.969464 (1.775980)\titer_time 0.004866 (0.008581)\n",
      "Epoch 72/100\tIt 280/391\tloss 1.776340 (1.771856)\titer_time 0.004991 (0.008344)\n",
      "Epoch 72/100\tIt 320/391\tloss 1.636571 (1.772550)\titer_time 0.004719 (0.008353)\n",
      "Epoch 72/100\tIt 360/391\tloss 1.605594 (1.768594)\titer_time 0.004907 (0.008290)\n"
     ]
    },
    {
     "name": "stderr",
     "output_type": "stream",
     "text": [
      " 73%|████████████████████████████████████████████████████████████████████████████████████████████████████                                     | 73/100 [07:26<02:46,  6.16s/it]"
     ]
    },
    {
     "name": "stdout",
     "output_type": "stream",
     "text": [
      "Epoch 72/100\tval_acc 47.71%\n",
      "Epoch 73/100\tIt 0/391\tloss 1.873993 (1.873993)\titer_time 0.100717 (0.100717)\n",
      "Epoch 73/100\tIt 40/391\tloss 1.614183 (1.764499)\titer_time 0.004885 (0.011491)\n",
      "Epoch 73/100\tIt 80/391\tloss 1.681409 (1.753502)\titer_time 0.005063 (0.009833)\n",
      "Epoch 73/100\tIt 120/391\tloss 1.816304 (1.743152)\titer_time 0.005457 (0.009257)\n",
      "Epoch 73/100\tIt 160/391\tloss 1.760614 (1.752751)\titer_time 0.005056 (0.009070)\n",
      "Epoch 73/100\tIt 200/391\tloss 1.780163 (1.755651)\titer_time 0.004977 (0.008793)\n",
      "Epoch 73/100\tIt 240/391\tloss 1.626677 (1.757252)\titer_time 0.004873 (0.008778)\n",
      "Epoch 73/100\tIt 280/391\tloss 1.626497 (1.765478)\titer_time 0.004987 (0.008601)\n",
      "Epoch 73/100\tIt 320/391\tloss 1.671058 (1.765715)\titer_time 0.004721 (0.008647)\n",
      "Epoch 73/100\tIt 360/391\tloss 1.793278 (1.767233)\titer_time 0.005206 (0.008694)\n"
     ]
    },
    {
     "name": "stderr",
     "output_type": "stream",
     "text": [
      " 74%|█████████████████████████████████████████████████████████████████████████████████████████████████████▍                                   | 74/100 [07:32<02:42,  6.24s/it]"
     ]
    },
    {
     "name": "stdout",
     "output_type": "stream",
     "text": [
      "Epoch 73/100\tval_acc 47.63%\n",
      "Epoch 74/100\tIt 0/391\tloss 1.546511 (1.546511)\titer_time 0.100853 (0.100853)\n",
      "Epoch 74/100\tIt 40/391\tloss 1.778149 (1.764812)\titer_time 0.004814 (0.011188)\n",
      "Epoch 74/100\tIt 80/391\tloss 1.784391 (1.755943)\titer_time 0.004895 (0.010396)\n",
      "Epoch 74/100\tIt 120/391\tloss 1.940229 (1.759562)\titer_time 0.018692 (0.009565)\n",
      "Epoch 74/100\tIt 160/391\tloss 1.694430 (1.767398)\titer_time 0.005150 (0.009318)\n",
      "Epoch 74/100\tIt 200/391\tloss 1.680933 (1.768513)\titer_time 0.017475 (0.008979)\n",
      "Epoch 74/100\tIt 240/391\tloss 1.800048 (1.765702)\titer_time 0.004999 (0.008767)\n",
      "Epoch 74/100\tIt 280/391\tloss 1.675145 (1.764309)\titer_time 0.016916 (0.008701)\n",
      "Epoch 74/100\tIt 320/391\tloss 1.805209 (1.762234)\titer_time 0.005012 (0.008542)\n",
      "Epoch 74/100\tIt 360/391\tloss 1.746159 (1.762551)\titer_time 0.005024 (0.008533)\n"
     ]
    },
    {
     "name": "stderr",
     "output_type": "stream",
     "text": [
      " 75%|██████████████████████████████████████████████████████████████████████████████████████████████████████▊                                  | 75/100 [07:39<02:35,  6.21s/it]"
     ]
    },
    {
     "name": "stdout",
     "output_type": "stream",
     "text": [
      "Epoch 74/100\tval_acc 47.68%\n",
      "Epoch 75/100\tIt 0/391\tloss 1.693752 (1.693752)\titer_time 0.120784 (0.120784)\n",
      "Epoch 75/100\tIt 40/391\tloss 1.754493 (1.761091)\titer_time 0.005146 (0.011023)\n",
      "Epoch 75/100\tIt 80/391\tloss 1.877434 (1.762740)\titer_time 0.004985 (0.009263)\n",
      "Epoch 75/100\tIt 120/391\tloss 1.910940 (1.759364)\titer_time 0.004889 (0.008943)\n",
      "Epoch 75/100\tIt 160/391\tloss 1.782964 (1.756176)\titer_time 0.023341 (0.008795)\n",
      "Epoch 75/100\tIt 200/391\tloss 1.755859 (1.757591)\titer_time 0.005018 (0.008513)\n",
      "Epoch 75/100\tIt 240/391\tloss 1.583685 (1.756692)\titer_time 0.010629 (0.008593)\n",
      "Epoch 75/100\tIt 280/391\tloss 1.897182 (1.749472)\titer_time 0.004943 (0.008443)\n",
      "Epoch 75/100\tIt 320/391\tloss 1.822829 (1.749717)\titer_time 0.005095 (0.008460)\n",
      "Epoch 75/100\tIt 360/391\tloss 1.742893 (1.750891)\titer_time 0.011387 (0.008435)\n"
     ]
    },
    {
     "name": "stderr",
     "output_type": "stream",
     "text": [
      " 76%|████████████████████████████████████████████████████████████████████████████████████████████████████████                                 | 76/100 [07:45<02:28,  6.18s/it]"
     ]
    },
    {
     "name": "stdout",
     "output_type": "stream",
     "text": [
      "Epoch 75/100\tval_acc 47.7%\n",
      "Epoch 76/100\tIt 0/391\tloss 1.681933 (1.681933)\titer_time 0.101603 (0.101603)\n",
      "Epoch 76/100\tIt 40/391\tloss 1.359322 (1.709716)\titer_time 0.005011 (0.011256)\n",
      "Epoch 76/100\tIt 80/391\tloss 1.563322 (1.723874)\titer_time 0.004971 (0.009548)\n",
      "Epoch 76/100\tIt 120/391\tloss 1.761490 (1.725204)\titer_time 0.005010 (0.008843)\n",
      "Epoch 76/100\tIt 160/391\tloss 1.790502 (1.728269)\titer_time 0.005074 (0.008710)\n",
      "Epoch 76/100\tIt 200/391\tloss 1.928641 (1.733402)\titer_time 0.005234 (0.008512)\n",
      "Epoch 76/100\tIt 240/391\tloss 2.004827 (1.742388)\titer_time 0.005141 (0.008468)\n",
      "Epoch 76/100\tIt 280/391\tloss 1.538126 (1.743147)\titer_time 0.013321 (0.008442)\n",
      "Epoch 76/100\tIt 320/391\tloss 1.527954 (1.747423)\titer_time 0.005027 (0.008350)\n",
      "Epoch 76/100\tIt 360/391\tloss 1.871932 (1.747257)\titer_time 0.004909 (0.008344)\n"
     ]
    },
    {
     "name": "stderr",
     "output_type": "stream",
     "text": [
      " 77%|█████████████████████████████████████████████████████████████████████████████████████████████████████████▍                               | 77/100 [07:51<02:21,  6.14s/it]"
     ]
    },
    {
     "name": "stdout",
     "output_type": "stream",
     "text": [
      "Epoch 76/100\tval_acc 47.74%\n",
      "Epoch 77/100\tIt 0/391\tloss 1.676701 (1.676701)\titer_time 0.098769 (0.098769)\n",
      "Epoch 77/100\tIt 40/391\tloss 1.901186 (1.731404)\titer_time 0.004935 (0.011588)\n",
      "Epoch 77/100\tIt 80/391\tloss 1.967871 (1.754923)\titer_time 0.005214 (0.009665)\n",
      "Epoch 77/100\tIt 120/391\tloss 1.783393 (1.741721)\titer_time 0.005039 (0.009339)\n",
      "Epoch 77/100\tIt 160/391\tloss 1.937074 (1.752605)\titer_time 0.004989 (0.008874)\n",
      "Epoch 77/100\tIt 200/391\tloss 1.753069 (1.754472)\titer_time 0.020499 (0.008714)\n",
      "Epoch 77/100\tIt 240/391\tloss 1.656820 (1.756753)\titer_time 0.004897 (0.008497)\n",
      "Epoch 77/100\tIt 280/391\tloss 1.619925 (1.752550)\titer_time 0.005006 (0.008568)\n",
      "Epoch 77/100\tIt 320/391\tloss 1.584027 (1.751174)\titer_time 0.005027 (0.008593)\n",
      "Epoch 77/100\tIt 360/391\tloss 1.634152 (1.753719)\titer_time 0.005115 (0.008568)\n"
     ]
    },
    {
     "name": "stderr",
     "output_type": "stream",
     "text": [
      " 78%|██████████████████████████████████████████████████████████████████████████████████████████████████████████▊                              | 78/100 [07:57<02:14,  6.12s/it]"
     ]
    },
    {
     "name": "stdout",
     "output_type": "stream",
     "text": [
      "Epoch 77/100\tval_acc 47.74%\n",
      "Epoch 78/100\tIt 0/391\tloss 1.656396 (1.656396)\titer_time 0.099487 (0.099487)\n",
      "Epoch 78/100\tIt 40/391\tloss 1.954149 (1.754213)\titer_time 0.004726 (0.011079)\n",
      "Epoch 78/100\tIt 80/391\tloss 1.906779 (1.741899)\titer_time 0.005082 (0.009343)\n",
      "Epoch 78/100\tIt 120/391\tloss 1.639441 (1.763806)\titer_time 0.005279 (0.009034)\n",
      "Epoch 78/100\tIt 160/391\tloss 1.597009 (1.758166)\titer_time 0.004735 (0.008818)\n",
      "Epoch 78/100\tIt 200/391\tloss 1.824498 (1.752259)\titer_time 0.005014 (0.008661)\n",
      "Epoch 78/100\tIt 240/391\tloss 2.035589 (1.757167)\titer_time 0.004917 (0.008622)\n",
      "Epoch 78/100\tIt 280/391\tloss 1.966007 (1.757630)\titer_time 0.004886 (0.008637)\n",
      "Epoch 78/100\tIt 320/391\tloss 1.821940 (1.758008)\titer_time 0.004595 (0.008727)\n",
      "Epoch 78/100\tIt 360/391\tloss 1.786096 (1.761260)\titer_time 0.005089 (0.008671)\n"
     ]
    },
    {
     "name": "stderr",
     "output_type": "stream",
     "text": [
      " 79%|████████████████████████████████████████████████████████████████████████████████████████████████████████████▏                            | 79/100 [08:03<02:08,  6.13s/it]"
     ]
    },
    {
     "name": "stdout",
     "output_type": "stream",
     "text": [
      "Epoch 78/100\tval_acc 47.73%\n",
      "Epoch 79/100\tIt 0/391\tloss 1.696205 (1.696205)\titer_time 0.100097 (0.100097)\n",
      "Epoch 79/100\tIt 40/391\tloss 1.751060 (1.755573)\titer_time 0.005295 (0.010416)\n",
      "Epoch 79/100\tIt 80/391\tloss 2.064159 (1.752922)\titer_time 0.004721 (0.009455)\n",
      "Epoch 79/100\tIt 120/391\tloss 1.934685 (1.753333)\titer_time 0.004868 (0.008861)\n",
      "Epoch 79/100\tIt 160/391\tloss 1.565010 (1.751821)\titer_time 0.004932 (0.008862)\n",
      "Epoch 79/100\tIt 200/391\tloss 1.769614 (1.750715)\titer_time 0.004950 (0.008640)\n",
      "Epoch 79/100\tIt 240/391\tloss 1.744398 (1.744851)\titer_time 0.005315 (0.008562)\n",
      "Epoch 79/100\tIt 280/391\tloss 2.095904 (1.743439)\titer_time 0.004757 (0.008535)\n",
      "Epoch 79/100\tIt 320/391\tloss 1.967068 (1.752487)\titer_time 0.005230 (0.008408)\n",
      "Epoch 79/100\tIt 360/391\tloss 1.694836 (1.753280)\titer_time 0.005111 (0.008453)\n"
     ]
    },
    {
     "name": "stderr",
     "output_type": "stream",
     "text": [
      " 80%|█████████████████████████████████████████████████████████████████████████████████████████████████████████████▌                           | 80/100 [08:09<02:02,  6.11s/it]"
     ]
    },
    {
     "name": "stdout",
     "output_type": "stream",
     "text": [
      "Epoch 79/100\tval_acc 47.75%\n",
      "Epoch 80/100\tIt 0/391\tloss 1.830437 (1.830437)\titer_time 0.100051 (0.100051)\n",
      "Epoch 80/100\tIt 40/391\tloss 1.814490 (1.744032)\titer_time 0.005040 (0.010601)\n",
      "Epoch 80/100\tIt 80/391\tloss 1.879730 (1.735546)\titer_time 0.005008 (0.009210)\n",
      "Epoch 80/100\tIt 120/391\tloss 1.771593 (1.742542)\titer_time 0.004933 (0.008854)\n",
      "Epoch 80/100\tIt 160/391\tloss 1.707273 (1.754028)\titer_time 0.013244 (0.008537)\n",
      "Epoch 80/100\tIt 200/391\tloss 1.729086 (1.746948)\titer_time 0.005016 (0.008554)\n",
      "Epoch 80/100\tIt 240/391\tloss 1.822441 (1.748629)\titer_time 0.005158 (0.008329)\n",
      "Epoch 80/100\tIt 280/391\tloss 1.808683 (1.747061)\titer_time 0.005015 (0.008259)\n",
      "Epoch 80/100\tIt 320/391\tloss 1.575908 (1.745391)\titer_time 0.014040 (0.008263)\n",
      "Epoch 80/100\tIt 360/391\tloss 1.680839 (1.746538)\titer_time 0.006053 (0.008257)\n"
     ]
    },
    {
     "name": "stderr",
     "output_type": "stream",
     "text": [
      " 81%|██████████████████████████████████████████████████████████████████████████████████████████████████████████████▉                          | 81/100 [08:15<01:56,  6.13s/it]"
     ]
    },
    {
     "name": "stdout",
     "output_type": "stream",
     "text": [
      "Epoch 80/100\tval_acc 47.78%\n",
      "Epoch 81/100\tIt 0/391\tloss 1.764440 (1.764440)\titer_time 0.100397 (0.100397)\n",
      "Epoch 81/100\tIt 40/391\tloss 1.596240 (1.740805)\titer_time 0.005089 (0.010484)\n",
      "Epoch 81/100\tIt 80/391\tloss 1.862607 (1.744583)\titer_time 0.024083 (0.009397)\n",
      "Epoch 81/100\tIt 120/391\tloss 1.572862 (1.735555)\titer_time 0.004913 (0.008908)\n",
      "Epoch 81/100\tIt 160/391\tloss 1.522071 (1.742383)\titer_time 0.005020 (0.008792)\n",
      "Epoch 81/100\tIt 200/391\tloss 1.865282 (1.742125)\titer_time 0.022084 (0.008673)\n",
      "Epoch 81/100\tIt 240/391\tloss 1.983284 (1.747221)\titer_time 0.004958 (0.008527)\n",
      "Epoch 81/100\tIt 280/391\tloss 1.680806 (1.747289)\titer_time 0.004949 (0.008504)\n",
      "Epoch 81/100\tIt 320/391\tloss 1.701261 (1.750311)\titer_time 0.022334 (0.008464)\n",
      "Epoch 81/100\tIt 360/391\tloss 1.812006 (1.749738)\titer_time 0.004873 (0.008381)\n"
     ]
    },
    {
     "name": "stderr",
     "output_type": "stream",
     "text": [
      " 82%|████████████████████████████████████████████████████████████████████████████████████████████████████████████████▎                        | 82/100 [08:21<01:50,  6.14s/it]"
     ]
    },
    {
     "name": "stdout",
     "output_type": "stream",
     "text": [
      "Epoch 81/100\tval_acc 47.79%\n",
      "Epoch 82/100\tIt 0/391\tloss 1.819747 (1.819747)\titer_time 0.098746 (0.098746)\n",
      "Epoch 82/100\tIt 40/391\tloss 1.887782 (1.801486)\titer_time 0.005020 (0.010662)\n",
      "Epoch 82/100\tIt 80/391\tloss 1.789784 (1.773142)\titer_time 0.004969 (0.009342)\n",
      "Epoch 82/100\tIt 120/391\tloss 1.715843 (1.768437)\titer_time 0.004876 (0.008896)\n",
      "Epoch 82/100\tIt 160/391\tloss 1.769230 (1.768889)\titer_time 0.005256 (0.008556)\n",
      "Epoch 82/100\tIt 200/391\tloss 1.685600 (1.761009)\titer_time 0.005000 (0.008493)\n",
      "Epoch 82/100\tIt 240/391\tloss 1.669668 (1.760697)\titer_time 0.006648 (0.008368)\n",
      "Epoch 82/100\tIt 280/391\tloss 1.633539 (1.757915)\titer_time 0.004946 (0.008310)\n",
      "Epoch 82/100\tIt 320/391\tloss 1.652514 (1.755783)\titer_time 0.004583 (0.008327)\n",
      "Epoch 82/100\tIt 360/391\tloss 1.747307 (1.758435)\titer_time 0.014317 (0.008301)\n"
     ]
    },
    {
     "name": "stderr",
     "output_type": "stream",
     "text": [
      " 83%|█████████████████████████████████████████████████████████████████████████████████████████████████████████████████▋                       | 83/100 [08:27<01:43,  6.09s/it]"
     ]
    },
    {
     "name": "stdout",
     "output_type": "stream",
     "text": [
      "Epoch 82/100\tval_acc 47.78%\n",
      "Epoch 83/100\tIt 0/391\tloss 1.703573 (1.703573)\titer_time 0.118358 (0.118358)\n",
      "Epoch 83/100\tIt 40/391\tloss 1.693951 (1.733440)\titer_time 0.005231 (0.010632)\n",
      "Epoch 83/100\tIt 80/391\tloss 1.952748 (1.760464)\titer_time 0.024723 (0.009790)\n",
      "Epoch 83/100\tIt 120/391\tloss 1.596171 (1.750581)\titer_time 0.005058 (0.009268)\n",
      "Epoch 83/100\tIt 160/391\tloss 1.666983 (1.751479)\titer_time 0.004898 (0.009158)\n",
      "Epoch 83/100\tIt 200/391\tloss 1.754751 (1.750855)\titer_time 0.030384 (0.009211)\n",
      "Epoch 83/100\tIt 240/391\tloss 1.914221 (1.748418)\titer_time 0.004979 (0.008963)\n",
      "Epoch 83/100\tIt 280/391\tloss 1.606160 (1.745065)\titer_time 0.005436 (0.008860)\n",
      "Epoch 83/100\tIt 320/391\tloss 1.653176 (1.746819)\titer_time 0.020841 (0.008684)\n",
      "Epoch 83/100\tIt 360/391\tloss 1.794048 (1.746322)\titer_time 0.005398 (0.008602)\n"
     ]
    },
    {
     "name": "stderr",
     "output_type": "stream",
     "text": [
      " 84%|███████████████████████████████████████████████████████████████████████████████████████████████████████████████████                      | 84/100 [08:33<01:37,  6.09s/it]"
     ]
    },
    {
     "name": "stdout",
     "output_type": "stream",
     "text": [
      "Epoch 83/100\tval_acc 47.75%\n",
      "Epoch 84/100\tIt 0/391\tloss 1.831688 (1.831688)\titer_time 0.118477 (0.118477)\n",
      "Epoch 84/100\tIt 40/391\tloss 1.919400 (1.764597)\titer_time 0.004928 (0.010709)\n",
      "Epoch 84/100\tIt 80/391\tloss 2.053848 (1.754373)\titer_time 0.013811 (0.009284)\n",
      "Epoch 84/100\tIt 120/391\tloss 1.869560 (1.753298)\titer_time 0.004972 (0.008816)\n",
      "Epoch 84/100\tIt 160/391\tloss 1.747240 (1.747582)\titer_time 0.004845 (0.008687)\n",
      "Epoch 84/100\tIt 200/391\tloss 1.506332 (1.746240)\titer_time 0.004989 (0.008566)\n",
      "Epoch 84/100\tIt 240/391\tloss 1.788028 (1.750988)\titer_time 0.004967 (0.008469)\n",
      "Epoch 84/100\tIt 280/391\tloss 1.887140 (1.751265)\titer_time 0.015932 (0.008391)\n",
      "Epoch 84/100\tIt 320/391\tloss 1.724412 (1.753276)\titer_time 0.004882 (0.008342)\n",
      "Epoch 84/100\tIt 360/391\tloss 1.598081 (1.754420)\titer_time 0.004951 (0.008296)\n"
     ]
    },
    {
     "name": "stderr",
     "output_type": "stream",
     "text": [
      " 85%|████████████████████████████████████████████████████████████████████████████████████████████████████████████████████▍                    | 85/100 [08:40<01:31,  6.09s/it]"
     ]
    },
    {
     "name": "stdout",
     "output_type": "stream",
     "text": [
      "Epoch 84/100\tval_acc 47.81%\n",
      "Epoch 85/100\tIt 0/391\tloss 1.814668 (1.814668)\titer_time 0.102720 (0.102720)\n",
      "Epoch 85/100\tIt 40/391\tloss 1.931342 (1.739076)\titer_time 0.012767 (0.011304)\n",
      "Epoch 85/100\tIt 80/391\tloss 1.881730 (1.753180)\titer_time 0.005298 (0.009791)\n",
      "Epoch 85/100\tIt 120/391\tloss 1.631312 (1.745885)\titer_time 0.018437 (0.009062)\n",
      "Epoch 85/100\tIt 160/391\tloss 1.761111 (1.751388)\titer_time 0.005132 (0.008895)\n",
      "Epoch 85/100\tIt 200/391\tloss 1.606887 (1.747916)\titer_time 0.005077 (0.008752)\n",
      "Epoch 85/100\tIt 240/391\tloss 1.566864 (1.745931)\titer_time 0.004988 (0.008601)\n",
      "Epoch 85/100\tIt 280/391\tloss 1.875002 (1.745323)\titer_time 0.021682 (0.008612)\n",
      "Epoch 85/100\tIt 320/391\tloss 1.588818 (1.746218)\titer_time 0.004842 (0.008501)\n",
      "Epoch 85/100\tIt 360/391\tloss 1.655307 (1.745878)\titer_time 0.014996 (0.008441)\n"
     ]
    },
    {
     "name": "stderr",
     "output_type": "stream",
     "text": [
      " 86%|█████████████████████████████████████████████████████████████████████████████████████████████████████████████████████▊                   | 86/100 [08:46<01:25,  6.11s/it]"
     ]
    },
    {
     "name": "stdout",
     "output_type": "stream",
     "text": [
      "Epoch 85/100\tval_acc 47.81%\n",
      "Epoch 86/100\tIt 0/391\tloss 1.642542 (1.642542)\titer_time 0.099639 (0.099639)\n",
      "Epoch 86/100\tIt 40/391\tloss 1.467611 (1.766251)\titer_time 0.004987 (0.011000)\n",
      "Epoch 86/100\tIt 80/391\tloss 1.465467 (1.737634)\titer_time 0.005007 (0.009571)\n",
      "Epoch 86/100\tIt 120/391\tloss 1.688182 (1.737240)\titer_time 0.005174 (0.009091)\n",
      "Epoch 86/100\tIt 160/391\tloss 1.633053 (1.737352)\titer_time 0.026659 (0.008956)\n",
      "Epoch 86/100\tIt 200/391\tloss 1.999653 (1.739186)\titer_time 0.004872 (0.008695)\n",
      "Epoch 86/100\tIt 240/391\tloss 1.750374 (1.737980)\titer_time 0.004798 (0.008628)\n",
      "Epoch 86/100\tIt 280/391\tloss 1.764110 (1.741666)\titer_time 0.005019 (0.008633)\n",
      "Epoch 86/100\tIt 320/391\tloss 1.585968 (1.741894)\titer_time 0.004992 (0.008569)\n",
      "Epoch 86/100\tIt 360/391\tloss 1.320832 (1.740414)\titer_time 0.019240 (0.008500)\n"
     ]
    },
    {
     "name": "stderr",
     "output_type": "stream",
     "text": [
      " 87%|███████████████████████████████████████████████████████████████████████████████████████████████████████████████████████▏                 | 87/100 [08:52<01:19,  6.11s/it]"
     ]
    },
    {
     "name": "stdout",
     "output_type": "stream",
     "text": [
      "Epoch 86/100\tval_acc 47.81%\n",
      "Epoch 87/100\tIt 0/391\tloss 2.102016 (2.102016)\titer_time 0.117318 (0.117318)\n",
      "Epoch 87/100\tIt 40/391\tloss 1.785812 (1.782853)\titer_time 0.005374 (0.011061)\n",
      "Epoch 87/100\tIt 80/391\tloss 2.039776 (1.764572)\titer_time 0.031062 (0.009882)\n",
      "Epoch 87/100\tIt 120/391\tloss 1.849432 (1.757467)\titer_time 0.005023 (0.009382)\n",
      "Epoch 87/100\tIt 160/391\tloss 1.749569 (1.760205)\titer_time 0.004984 (0.008991)\n",
      "Epoch 87/100\tIt 200/391\tloss 1.868784 (1.757543)\titer_time 0.021111 (0.008804)\n",
      "Epoch 87/100\tIt 240/391\tloss 1.762970 (1.753905)\titer_time 0.004958 (0.008628)\n",
      "Epoch 87/100\tIt 280/391\tloss 1.678382 (1.748544)\titer_time 0.005090 (0.008730)\n",
      "Epoch 87/100\tIt 320/391\tloss 1.969018 (1.751640)\titer_time 0.014950 (0.008627)\n",
      "Epoch 87/100\tIt 360/391\tloss 1.607926 (1.750736)\titer_time 0.005185 (0.008497)\n"
     ]
    },
    {
     "name": "stderr",
     "output_type": "stream",
     "text": [
      " 88%|████████████████████████████████████████████████████████████████████████████████████████████████████████████████████████▌                | 88/100 [08:58<01:13,  6.12s/it]"
     ]
    },
    {
     "name": "stdout",
     "output_type": "stream",
     "text": [
      "Epoch 87/100\tval_acc 47.83%\n",
      "Epoch 88/100\tIt 0/391\tloss 1.880148 (1.880148)\titer_time 0.113441 (0.113441)\n",
      "Epoch 88/100\tIt 40/391\tloss 1.393523 (1.717215)\titer_time 0.004958 (0.011363)\n",
      "Epoch 88/100\tIt 80/391\tloss 1.875729 (1.761956)\titer_time 0.005032 (0.009540)\n",
      "Epoch 88/100\tIt 120/391\tloss 1.831377 (1.755502)\titer_time 0.004673 (0.009396)\n",
      "Epoch 88/100\tIt 160/391\tloss 1.403335 (1.749009)\titer_time 0.004618 (0.009174)\n",
      "Epoch 88/100\tIt 200/391\tloss 1.722147 (1.755588)\titer_time 0.005185 (0.009063)\n",
      "Epoch 88/100\tIt 240/391\tloss 1.801977 (1.752672)\titer_time 0.005002 (0.008904)\n",
      "Epoch 88/100\tIt 280/391\tloss 1.709504 (1.749240)\titer_time 0.005300 (0.008722)\n",
      "Epoch 88/100\tIt 320/391\tloss 1.492226 (1.745435)\titer_time 0.004926 (0.008600)\n",
      "Epoch 88/100\tIt 360/391\tloss 2.028992 (1.746081)\titer_time 0.005340 (0.008532)\n"
     ]
    },
    {
     "name": "stderr",
     "output_type": "stream",
     "text": [
      " 89%|█████████████████████████████████████████████████████████████████████████████████████████████████████████████████████████▉               | 89/100 [09:04<01:07,  6.11s/it]"
     ]
    },
    {
     "name": "stdout",
     "output_type": "stream",
     "text": [
      "Epoch 88/100\tval_acc 47.83%\n",
      "Epoch 89/100\tIt 0/391\tloss 1.838662 (1.838662)\titer_time 0.097649 (0.097649)\n",
      "Epoch 89/100\tIt 40/391\tloss 1.683396 (1.771283)\titer_time 0.005180 (0.010956)\n",
      "Epoch 89/100\tIt 80/391\tloss 1.773976 (1.735135)\titer_time 0.004973 (0.009610)\n",
      "Epoch 89/100\tIt 120/391\tloss 1.752469 (1.734968)\titer_time 0.005018 (0.008948)\n",
      "Epoch 89/100\tIt 160/391\tloss 1.857284 (1.732923)\titer_time 0.004989 (0.008819)\n",
      "Epoch 89/100\tIt 200/391\tloss 1.640663 (1.734116)\titer_time 0.015296 (0.008653)\n",
      "Epoch 89/100\tIt 240/391\tloss 1.806554 (1.741840)\titer_time 0.005065 (0.008419)\n",
      "Epoch 89/100\tIt 280/391\tloss 1.881753 (1.741761)\titer_time 0.022093 (0.008411)\n",
      "Epoch 89/100\tIt 320/391\tloss 1.652166 (1.742445)\titer_time 0.005111 (0.008324)\n",
      "Epoch 89/100\tIt 360/391\tloss 1.811185 (1.741009)\titer_time 0.007492 (0.008272)\n"
     ]
    },
    {
     "name": "stderr",
     "output_type": "stream",
     "text": [
      " 90%|███████████████████████████████████████████████████████████████████████████████████████████████████████████████████████████▎             | 90/100 [09:10<01:00,  6.10s/it]"
     ]
    },
    {
     "name": "stdout",
     "output_type": "stream",
     "text": [
      "Epoch 89/100\tval_acc 47.82%\n",
      "Epoch 90/100\tIt 0/391\tloss 1.670792 (1.670792)\titer_time 0.117021 (0.117021)\n",
      "Epoch 90/100\tIt 40/391\tloss 1.424950 (1.717128)\titer_time 0.005090 (0.010629)\n",
      "Epoch 90/100\tIt 80/391\tloss 1.721587 (1.745282)\titer_time 0.010720 (0.009596)\n",
      "Epoch 90/100\tIt 120/391\tloss 1.886237 (1.750584)\titer_time 0.005075 (0.009141)\n",
      "Epoch 90/100\tIt 160/391\tloss 1.843877 (1.733727)\titer_time 0.004790 (0.009011)\n",
      "Epoch 90/100\tIt 200/391\tloss 1.865360 (1.737547)\titer_time 0.022158 (0.008815)\n",
      "Epoch 90/100\tIt 240/391\tloss 1.859219 (1.738685)\titer_time 0.005026 (0.008701)\n",
      "Epoch 90/100\tIt 280/391\tloss 1.866531 (1.748539)\titer_time 0.005145 (0.008613)\n",
      "Epoch 90/100\tIt 320/391\tloss 1.707254 (1.742990)\titer_time 0.025836 (0.008580)\n",
      "Epoch 90/100\tIt 360/391\tloss 2.122715 (1.742901)\titer_time 0.004983 (0.008499)\n"
     ]
    },
    {
     "name": "stderr",
     "output_type": "stream",
     "text": [
      " 91%|████████████████████████████████████████████████████████████████████████████████████████████████████████████████████████████▋            | 91/100 [09:16<00:55,  6.13s/it]"
     ]
    },
    {
     "name": "stdout",
     "output_type": "stream",
     "text": [
      "Epoch 90/100\tval_acc 47.81%\n",
      "Epoch 91/100\tIt 0/391\tloss 1.555631 (1.555631)\titer_time 0.099833 (0.099833)\n",
      "Epoch 91/100\tIt 40/391\tloss 1.785741 (1.704379)\titer_time 0.005336 (0.010107)\n",
      "Epoch 91/100\tIt 80/391\tloss 1.600272 (1.734841)\titer_time 0.005379 (0.009202)\n",
      "Epoch 91/100\tIt 120/391\tloss 1.904362 (1.744716)\titer_time 0.004956 (0.008785)\n",
      "Epoch 91/100\tIt 160/391\tloss 2.075423 (1.746723)\titer_time 0.004952 (0.008657)\n",
      "Epoch 91/100\tIt 200/391\tloss 1.727503 (1.746742)\titer_time 0.026529 (0.008659)\n",
      "Epoch 91/100\tIt 240/391\tloss 1.503870 (1.743287)\titer_time 0.004950 (0.008454)\n",
      "Epoch 91/100\tIt 280/391\tloss 1.889093 (1.742674)\titer_time 0.004879 (0.008405)\n",
      "Epoch 91/100\tIt 320/391\tloss 1.801178 (1.744246)\titer_time 0.005263 (0.008379)\n",
      "Epoch 91/100\tIt 360/391\tloss 1.563684 (1.744279)\titer_time 0.004986 (0.008311)\n"
     ]
    },
    {
     "name": "stderr",
     "output_type": "stream",
     "text": [
      " 92%|██████████████████████████████████████████████████████████████████████████████████████████████████████████████████████████████           | 92/100 [09:22<00:48,  6.08s/it]"
     ]
    },
    {
     "name": "stdout",
     "output_type": "stream",
     "text": [
      "Epoch 91/100\tval_acc 47.82%\n",
      "Epoch 92/100\tIt 0/391\tloss 1.501301 (1.501301)\titer_time 0.098836 (0.098836)\n",
      "Epoch 92/100\tIt 40/391\tloss 1.487405 (1.774033)\titer_time 0.008923 (0.010323)\n",
      "Epoch 92/100\tIt 80/391\tloss 1.768227 (1.768980)\titer_time 0.004979 (0.009430)\n",
      "Epoch 92/100\tIt 120/391\tloss 1.631948 (1.763509)\titer_time 0.005231 (0.008932)\n",
      "Epoch 92/100\tIt 160/391\tloss 1.653540 (1.765141)\titer_time 0.005209 (0.008626)\n",
      "Epoch 92/100\tIt 200/391\tloss 1.733730 (1.758185)\titer_time 0.021108 (0.008563)\n",
      "Epoch 92/100\tIt 240/391\tloss 2.042485 (1.752150)\titer_time 0.005179 (0.008413)\n",
      "Epoch 92/100\tIt 280/391\tloss 1.826892 (1.751338)\titer_time 0.005018 (0.008387)\n",
      "Epoch 92/100\tIt 320/391\tloss 1.618888 (1.750490)\titer_time 0.010876 (0.008362)\n",
      "Epoch 92/100\tIt 360/391\tloss 1.541025 (1.750007)\titer_time 0.024644 (0.008360)\n"
     ]
    },
    {
     "name": "stderr",
     "output_type": "stream",
     "text": [
      " 93%|███████████████████████████████████████████████████████████████████████████████████████████████████████████████████████████████▍         | 93/100 [09:28<00:42,  6.07s/it]"
     ]
    },
    {
     "name": "stdout",
     "output_type": "stream",
     "text": [
      "Epoch 92/100\tval_acc 47.83%\n",
      "Epoch 93/100\tIt 0/391\tloss 1.588773 (1.588773)\titer_time 0.118630 (0.118630)\n",
      "Epoch 93/100\tIt 40/391\tloss 1.620669 (1.714670)\titer_time 0.004966 (0.010443)\n",
      "Epoch 93/100\tIt 80/391\tloss 1.535031 (1.732240)\titer_time 0.005187 (0.009215)\n",
      "Epoch 93/100\tIt 120/391\tloss 1.617685 (1.730861)\titer_time 0.016861 (0.008813)\n",
      "Epoch 93/100\tIt 160/391\tloss 1.892108 (1.739982)\titer_time 0.004913 (0.008613)\n",
      "Epoch 93/100\tIt 200/391\tloss 1.721577 (1.736419)\titer_time 0.017177 (0.008394)\n",
      "Epoch 93/100\tIt 240/391\tloss 1.858511 (1.736608)\titer_time 0.005067 (0.008432)\n",
      "Epoch 93/100\tIt 280/391\tloss 1.882612 (1.744783)\titer_time 0.015805 (0.008321)\n",
      "Epoch 93/100\tIt 320/391\tloss 1.795012 (1.749050)\titer_time 0.017429 (0.008318)\n",
      "Epoch 93/100\tIt 360/391\tloss 1.933176 (1.744370)\titer_time 0.026670 (0.008226)\n"
     ]
    },
    {
     "name": "stderr",
     "output_type": "stream",
     "text": [
      " 94%|████████████████████████████████████████████████████████████████████████████████████████████████████████████████████████████████▊        | 94/100 [09:34<00:36,  6.06s/it]"
     ]
    },
    {
     "name": "stdout",
     "output_type": "stream",
     "text": [
      "Epoch 93/100\tval_acc 47.84%\n",
      "Epoch 94/100\tIt 0/391\tloss 1.772318 (1.772318)\titer_time 0.100950 (0.100950)\n",
      "Epoch 94/100\tIt 40/391\tloss 1.505851 (1.697029)\titer_time 0.004908 (0.011049)\n",
      "Epoch 94/100\tIt 80/391\tloss 1.842722 (1.714012)\titer_time 0.004855 (0.009527)\n",
      "Epoch 94/100\tIt 120/391\tloss 1.796767 (1.731426)\titer_time 0.005432 (0.009237)\n",
      "Epoch 94/100\tIt 160/391\tloss 1.689925 (1.733718)\titer_time 0.005007 (0.008888)\n",
      "Epoch 94/100\tIt 200/391\tloss 1.825818 (1.743474)\titer_time 0.005181 (0.008770)\n",
      "Epoch 94/100\tIt 240/391\tloss 1.638471 (1.739934)\titer_time 0.004817 (0.008694)\n",
      "Epoch 94/100\tIt 280/391\tloss 1.641376 (1.744506)\titer_time 0.004952 (0.008578)\n",
      "Epoch 94/100\tIt 320/391\tloss 1.982261 (1.746743)\titer_time 0.004909 (0.008531)\n",
      "Epoch 94/100\tIt 360/391\tloss 1.809827 (1.745319)\titer_time 0.004960 (0.008485)\n"
     ]
    },
    {
     "name": "stderr",
     "output_type": "stream",
     "text": [
      " 95%|██████████████████████████████████████████████████████████████████████████████████████████████████████████████████████████████████▏      | 95/100 [09:40<00:30,  6.06s/it]"
     ]
    },
    {
     "name": "stdout",
     "output_type": "stream",
     "text": [
      "Epoch 94/100\tval_acc 47.84%\n",
      "Epoch 95/100\tIt 0/391\tloss 1.474926 (1.474926)\titer_time 0.117714 (0.117714)\n",
      "Epoch 95/100\tIt 40/391\tloss 1.758602 (1.739017)\titer_time 0.005220 (0.010741)\n",
      "Epoch 95/100\tIt 80/391\tloss 1.818313 (1.732742)\titer_time 0.004980 (0.009416)\n",
      "Epoch 95/100\tIt 120/391\tloss 1.893392 (1.738710)\titer_time 0.004988 (0.009038)\n",
      "Epoch 95/100\tIt 160/391\tloss 1.833065 (1.742828)\titer_time 0.005362 (0.008877)\n",
      "Epoch 95/100\tIt 200/391\tloss 1.824673 (1.746767)\titer_time 0.004703 (0.008662)\n",
      "Epoch 95/100\tIt 240/391\tloss 1.627605 (1.749151)\titer_time 0.004736 (0.008513)\n",
      "Epoch 95/100\tIt 280/391\tloss 1.698728 (1.746487)\titer_time 0.004795 (0.008647)\n",
      "Epoch 95/100\tIt 320/391\tloss 1.767904 (1.747028)\titer_time 0.004940 (0.008488)\n",
      "Epoch 95/100\tIt 360/391\tloss 1.787534 (1.750145)\titer_time 0.004683 (0.008546)\n"
     ]
    },
    {
     "name": "stderr",
     "output_type": "stream",
     "text": [
      " 96%|███████████████████████████████████████████████████████████████████████████████████████████████████████████████████████████████████▌     | 96/100 [09:47<00:24,  6.07s/it]"
     ]
    },
    {
     "name": "stdout",
     "output_type": "stream",
     "text": [
      "Epoch 95/100\tval_acc 47.85%\n",
      "Epoch 96/100\tIt 0/391\tloss 1.556823 (1.556823)\titer_time 0.118380 (0.118380)\n",
      "Epoch 96/100\tIt 40/391\tloss 2.074423 (1.742876)\titer_time 0.005163 (0.010840)\n",
      "Epoch 96/100\tIt 80/391\tloss 1.516570 (1.739358)\titer_time 0.004953 (0.009151)\n",
      "Epoch 96/100\tIt 120/391\tloss 1.864884 (1.742655)\titer_time 0.004971 (0.008866)\n",
      "Epoch 96/100\tIt 160/391\tloss 1.662130 (1.745172)\titer_time 0.004988 (0.008596)\n",
      "Epoch 96/100\tIt 200/391\tloss 1.711417 (1.743056)\titer_time 0.005265 (0.008358)\n",
      "Epoch 96/100\tIt 240/391\tloss 1.599575 (1.744266)\titer_time 0.004987 (0.008263)\n",
      "Epoch 96/100\tIt 280/391\tloss 1.753150 (1.742803)\titer_time 0.005316 (0.008195)\n",
      "Epoch 96/100\tIt 320/391\tloss 1.663641 (1.746537)\titer_time 0.004882 (0.008264)\n",
      "Epoch 96/100\tIt 360/391\tloss 1.783911 (1.744973)\titer_time 0.005362 (0.008231)\n"
     ]
    },
    {
     "name": "stderr",
     "output_type": "stream",
     "text": [
      " 97%|████████████████████████████████████████████████████████████████████████████████████████████████████████████████████████████████████▉    | 97/100 [09:53<00:18,  6.08s/it]"
     ]
    },
    {
     "name": "stdout",
     "output_type": "stream",
     "text": [
      "Epoch 96/100\tval_acc 47.86%\n",
      "Epoch 97/100\tIt 0/391\tloss 1.422248 (1.422248)\titer_time 0.100762 (0.100762)\n",
      "Epoch 97/100\tIt 40/391\tloss 1.817909 (1.733642)\titer_time 0.004953 (0.010588)\n",
      "Epoch 97/100\tIt 80/391\tloss 1.926550 (1.736220)\titer_time 0.005285 (0.009481)\n",
      "Epoch 97/100\tIt 120/391\tloss 1.894310 (1.737776)\titer_time 0.004933 (0.008958)\n",
      "Epoch 97/100\tIt 160/391\tloss 1.808139 (1.732332)\titer_time 0.012165 (0.008642)\n",
      "Epoch 97/100\tIt 200/391\tloss 1.784652 (1.738060)\titer_time 0.005053 (0.008393)\n",
      "Epoch 97/100\tIt 240/391\tloss 1.804639 (1.745110)\titer_time 0.005108 (0.008307)\n",
      "Epoch 97/100\tIt 280/391\tloss 1.617455 (1.743530)\titer_time 0.005246 (0.008361)\n",
      "Epoch 97/100\tIt 320/391\tloss 1.629455 (1.738956)\titer_time 0.004946 (0.008288)\n",
      "Epoch 97/100\tIt 360/391\tloss 1.613332 (1.732348)\titer_time 0.025172 (0.008251)\n"
     ]
    },
    {
     "name": "stderr",
     "output_type": "stream",
     "text": [
      " 98%|██████████████████████████████████████████████████████████████████████████████████████████████████████████████████████████████████████▎  | 98/100 [09:59<00:12,  6.05s/it]"
     ]
    },
    {
     "name": "stdout",
     "output_type": "stream",
     "text": [
      "Epoch 97/100\tval_acc 47.84%\n",
      "Epoch 98/100\tIt 0/391\tloss 1.692616 (1.692616)\titer_time 0.100038 (0.100038)\n",
      "Epoch 98/100\tIt 40/391\tloss 2.076674 (1.748595)\titer_time 0.005013 (0.010117)\n",
      "Epoch 98/100\tIt 80/391\tloss 1.790367 (1.760427)\titer_time 0.005008 (0.009295)\n",
      "Epoch 98/100\tIt 120/391\tloss 1.577076 (1.750340)\titer_time 0.005146 (0.008710)\n",
      "Epoch 98/100\tIt 160/391\tloss 1.778699 (1.739570)\titer_time 0.005056 (0.008423)\n",
      "Epoch 98/100\tIt 200/391\tloss 1.690460 (1.741975)\titer_time 0.004978 (0.008404)\n",
      "Epoch 98/100\tIt 240/391\tloss 1.739845 (1.736997)\titer_time 0.004817 (0.008309)\n",
      "Epoch 98/100\tIt 280/391\tloss 1.721685 (1.739955)\titer_time 0.004850 (0.008433)\n",
      "Epoch 98/100\tIt 320/391\tloss 1.666591 (1.744621)\titer_time 0.004955 (0.008484)\n",
      "Epoch 98/100\tIt 360/391\tloss 1.931059 (1.744200)\titer_time 0.032913 (0.008608)\n"
     ]
    },
    {
     "name": "stderr",
     "output_type": "stream",
     "text": [
      " 99%|███████████████████████████████████████████████████████████████████████████████████████████████████████████████████████████████████████▋ | 99/100 [10:05<00:06,  6.08s/it]"
     ]
    },
    {
     "name": "stdout",
     "output_type": "stream",
     "text": [
      "Epoch 98/100\tval_acc 47.84%\n",
      "Epoch 99/100\tIt 0/391\tloss 1.605502 (1.605502)\titer_time 0.118343 (0.118343)\n",
      "Epoch 99/100\tIt 40/391\tloss 1.685499 (1.738668)\titer_time 0.005188 (0.011644)\n",
      "Epoch 99/100\tIt 80/391\tloss 1.598729 (1.760959)\titer_time 0.004999 (0.010268)\n",
      "Epoch 99/100\tIt 120/391\tloss 1.553457 (1.752099)\titer_time 0.020096 (0.009532)\n",
      "Epoch 99/100\tIt 160/391\tloss 1.728272 (1.758151)\titer_time 0.004851 (0.009234)\n",
      "Epoch 99/100\tIt 200/391\tloss 1.560333 (1.753113)\titer_time 0.004815 (0.008991)\n",
      "Epoch 99/100\tIt 240/391\tloss 1.898610 (1.750765)\titer_time 0.004934 (0.008867)\n",
      "Epoch 99/100\tIt 280/391\tloss 1.786513 (1.746032)\titer_time 0.004962 (0.008789)\n",
      "Epoch 99/100\tIt 320/391\tloss 1.479509 (1.745728)\titer_time 0.004622 (0.008773)\n",
      "Epoch 99/100\tIt 360/391\tloss 1.597241 (1.748891)\titer_time 0.004755 (0.008712)\n"
     ]
    },
    {
     "name": "stderr",
     "output_type": "stream",
     "text": [
      "100%|████████████████████████████████████████████████████████████████████████████████████████████████████████████████████████████████████████| 100/100 [10:11<00:00,  6.11s/it]"
     ]
    },
    {
     "name": "stdout",
     "output_type": "stream",
     "text": [
      "Epoch 99/100\tval_acc 47.83%\n",
      "Best validation accuracy 0.47864\n"
     ]
    },
    {
     "name": "stderr",
     "output_type": "stream",
     "text": [
      "\n"
     ]
    }
   ],
   "source": [
    "opt = parse_option()\n",
    "\n",
    "opt.gpu=opt.gpus[0]\n",
    "torch.cuda.set_device(opt.gpus[0])\n",
    "torch.backends.cudnn.deterministic = True\n",
    "torch.backends.cudnn.benchmark = True\n",
    "\n",
    "encoder.eval()\n",
    "train_loader, val_loader = get_data_loaders(opt)\n",
    "\n",
    "with torch.no_grad():\n",
    "    sample, _ = train_loader.dataset.dataset[0]\n",
    "    eval_numel = encoder(sample.unsqueeze(0).to(opt.gpus[0]), layer_index=opt.layer_index).numel()\n",
    "print(f'Feature dimension: {eval_numel}')\n",
    "\n",
    "\n",
    "classifier = nn.Linear(eval_numel, 100).to(opt.gpus[0]) if not USE_MOD_LBL else nn.Linear( eval_numel + len(labels_2_keep) + 1,100).to(opt.gpus[0])\n",
    "\n",
    "optim = torch.optim.Adam(classifier.parameters(), lr=opt.lr, betas=(0.5, 0.999))\n",
    "val_accs = []\n",
    "loss_meter = AverageMeter('loss')\n",
    "it_time_meter = AverageMeter('iter_time')\n",
    "for epoch in tqdm(range(opt.epochs)):\n",
    "    loss_meter.reset()\n",
    "    it_time_meter.reset()\n",
    "    t0 = time.time()\n",
    "    for ii, (images, labels_mod, labels) in enumerate(train_loader):\n",
    "        optim.zero_grad()\n",
    "        with torch.no_grad():\n",
    "            feats = encoder(images.to(opt.gpus[0]), layer_index=opt.layer_index).flatten(1)\n",
    "\n",
    "        if USE_MOD_LBL:\n",
    "            logits = classifier(torch.cat( (feats, torch.nn.functional.one_hot(labels_mod.to(opt.gpus[0]), num_classes=len(labels_2_keep)+1 )),dim=1))\n",
    "        else:\n",
    "            logits = classifier(feats)\n",
    "        \n",
    "        loss = F.cross_entropy(logits, labels.to(opt.gpus[0]))\n",
    "        loss_meter.update(loss, images.shape[0])\n",
    "        loss.backward()\n",
    "        optim.step()\n",
    "        it_time_meter.update(time.time() - t0)\n",
    "        if ii % opt.log_interval == 0:\n",
    "            print(f\"Epoch {epoch}/{opt.epochs}\\tIt {ii}/{len(train_loader)}\\t{loss_meter}\\t{it_time_meter}\")\n",
    "        t0 = time.time()\n",
    "    val_acc = validate_comb(opt,encoder,classifier,val_loader) if USE_MOD_LBL else validate(opt, encoder, classifier, val_loader) \n",
    "    val_accs.append(val_acc)\n",
    "    print(f\"Epoch {epoch}/{opt.epochs}\\tval_acc {val_acc*100:.4g}%\")\n",
    "print(f\"Best validation accuracy {max(val_accs)}\")"
   ]
  },
  {
   "cell_type": "code",
   "execution_count": null,
   "id": "1517052b-c1c3-4859-ae38-0754015ba0fb",
   "metadata": {},
   "outputs": [],
   "source": []
  }
 ],
 "metadata": {
  "kernelspec": {
   "display_name": "usmatching_env",
   "language": "python",
   "name": "usmatching_env"
  },
  "language_info": {
   "codemirror_mode": {
    "name": "ipython",
    "version": 3
   },
   "file_extension": ".py",
   "mimetype": "text/x-python",
   "name": "python",
   "nbconvert_exporter": "python",
   "pygments_lexer": "ipython3",
   "version": "3.9.18"
  }
 },
 "nbformat": 4,
 "nbformat_minor": 5
}
