{
 "cells": [
  {
   "cell_type": "code",
   "execution_count": 3,
   "id": "b222518e-b8d4-44f7-8759-e74ef01e414c",
   "metadata": {},
   "outputs": [],
   "source": [
    "import os\n",
    "import time\n",
    "import argparse\n",
    "\n",
    "import torchvision\n",
    "import torch\n",
    "import torch.nn as nn\n",
    "\n",
    "from util import AverageMeter\n",
    "from encoder import SmallAlexNetLbls\n",
    "from align_uniform import align_loss, uniform_loss_prelog\n",
    "from tqdm import tqdm\n",
    "from collections import defaultdict\n",
    "import copy\n",
    "\n",
    "import matplotlib.pyplot as plt\n",
    "\n",
    "\n",
    "class TwoAugUnsupervisedDatasetLbl(torch.utils.data.Dataset):\n",
    "    r\"\"\"Returns two augmentation and no labels.\"\"\"\n",
    "\n",
    "    def __init__(self, dataset, transform, lblmap=None):\n",
    "        self.dataset = dataset\n",
    "        self.transform = transform\n",
    "        self.lblmap = copy.deepcopy(lblmap)\n",
    "\n",
    "    def __getitem__(self, index):\n",
    "        image, lbl = self.dataset[index]\n",
    "        lbl2return = lbl if self.lblmap is None else self.lblmap[lbl]\n",
    "        return self.transform(image), self.transform(image), lbl2return\n",
    "\n",
    "    def __len__(self):\n",
    "        return len(self.dataset)\n",
    "\n",
    "def parse_option():\n",
    "    parser = argparse.ArgumentParser('STL-10 Representation Learning with Alignment and Uniformity Losses')\n",
    "\n",
    "    parser.add_argument('--align_w', type=float, default=1, help='Alignment loss weight')\n",
    "    parser.add_argument('--unif_w', type=float, default=1, help='Uniformity loss weight')\n",
    "    parser.add_argument('--align_alpha', type=float, default=2, help='alpha in alignment loss')\n",
    "    parser.add_argument('--unif_t', type=float, default=2, help='t in uniformity loss')\n",
    "\n",
    "    parser.add_argument('--batch_size', type=int, default=256, help='Batch size')\n",
    "    parser.add_argument('--epochs', type=int, default=300, help='Number of training epochs')\n",
    "    parser.add_argument('--iter', type=int, default=0, help='Number of training epochs')\n",
    "    parser.add_argument('--lr', type=float, default=None,\n",
    "                        help='Learning rate. Default is linear scaling 0.12 per 256 batch size')\n",
    "    parser.add_argument('--lr_decay_rate', type=float, default=0.1, help='Learning rate decay rate')\n",
    "    parser.add_argument('--lr_decay_epochs', default=[155, 170, 185], nargs='*', type=int,\n",
    "                        help='When to decay learning rate')\n",
    "    parser.add_argument('--momentum', type=float, default=0.9, help='SGD momentum')\n",
    "    parser.add_argument('--weight_decay', type=float, default=1e-4, help='L2 weight decay')\n",
    "    parser.add_argument('--feat_dim', type=int, default=128, help='Feature dimensionality')\n",
    "\n",
    "    parser.add_argument('--num_workers', type=int, default=4, help='Number of data loader workers to use')\n",
    "    parser.add_argument('--log_interval', type=int, default=40, help='Number of iterations between logs')\n",
    "    parser.add_argument('--gpus', default=[0], nargs='*', type=int,\n",
    "                        help='List of GPU indices to use, e.g., --gpus 0 1 2 3')\n",
    "\n",
    "    parser.add_argument('--data_folder', type=str, default='./data', help='Path to data')\n",
    "    parser.add_argument('--result_folder', type=str, default='./results', help='Base directory to save model')\n",
    "\n",
    "    opt = parser.parse_args(\"\")\n",
    "\n",
    "    if opt.lr is None:\n",
    "        opt.lr = 0.12 * (opt.batch_size / 256)\n",
    "\n",
    "    opt.gpus = list(map(lambda x: torch.device('cuda', x), opt.gpus))\n",
    "\n",
    "    opt.save_folder = os.path.join(\n",
    "        opt.result_folder,\n",
    "        f\"base_joint_256_{opt.epochs}_4_sideinformation_align{opt.align_w:g}alpha{opt.align_alpha:g}_unif{opt.unif_w:g}t{opt.unif_t:g}_iter{opt.iter}\"\n",
    "    )\n",
    "    os.makedirs(opt.save_folder, exist_ok=True)\n",
    "\n",
    "    return opt\n",
    "\n",
    "\n",
    "opt = parse_option()"
   ]
  },
  {
   "cell_type": "code",
   "execution_count": 4,
   "id": "d516e1e3-c712-47e8-8915-724ce21f0f38",
   "metadata": {},
   "outputs": [],
   "source": [
    "transform = torchvision.transforms.Compose([\n",
    "        torchvision.transforms.RandomResizedCrop(64, scale=(0.08, 1)),\n",
    "        torchvision.transforms.RandomHorizontalFlip(),\n",
    "        torchvision.transforms.ColorJitter(0.4, 0.4, 0.4, 0.4),\n",
    "        torchvision.transforms.RandomGrayscale(p=0.2),\n",
    "        torchvision.transforms.ToTensor(),\n",
    "        torchvision.transforms.Normalize(\n",
    "            (0.44087801806139126, 0.42790631331699347, 0.3867879370752931),\n",
    "            (0.26826768628079806, 0.2610450402318512, 0.26866836876860795),\n",
    "        ),\n",
    "    ])\n",
    "\n",
    "old_lbls = list(range(10))\n",
    "labels_2_keep = [0,1]\n",
    "\n",
    "old2new = {}\n",
    "count = 0\n",
    "for old_lbl in old_lbls:\n",
    "    if old_lbl in labels_2_keep: \n",
    "        old2new[old_lbl] = count\n",
    "        count += 1\n",
    "\n",
    "for old_lbl in old_lbls:\n",
    "    if old_lbl not in labels_2_keep: \n",
    "        old2new[old_lbl] = count\n",
    "\n",
    "new_lbls = list(range(count+1))"
   ]
  },
  {
   "cell_type": "code",
   "execution_count": 5,
   "id": "b4684a20-031f-4429-92e1-dafa88697d6a",
   "metadata": {},
   "outputs": [
    {
     "ename": "NameError",
     "evalue": "name 'lbl_one_hot' is not defined",
     "output_type": "error",
     "traceback": [
      "\u001b[0;31m---------------------------------------------------------------------------\u001b[0m",
      "\u001b[0;31mNameError\u001b[0m                                 Traceback (most recent call last)",
      "Input \u001b[0;32mIn [5]\u001b[0m, in \u001b[0;36m<cell line: 1>\u001b[0;34m()\u001b[0m\n\u001b[0;32m----> 1\u001b[0m \u001b[43mlbl_one_hot\u001b[49m\u001b[38;5;241m.\u001b[39mshape\n",
      "\u001b[0;31mNameError\u001b[0m: name 'lbl_one_hot' is not defined"
     ]
    }
   ],
   "source": [
    "lbl_one_hot.shape"
   ]
  },
  {
   "cell_type": "code",
   "execution_count": null,
   "id": "af4137b3-08d9-4ac0-9363-b245aef652a4",
   "metadata": {},
   "outputs": [],
   "source": [
    "torch.cat([im_x.to(opt.gpus[0]), im_y.to(opt.gpus[0])]).shape"
   ]
  },
  {
   "cell_type": "code",
   "execution_count": 6,
   "id": "da97cad4-1401-46e3-96c9-aad3f6fbedff",
   "metadata": {},
   "outputs": [
    {
     "name": "stdout",
     "output_type": "stream",
     "text": [
      "Optimize: 1 * loss_align(alpha=2) + 1 * loss_uniform(t=2)\n",
      "Files already downloaded and verified\n",
      "Epoch 0/300\tIt 0/20\talign_loss 1.184173 (1.184173)\tuniform_loss -2.479436 (-2.479436)\ttotal_loss -1.295263 (-1.295263)\titer_time 7.916977 (7.916977)\n",
      "Epoch 1/300\tIt 0/20\talign_loss 1.373172 (1.373172)\tuniform_loss -3.479840 (-3.479840)\ttotal_loss -2.106668 (-2.106668)\titer_time 0.657442 (0.657442)\n",
      "Epoch 2/300\tIt 0/20\talign_loss 1.223088 (1.223088)\tuniform_loss -3.494987 (-3.494987)\ttotal_loss -2.271898 (-2.271898)\titer_time 0.648514 (0.648514)\n",
      "Epoch 3/300\tIt 0/20\talign_loss 1.146487 (1.146487)\tuniform_loss -3.549249 (-3.549249)\ttotal_loss -2.402762 (-2.402762)\titer_time 0.668317 (0.668317)\n",
      "Epoch 4/300\tIt 0/20\talign_loss 1.119925 (1.119925)\tuniform_loss -3.576893 (-3.576893)\ttotal_loss -2.456969 (-2.456969)\titer_time 0.647234 (0.647234)\n",
      "Epoch 5/300\tIt 0/20\talign_loss 1.108054 (1.108054)\tuniform_loss -3.582218 (-3.582218)\ttotal_loss -2.474164 (-2.474164)\titer_time 0.709203 (0.709203)\n",
      "Epoch 6/300\tIt 0/20\talign_loss 1.082480 (1.082480)\tuniform_loss -3.590740 (-3.590740)\ttotal_loss -2.508260 (-2.508260)\titer_time 0.663518 (0.663518)\n",
      "Epoch 7/300\tIt 0/20\talign_loss 1.087047 (1.087047)\tuniform_loss -3.626672 (-3.626672)\ttotal_loss -2.539625 (-2.539625)\titer_time 0.648016 (0.648016)\n",
      "Epoch 8/300\tIt 0/20\talign_loss 0.950145 (0.950145)\tuniform_loss -3.609920 (-3.609920)\ttotal_loss -2.659775 (-2.659775)\titer_time 0.668995 (0.668995)\n",
      "Epoch 9/300\tIt 0/20\talign_loss 1.092366 (1.092366)\tuniform_loss -3.619437 (-3.619437)\ttotal_loss -2.527071 (-2.527071)\titer_time 0.646038 (0.646038)\n",
      "Epoch 10/300\tIt 0/20\talign_loss 1.012482 (1.012482)\tuniform_loss -3.629701 (-3.629701)\ttotal_loss -2.617219 (-2.617219)\titer_time 0.647084 (0.647084)\n",
      "Epoch 11/300\tIt 0/20\talign_loss 0.895407 (0.895407)\tuniform_loss -3.636376 (-3.636376)\ttotal_loss -2.740969 (-2.740969)\titer_time 0.674302 (0.674302)\n",
      "Epoch 12/300\tIt 0/20\talign_loss 0.871944 (0.871944)\tuniform_loss -3.640817 (-3.640817)\ttotal_loss -2.768873 (-2.768873)\titer_time 0.645514 (0.645514)\n",
      "Epoch 13/300\tIt 0/20\talign_loss 0.899358 (0.899358)\tuniform_loss -3.609302 (-3.609302)\ttotal_loss -2.709944 (-2.709944)\titer_time 0.662120 (0.662120)\n",
      "Epoch 14/300\tIt 0/20\talign_loss 0.844792 (0.844792)\tuniform_loss -3.634426 (-3.634426)\ttotal_loss -2.789634 (-2.789634)\titer_time 0.663980 (0.663980)\n",
      "Epoch 15/300\tIt 0/20\talign_loss 0.911870 (0.911870)\tuniform_loss -3.632284 (-3.632284)\ttotal_loss -2.720413 (-2.720413)\titer_time 0.653892 (0.653892)\n",
      "Epoch 16/300\tIt 0/20\talign_loss 0.842682 (0.842682)\tuniform_loss -3.639117 (-3.639117)\ttotal_loss -2.796435 (-2.796435)\titer_time 0.669685 (0.669685)\n",
      "Epoch 17/300\tIt 0/20\talign_loss 0.848911 (0.848911)\tuniform_loss -3.634910 (-3.634910)\ttotal_loss -2.786000 (-2.786000)\titer_time 0.654167 (0.654167)\n",
      "Epoch 18/300\tIt 0/20\talign_loss 0.907757 (0.907757)\tuniform_loss -3.647769 (-3.647769)\ttotal_loss -2.740013 (-2.740013)\titer_time 0.673334 (0.673334)\n",
      "Epoch 19/300\tIt 0/20\talign_loss 0.860819 (0.860819)\tuniform_loss -3.653543 (-3.653543)\ttotal_loss -2.792724 (-2.792724)\titer_time 0.665852 (0.665852)\n",
      "Epoch 20/300\tIt 0/20\talign_loss 0.876587 (0.876587)\tuniform_loss -3.645567 (-3.645567)\ttotal_loss -2.768980 (-2.768980)\titer_time 0.645057 (0.645057)\n",
      "Epoch 21/300\tIt 0/20\talign_loss 0.846633 (0.846633)\tuniform_loss -3.655738 (-3.655738)\ttotal_loss -2.809105 (-2.809105)\titer_time 0.649821 (0.649821)\n",
      "Epoch 22/300\tIt 0/20\talign_loss 0.885019 (0.885019)\tuniform_loss -3.664556 (-3.664556)\ttotal_loss -2.779537 (-2.779537)\titer_time 0.674487 (0.674487)\n",
      "Epoch 23/300\tIt 0/20\talign_loss 0.832890 (0.832890)\tuniform_loss -3.671382 (-3.671382)\ttotal_loss -2.838493 (-2.838493)\titer_time 0.647246 (0.647246)\n",
      "Epoch 24/300\tIt 0/20\talign_loss 0.869556 (0.869556)\tuniform_loss -3.672118 (-3.672118)\ttotal_loss -2.802562 (-2.802562)\titer_time 0.676131 (0.676131)\n",
      "Epoch 25/300\tIt 0/20\talign_loss 0.838140 (0.838140)\tuniform_loss -3.662331 (-3.662331)\ttotal_loss -2.824191 (-2.824191)\titer_time 0.660247 (0.660247)\n",
      "Epoch 26/300\tIt 0/20\talign_loss 0.808393 (0.808393)\tuniform_loss -3.661128 (-3.661128)\ttotal_loss -2.852735 (-2.852735)\titer_time 0.655226 (0.655226)\n",
      "Epoch 27/300\tIt 0/20\talign_loss 0.776491 (0.776491)\tuniform_loss -3.664516 (-3.664516)\ttotal_loss -2.888025 (-2.888025)\titer_time 0.653833 (0.653833)\n",
      "Epoch 28/300\tIt 0/20\talign_loss 0.813536 (0.813536)\tuniform_loss -3.680917 (-3.680917)\ttotal_loss -2.867381 (-2.867381)\titer_time 0.659414 (0.659414)\n",
      "Epoch 50/300\tIt 0/20\talign_loss 0.697713 (0.697713)\tuniform_loss -3.685578 (-3.685578)\ttotal_loss -2.987865 (-2.987865)\titer_time 0.655343 (0.655343)\n",
      "Epoch 51/300\tIt 0/20\talign_loss 0.700680 (0.700680)\tuniform_loss -3.689329 (-3.689329)\ttotal_loss -2.988649 (-2.988649)\titer_time 0.661098 (0.661098)\n",
      "Epoch 52/300\tIt 0/20\talign_loss 0.689326 (0.689326)\tuniform_loss -3.687809 (-3.687809)\ttotal_loss -2.998483 (-2.998483)\titer_time 0.644638 (0.644638)\n",
      "Epoch 53/300\tIt 0/20\talign_loss 0.684561 (0.684561)\tuniform_loss -3.677365 (-3.677365)\ttotal_loss -2.992804 (-2.992804)\titer_time 0.663579 (0.663579)\n",
      "Epoch 54/300\tIt 0/20\talign_loss 0.735389 (0.735389)\tuniform_loss -3.702843 (-3.702843)\ttotal_loss -2.967454 (-2.967454)\titer_time 0.642940 (0.642940)\n",
      "Epoch 55/300\tIt 0/20\talign_loss 0.659899 (0.659899)\tuniform_loss -3.697317 (-3.697317)\ttotal_loss -3.037418 (-3.037418)\titer_time 0.659730 (0.659730)\n",
      "Epoch 56/300\tIt 0/20\talign_loss 0.700079 (0.700079)\tuniform_loss -3.686068 (-3.686068)\ttotal_loss -2.985988 (-2.985988)\titer_time 0.708806 (0.708806)\n",
      "Epoch 57/300\tIt 0/20\talign_loss 0.650202 (0.650202)\tuniform_loss -3.699540 (-3.699540)\ttotal_loss -3.049339 (-3.049339)\titer_time 0.645447 (0.645447)\n",
      "Epoch 58/300\tIt 0/20\talign_loss 0.690537 (0.690537)\tuniform_loss -3.697864 (-3.697864)\ttotal_loss -3.007327 (-3.007327)\titer_time 0.667237 (0.667237)\n",
      "Epoch 59/300\tIt 0/20\talign_loss 0.694131 (0.694131)\tuniform_loss -3.706243 (-3.706243)\ttotal_loss -3.012112 (-3.012112)\titer_time 0.668439 (0.668439)\n",
      "Epoch 60/300\tIt 0/20\talign_loss 0.698006 (0.698006)\tuniform_loss -3.712354 (-3.712354)\ttotal_loss -3.014348 (-3.014348)\titer_time 0.655086 (0.655086)\n",
      "Epoch 61/300\tIt 0/20\talign_loss 0.681242 (0.681242)\tuniform_loss -3.692054 (-3.692054)\ttotal_loss -3.010812 (-3.010812)\titer_time 0.668639 (0.668639)\n",
      "Epoch 62/300\tIt 0/20\talign_loss 0.707271 (0.707271)\tuniform_loss -3.701087 (-3.701087)\ttotal_loss -2.993817 (-2.993817)\titer_time 0.653330 (0.653330)\n",
      "Epoch 63/300\tIt 0/20\talign_loss 0.708780 (0.708780)\tuniform_loss -3.706667 (-3.706667)\ttotal_loss -2.997887 (-2.997887)\titer_time 0.672696 (0.672696)\n",
      "Epoch 64/300\tIt 0/20\talign_loss 0.677044 (0.677044)\tuniform_loss -3.687513 (-3.687513)\ttotal_loss -3.010469 (-3.010469)\titer_time 0.646359 (0.646359)\n",
      "Epoch 65/300\tIt 0/20\talign_loss 0.627005 (0.627005)\tuniform_loss -3.690680 (-3.690680)\ttotal_loss -3.063675 (-3.063675)\titer_time 0.646145 (0.646145)\n",
      "Epoch 66/300\tIt 0/20\talign_loss 0.726744 (0.726744)\tuniform_loss -3.713863 (-3.713863)\ttotal_loss -2.987119 (-2.987119)\titer_time 0.659547 (0.659547)\n",
      "Epoch 67/300\tIt 0/20\talign_loss 0.699052 (0.699052)\tuniform_loss -3.714079 (-3.714079)\ttotal_loss -3.015027 (-3.015027)\titer_time 0.665583 (0.665583)\n",
      "Epoch 68/300\tIt 0/20\talign_loss 0.632108 (0.632108)\tuniform_loss -3.684837 (-3.684837)\ttotal_loss -3.052728 (-3.052728)\titer_time 0.653280 (0.653280)\n",
      "Epoch 69/300\tIt 0/20\talign_loss 0.660934 (0.660934)\tuniform_loss -3.698617 (-3.698617)\ttotal_loss -3.037683 (-3.037683)\titer_time 0.660081 (0.660081)\n",
      "Epoch 70/300\tIt 0/20\talign_loss 0.644817 (0.644817)\tuniform_loss -3.707432 (-3.707432)\ttotal_loss -3.062616 (-3.062616)\titer_time 0.646192 (0.646192)\n",
      "Epoch 71/300\tIt 0/20\talign_loss 0.669739 (0.669739)\tuniform_loss -3.712066 (-3.712066)\ttotal_loss -3.042327 (-3.042327)\titer_time 0.671192 (0.671192)\n",
      "Epoch 72/300\tIt 0/20\talign_loss 0.646256 (0.646256)\tuniform_loss -3.705596 (-3.705596)\ttotal_loss -3.059340 (-3.059340)\titer_time 0.646784 (0.646784)\n",
      "Epoch 73/300\tIt 0/20\talign_loss 0.674753 (0.674753)\tuniform_loss -3.701008 (-3.701008)\ttotal_loss -3.026254 (-3.026254)\titer_time 0.657760 (0.657760)\n",
      "Epoch 74/300\tIt 0/20\talign_loss 0.681676 (0.681676)\tuniform_loss -3.719018 (-3.719018)\ttotal_loss -3.037342 (-3.037342)\titer_time 0.671679 (0.671679)\n",
      "Epoch 75/300\tIt 0/20\talign_loss 0.642870 (0.642870)\tuniform_loss -3.705528 (-3.705528)\ttotal_loss -3.062658 (-3.062658)\titer_time 0.656249 (0.656249)\n",
      "Epoch 76/300\tIt 0/20\talign_loss 0.681083 (0.681083)\tuniform_loss -3.703950 (-3.703950)\ttotal_loss -3.022867 (-3.022867)\titer_time 0.657820 (0.657820)\n",
      "Epoch 77/300\tIt 0/20\talign_loss 0.652033 (0.652033)\tuniform_loss -3.696256 (-3.696256)\ttotal_loss -3.044223 (-3.044223)\titer_time 0.645210 (0.645210)\n",
      "Epoch 78/300\tIt 0/20\talign_loss 0.653065 (0.653065)\tuniform_loss -3.716176 (-3.716176)\ttotal_loss -3.063111 (-3.063111)\titer_time 0.667417 (0.667417)\n",
      "Epoch 79/300\tIt 0/20\talign_loss 0.672633 (0.672633)\tuniform_loss -3.710114 (-3.710114)\ttotal_loss -3.037481 (-3.037481)\titer_time 0.659696 (0.659696)\n",
      "Epoch 80/300\tIt 0/20\talign_loss 0.658393 (0.658393)\tuniform_loss -3.694957 (-3.694957)\ttotal_loss -3.036565 (-3.036565)\titer_time 0.651093 (0.651093)\n",
      "Epoch 81/300\tIt 0/20\talign_loss 0.712573 (0.712573)\tuniform_loss -3.702931 (-3.702931)\ttotal_loss -2.990358 (-2.990358)\titer_time 0.668298 (0.668298)\n",
      "Epoch 82/300\tIt 0/20\talign_loss 0.606803 (0.606803)\tuniform_loss -3.701084 (-3.701084)\ttotal_loss -3.094281 (-3.094281)\titer_time 0.660012 (0.660012)\n",
      "Epoch 83/300\tIt 0/20\talign_loss 0.654030 (0.654030)\tuniform_loss -3.703668 (-3.703668)\ttotal_loss -3.049638 (-3.049638)\titer_time 0.649374 (0.649374)\n",
      "Epoch 84/300\tIt 0/20\talign_loss 0.685212 (0.685212)\tuniform_loss -3.728959 (-3.728959)\ttotal_loss -3.043747 (-3.043747)\titer_time 0.654520 (0.654520)\n",
      "Epoch 85/300\tIt 0/20\talign_loss 0.592125 (0.592125)\tuniform_loss -3.694567 (-3.694567)\ttotal_loss -3.102442 (-3.102442)\titer_time 0.678031 (0.678031)\n",
      "Epoch 86/300\tIt 0/20\talign_loss 0.650256 (0.650256)\tuniform_loss -3.719560 (-3.719560)\ttotal_loss -3.069304 (-3.069304)\titer_time 0.662448 (0.662448)\n",
      "Epoch 87/300\tIt 0/20\talign_loss 0.675075 (0.675075)\tuniform_loss -3.719919 (-3.719919)\ttotal_loss -3.044845 (-3.044845)\titer_time 0.647674 (0.647674)\n",
      "Epoch 88/300\tIt 0/20\talign_loss 0.612013 (0.612013)\tuniform_loss -3.722400 (-3.722400)\ttotal_loss -3.110387 (-3.110387)\titer_time 0.668737 (0.668737)\n",
      "Epoch 89/300\tIt 0/20\talign_loss 0.635609 (0.635609)\tuniform_loss -3.724886 (-3.724886)\ttotal_loss -3.089277 (-3.089277)\titer_time 0.669094 (0.669094)\n",
      "Epoch 90/300\tIt 0/20\talign_loss 0.641619 (0.641619)\tuniform_loss -3.707047 (-3.707047)\ttotal_loss -3.065427 (-3.065427)\titer_time 0.662602 (0.662602)\n",
      "Epoch 91/300\tIt 0/20\talign_loss 0.679239 (0.679239)\tuniform_loss -3.717571 (-3.717571)\ttotal_loss -3.038332 (-3.038332)\titer_time 0.645094 (0.645094)\n",
      "Epoch 92/300\tIt 0/20\talign_loss 0.583710 (0.583710)\tuniform_loss -3.722252 (-3.722252)\ttotal_loss -3.138541 (-3.138541)\titer_time 0.641022 (0.641022)\n",
      "Epoch 93/300\tIt 0/20\talign_loss 0.663888 (0.663888)\tuniform_loss -3.713404 (-3.713404)\ttotal_loss -3.049516 (-3.049516)\titer_time 0.671319 (0.671319)\n",
      "Epoch 94/300\tIt 0/20\talign_loss 0.584862 (0.584862)\tuniform_loss -3.709668 (-3.709668)\ttotal_loss -3.124806 (-3.124806)\titer_time 0.663583 (0.663583)\n",
      "Epoch 95/300\tIt 0/20\talign_loss 0.659542 (0.659542)\tuniform_loss -3.721240 (-3.721240)\ttotal_loss -3.061698 (-3.061698)\titer_time 0.659122 (0.659122)\n",
      "Epoch 96/300\tIt 0/20\talign_loss 0.624699 (0.624699)\tuniform_loss -3.724824 (-3.724824)\ttotal_loss -3.100124 (-3.100124)\titer_time 0.686113 (0.686113)\n",
      "Epoch 97/300\tIt 0/20\talign_loss 0.583502 (0.583502)\tuniform_loss -3.707927 (-3.707927)\ttotal_loss -3.124425 (-3.124425)\titer_time 0.685728 (0.685728)\n",
      "Epoch 98/300\tIt 0/20\talign_loss 0.592772 (0.592772)\tuniform_loss -3.714787 (-3.714787)\ttotal_loss -3.122015 (-3.122015)\titer_time 0.647176 (0.647176)\n",
      "Epoch 99/300\tIt 0/20\talign_loss 0.589293 (0.589293)\tuniform_loss -3.719829 (-3.719829)\ttotal_loss -3.130536 (-3.130536)\titer_time 0.671645 (0.671645)\n",
      "Epoch 100/300\tIt 0/20\talign_loss 0.677643 (0.677643)\tuniform_loss -3.726727 (-3.726727)\ttotal_loss -3.049084 (-3.049084)\titer_time 0.667866 (0.667866)\n",
      "Epoch 101/300\tIt 0/20\talign_loss 0.626920 (0.626920)\tuniform_loss -3.721355 (-3.721355)\ttotal_loss -3.094435 (-3.094435)\titer_time 0.660418 (0.660418)\n",
      "Epoch 102/300\tIt 0/20\talign_loss 0.650367 (0.650367)\tuniform_loss -3.724848 (-3.724848)\ttotal_loss -3.074481 (-3.074481)\titer_time 0.669384 (0.669384)\n",
      "Epoch 103/300\tIt 0/20\talign_loss 0.624928 (0.624928)\tuniform_loss -3.711672 (-3.711672)\ttotal_loss -3.086744 (-3.086744)\titer_time 0.645072 (0.645072)\n",
      "Epoch 104/300\tIt 0/20\talign_loss 0.608754 (0.608754)\tuniform_loss -3.720770 (-3.720770)\ttotal_loss -3.112016 (-3.112016)\titer_time 0.669326 (0.669326)\n",
      "Epoch 105/300\tIt 0/20\talign_loss 0.650671 (0.650671)\tuniform_loss -3.728359 (-3.728359)\ttotal_loss -3.077688 (-3.077688)\titer_time 0.652604 (0.652604)\n",
      "Epoch 106/300\tIt 0/20\talign_loss 0.647136 (0.647136)\tuniform_loss -3.733747 (-3.733747)\ttotal_loss -3.086611 (-3.086611)\titer_time 0.670700 (0.670700)\n",
      "Epoch 107/300\tIt 0/20\talign_loss 0.659408 (0.659408)\tuniform_loss -3.732329 (-3.732329)\ttotal_loss -3.072920 (-3.072920)\titer_time 0.656206 (0.656206)\n",
      "Epoch 108/300\tIt 0/20\talign_loss 0.586885 (0.586885)\tuniform_loss -3.713054 (-3.713054)\ttotal_loss -3.126169 (-3.126169)\titer_time 0.642877 (0.642877)\n",
      "Epoch 109/300\tIt 0/20\talign_loss 0.654151 (0.654151)\tuniform_loss -3.722899 (-3.722899)\ttotal_loss -3.068749 (-3.068749)\titer_time 0.663414 (0.663414)\n",
      "Epoch 110/300\tIt 0/20\talign_loss 0.624525 (0.624525)\tuniform_loss -3.729859 (-3.729859)\ttotal_loss -3.105334 (-3.105334)\titer_time 0.672330 (0.672330)\n",
      "Epoch 111/300\tIt 0/20\talign_loss 0.597211 (0.597211)\tuniform_loss -3.719804 (-3.719804)\ttotal_loss -3.122593 (-3.122593)\titer_time 0.678179 (0.678179)\n",
      "Epoch 112/300\tIt 0/20\talign_loss 0.593644 (0.593644)\tuniform_loss -3.718368 (-3.718368)\ttotal_loss -3.124725 (-3.124725)\titer_time 0.655449 (0.655449)\n",
      "Epoch 113/300\tIt 0/20\talign_loss 0.566473 (0.566473)\tuniform_loss -3.723886 (-3.723886)\ttotal_loss -3.157413 (-3.157413)\titer_time 0.646223 (0.646223)\n",
      "Epoch 114/300\tIt 0/20\talign_loss 0.602508 (0.602508)\tuniform_loss -3.722370 (-3.722370)\ttotal_loss -3.119862 (-3.119862)\titer_time 0.662384 (0.662384)\n",
      "Epoch 115/300\tIt 0/20\talign_loss 0.620026 (0.620026)\tuniform_loss -3.733715 (-3.733715)\ttotal_loss -3.113689 (-3.113689)\titer_time 0.655829 (0.655829)\n",
      "Epoch 116/300\tIt 0/20\talign_loss 0.614340 (0.614340)\tuniform_loss -3.732211 (-3.732211)\ttotal_loss -3.117871 (-3.117871)\titer_time 0.646378 (0.646378)\n",
      "Epoch 117/300\tIt 0/20\talign_loss 0.606720 (0.606720)\tuniform_loss -3.722994 (-3.722994)\ttotal_loss -3.116274 (-3.116274)\titer_time 0.647335 (0.647335)\n",
      "Epoch 118/300\tIt 0/20\talign_loss 0.607584 (0.607584)\tuniform_loss -3.723419 (-3.723419)\ttotal_loss -3.115835 (-3.115835)\titer_time 0.646400 (0.646400)\n",
      "Epoch 119/300\tIt 0/20\talign_loss 0.592986 (0.592986)\tuniform_loss -3.731211 (-3.731211)\ttotal_loss -3.138225 (-3.138225)\titer_time 0.639945 (0.639945)\n",
      "Epoch 120/300\tIt 0/20\talign_loss 0.567569 (0.567569)\tuniform_loss -3.727629 (-3.727629)\ttotal_loss -3.160060 (-3.160060)\titer_time 0.657073 (0.657073)\n",
      "Epoch 121/300\tIt 0/20\talign_loss 0.602059 (0.602059)\tuniform_loss -3.703269 (-3.703269)\ttotal_loss -3.101210 (-3.101210)\titer_time 0.674068 (0.674068)\n",
      "Epoch 122/300\tIt 0/20\talign_loss 0.580532 (0.580532)\tuniform_loss -3.736455 (-3.736455)\ttotal_loss -3.155923 (-3.155923)\titer_time 0.671863 (0.671863)\n",
      "Epoch 123/300\tIt 0/20\talign_loss 0.641960 (0.641960)\tuniform_loss -3.723126 (-3.723126)\ttotal_loss -3.081166 (-3.081166)\titer_time 0.647311 (0.647311)\n",
      "Epoch 124/300\tIt 0/20\talign_loss 0.678600 (0.678600)\tuniform_loss -3.737510 (-3.737510)\ttotal_loss -3.058909 (-3.058909)\titer_time 0.662827 (0.662827)\n",
      "Epoch 125/300\tIt 0/20\talign_loss 0.588531 (0.588531)\tuniform_loss -3.735955 (-3.735955)\ttotal_loss -3.147424 (-3.147424)\titer_time 0.648552 (0.648552)\n",
      "Epoch 126/300\tIt 0/20\talign_loss 0.570260 (0.570260)\tuniform_loss -3.718391 (-3.718391)\ttotal_loss -3.148131 (-3.148131)\titer_time 0.674115 (0.674115)\n",
      "Epoch 127/300\tIt 0/20\talign_loss 0.556836 (0.556836)\tuniform_loss -3.723913 (-3.723913)\ttotal_loss -3.167077 (-3.167077)\titer_time 0.647214 (0.647214)\n",
      "Epoch 128/300\tIt 0/20\talign_loss 0.574953 (0.574953)\tuniform_loss -3.724395 (-3.724395)\ttotal_loss -3.149442 (-3.149442)\titer_time 0.675290 (0.675290)\n",
      "Epoch 129/300\tIt 0/20\talign_loss 0.572411 (0.572411)\tuniform_loss -3.734425 (-3.734425)\ttotal_loss -3.162014 (-3.162014)\titer_time 0.651504 (0.651504)\n",
      "Epoch 130/300\tIt 0/20\talign_loss 0.605336 (0.605336)\tuniform_loss -3.732101 (-3.732101)\ttotal_loss -3.126765 (-3.126765)\titer_time 0.643066 (0.643066)\n",
      "Epoch 131/300\tIt 0/20\talign_loss 0.556974 (0.556974)\tuniform_loss -3.728556 (-3.728556)\ttotal_loss -3.171583 (-3.171583)\titer_time 0.652739 (0.652739)\n",
      "Epoch 132/300\tIt 0/20\talign_loss 0.549628 (0.549628)\tuniform_loss -3.725897 (-3.725897)\ttotal_loss -3.176269 (-3.176269)\titer_time 0.667500 (0.667500)\n",
      "Epoch 133/300\tIt 0/20\talign_loss 0.575173 (0.575173)\tuniform_loss -3.731844 (-3.731844)\ttotal_loss -3.156671 (-3.156671)\titer_time 0.668399 (0.668399)\n",
      "Epoch 134/300\tIt 0/20\talign_loss 0.602714 (0.602714)\tuniform_loss -3.732064 (-3.732064)\ttotal_loss -3.129350 (-3.129350)\titer_time 0.660565 (0.660565)\n",
      "Epoch 135/300\tIt 0/20\talign_loss 0.584730 (0.584730)\tuniform_loss -3.727945 (-3.727945)\ttotal_loss -3.143214 (-3.143214)\titer_time 0.667336 (0.667336)\n",
      "Epoch 136/300\tIt 0/20\talign_loss 0.533968 (0.533968)\tuniform_loss -3.728571 (-3.728571)\ttotal_loss -3.194603 (-3.194603)\titer_time 0.657021 (0.657021)\n",
      "Epoch 137/300\tIt 0/20\talign_loss 0.534671 (0.534671)\tuniform_loss -3.730292 (-3.730292)\ttotal_loss -3.195621 (-3.195621)\titer_time 0.655459 (0.655459)\n",
      "Epoch 138/300\tIt 0/20\talign_loss 0.568590 (0.568590)\tuniform_loss -3.727494 (-3.727494)\ttotal_loss -3.158904 (-3.158904)\titer_time 0.673311 (0.673311)\n",
      "Epoch 139/300\tIt 0/20\talign_loss 0.584514 (0.584514)\tuniform_loss -3.731602 (-3.731602)\ttotal_loss -3.147088 (-3.147088)\titer_time 0.663663 (0.663663)\n",
      "Epoch 140/300\tIt 0/20\talign_loss 0.583244 (0.583244)\tuniform_loss -3.726495 (-3.726495)\ttotal_loss -3.143251 (-3.143251)\titer_time 0.657547 (0.657547)\n",
      "Epoch 141/300\tIt 0/20\talign_loss 0.568484 (0.568484)\tuniform_loss -3.741124 (-3.741124)\ttotal_loss -3.172640 (-3.172640)\titer_time 0.682119 (0.682119)\n",
      "Epoch 142/300\tIt 0/20\talign_loss 0.586531 (0.586531)\tuniform_loss -3.736928 (-3.736928)\ttotal_loss -3.150397 (-3.150397)\titer_time 0.667654 (0.667654)\n",
      "Epoch 143/300\tIt 0/20\talign_loss 0.566903 (0.566903)\tuniform_loss -3.729840 (-3.729840)\ttotal_loss -3.162937 (-3.162937)\titer_time 0.664361 (0.664361)\n",
      "Epoch 144/300\tIt 0/20\talign_loss 0.546446 (0.546446)\tuniform_loss -3.726772 (-3.726772)\ttotal_loss -3.180326 (-3.180326)\titer_time 0.642655 (0.642655)\n",
      "Epoch 145/300\tIt 0/20\talign_loss 0.621068 (0.621068)\tuniform_loss -3.721166 (-3.721166)\ttotal_loss -3.100099 (-3.100099)\titer_time 0.645055 (0.645055)\n",
      "Epoch 146/300\tIt 0/20\talign_loss 0.576279 (0.576279)\tuniform_loss -3.723034 (-3.723034)\ttotal_loss -3.146755 (-3.146755)\titer_time 0.665707 (0.665707)\n",
      "Epoch 147/300\tIt 0/20\talign_loss 0.605021 (0.605021)\tuniform_loss -3.744695 (-3.744695)\ttotal_loss -3.139674 (-3.139674)\titer_time 0.650461 (0.650461)\n",
      "Epoch 148/300\tIt 0/20\talign_loss 0.559641 (0.559641)\tuniform_loss -3.744226 (-3.744226)\ttotal_loss -3.184585 (-3.184585)\titer_time 0.677608 (0.677608)\n",
      "Epoch 149/300\tIt 0/20\talign_loss 0.566046 (0.566046)\tuniform_loss -3.731763 (-3.731763)\ttotal_loss -3.165717 (-3.165717)\titer_time 0.658527 (0.658527)\n",
      "Epoch 150/300\tIt 0/20\talign_loss 0.546247 (0.546247)\tuniform_loss -3.732417 (-3.732417)\ttotal_loss -3.186170 (-3.186170)\titer_time 0.675933 (0.675933)\n",
      "Epoch 151/300\tIt 0/20\talign_loss 0.547001 (0.547001)\tuniform_loss -3.737627 (-3.737627)\ttotal_loss -3.190625 (-3.190625)\titer_time 0.659930 (0.659930)\n",
      "Epoch 152/300\tIt 0/20\talign_loss 0.564711 (0.564711)\tuniform_loss -3.737285 (-3.737285)\ttotal_loss -3.172574 (-3.172574)\titer_time 0.669770 (0.669770)\n",
      "Epoch 153/300\tIt 0/20\talign_loss 0.531540 (0.531540)\tuniform_loss -3.727968 (-3.727968)\ttotal_loss -3.196427 (-3.196427)\titer_time 0.655813 (0.655813)\n",
      "Epoch 154/300\tIt 0/20\talign_loss 0.543244 (0.543244)\tuniform_loss -3.742239 (-3.742239)\ttotal_loss -3.198995 (-3.198995)\titer_time 0.644279 (0.644279)\n",
      "Epoch 155/300\tIt 0/20\talign_loss 0.608426 (0.608426)\tuniform_loss -3.740585 (-3.740585)\ttotal_loss -3.132158 (-3.132158)\titer_time 0.661220 (0.661220)\n",
      "Epoch 156/300\tIt 0/20\talign_loss 0.568400 (0.568400)\tuniform_loss -3.743902 (-3.743902)\ttotal_loss -3.175502 (-3.175502)\titer_time 0.655220 (0.655220)\n",
      "Epoch 157/300\tIt 0/20\talign_loss 0.564043 (0.564043)\tuniform_loss -3.747618 (-3.747618)\ttotal_loss -3.183575 (-3.183575)\titer_time 0.672458 (0.672458)\n",
      "Epoch 158/300\tIt 0/20\talign_loss 0.531329 (0.531329)\tuniform_loss -3.751542 (-3.751542)\ttotal_loss -3.220213 (-3.220213)\titer_time 0.689430 (0.689430)\n",
      "Epoch 159/300\tIt 0/20\talign_loss 0.526363 (0.526363)\tuniform_loss -3.743953 (-3.743953)\ttotal_loss -3.217591 (-3.217591)\titer_time 0.652762 (0.652762)\n",
      "Epoch 160/300\tIt 0/20\talign_loss 0.566795 (0.566795)\tuniform_loss -3.754010 (-3.754010)\ttotal_loss -3.187216 (-3.187216)\titer_time 0.671159 (0.671159)\n",
      "Epoch 161/300\tIt 0/20\talign_loss 0.485506 (0.485506)\tuniform_loss -3.736588 (-3.736588)\ttotal_loss -3.251081 (-3.251081)\titer_time 0.665429 (0.665429)\n",
      "Epoch 162/300\tIt 0/20\talign_loss 0.513951 (0.513951)\tuniform_loss -3.749129 (-3.749129)\ttotal_loss -3.235178 (-3.235178)\titer_time 0.647839 (0.647839)\n",
      "Epoch 163/300\tIt 0/20\talign_loss 0.538144 (0.538144)\tuniform_loss -3.754554 (-3.754554)\ttotal_loss -3.216410 (-3.216410)\titer_time 0.650726 (0.650726)\n",
      "Epoch 164/300\tIt 0/20\talign_loss 0.508999 (0.508999)\tuniform_loss -3.741189 (-3.741189)\ttotal_loss -3.232190 (-3.232190)\titer_time 0.669047 (0.669047)\n",
      "Epoch 165/300\tIt 0/20\talign_loss 0.547759 (0.547759)\tuniform_loss -3.757565 (-3.757565)\ttotal_loss -3.209806 (-3.209806)\titer_time 0.674109 (0.674109)\n",
      "Epoch 166/300\tIt 0/20\talign_loss 0.506889 (0.506889)\tuniform_loss -3.736501 (-3.736501)\ttotal_loss -3.229612 (-3.229612)\titer_time 0.661594 (0.661594)\n",
      "Epoch 167/300\tIt 0/20\talign_loss 0.502033 (0.502033)\tuniform_loss -3.743357 (-3.743357)\ttotal_loss -3.241325 (-3.241325)\titer_time 0.658344 (0.658344)\n",
      "Epoch 168/300\tIt 0/20\talign_loss 0.534266 (0.534266)\tuniform_loss -3.748299 (-3.748299)\ttotal_loss -3.214034 (-3.214034)\titer_time 0.653274 (0.653274)\n",
      "Epoch 169/300\tIt 0/20\talign_loss 0.483584 (0.483584)\tuniform_loss -3.757615 (-3.757615)\ttotal_loss -3.274031 (-3.274031)\titer_time 0.656322 (0.656322)\n",
      "Epoch 170/300\tIt 0/20\talign_loss 0.517145 (0.517145)\tuniform_loss -3.749157 (-3.749157)\ttotal_loss -3.232013 (-3.232013)\titer_time 0.663523 (0.663523)\n",
      "Epoch 171/300\tIt 0/20\talign_loss 0.553428 (0.553428)\tuniform_loss -3.764586 (-3.764586)\ttotal_loss -3.211158 (-3.211158)\titer_time 0.655294 (0.655294)\n",
      "Epoch 172/300\tIt 0/20\talign_loss 0.459102 (0.459102)\tuniform_loss -3.737634 (-3.737634)\ttotal_loss -3.278533 (-3.278533)\titer_time 0.654576 (0.654576)\n",
      "Epoch 173/300\tIt 0/20\talign_loss 0.526583 (0.526583)\tuniform_loss -3.761343 (-3.761343)\ttotal_loss -3.234761 (-3.234761)\titer_time 0.676099 (0.676099)\n",
      "Epoch 174/300\tIt 0/20\talign_loss 0.520161 (0.520161)\tuniform_loss -3.753042 (-3.753042)\ttotal_loss -3.232881 (-3.232881)\titer_time 0.655190 (0.655190)\n",
      "Epoch 175/300\tIt 0/20\talign_loss 0.478532 (0.478532)\tuniform_loss -3.753457 (-3.753457)\ttotal_loss -3.274924 (-3.274924)\titer_time 0.675577 (0.675577)\n",
      "Epoch 176/300\tIt 0/20\talign_loss 0.521116 (0.521116)\tuniform_loss -3.737221 (-3.737221)\ttotal_loss -3.216105 (-3.216105)\titer_time 0.661917 (0.661917)\n",
      "Epoch 177/300\tIt 0/20\talign_loss 0.483358 (0.483358)\tuniform_loss -3.741838 (-3.741838)\ttotal_loss -3.258480 (-3.258480)\titer_time 0.643290 (0.643290)\n",
      "Epoch 178/300\tIt 0/20\talign_loss 0.539800 (0.539800)\tuniform_loss -3.761342 (-3.761342)\ttotal_loss -3.221541 (-3.221541)\titer_time 0.655626 (0.655626)\n",
      "Epoch 179/300\tIt 0/20\talign_loss 0.541758 (0.541758)\tuniform_loss -3.761326 (-3.761326)\ttotal_loss -3.219567 (-3.219567)\titer_time 0.675945 (0.675945)\n",
      "Epoch 180/300\tIt 0/20\talign_loss 0.511388 (0.511388)\tuniform_loss -3.751401 (-3.751401)\ttotal_loss -3.240013 (-3.240013)\titer_time 0.666456 (0.666456)\n",
      "Epoch 181/300\tIt 0/20\talign_loss 0.501705 (0.501705)\tuniform_loss -3.742748 (-3.742748)\ttotal_loss -3.241043 (-3.241043)\titer_time 0.673255 (0.673255)\n",
      "Epoch 182/300\tIt 0/20\talign_loss 0.562449 (0.562449)\tuniform_loss -3.757971 (-3.757971)\ttotal_loss -3.195522 (-3.195522)\titer_time 0.673326 (0.673326)\n",
      "Epoch 183/300\tIt 0/20\talign_loss 0.557160 (0.557160)\tuniform_loss -3.754716 (-3.754716)\ttotal_loss -3.197556 (-3.197556)\titer_time 0.681043 (0.681043)\n",
      "Epoch 184/300\tIt 0/20\talign_loss 0.523435 (0.523435)\tuniform_loss -3.735322 (-3.735322)\ttotal_loss -3.211887 (-3.211887)\titer_time 0.646622 (0.646622)\n",
      "Epoch 185/300\tIt 0/20\talign_loss 0.551794 (0.551794)\tuniform_loss -3.761651 (-3.761651)\ttotal_loss -3.209856 (-3.209856)\titer_time 0.662672 (0.662672)\n",
      "Epoch 186/300\tIt 0/20\talign_loss 0.478353 (0.478353)\tuniform_loss -3.748448 (-3.748448)\ttotal_loss -3.270094 (-3.270094)\titer_time 0.652491 (0.652491)\n",
      "Epoch 187/300\tIt 0/20\talign_loss 0.523356 (0.523356)\tuniform_loss -3.758997 (-3.758997)\ttotal_loss -3.235642 (-3.235642)\titer_time 0.669716 (0.669716)\n",
      "Epoch 188/300\tIt 0/20\talign_loss 0.535983 (0.535983)\tuniform_loss -3.753027 (-3.753027)\ttotal_loss -3.217044 (-3.217044)\titer_time 0.644996 (0.644996)\n",
      "Epoch 189/300\tIt 0/20\talign_loss 0.524442 (0.524442)\tuniform_loss -3.749823 (-3.749823)\ttotal_loss -3.225381 (-3.225381)\titer_time 0.658813 (0.658813)\n",
      "Epoch 190/300\tIt 0/20\talign_loss 0.513143 (0.513143)\tuniform_loss -3.751838 (-3.751838)\ttotal_loss -3.238694 (-3.238694)\titer_time 0.668497 (0.668497)\n",
      "Epoch 191/300\tIt 0/20\talign_loss 0.545441 (0.545441)\tuniform_loss -3.750062 (-3.750062)\ttotal_loss -3.204622 (-3.204622)\titer_time 0.653515 (0.653515)\n",
      "Epoch 192/300\tIt 0/20\talign_loss 0.518065 (0.518065)\tuniform_loss -3.749370 (-3.749370)\ttotal_loss -3.231305 (-3.231305)\titer_time 0.653592 (0.653592)\n",
      "Epoch 193/300\tIt 0/20\talign_loss 0.494585 (0.494585)\tuniform_loss -3.748676 (-3.748676)\ttotal_loss -3.254091 (-3.254091)\titer_time 0.662644 (0.662644)\n",
      "Epoch 194/300\tIt 0/20\talign_loss 0.515719 (0.515719)\tuniform_loss -3.753164 (-3.753164)\ttotal_loss -3.237445 (-3.237445)\titer_time 0.656751 (0.656751)\n",
      "Epoch 195/300\tIt 0/20\talign_loss 0.484149 (0.484149)\tuniform_loss -3.740934 (-3.740934)\ttotal_loss -3.256785 (-3.256785)\titer_time 0.654167 (0.654167)\n",
      "Epoch 196/300\tIt 0/20\talign_loss 0.565270 (0.565270)\tuniform_loss -3.749205 (-3.749205)\ttotal_loss -3.183935 (-3.183935)\titer_time 0.639819 (0.639819)\n",
      "Epoch 197/300\tIt 0/20\talign_loss 0.508761 (0.508761)\tuniform_loss -3.755971 (-3.755971)\ttotal_loss -3.247210 (-3.247210)\titer_time 0.645152 (0.645152)\n",
      "Epoch 198/300\tIt 0/20\talign_loss 0.558607 (0.558607)\tuniform_loss -3.762566 (-3.762566)\ttotal_loss -3.203959 (-3.203959)\titer_time 0.667429 (0.667429)\n",
      "Epoch 199/300\tIt 0/20\talign_loss 0.549386 (0.549386)\tuniform_loss -3.743099 (-3.743099)\ttotal_loss -3.193713 (-3.193713)\titer_time 0.649028 (0.649028)\n",
      "Epoch 200/300\tIt 0/20\talign_loss 0.535887 (0.535887)\tuniform_loss -3.766432 (-3.766432)\ttotal_loss -3.230545 (-3.230545)\titer_time 0.655304 (0.655304)\n",
      "Epoch 201/300\tIt 0/20\talign_loss 0.539340 (0.539340)\tuniform_loss -3.758149 (-3.758149)\ttotal_loss -3.218809 (-3.218809)\titer_time 0.647621 (0.647621)\n",
      "Epoch 202/300\tIt 0/20\talign_loss 0.526401 (0.526401)\tuniform_loss -3.739091 (-3.739091)\ttotal_loss -3.212690 (-3.212690)\titer_time 0.643585 (0.643585)\n",
      "Epoch 203/300\tIt 0/20\talign_loss 0.495810 (0.495810)\tuniform_loss -3.745264 (-3.745264)\ttotal_loss -3.249454 (-3.249454)\titer_time 0.671924 (0.671924)\n",
      "Epoch 204/300\tIt 0/20\talign_loss 0.492797 (0.492797)\tuniform_loss -3.746362 (-3.746362)\ttotal_loss -3.253565 (-3.253565)\titer_time 0.655412 (0.655412)\n",
      "Epoch 205/300\tIt 0/20\talign_loss 0.542686 (0.542686)\tuniform_loss -3.763169 (-3.763169)\ttotal_loss -3.220483 (-3.220483)\titer_time 0.660529 (0.660529)\n",
      "Epoch 206/300\tIt 0/20\talign_loss 0.518141 (0.518141)\tuniform_loss -3.753724 (-3.753724)\ttotal_loss -3.235582 (-3.235582)\titer_time 0.652447 (0.652447)\n",
      "Epoch 207/300\tIt 0/20\talign_loss 0.510184 (0.510184)\tuniform_loss -3.748460 (-3.748460)\ttotal_loss -3.238276 (-3.238276)\titer_time 0.655306 (0.655306)\n",
      "Epoch 208/300\tIt 0/20\talign_loss 0.546551 (0.546551)\tuniform_loss -3.742947 (-3.742947)\ttotal_loss -3.196396 (-3.196396)\titer_time 0.646179 (0.646179)\n",
      "Epoch 209/300\tIt 0/20\talign_loss 0.496854 (0.496854)\tuniform_loss -3.754419 (-3.754419)\ttotal_loss -3.257565 (-3.257565)\titer_time 0.648942 (0.648942)\n",
      "Epoch 210/300\tIt 0/20\talign_loss 0.539108 (0.539108)\tuniform_loss -3.740770 (-3.740770)\ttotal_loss -3.201663 (-3.201663)\titer_time 0.677450 (0.677450)\n",
      "Epoch 211/300\tIt 0/20\talign_loss 0.507472 (0.507472)\tuniform_loss -3.751250 (-3.751250)\ttotal_loss -3.243778 (-3.243778)\titer_time 0.676608 (0.676608)\n",
      "Epoch 212/300\tIt 0/20\talign_loss 0.531382 (0.531382)\tuniform_loss -3.755801 (-3.755801)\ttotal_loss -3.224419 (-3.224419)\titer_time 0.646334 (0.646334)\n",
      "Epoch 213/300\tIt 0/20\talign_loss 0.518222 (0.518222)\tuniform_loss -3.751746 (-3.751746)\ttotal_loss -3.233524 (-3.233524)\titer_time 0.669506 (0.669506)\n",
      "Epoch 214/300\tIt 0/20\talign_loss 0.575768 (0.575768)\tuniform_loss -3.758485 (-3.758485)\ttotal_loss -3.182717 (-3.182717)\titer_time 0.655256 (0.655256)\n",
      "Epoch 215/300\tIt 0/20\talign_loss 0.494636 (0.494636)\tuniform_loss -3.751256 (-3.751256)\ttotal_loss -3.256620 (-3.256620)\titer_time 0.646794 (0.646794)\n",
      "Epoch 216/300\tIt 0/20\talign_loss 0.537378 (0.537378)\tuniform_loss -3.762197 (-3.762197)\ttotal_loss -3.224819 (-3.224819)\titer_time 0.677333 (0.677333)\n",
      "Epoch 217/300\tIt 0/20\talign_loss 0.520029 (0.520029)\tuniform_loss -3.763237 (-3.763237)\ttotal_loss -3.243207 (-3.243207)\titer_time 0.657178 (0.657178)\n",
      "Epoch 218/300\tIt 0/20\talign_loss 0.547725 (0.547725)\tuniform_loss -3.756376 (-3.756376)\ttotal_loss -3.208651 (-3.208651)\titer_time 0.650693 (0.650693)\n",
      "Epoch 219/300\tIt 0/20\talign_loss 0.522820 (0.522820)\tuniform_loss -3.747497 (-3.747497)\ttotal_loss -3.224677 (-3.224677)\titer_time 0.669818 (0.669818)\n",
      "Epoch 220/300\tIt 0/20\talign_loss 0.514938 (0.514938)\tuniform_loss -3.761995 (-3.761995)\ttotal_loss -3.247057 (-3.247057)\titer_time 0.658561 (0.658561)\n",
      "Epoch 221/300\tIt 0/20\talign_loss 0.523751 (0.523751)\tuniform_loss -3.742007 (-3.742007)\ttotal_loss -3.218256 (-3.218256)\titer_time 0.674844 (0.674844)\n",
      "Epoch 222/300\tIt 0/20\talign_loss 0.506699 (0.506699)\tuniform_loss -3.746842 (-3.746842)\ttotal_loss -3.240143 (-3.240143)\titer_time 0.671397 (0.671397)\n",
      "Epoch 223/300\tIt 0/20\talign_loss 0.493090 (0.493090)\tuniform_loss -3.751592 (-3.751592)\ttotal_loss -3.258502 (-3.258502)\titer_time 0.661177 (0.661177)\n",
      "Epoch 224/300\tIt 0/20\talign_loss 0.569681 (0.569681)\tuniform_loss -3.751994 (-3.751994)\ttotal_loss -3.182313 (-3.182313)\titer_time 0.641219 (0.641219)\n",
      "Epoch 225/300\tIt 0/20\talign_loss 0.506228 (0.506228)\tuniform_loss -3.742101 (-3.742101)\ttotal_loss -3.235873 (-3.235873)\titer_time 0.658674 (0.658674)\n",
      "Epoch 226/300\tIt 0/20\talign_loss 0.504316 (0.504316)\tuniform_loss -3.757907 (-3.757907)\ttotal_loss -3.253591 (-3.253591)\titer_time 0.647715 (0.647715)\n",
      "Epoch 227/300\tIt 0/20\talign_loss 0.477100 (0.477100)\tuniform_loss -3.755375 (-3.755375)\ttotal_loss -3.278275 (-3.278275)\titer_time 0.673066 (0.673066)\n",
      "Epoch 228/300\tIt 0/20\talign_loss 0.534748 (0.534748)\tuniform_loss -3.762129 (-3.762129)\ttotal_loss -3.227381 (-3.227381)\titer_time 0.656528 (0.656528)\n",
      "Epoch 229/300\tIt 0/20\talign_loss 0.506448 (0.506448)\tuniform_loss -3.748624 (-3.748624)\ttotal_loss -3.242176 (-3.242176)\titer_time 0.666759 (0.666759)\n",
      "Epoch 230/300\tIt 0/20\talign_loss 0.512841 (0.512841)\tuniform_loss -3.758095 (-3.758095)\ttotal_loss -3.245254 (-3.245254)\titer_time 0.667308 (0.667308)\n",
      "Epoch 231/300\tIt 0/20\talign_loss 0.510642 (0.510642)\tuniform_loss -3.750159 (-3.750159)\ttotal_loss -3.239516 (-3.239516)\titer_time 0.665180 (0.665180)\n",
      "Epoch 232/300\tIt 0/20\talign_loss 0.563080 (0.563080)\tuniform_loss -3.765368 (-3.765368)\ttotal_loss -3.202288 (-3.202288)\titer_time 0.668733 (0.668733)\n",
      "Epoch 233/300\tIt 0/20\talign_loss 0.506438 (0.506438)\tuniform_loss -3.746300 (-3.746300)\ttotal_loss -3.239862 (-3.239862)\titer_time 0.645705 (0.645705)\n",
      "Epoch 234/300\tIt 0/20\talign_loss 0.490568 (0.490568)\tuniform_loss -3.737351 (-3.737351)\ttotal_loss -3.246782 (-3.246782)\titer_time 0.647276 (0.647276)\n",
      "Epoch 235/300\tIt 0/20\talign_loss 0.533268 (0.533268)\tuniform_loss -3.758864 (-3.758864)\ttotal_loss -3.225596 (-3.225596)\titer_time 0.667239 (0.667239)\n",
      "Epoch 236/300\tIt 0/20\talign_loss 0.490665 (0.490665)\tuniform_loss -3.756080 (-3.756080)\ttotal_loss -3.265415 (-3.265415)\titer_time 0.673429 (0.673429)\n",
      "Epoch 237/300\tIt 0/20\talign_loss 0.516093 (0.516093)\tuniform_loss -3.746586 (-3.746586)\ttotal_loss -3.230494 (-3.230494)\titer_time 0.655982 (0.655982)\n",
      "Epoch 238/300\tIt 0/20\talign_loss 0.547632 (0.547632)\tuniform_loss -3.754553 (-3.754553)\ttotal_loss -3.206921 (-3.206921)\titer_time 0.662827 (0.662827)\n",
      "Epoch 239/300\tIt 0/20\talign_loss 0.537617 (0.537617)\tuniform_loss -3.750446 (-3.750446)\ttotal_loss -3.212830 (-3.212830)\titer_time 0.648211 (0.648211)\n",
      "Epoch 240/300\tIt 0/20\talign_loss 0.527663 (0.527663)\tuniform_loss -3.757046 (-3.757046)\ttotal_loss -3.229383 (-3.229383)\titer_time 0.694352 (0.694352)\n",
      "Epoch 241/300\tIt 0/20\talign_loss 0.551119 (0.551119)\tuniform_loss -3.750973 (-3.750973)\ttotal_loss -3.199853 (-3.199853)\titer_time 0.648136 (0.648136)\n",
      "Epoch 242/300\tIt 0/20\talign_loss 0.538509 (0.538509)\tuniform_loss -3.753292 (-3.753292)\ttotal_loss -3.214782 (-3.214782)\titer_time 0.655483 (0.655483)\n",
      "Epoch 243/300\tIt 0/20\talign_loss 0.505920 (0.505920)\tuniform_loss -3.766426 (-3.766426)\ttotal_loss -3.260506 (-3.260506)\titer_time 0.659951 (0.659951)\n",
      "Epoch 244/300\tIt 0/20\talign_loss 0.511583 (0.511583)\tuniform_loss -3.758954 (-3.758954)\ttotal_loss -3.247371 (-3.247371)\titer_time 0.660976 (0.660976)\n",
      "Epoch 245/300\tIt 0/20\talign_loss 0.532892 (0.532892)\tuniform_loss -3.756494 (-3.756494)\ttotal_loss -3.223602 (-3.223602)\titer_time 0.674178 (0.674178)\n",
      "Epoch 246/300\tIt 0/20\talign_loss 0.541527 (0.541527)\tuniform_loss -3.747611 (-3.747611)\ttotal_loss -3.206084 (-3.206084)\titer_time 0.657001 (0.657001)\n",
      "Epoch 247/300\tIt 0/20\talign_loss 0.502609 (0.502609)\tuniform_loss -3.755712 (-3.755712)\ttotal_loss -3.253102 (-3.253102)\titer_time 0.677639 (0.677639)\n",
      "Epoch 248/300\tIt 0/20\talign_loss 0.539848 (0.539848)\tuniform_loss -3.757564 (-3.757564)\ttotal_loss -3.217716 (-3.217716)\titer_time 0.667569 (0.667569)\n",
      "Epoch 249/300\tIt 0/20\talign_loss 0.537895 (0.537895)\tuniform_loss -3.749457 (-3.749457)\ttotal_loss -3.211562 (-3.211562)\titer_time 0.655050 (0.655050)\n",
      "Epoch 250/300\tIt 0/20\talign_loss 0.536528 (0.536528)\tuniform_loss -3.746574 (-3.746574)\ttotal_loss -3.210046 (-3.210046)\titer_time 0.662877 (0.662877)\n",
      "Epoch 251/300\tIt 0/20\talign_loss 0.523745 (0.523745)\tuniform_loss -3.745245 (-3.745245)\ttotal_loss -3.221500 (-3.221500)\titer_time 0.647837 (0.647837)\n",
      "Epoch 252/300\tIt 0/20\talign_loss 0.546392 (0.546392)\tuniform_loss -3.746246 (-3.746246)\ttotal_loss -3.199854 (-3.199854)\titer_time 0.671314 (0.671314)\n",
      "Epoch 253/300\tIt 0/20\talign_loss 0.591217 (0.591217)\tuniform_loss -3.753714 (-3.753714)\ttotal_loss -3.162496 (-3.162496)\titer_time 0.664236 (0.664236)\n",
      "Epoch 254/300\tIt 0/20\talign_loss 0.487444 (0.487444)\tuniform_loss -3.760393 (-3.760393)\ttotal_loss -3.272950 (-3.272950)\titer_time 0.647113 (0.647113)\n",
      "Epoch 255/300\tIt 0/20\talign_loss 0.519116 (0.519116)\tuniform_loss -3.760650 (-3.760650)\ttotal_loss -3.241535 (-3.241535)\titer_time 0.643532 (0.643532)\n",
      "Epoch 256/300\tIt 0/20\talign_loss 0.485313 (0.485313)\tuniform_loss -3.750305 (-3.750305)\ttotal_loss -3.264992 (-3.264992)\titer_time 0.640347 (0.640347)\n",
      "Epoch 257/300\tIt 0/20\talign_loss 0.523597 (0.523597)\tuniform_loss -3.739750 (-3.739750)\ttotal_loss -3.216153 (-3.216153)\titer_time 0.669460 (0.669460)\n",
      "Epoch 258/300\tIt 0/20\talign_loss 0.549370 (0.549370)\tuniform_loss -3.754678 (-3.754678)\ttotal_loss -3.205308 (-3.205308)\titer_time 0.642755 (0.642755)\n",
      "Epoch 259/300\tIt 0/20\talign_loss 0.538122 (0.538122)\tuniform_loss -3.756754 (-3.756754)\ttotal_loss -3.218633 (-3.218633)\titer_time 0.645464 (0.645464)\n",
      "Epoch 260/300\tIt 0/20\talign_loss 0.475483 (0.475483)\tuniform_loss -3.751543 (-3.751543)\ttotal_loss -3.276060 (-3.276060)\titer_time 0.675055 (0.675055)\n",
      "Epoch 261/300\tIt 0/20\talign_loss 0.521463 (0.521463)\tuniform_loss -3.757692 (-3.757692)\ttotal_loss -3.236229 (-3.236229)\titer_time 0.655449 (0.655449)\n",
      "Epoch 262/300\tIt 0/20\talign_loss 0.508313 (0.508313)\tuniform_loss -3.745100 (-3.745100)\ttotal_loss -3.236787 (-3.236787)\titer_time 0.661119 (0.661119)\n",
      "Epoch 263/300\tIt 0/20\talign_loss 0.562135 (0.562135)\tuniform_loss -3.758939 (-3.758939)\ttotal_loss -3.196805 (-3.196805)\titer_time 0.672613 (0.672613)\n",
      "Epoch 264/300\tIt 0/20\talign_loss 0.521396 (0.521396)\tuniform_loss -3.752067 (-3.752067)\ttotal_loss -3.230671 (-3.230671)\titer_time 0.641550 (0.641550)\n",
      "Epoch 265/300\tIt 0/20\talign_loss 0.521317 (0.521317)\tuniform_loss -3.741420 (-3.741420)\ttotal_loss -3.220103 (-3.220103)\titer_time 0.654656 (0.654656)\n",
      "Epoch 266/300\tIt 0/20\talign_loss 0.550709 (0.550709)\tuniform_loss -3.757189 (-3.757189)\ttotal_loss -3.206480 (-3.206480)\titer_time 0.656605 (0.656605)\n",
      "Epoch 267/300\tIt 0/20\talign_loss 0.480556 (0.480556)\tuniform_loss -3.739592 (-3.739592)\ttotal_loss -3.259036 (-3.259036)\titer_time 0.660390 (0.660390)\n",
      "Epoch 268/300\tIt 0/20\talign_loss 0.471306 (0.471306)\tuniform_loss -3.760260 (-3.760260)\ttotal_loss -3.288955 (-3.288955)\titer_time 0.643741 (0.643741)\n",
      "Epoch 269/300\tIt 0/20\talign_loss 0.510115 (0.510115)\tuniform_loss -3.760110 (-3.760110)\ttotal_loss -3.249995 (-3.249995)\titer_time 0.664246 (0.664246)\n",
      "Epoch 270/300\tIt 0/20\talign_loss 0.461335 (0.461335)\tuniform_loss -3.752792 (-3.752792)\ttotal_loss -3.291457 (-3.291457)\titer_time 0.655822 (0.655822)\n",
      "Epoch 271/300\tIt 0/20\talign_loss 0.540173 (0.540173)\tuniform_loss -3.764199 (-3.764199)\ttotal_loss -3.224025 (-3.224025)\titer_time 0.670971 (0.670971)\n",
      "Epoch 272/300\tIt 0/20\talign_loss 0.559468 (0.559468)\tuniform_loss -3.762742 (-3.762742)\ttotal_loss -3.203274 (-3.203274)\titer_time 0.653168 (0.653168)\n",
      "Epoch 273/300\tIt 0/20\talign_loss 0.487264 (0.487264)\tuniform_loss -3.733628 (-3.733628)\ttotal_loss -3.246364 (-3.246364)\titer_time 0.664340 (0.664340)\n",
      "Epoch 274/300\tIt 0/20\talign_loss 0.528786 (0.528786)\tuniform_loss -3.759221 (-3.759221)\ttotal_loss -3.230434 (-3.230434)\titer_time 0.648895 (0.648895)\n",
      "Epoch 275/300\tIt 0/20\talign_loss 0.545658 (0.545658)\tuniform_loss -3.744168 (-3.744168)\ttotal_loss -3.198510 (-3.198510)\titer_time 0.644250 (0.644250)\n",
      "Epoch 276/300\tIt 0/20\talign_loss 0.510646 (0.510646)\tuniform_loss -3.766189 (-3.766189)\ttotal_loss -3.255543 (-3.255543)\titer_time 0.656784 (0.656784)\n",
      "Epoch 277/300\tIt 0/20\talign_loss 0.514821 (0.514821)\tuniform_loss -3.750765 (-3.750765)\ttotal_loss -3.235944 (-3.235944)\titer_time 0.658624 (0.658624)\n",
      "Epoch 278/300\tIt 0/20\talign_loss 0.535272 (0.535272)\tuniform_loss -3.758625 (-3.758625)\ttotal_loss -3.223353 (-3.223353)\titer_time 0.649485 (0.649485)\n",
      "Epoch 279/300\tIt 0/20\talign_loss 0.545598 (0.545598)\tuniform_loss -3.755491 (-3.755491)\ttotal_loss -3.209893 (-3.209893)\titer_time 0.674063 (0.674063)\n",
      "Epoch 280/300\tIt 0/20\talign_loss 0.524672 (0.524672)\tuniform_loss -3.750583 (-3.750583)\ttotal_loss -3.225912 (-3.225912)\titer_time 0.651936 (0.651936)\n",
      "Epoch 281/300\tIt 0/20\talign_loss 0.522490 (0.522490)\tuniform_loss -3.745690 (-3.745690)\ttotal_loss -3.223201 (-3.223201)\titer_time 0.643338 (0.643338)\n",
      "Epoch 282/300\tIt 0/20\talign_loss 0.536655 (0.536655)\tuniform_loss -3.754628 (-3.754628)\ttotal_loss -3.217973 (-3.217973)\titer_time 0.661893 (0.661893)\n",
      "Epoch 283/300\tIt 0/20\talign_loss 0.579925 (0.579925)\tuniform_loss -3.763458 (-3.763458)\ttotal_loss -3.183533 (-3.183533)\titer_time 0.667932 (0.667932)\n",
      "Epoch 284/300\tIt 0/20\talign_loss 0.537561 (0.537561)\tuniform_loss -3.753114 (-3.753114)\ttotal_loss -3.215553 (-3.215553)\titer_time 0.652680 (0.652680)\n",
      "Epoch 285/300\tIt 0/20\talign_loss 0.545086 (0.545086)\tuniform_loss -3.759274 (-3.759274)\ttotal_loss -3.214188 (-3.214188)\titer_time 0.656409 (0.656409)\n",
      "Epoch 286/300\tIt 0/20\talign_loss 0.545261 (0.545261)\tuniform_loss -3.760644 (-3.760644)\ttotal_loss -3.215383 (-3.215383)\titer_time 0.677384 (0.677384)\n",
      "Epoch 287/300\tIt 0/20\talign_loss 0.552928 (0.552928)\tuniform_loss -3.761793 (-3.761793)\ttotal_loss -3.208865 (-3.208865)\titer_time 0.655138 (0.655138)\n",
      "Epoch 288/300\tIt 0/20\talign_loss 0.525909 (0.525909)\tuniform_loss -3.748483 (-3.748483)\ttotal_loss -3.222574 (-3.222574)\titer_time 0.645624 (0.645624)\n",
      "Epoch 289/300\tIt 0/20\talign_loss 0.529541 (0.529541)\tuniform_loss -3.751777 (-3.751777)\ttotal_loss -3.222236 (-3.222236)\titer_time 0.642442 (0.642442)\n",
      "Epoch 290/300\tIt 0/20\talign_loss 0.520741 (0.520741)\tuniform_loss -3.753119 (-3.753119)\ttotal_loss -3.232378 (-3.232378)\titer_time 0.642021 (0.642021)\n",
      "Epoch 291/300\tIt 0/20\talign_loss 0.534009 (0.534009)\tuniform_loss -3.758596 (-3.758596)\ttotal_loss -3.224587 (-3.224587)\titer_time 0.668190 (0.668190)\n",
      "Epoch 292/300\tIt 0/20\talign_loss 0.550389 (0.550389)\tuniform_loss -3.739168 (-3.739168)\ttotal_loss -3.188779 (-3.188779)\titer_time 0.671538 (0.671538)\n",
      "Epoch 293/300\tIt 0/20\talign_loss 0.509336 (0.509336)\tuniform_loss -3.751091 (-3.751091)\ttotal_loss -3.241755 (-3.241755)\titer_time 0.662632 (0.662632)\n",
      "Epoch 294/300\tIt 0/20\talign_loss 0.539724 (0.539724)\tuniform_loss -3.758164 (-3.758164)\ttotal_loss -3.218441 (-3.218441)\titer_time 0.668010 (0.668010)\n",
      "Epoch 295/300\tIt 0/20\talign_loss 0.508705 (0.508705)\tuniform_loss -3.759973 (-3.759973)\ttotal_loss -3.251267 (-3.251267)\titer_time 0.643718 (0.643718)\n",
      "Epoch 296/300\tIt 0/20\talign_loss 0.513784 (0.513784)\tuniform_loss -3.742946 (-3.742946)\ttotal_loss -3.229162 (-3.229162)\titer_time 0.644770 (0.644770)\n",
      "Epoch 297/300\tIt 0/20\talign_loss 0.507855 (0.507855)\tuniform_loss -3.759416 (-3.759416)\ttotal_loss -3.251560 (-3.251560)\titer_time 0.661975 (0.661975)\n",
      "Epoch 298/300\tIt 0/20\talign_loss 0.551934 (0.551934)\tuniform_loss -3.756129 (-3.756129)\ttotal_loss -3.204195 (-3.204195)\titer_time 0.669340 (0.669340)\n",
      "Epoch 299/300\tIt 0/20\talign_loss 0.533368 (0.533368)\tuniform_loss -3.751391 (-3.751391)\ttotal_loss -3.218022 (-3.218022)\titer_time 0.650226 (0.650226)\n",
      "Saved to ./results/base_joint_256_300_4_sideinformation_align1alpha2_unif1t2_iter0/encoder.pth\n"
     ]
    }
   ],
   "source": [
    "def get_data_loader(opt):\n",
    "    transform = torchvision.transforms.Compose([\n",
    "        torchvision.transforms.RandomResizedCrop(64, scale=(0.08, 1)),\n",
    "        torchvision.transforms.RandomHorizontalFlip(),\n",
    "        torchvision.transforms.ColorJitter(0.4, 0.4, 0.4, 0.4),\n",
    "        torchvision.transforms.RandomGrayscale(p=0.2),\n",
    "        torchvision.transforms.ToTensor(),\n",
    "        torchvision.transforms.Normalize(\n",
    "            (0.44087801806139126, 0.42790631331699347, 0.3867879370752931),\n",
    "            (0.26826768628079806, 0.2610450402318512, 0.26866836876860795),\n",
    "        ),\n",
    "    ])\n",
    "    dataset = TwoAugUnsupervisedDatasetLbl(\n",
    "        torchvision.datasets.STL10(opt.data_folder, 'train', download=True), \n",
    "        transform=transform, \n",
    "        lblmap=old2new )\n",
    "    \n",
    "    return torch.utils.data.DataLoader(dataset, batch_size=opt.batch_size, num_workers=opt.num_workers,\n",
    "                                       shuffle=True, pin_memory=True)\n",
    "\n",
    "\n",
    "print(f'Optimize: {opt.align_w:g} * loss_align(alpha={opt.align_alpha:g}) + {opt.unif_w:g} * loss_uniform(t={opt.unif_t:g})')\n",
    "\n",
    "torch.cuda.set_device(opt.gpus[0])\n",
    "torch.backends.cudnn.deterministic = True\n",
    "torch.backends.cudnn.benchmark = True\n",
    "\n",
    "encoder = SmallAlexNetLbls(n_lbls=len(labels_2_keep)+1,feat_dim=opt.feat_dim).to(opt.gpus[0])\n",
    "\n",
    "optim = torch.optim.SGD(encoder.parameters(), lr=opt.lr,\n",
    "                        momentum=opt.momentum, weight_decay=opt.weight_decay)\n",
    "scheduler = torch.optim.lr_scheduler.MultiStepLR(optim, gamma=opt.lr_decay_rate,\n",
    "                                                 milestones=opt.lr_decay_epochs)\n",
    "\n",
    "loader = get_data_loader(opt)\n",
    "align_meter = AverageMeter('align_loss')\n",
    "unif_meter = AverageMeter('uniform_loss')\n",
    "loss_meter = AverageMeter('total_loss')\n",
    "it_time_meter = AverageMeter('iter_time')\n",
    "\n",
    "for epoch in range(opt.epochs):\n",
    "    align_meter.reset()\n",
    "    unif_meter.reset()\n",
    "    loss_meter.reset()\n",
    "    it_time_meter.reset()\n",
    "    t0 = time.time()\n",
    "    for ii, (im_x, im_y, lbl) in enumerate(loader):\n",
    "        optim.zero_grad()\n",
    "        lbl_one_hot = torch.nn.functional.one_hot(lbl, num_classes=len(labels_2_keep) + 1).to(opt.gpus[0]).repeat(2,1)\n",
    "        x, y = encoder(torch.cat([im_x.to(opt.gpus[0]), im_y.to(opt.gpus[0])]), lbl_one_hot).chunk(2)\n",
    "        \n",
    "        align_loss_val = align_loss(x, y, alpha=opt.align_alpha)\n",
    "        # group according to new_lbls\n",
    "\n",
    "        z = torch.cat( [x, y])\n",
    "        lbl_z = torch.cat([lbl, lbl])\n",
    "        unif_losses = torch.cat([uniform_loss_prelog(z[lbl_z==new_lbl]) for new_lbl in new_lbls])\n",
    "        unif_loss_val = torch.log( torch.mean(unif_losses) )\n",
    "        \n",
    "        loss = align_loss_val * opt.align_w + unif_loss_val * opt.unif_w\n",
    "        align_meter.update(align_loss_val, x.shape[0])\n",
    "        unif_meter.update(unif_loss_val)\n",
    "        loss_meter.update(loss, x.shape[0])\n",
    "        loss.backward()\n",
    "        optim.step()\n",
    "        it_time_meter.update(time.time() - t0)\n",
    "        if ii % opt.log_interval == 0:\n",
    "            print(f\"Epoch {epoch}/{opt.epochs}\\tIt {ii}/{len(loader)}\\t\" +\n",
    "                  f\"{align_meter}\\t{unif_meter}\\t{loss_meter}\\t{it_time_meter}\")\n",
    "        t0 = time.time()\n",
    "    scheduler.step()\n",
    "\n",
    "ckpt_file = os.path.join(opt.save_folder, 'encoder.pth')\n",
    "torch.save(encoder.state_dict(), ckpt_file)\n",
    "print(f'Saved to {ckpt_file}')"
   ]
  },
  {
   "cell_type": "code",
   "execution_count": 7,
   "id": "46dfeed1-b6e6-4cb3-a96b-68fa78bcf010",
   "metadata": {},
   "outputs": [
    {
     "data": {
      "text/plain": [
       "<All keys matched successfully>"
      ]
     },
     "execution_count": 7,
     "metadata": {},
     "output_type": "execute_result"
    }
   ],
   "source": [
    "\"\"\"\n",
    "    Here we  do the linear evaluation, the old labels are provided to the linear objective as one hot\n",
    "\"\"\"\n",
    "import time\n",
    "import argparse\n",
    "\n",
    "import torchvision\n",
    "import torch\n",
    "import torch.nn as nn\n",
    "import torch.nn.functional as F\n",
    "\n",
    "from util import AverageMeter\n",
    "from encoder import SmallAlexNetLbls\n",
    "MODEL_2_LOAD = \"./results/base_200_sideinformation_align1alpha2_unif1t2_iter0/encoder.pth\"\n",
    "MODEL_2_LOAD=\"./results/manual_labels_align1alpha2_unif1t2_iter0/encoder.pth\"\n",
    "MODEL_2_LOAD = \"./results/base_joint_200_4_sideinformation_align1alpha2_unif1t2_iter0/encoder.pth\"\n",
    "MODEL_2_LOAD= \"./results/base_joint_256_300_4_sideinformation_align1alpha2_unif1t2_iter0/encoder.pth\"\n",
    "USE_MOD_LBL = True\n",
    "encoder = SmallAlexNetLbls(n_lbls=len(labels_2_keep) + 1,feat_dim=opt.feat_dim).to(opt.gpus[0])\n",
    "encoder.load_state_dict(torch.load(MODEL_2_LOAD))"
   ]
  },
  {
   "cell_type": "code",
   "execution_count": 8,
   "id": "6f359808-6f8a-4dae-ae69-a3cb46d34ebd",
   "metadata": {},
   "outputs": [
    {
     "data": {
      "text/plain": [
       "encoder.SmallAlexNetLbls"
      ]
     },
     "execution_count": 8,
     "metadata": {},
     "output_type": "execute_result"
    }
   ],
   "source": [
    "type(encoder)"
   ]
  },
  {
   "cell_type": "code",
   "execution_count": 9,
   "id": "00c18248-7d9a-4388-a6e3-e3304ba5f363",
   "metadata": {},
   "outputs": [],
   "source": [
    "def parse_option():\n",
    "    parser = argparse.ArgumentParser('STL-10 Representation Learning with Alignment and Uniformity Losses')\n",
    "\n",
    "    parser.add_argument('--encoder_checkpoint', type=str, help='Encoder checkpoint to evaluate', default=MODEL_2_LOAD)\n",
    "    parser.add_argument('--feat_dim', type=int, default=128, help='Encoder feature dimensionality')\n",
    "    parser.add_argument('--layer_index', type=int, default=-2, help='Evaluation layer')\n",
    "\n",
    "    parser.add_argument('--batch_size', type=int, default=128, help='Batch size')\n",
    "    parser.add_argument('--epochs', type=int, default=100, help='Number of training epochs')\n",
    "    parser.add_argument('--lr', type=float, default=1e-3, help='Learning rate')\n",
    "    parser.add_argument('--lr_decay_rate', type=float, default=0.2, help='Learning rate decay rate')\n",
    "    parser.add_argument('--lr_decay_epochs', type=str, default='60,80', help='When to decay learning rate')\n",
    "\n",
    "    parser.add_argument('--num_workers', type=int, default=6, help='Number of data loader workers to use')\n",
    "    parser.add_argument('--log_interval', type=int, default=40, help='Number of iterations between logs')\n",
    "    parser.add_argument('--gpus', default=[0], nargs='*', type=int,\n",
    "                        help='List of GPU indices to use, e.g., --gpus 0 1 2 3')\n",
    "\n",
    "    parser.add_argument('--data_folder', type=str, default='./data', help='Path to data')\n",
    "\n",
    "    opt = parser.parse_args(\"\")\n",
    "\n",
    "    if opt.lr is None:\n",
    "        opt.lr = 0.12 * (opt.batch_size / 256)\n",
    "\n",
    "    opt.gpu = torch.device('cuda', opt.gpus[0])\n",
    "    opt.lr_decay_epochs = list(map(int, opt.lr_decay_epochs.split(',')))\n",
    "\n",
    "    return opt\n",
    "\n",
    "\n",
    "class DatasetModifiedLbl(torch.utils.data.Dataset):\n",
    "    r\"\"\"Returns two augmentation and no labels.\"\"\"\n",
    "\n",
    "    def __init__(self, dataset, lblmap=None):\n",
    "        self.dataset = dataset\n",
    "        self.lblmap = copy.deepcopy(lblmap)\n",
    "\n",
    "    def __getitem__(self, index):\n",
    "        image, lbl = self.dataset[index]\n",
    "        lbl2return = lbl if self.lblmap is None else self.lblmap[lbl]\n",
    "        return image, lbl2return\n",
    "\n",
    "    def __len__(self):\n",
    "        return len(self.dataset)"
   ]
  },
  {
   "cell_type": "code",
   "execution_count": 10,
   "id": "42651724-4da3-439f-b35d-f15b322ebc46",
   "metadata": {},
   "outputs": [],
   "source": [
    "class DatasetModifiedLblandLbl(torch.utils.data.Dataset):\n",
    "    r\"\"\"Returns two augmentation and no labels.\"\"\"\n",
    "\n",
    "    def __init__(self, dataset, lblmap):\n",
    "        self.dataset = dataset\n",
    "        self.lblmap = copy.deepcopy(lblmap)\n",
    "\n",
    "    def __getitem__(self, index):\n",
    "        image, lbl = self.dataset[index]\n",
    "        return image, self.lblmap[lbl], lbl\n",
    "\n",
    "    def __len__(self):\n",
    "        return len(self.dataset)"
   ]
  },
  {
   "cell_type": "code",
   "execution_count": 11,
   "id": "bb10fe91-33c3-4ee2-b5b7-d3f1011380de",
   "metadata": {},
   "outputs": [],
   "source": [
    "def get_data_loaders(opt):\n",
    "    train_transform = torchvision.transforms.Compose([\n",
    "        torchvision.transforms.RandomResizedCrop(64, scale=(0.08, 1)),\n",
    "        torchvision.transforms.ToTensor(),\n",
    "        torchvision.transforms.Normalize(\n",
    "            (0.44087801806139126, 0.42790631331699347, 0.3867879370752931),\n",
    "            (0.26826768628079806, 0.2610450402318512, 0.26866836876860795),\n",
    "        ),\n",
    "        torchvision.transforms.RandomHorizontalFlip()\n",
    "    ])\n",
    "    val_transform = torchvision.transforms.Compose([\n",
    "        torchvision.transforms.Resize(70),\n",
    "        torchvision.transforms.CenterCrop(64),\n",
    "        torchvision.transforms.ToTensor(),\n",
    "        torchvision.transforms.Normalize(\n",
    "            (0.44087801806139126, 0.42790631331699347, 0.3867879370752931),\n",
    "            (0.26826768628079806, 0.2610450402318512, 0.26866836876860795),\n",
    "        ),\n",
    "    ])\n",
    "    train_dataset = DatasetModifiedLblandLbl( torchvision.datasets.STL10(opt.data_folder, 'train', download=True, transform=train_transform), lblmap=old2new)\n",
    "    val_dataset =  DatasetModifiedLblandLbl( torchvision.datasets.STL10(opt.data_folder, 'test', transform=val_transform), lblmap=old2new)\n",
    "    train_loader = torch.utils.data.DataLoader(train_dataset, batch_size=opt.batch_size,\n",
    "                                               num_workers=opt.num_workers, shuffle=True, pin_memory=True)\n",
    "    val_loader = torch.utils.data.DataLoader(val_dataset, batch_size=opt.batch_size,\n",
    "                                             num_workers=opt.num_workers, pin_memory=True)\n",
    "    return train_loader, val_loader\n",
    "\n",
    "\n",
    "def validate_comb(opt, encoder, classifier, val_loader):\n",
    "    correct = 0\n",
    "    with torch.no_grad():\n",
    "        for images, labels_mod, labels_act in val_loader:\n",
    "            labels_mod_onehot = torch.nn.functional.one_hot(labels_mod,num_classes=len(labels_2_keep) + 1).to(opt.gpus[0])\n",
    "            pred = classifier(torch.cat( (encoder(images.to(opt.gpus[0]), labels_mod_onehot, layer_index=opt.layer_index).flatten(1),  labels_mod_onehot ), dim=1)).argmax(dim=1)\n",
    "            correct += (pred.cpu() == labels_act).sum().item()\n",
    "    return correct / len(val_loader.dataset)\n",
    "\n",
    "def validate(opt, encoder, classifier, val_loader):\n",
    "    correct = 0\n",
    "    with torch.no_grad():\n",
    "        for images, labels_mod, labels_act in val_loader:\n",
    "            labels_mod_onehot = torch.nn.functional.one_hot(labels_mod,num_classes=len(labels_2_keep) + 1).to(opt.gpus[0])\n",
    "            pred = classifier( encoder(images.to(opt.gpus[0]),labels_mod_onehot, layer_index=opt.layer_index).flatten(1) ).argmax(dim=1)\n",
    "            correct += (pred.cpu() == labels_act).sum().item()\n",
    "    return correct / len(val_loader.dataset)"
   ]
  },
  {
   "cell_type": "code",
   "execution_count": 12,
   "id": "146282ba-d904-4d56-ae75-491417d7eb3c",
   "metadata": {},
   "outputs": [],
   "source": [
    "opt.gpu=opt.gpus[0]"
   ]
  },
  {
   "cell_type": "code",
   "execution_count": 13,
   "id": "555835ea-0678-4de1-bc37-388c0aae3dbd",
   "metadata": {},
   "outputs": [
    {
     "data": {
      "text/plain": [
       "encoder.SmallAlexNetLbls"
      ]
     },
     "execution_count": 13,
     "metadata": {},
     "output_type": "execute_result"
    }
   ],
   "source": [
    "_"
   ]
  },
  {
   "cell_type": "code",
   "execution_count": 15,
   "id": "7b0e8d1a-d5f1-4580-9ad6-37b38c2827ef",
   "metadata": {},
   "outputs": [
    {
     "name": "stdout",
     "output_type": "stream",
     "text": [
      "Files already downloaded and verified\n",
      "Feature dimension: 4096\n"
     ]
    },
    {
     "name": "stderr",
     "output_type": "stream",
     "text": [
      "  0%|                                                                                                                                                  | 0/300 [00:00<?, ?it/s]"
     ]
    },
    {
     "name": "stdout",
     "output_type": "stream",
     "text": [
      "Epoch 0/100\tIt 0/40\tloss 2.339645 (2.339645)\titer_time 0.162641 (0.162641)\n"
     ]
    },
    {
     "name": "stderr",
     "output_type": "stream",
     "text": [
      "  0%|▍                                                                                                                                         | 1/300 [00:01<09:30,  1.91s/it]"
     ]
    },
    {
     "name": "stdout",
     "output_type": "stream",
     "text": [
      "Epoch 0/100\tval_acc 55.34%\n",
      "Epoch 1/100\tIt 0/40\tloss 1.105307 (1.105307)\titer_time 0.196209 (0.196209)\n"
     ]
    },
    {
     "name": "stderr",
     "output_type": "stream",
     "text": [
      "  1%|▉                                                                                                                                         | 2/300 [00:03<09:29,  1.91s/it]"
     ]
    },
    {
     "name": "stdout",
     "output_type": "stream",
     "text": [
      "Epoch 1/100\tval_acc 67.2%\n",
      "Epoch 2/100\tIt 0/40\tloss 0.908647 (0.908647)\titer_time 0.191728 (0.191728)\n"
     ]
    },
    {
     "name": "stderr",
     "output_type": "stream",
     "text": [
      "  1%|█▍                                                                                                                                        | 3/300 [00:05<09:31,  1.92s/it]"
     ]
    },
    {
     "name": "stdout",
     "output_type": "stream",
     "text": [
      "Epoch 2/100\tval_acc 66.65%\n",
      "Epoch 3/100\tIt 0/40\tloss 1.181084 (1.181084)\titer_time 0.196106 (0.196106)\n"
     ]
    },
    {
     "name": "stderr",
     "output_type": "stream",
     "text": [
      "  1%|█▊                                                                                                                                        | 4/300 [00:07<09:29,  1.93s/it]"
     ]
    },
    {
     "name": "stdout",
     "output_type": "stream",
     "text": [
      "Epoch 3/100\tval_acc 69.51%\n",
      "Epoch 4/100\tIt 0/40\tloss 0.945611 (0.945611)\titer_time 0.160824 (0.160824)\n"
     ]
    },
    {
     "name": "stderr",
     "output_type": "stream",
     "text": [
      "  2%|██▎                                                                                                                                       | 5/300 [00:09<09:23,  1.91s/it]"
     ]
    },
    {
     "name": "stdout",
     "output_type": "stream",
     "text": [
      "Epoch 4/100\tval_acc 68.69%\n",
      "Epoch 5/100\tIt 0/40\tloss 0.894147 (0.894147)\titer_time 0.193712 (0.193712)\n"
     ]
    },
    {
     "name": "stderr",
     "output_type": "stream",
     "text": [
      "  2%|██▊                                                                                                                                       | 6/300 [00:11<09:23,  1.92s/it]"
     ]
    },
    {
     "name": "stdout",
     "output_type": "stream",
     "text": [
      "Epoch 5/100\tval_acc 69.33%\n",
      "Epoch 6/100\tIt 0/40\tloss 0.788599 (0.788599)\titer_time 0.178849 (0.178849)\n"
     ]
    },
    {
     "name": "stderr",
     "output_type": "stream",
     "text": [
      "  2%|███▏                                                                                                                                      | 7/300 [00:13<09:20,  1.91s/it]"
     ]
    },
    {
     "name": "stdout",
     "output_type": "stream",
     "text": [
      "Epoch 6/100\tval_acc 69.46%\n",
      "Epoch 7/100\tIt 0/40\tloss 0.952060 (0.952060)\titer_time 0.164080 (0.164080)\n"
     ]
    },
    {
     "name": "stderr",
     "output_type": "stream",
     "text": [
      "  3%|███▋                                                                                                                                      | 8/300 [00:15<09:20,  1.92s/it]"
     ]
    },
    {
     "name": "stdout",
     "output_type": "stream",
     "text": [
      "Epoch 7/100\tval_acc 74.12%\n",
      "Epoch 8/100\tIt 0/40\tloss 0.750865 (0.750865)\titer_time 0.162941 (0.162941)\n"
     ]
    },
    {
     "name": "stderr",
     "output_type": "stream",
     "text": [
      "  3%|████▏                                                                                                                                     | 9/300 [00:17<09:15,  1.91s/it]"
     ]
    },
    {
     "name": "stdout",
     "output_type": "stream",
     "text": [
      "Epoch 8/100\tval_acc 70.01%\n",
      "Epoch 9/100\tIt 0/40\tloss 0.775425 (0.775425)\titer_time 0.181781 (0.181781)\n"
     ]
    },
    {
     "name": "stderr",
     "output_type": "stream",
     "text": [
      "  3%|████▌                                                                                                                                    | 10/300 [00:19<09:13,  1.91s/it]"
     ]
    },
    {
     "name": "stdout",
     "output_type": "stream",
     "text": [
      "Epoch 9/100\tval_acc 70.96%\n",
      "Epoch 10/100\tIt 0/40\tloss 0.784923 (0.784923)\titer_time 0.161942 (0.161942)\n"
     ]
    },
    {
     "name": "stderr",
     "output_type": "stream",
     "text": [
      "  4%|█████                                                                                                                                    | 11/300 [00:21<09:12,  1.91s/it]"
     ]
    },
    {
     "name": "stdout",
     "output_type": "stream",
     "text": [
      "Epoch 10/100\tval_acc 70.51%\n",
      "Epoch 11/100\tIt 0/40\tloss 1.050940 (1.050940)\titer_time 0.164846 (0.164846)\n"
     ]
    },
    {
     "name": "stderr",
     "output_type": "stream",
     "text": [
      "  4%|█████▍                                                                                                                                   | 12/300 [00:22<09:10,  1.91s/it]"
     ]
    },
    {
     "name": "stdout",
     "output_type": "stream",
     "text": [
      "Epoch 11/100\tval_acc 71.29%\n",
      "Epoch 12/100\tIt 0/40\tloss 0.651591 (0.651591)\titer_time 0.161737 (0.161737)\n"
     ]
    },
    {
     "name": "stderr",
     "output_type": "stream",
     "text": [
      "  4%|█████▉                                                                                                                                   | 13/300 [00:24<09:08,  1.91s/it]"
     ]
    },
    {
     "name": "stdout",
     "output_type": "stream",
     "text": [
      "Epoch 12/100\tval_acc 67.8%\n",
      "Epoch 13/100\tIt 0/40\tloss 0.811114 (0.811114)\titer_time 0.168574 (0.168574)\n"
     ]
    },
    {
     "name": "stderr",
     "output_type": "stream",
     "text": [
      "  5%|██████▍                                                                                                                                  | 14/300 [00:26<09:07,  1.91s/it]"
     ]
    },
    {
     "name": "stdout",
     "output_type": "stream",
     "text": [
      "Epoch 13/100\tval_acc 63.08%\n",
      "Epoch 14/100\tIt 0/40\tloss 1.150851 (1.150851)\titer_time 0.196935 (0.196935)\n"
     ]
    },
    {
     "name": "stderr",
     "output_type": "stream",
     "text": [
      "  5%|██████▊                                                                                                                                  | 15/300 [00:28<09:05,  1.91s/it]"
     ]
    },
    {
     "name": "stdout",
     "output_type": "stream",
     "text": [
      "Epoch 14/100\tval_acc 71.51%\n",
      "Epoch 15/100\tIt 0/40\tloss 0.769827 (0.769827)\titer_time 0.164417 (0.164417)\n"
     ]
    },
    {
     "name": "stderr",
     "output_type": "stream",
     "text": [
      "  5%|███████▎                                                                                                                                 | 16/300 [00:30<09:01,  1.91s/it]"
     ]
    },
    {
     "name": "stdout",
     "output_type": "stream",
     "text": [
      "Epoch 15/100\tval_acc 67.89%\n",
      "Epoch 16/100\tIt 0/40\tloss 0.915262 (0.915262)\titer_time 0.196934 (0.196934)\n"
     ]
    },
    {
     "name": "stderr",
     "output_type": "stream",
     "text": [
      "  6%|███████▊                                                                                                                                 | 17/300 [00:32<09:01,  1.91s/it]"
     ]
    },
    {
     "name": "stdout",
     "output_type": "stream",
     "text": [
      "Epoch 16/100\tval_acc 72.76%\n",
      "Epoch 17/100\tIt 0/40\tloss 0.748106 (0.748106)\titer_time 0.160312 (0.160312)\n"
     ]
    },
    {
     "name": "stderr",
     "output_type": "stream",
     "text": [
      "  6%|████████▏                                                                                                                                | 18/300 [00:34<08:57,  1.90s/it]"
     ]
    },
    {
     "name": "stdout",
     "output_type": "stream",
     "text": [
      "Epoch 17/100\tval_acc 71.43%\n",
      "Epoch 18/100\tIt 0/40\tloss 0.791917 (0.791917)\titer_time 0.171667 (0.171667)\n"
     ]
    },
    {
     "name": "stderr",
     "output_type": "stream",
     "text": [
      "  6%|████████▋                                                                                                                                | 19/300 [00:36<08:56,  1.91s/it]"
     ]
    },
    {
     "name": "stdout",
     "output_type": "stream",
     "text": [
      "Epoch 18/100\tval_acc 72.8%\n",
      "Epoch 19/100\tIt 0/40\tloss 0.651512 (0.651512)\titer_time 0.195307 (0.195307)\n"
     ]
    },
    {
     "name": "stderr",
     "output_type": "stream",
     "text": [
      "  7%|█████████▏                                                                                                                               | 20/300 [00:38<08:55,  1.91s/it]"
     ]
    },
    {
     "name": "stdout",
     "output_type": "stream",
     "text": [
      "Epoch 19/100\tval_acc 70.33%\n",
      "Epoch 20/100\tIt 0/40\tloss 0.861616 (0.861616)\titer_time 0.160445 (0.160445)\n"
     ]
    },
    {
     "name": "stderr",
     "output_type": "stream",
     "text": [
      "  7%|█████████▌                                                                                                                               | 21/300 [00:40<08:53,  1.91s/it]"
     ]
    },
    {
     "name": "stdout",
     "output_type": "stream",
     "text": [
      "Epoch 20/100\tval_acc 73.17%\n",
      "Epoch 21/100\tIt 0/40\tloss 0.702018 (0.702018)\titer_time 0.161341 (0.161341)\n"
     ]
    },
    {
     "name": "stderr",
     "output_type": "stream",
     "text": [
      "  7%|██████████                                                                                                                               | 22/300 [00:42<08:52,  1.91s/it]"
     ]
    },
    {
     "name": "stdout",
     "output_type": "stream",
     "text": [
      "Epoch 21/100\tval_acc 73.86%\n",
      "Epoch 22/100\tIt 0/40\tloss 0.833591 (0.833591)\titer_time 0.164433 (0.164433)\n"
     ]
    },
    {
     "name": "stderr",
     "output_type": "stream",
     "text": [
      "  8%|██████████▌                                                                                                                              | 23/300 [00:43<08:47,  1.90s/it]"
     ]
    },
    {
     "name": "stdout",
     "output_type": "stream",
     "text": [
      "Epoch 22/100\tval_acc 73.04%\n",
      "Epoch 23/100\tIt 0/40\tloss 0.532020 (0.532020)\titer_time 0.199179 (0.199179)\n"
     ]
    },
    {
     "name": "stderr",
     "output_type": "stream",
     "text": [
      "  8%|██████████▉                                                                                                                              | 24/300 [00:45<08:48,  1.92s/it]"
     ]
    },
    {
     "name": "stdout",
     "output_type": "stream",
     "text": [
      "Epoch 23/100\tval_acc 74.49%\n",
      "Epoch 24/100\tIt 0/40\tloss 0.663429 (0.663429)\titer_time 0.197477 (0.197477)\n"
     ]
    },
    {
     "name": "stderr",
     "output_type": "stream",
     "text": [
      "  8%|███████████▍                                                                                                                             | 25/300 [00:47<08:49,  1.93s/it]"
     ]
    },
    {
     "name": "stdout",
     "output_type": "stream",
     "text": [
      "Epoch 24/100\tval_acc 75.34%\n",
      "Epoch 25/100\tIt 0/40\tloss 0.569364 (0.569364)\titer_time 0.203192 (0.203192)\n"
     ]
    },
    {
     "name": "stderr",
     "output_type": "stream",
     "text": [
      "  9%|███████████▊                                                                                                                             | 26/300 [00:49<08:47,  1.92s/it]"
     ]
    },
    {
     "name": "stdout",
     "output_type": "stream",
     "text": [
      "Epoch 25/100\tval_acc 73.05%\n",
      "Epoch 26/100\tIt 0/40\tloss 0.679083 (0.679083)\titer_time 0.174297 (0.174297)\n"
     ]
    },
    {
     "name": "stderr",
     "output_type": "stream",
     "text": [
      "  9%|████████████▎                                                                                                                            | 27/300 [00:51<08:45,  1.92s/it]"
     ]
    },
    {
     "name": "stdout",
     "output_type": "stream",
     "text": [
      "Epoch 26/100\tval_acc 75.52%\n",
      "Epoch 27/100\tIt 0/40\tloss 0.563095 (0.563095)\titer_time 0.200249 (0.200249)\n"
     ]
    },
    {
     "name": "stderr",
     "output_type": "stream",
     "text": [
      "  9%|████████████▊                                                                                                                            | 28/300 [00:53<08:45,  1.93s/it]"
     ]
    },
    {
     "name": "stdout",
     "output_type": "stream",
     "text": [
      "Epoch 27/100\tval_acc 71.09%\n",
      "Epoch 28/100\tIt 0/40\tloss 0.753445 (0.753445)\titer_time 0.195487 (0.195487)\n"
     ]
    },
    {
     "name": "stderr",
     "output_type": "stream",
     "text": [
      " 10%|█████████████▏                                                                                                                           | 29/300 [00:55<08:44,  1.94s/it]"
     ]
    },
    {
     "name": "stdout",
     "output_type": "stream",
     "text": [
      "Epoch 28/100\tval_acc 75.96%\n",
      "Epoch 29/100\tIt 0/40\tloss 0.548206 (0.548206)\titer_time 0.178424 (0.178424)\n"
     ]
    },
    {
     "name": "stderr",
     "output_type": "stream",
     "text": [
      " 10%|█████████████▋                                                                                                                           | 30/300 [00:57<08:38,  1.92s/it]"
     ]
    },
    {
     "name": "stdout",
     "output_type": "stream",
     "text": [
      "Epoch 29/100\tval_acc 75.94%\n",
      "Epoch 30/100\tIt 0/40\tloss 0.563700 (0.563700)\titer_time 0.167848 (0.167848)\n"
     ]
    },
    {
     "name": "stderr",
     "output_type": "stream",
     "text": [
      " 10%|██████████████▏                                                                                                                          | 31/300 [00:59<08:35,  1.92s/it]"
     ]
    },
    {
     "name": "stdout",
     "output_type": "stream",
     "text": [
      "Epoch 30/100\tval_acc 72.61%\n",
      "Epoch 31/100\tIt 0/40\tloss 0.709929 (0.709929)\titer_time 0.195707 (0.195707)\n"
     ]
    },
    {
     "name": "stderr",
     "output_type": "stream",
     "text": [
      " 11%|██████████████▌                                                                                                                          | 32/300 [01:01<08:36,  1.93s/it]"
     ]
    },
    {
     "name": "stdout",
     "output_type": "stream",
     "text": [
      "Epoch 31/100\tval_acc 75.51%\n",
      "Epoch 32/100\tIt 0/40\tloss 0.575070 (0.575070)\titer_time 0.165015 (0.165015)\n"
     ]
    },
    {
     "name": "stderr",
     "output_type": "stream",
     "text": [
      " 11%|███████████████                                                                                                                          | 33/300 [01:03<08:34,  1.93s/it]"
     ]
    },
    {
     "name": "stdout",
     "output_type": "stream",
     "text": [
      "Epoch 32/100\tval_acc 68.46%\n",
      "Epoch 33/100\tIt 0/40\tloss 0.793839 (0.793839)\titer_time 0.195134 (0.195134)\n"
     ]
    },
    {
     "name": "stderr",
     "output_type": "stream",
     "text": [
      " 11%|███████████████▌                                                                                                                         | 34/300 [01:05<08:33,  1.93s/it]"
     ]
    },
    {
     "name": "stdout",
     "output_type": "stream",
     "text": [
      "Epoch 33/100\tval_acc 75.19%\n",
      "Epoch 34/100\tIt 0/40\tloss 0.642774 (0.642774)\titer_time 0.176584 (0.176584)\n"
     ]
    },
    {
     "name": "stderr",
     "output_type": "stream",
     "text": [
      " 12%|███████████████▉                                                                                                                         | 35/300 [01:07<08:31,  1.93s/it]"
     ]
    },
    {
     "name": "stdout",
     "output_type": "stream",
     "text": [
      "Epoch 34/100\tval_acc 74.5%\n",
      "Epoch 35/100\tIt 0/40\tloss 0.521672 (0.521672)\titer_time 0.163620 (0.163620)\n"
     ]
    },
    {
     "name": "stderr",
     "output_type": "stream",
     "text": [
      " 12%|████████████████▍                                                                                                                        | 36/300 [01:09<08:28,  1.93s/it]"
     ]
    },
    {
     "name": "stdout",
     "output_type": "stream",
     "text": [
      "Epoch 35/100\tval_acc 70.34%\n",
      "Epoch 36/100\tIt 0/40\tloss 0.726657 (0.726657)\titer_time 0.197120 (0.197120)\n"
     ]
    },
    {
     "name": "stderr",
     "output_type": "stream",
     "text": [
      " 12%|████████████████▉                                                                                                                        | 37/300 [01:11<08:28,  1.93s/it]"
     ]
    },
    {
     "name": "stdout",
     "output_type": "stream",
     "text": [
      "Epoch 36/100\tval_acc 75.69%\n",
      "Epoch 37/100\tIt 0/40\tloss 0.685239 (0.685239)\titer_time 0.166139 (0.166139)\n"
     ]
    },
    {
     "name": "stderr",
     "output_type": "stream",
     "text": [
      " 13%|█████████████████▎                                                                                                                       | 38/300 [01:12<08:25,  1.93s/it]"
     ]
    },
    {
     "name": "stdout",
     "output_type": "stream",
     "text": [
      "Epoch 37/100\tval_acc 71.71%\n",
      "Epoch 38/100\tIt 0/40\tloss 0.847664 (0.847664)\titer_time 0.163364 (0.163364)\n"
     ]
    },
    {
     "name": "stderr",
     "output_type": "stream",
     "text": [
      " 13%|█████████████████▊                                                                                                                       | 39/300 [01:14<08:21,  1.92s/it]"
     ]
    },
    {
     "name": "stdout",
     "output_type": "stream",
     "text": [
      "Epoch 38/100\tval_acc 68.15%\n",
      "Epoch 39/100\tIt 0/40\tloss 0.836805 (0.836805)\titer_time 0.200916 (0.200916)\n"
     ]
    },
    {
     "name": "stderr",
     "output_type": "stream",
     "text": [
      " 13%|██████████████████▎                                                                                                                      | 40/300 [01:16<08:20,  1.93s/it]"
     ]
    },
    {
     "name": "stdout",
     "output_type": "stream",
     "text": [
      "Epoch 39/100\tval_acc 72.56%\n",
      "Epoch 40/100\tIt 0/40\tloss 0.626631 (0.626631)\titer_time 0.197263 (0.197263)\n"
     ]
    },
    {
     "name": "stderr",
     "output_type": "stream",
     "text": [
      " 14%|██████████████████▋                                                                                                                      | 41/300 [01:18<08:18,  1.93s/it]"
     ]
    },
    {
     "name": "stdout",
     "output_type": "stream",
     "text": [
      "Epoch 40/100\tval_acc 67.71%\n",
      "Epoch 41/100\tIt 0/40\tloss 0.767045 (0.767045)\titer_time 0.196594 (0.196594)\n"
     ]
    },
    {
     "name": "stderr",
     "output_type": "stream",
     "text": [
      " 14%|███████████████████▏                                                                                                                     | 42/300 [01:20<08:18,  1.93s/it]"
     ]
    },
    {
     "name": "stdout",
     "output_type": "stream",
     "text": [
      "Epoch 41/100\tval_acc 70.19%\n",
      "Epoch 42/100\tIt 0/40\tloss 0.861194 (0.861194)\titer_time 0.194753 (0.194753)\n"
     ]
    },
    {
     "name": "stderr",
     "output_type": "stream",
     "text": [
      " 14%|███████████████████▋                                                                                                                     | 43/300 [01:22<08:16,  1.93s/it]"
     ]
    },
    {
     "name": "stdout",
     "output_type": "stream",
     "text": [
      "Epoch 42/100\tval_acc 73.91%\n",
      "Epoch 43/100\tIt 0/40\tloss 0.685336 (0.685336)\titer_time 0.178963 (0.178963)\n"
     ]
    },
    {
     "name": "stderr",
     "output_type": "stream",
     "text": [
      " 15%|████████████████████                                                                                                                     | 44/300 [01:24<08:14,  1.93s/it]"
     ]
    },
    {
     "name": "stdout",
     "output_type": "stream",
     "text": [
      "Epoch 43/100\tval_acc 71.35%\n",
      "Epoch 44/100\tIt 0/40\tloss 0.676929 (0.676929)\titer_time 0.181473 (0.181473)\n"
     ]
    },
    {
     "name": "stderr",
     "output_type": "stream",
     "text": [
      " 15%|████████████████████▌                                                                                                                    | 45/300 [01:26<08:12,  1.93s/it]"
     ]
    },
    {
     "name": "stdout",
     "output_type": "stream",
     "text": [
      "Epoch 44/100\tval_acc 70.06%\n",
      "Epoch 45/100\tIt 0/40\tloss 0.601702 (0.601702)\titer_time 0.164586 (0.164586)\n"
     ]
    },
    {
     "name": "stderr",
     "output_type": "stream",
     "text": [
      " 15%|█████████████████████                                                                                                                    | 46/300 [01:28<08:08,  1.92s/it]"
     ]
    },
    {
     "name": "stdout",
     "output_type": "stream",
     "text": [
      "Epoch 45/100\tval_acc 72.34%\n",
      "Epoch 46/100\tIt 0/40\tloss 0.480714 (0.480714)\titer_time 0.172827 (0.172827)\n"
     ]
    },
    {
     "name": "stderr",
     "output_type": "stream",
     "text": [
      " 16%|█████████████████████▍                                                                                                                   | 47/300 [01:30<08:04,  1.92s/it]"
     ]
    },
    {
     "name": "stdout",
     "output_type": "stream",
     "text": [
      "Epoch 46/100\tval_acc 75.88%\n",
      "Epoch 47/100\tIt 0/40\tloss 0.535451 (0.535451)\titer_time 0.198700 (0.198700)\n"
     ]
    },
    {
     "name": "stderr",
     "output_type": "stream",
     "text": [
      " 16%|█████████████████████▉                                                                                                                   | 48/300 [01:32<08:04,  1.92s/it]"
     ]
    },
    {
     "name": "stdout",
     "output_type": "stream",
     "text": [
      "Epoch 47/100\tval_acc 65.29%\n",
      "Epoch 48/100\tIt 0/40\tloss 0.856559 (0.856559)\titer_time 0.196808 (0.196808)\n"
     ]
    },
    {
     "name": "stderr",
     "output_type": "stream",
     "text": [
      " 16%|██████████████████████▍                                                                                                                  | 49/300 [01:34<08:04,  1.93s/it]"
     ]
    },
    {
     "name": "stdout",
     "output_type": "stream",
     "text": [
      "Epoch 48/100\tval_acc 71.09%\n",
      "Epoch 49/100\tIt 0/40\tloss 0.611419 (0.611419)\titer_time 0.191519 (0.191519)\n"
     ]
    },
    {
     "name": "stderr",
     "output_type": "stream",
     "text": [
      " 17%|██████████████████████▊                                                                                                                  | 50/300 [01:36<08:00,  1.92s/it]"
     ]
    },
    {
     "name": "stdout",
     "output_type": "stream",
     "text": [
      "Epoch 49/100\tval_acc 76.64%\n",
      "Epoch 50/100\tIt 0/40\tloss 0.413929 (0.413929)\titer_time 0.160407 (0.160407)\n"
     ]
    },
    {
     "name": "stderr",
     "output_type": "stream",
     "text": [
      " 17%|███████████████████████▎                                                                                                                 | 51/300 [01:37<07:58,  1.92s/it]"
     ]
    },
    {
     "name": "stdout",
     "output_type": "stream",
     "text": [
      "Epoch 50/100\tval_acc 74.71%\n",
      "Epoch 51/100\tIt 0/40\tloss 0.456731 (0.456731)\titer_time 0.175637 (0.175637)\n"
     ]
    },
    {
     "name": "stderr",
     "output_type": "stream",
     "text": [
      " 17%|███████████████████████▋                                                                                                                 | 52/300 [01:39<07:55,  1.92s/it]"
     ]
    },
    {
     "name": "stdout",
     "output_type": "stream",
     "text": [
      "Epoch 51/100\tval_acc 71.05%\n",
      "Epoch 52/100\tIt 0/40\tloss 0.611841 (0.611841)\titer_time 0.165087 (0.165087)\n"
     ]
    },
    {
     "name": "stderr",
     "output_type": "stream",
     "text": [
      " 18%|████████████████████████▏                                                                                                                | 53/300 [01:41<07:51,  1.91s/it]"
     ]
    },
    {
     "name": "stdout",
     "output_type": "stream",
     "text": [
      "Epoch 52/100\tval_acc 70.66%\n",
      "Epoch 53/100\tIt 0/40\tloss 0.719655 (0.719655)\titer_time 0.160030 (0.160030)\n"
     ]
    },
    {
     "name": "stderr",
     "output_type": "stream",
     "text": [
      " 18%|████████████████████████▋                                                                                                                | 54/300 [01:43<07:48,  1.90s/it]"
     ]
    },
    {
     "name": "stdout",
     "output_type": "stream",
     "text": [
      "Epoch 53/100\tval_acc 63.59%\n",
      "Epoch 54/100\tIt 0/40\tloss 0.864085 (0.864085)\titer_time 0.159310 (0.159310)\n"
     ]
    },
    {
     "name": "stderr",
     "output_type": "stream",
     "text": [
      " 18%|█████████████████████████                                                                                                                | 55/300 [01:45<07:45,  1.90s/it]"
     ]
    },
    {
     "name": "stdout",
     "output_type": "stream",
     "text": [
      "Epoch 54/100\tval_acc 67.79%\n",
      "Epoch 55/100\tIt 0/40\tloss 0.787096 (0.787096)\titer_time 0.196391 (0.196391)\n"
     ]
    },
    {
     "name": "stderr",
     "output_type": "stream",
     "text": [
      " 19%|█████████████████████████▌                                                                                                               | 56/300 [01:47<07:45,  1.91s/it]"
     ]
    },
    {
     "name": "stdout",
     "output_type": "stream",
     "text": [
      "Epoch 55/100\tval_acc 72.19%\n",
      "Epoch 56/100\tIt 0/40\tloss 0.624031 (0.624031)\titer_time 0.160790 (0.160790)\n"
     ]
    },
    {
     "name": "stderr",
     "output_type": "stream",
     "text": [
      " 19%|██████████████████████████                                                                                                               | 57/300 [01:49<07:44,  1.91s/it]"
     ]
    },
    {
     "name": "stdout",
     "output_type": "stream",
     "text": [
      "Epoch 56/100\tval_acc 70.35%\n",
      "Epoch 57/100\tIt 0/40\tloss 0.710192 (0.710192)\titer_time 0.161025 (0.161025)\n"
     ]
    },
    {
     "name": "stderr",
     "output_type": "stream",
     "text": [
      " 19%|██████████████████████████▍                                                                                                              | 58/300 [01:51<07:42,  1.91s/it]"
     ]
    },
    {
     "name": "stdout",
     "output_type": "stream",
     "text": [
      "Epoch 57/100\tval_acc 74.42%\n",
      "Epoch 58/100\tIt 0/40\tloss 0.559201 (0.559201)\titer_time 0.161946 (0.161946)\n"
     ]
    },
    {
     "name": "stderr",
     "output_type": "stream",
     "text": [
      " 20%|██████████████████████████▉                                                                                                              | 59/300 [01:53<07:39,  1.91s/it]"
     ]
    },
    {
     "name": "stdout",
     "output_type": "stream",
     "text": [
      "Epoch 58/100\tval_acc 73.06%\n",
      "Epoch 59/100\tIt 0/40\tloss 0.768336 (0.768336)\titer_time 0.183095 (0.183095)\n"
     ]
    },
    {
     "name": "stderr",
     "output_type": "stream",
     "text": [
      " 20%|███████████████████████████▍                                                                                                             | 60/300 [01:55<07:37,  1.90s/it]"
     ]
    },
    {
     "name": "stdout",
     "output_type": "stream",
     "text": [
      "Epoch 59/100\tval_acc 72.8%\n",
      "Epoch 60/100\tIt 0/40\tloss 0.595649 (0.595649)\titer_time 0.180991 (0.180991)\n"
     ]
    },
    {
     "name": "stderr",
     "output_type": "stream",
     "text": [
      " 20%|███████████████████████████▊                                                                                                             | 61/300 [01:56<07:34,  1.90s/it]"
     ]
    },
    {
     "name": "stdout",
     "output_type": "stream",
     "text": [
      "Epoch 60/100\tval_acc 78%\n",
      "Epoch 61/100\tIt 0/40\tloss 0.462458 (0.462458)\titer_time 0.167952 (0.167952)\n"
     ]
    },
    {
     "name": "stderr",
     "output_type": "stream",
     "text": [
      " 21%|████████████████████████████▎                                                                                                            | 62/300 [01:58<07:33,  1.90s/it]"
     ]
    },
    {
     "name": "stdout",
     "output_type": "stream",
     "text": [
      "Epoch 61/100\tval_acc 77.36%\n",
      "Epoch 62/100\tIt 0/40\tloss 0.601639 (0.601639)\titer_time 0.195005 (0.195005)\n"
     ]
    },
    {
     "name": "stderr",
     "output_type": "stream",
     "text": [
      " 21%|████████████████████████████▊                                                                                                            | 63/300 [02:00<07:32,  1.91s/it]"
     ]
    },
    {
     "name": "stdout",
     "output_type": "stream",
     "text": [
      "Epoch 62/100\tval_acc 78.22%\n",
      "Epoch 63/100\tIt 0/40\tloss 0.522745 (0.522745)\titer_time 0.184485 (0.184485)\n"
     ]
    },
    {
     "name": "stderr",
     "output_type": "stream",
     "text": [
      " 21%|█████████████████████████████▏                                                                                                           | 64/300 [02:02<07:33,  1.92s/it]"
     ]
    },
    {
     "name": "stdout",
     "output_type": "stream",
     "text": [
      "Epoch 63/100\tval_acc 77.15%\n",
      "Epoch 64/100\tIt 0/40\tloss 0.333047 (0.333047)\titer_time 0.194693 (0.194693)\n"
     ]
    },
    {
     "name": "stderr",
     "output_type": "stream",
     "text": [
      " 22%|█████████████████████████████▋                                                                                                           | 65/300 [02:04<07:31,  1.92s/it]"
     ]
    },
    {
     "name": "stdout",
     "output_type": "stream",
     "text": [
      "Epoch 64/100\tval_acc 78.05%\n",
      "Epoch 65/100\tIt 0/40\tloss 0.461483 (0.461483)\titer_time 0.197472 (0.197472)\n"
     ]
    },
    {
     "name": "stderr",
     "output_type": "stream",
     "text": [
      " 22%|██████████████████████████████▏                                                                                                          | 66/300 [02:06<07:31,  1.93s/it]"
     ]
    },
    {
     "name": "stdout",
     "output_type": "stream",
     "text": [
      "Epoch 65/100\tval_acc 77.95%\n",
      "Epoch 66/100\tIt 0/40\tloss 0.337620 (0.337620)\titer_time 0.198164 (0.198164)\n"
     ]
    },
    {
     "name": "stderr",
     "output_type": "stream",
     "text": [
      " 22%|██████████████████████████████▌                                                                                                          | 67/300 [02:08<07:28,  1.93s/it]"
     ]
    },
    {
     "name": "stdout",
     "output_type": "stream",
     "text": [
      "Epoch 66/100\tval_acc 78.04%\n",
      "Epoch 67/100\tIt 0/40\tloss 0.387474 (0.387474)\titer_time 0.165886 (0.165886)\n"
     ]
    },
    {
     "name": "stderr",
     "output_type": "stream",
     "text": [
      " 23%|███████████████████████████████                                                                                                          | 68/300 [02:10<07:25,  1.92s/it]"
     ]
    },
    {
     "name": "stdout",
     "output_type": "stream",
     "text": [
      "Epoch 67/100\tval_acc 78.03%\n",
      "Epoch 68/100\tIt 0/40\tloss 0.555400 (0.555400)\titer_time 0.176702 (0.176702)\n"
     ]
    },
    {
     "name": "stderr",
     "output_type": "stream",
     "text": [
      " 23%|███████████████████████████████▌                                                                                                         | 69/300 [02:12<07:22,  1.92s/it]"
     ]
    },
    {
     "name": "stdout",
     "output_type": "stream",
     "text": [
      "Epoch 68/100\tval_acc 78.2%\n",
      "Epoch 69/100\tIt 0/40\tloss 0.545468 (0.545468)\titer_time 0.172498 (0.172498)\n"
     ]
    },
    {
     "name": "stderr",
     "output_type": "stream",
     "text": [
      " 23%|███████████████████████████████▉                                                                                                         | 70/300 [02:14<07:21,  1.92s/it]"
     ]
    },
    {
     "name": "stdout",
     "output_type": "stream",
     "text": [
      "Epoch 69/100\tval_acc 77.83%\n",
      "Epoch 70/100\tIt 0/40\tloss 0.554352 (0.554352)\titer_time 0.195573 (0.195573)\n"
     ]
    },
    {
     "name": "stderr",
     "output_type": "stream",
     "text": [
      " 24%|████████████████████████████████▍                                                                                                        | 71/300 [02:16<07:21,  1.93s/it]"
     ]
    },
    {
     "name": "stdout",
     "output_type": "stream",
     "text": [
      "Epoch 70/100\tval_acc 78.45%\n",
      "Epoch 71/100\tIt 0/40\tloss 0.406198 (0.406198)\titer_time 0.169655 (0.169655)\n"
     ]
    },
    {
     "name": "stderr",
     "output_type": "stream",
     "text": [
      " 24%|████████████████████████████████▉                                                                                                        | 72/300 [02:18<07:18,  1.92s/it]"
     ]
    },
    {
     "name": "stdout",
     "output_type": "stream",
     "text": [
      "Epoch 71/100\tval_acc 78.51%\n",
      "Epoch 72/100\tIt 0/40\tloss 0.577630 (0.577630)\titer_time 0.205028 (0.205028)\n"
     ]
    },
    {
     "name": "stderr",
     "output_type": "stream",
     "text": [
      " 24%|█████████████████████████████████▎                                                                                                       | 73/300 [02:20<07:16,  1.92s/it]"
     ]
    },
    {
     "name": "stdout",
     "output_type": "stream",
     "text": [
      "Epoch 72/100\tval_acc 77.34%\n",
      "Epoch 73/100\tIt 0/40\tloss 0.503990 (0.503990)\titer_time 0.197431 (0.197431)\n"
     ]
    },
    {
     "name": "stderr",
     "output_type": "stream",
     "text": [
      " 25%|█████████████████████████████████▊                                                                                                       | 74/300 [02:21<07:14,  1.92s/it]"
     ]
    },
    {
     "name": "stdout",
     "output_type": "stream",
     "text": [
      "Epoch 73/100\tval_acc 78.05%\n",
      "Epoch 74/100\tIt 0/40\tloss 0.448555 (0.448555)\titer_time 0.203357 (0.203357)\n"
     ]
    },
    {
     "name": "stderr",
     "output_type": "stream",
     "text": [
      " 25%|██████████████████████████████████▎                                                                                                      | 75/300 [02:23<07:13,  1.93s/it]"
     ]
    },
    {
     "name": "stdout",
     "output_type": "stream",
     "text": [
      "Epoch 74/100\tval_acc 78.17%\n",
      "Epoch 75/100\tIt 0/40\tloss 0.496408 (0.496408)\titer_time 0.194499 (0.194499)\n"
     ]
    },
    {
     "name": "stderr",
     "output_type": "stream",
     "text": [
      " 25%|██████████████████████████████████▋                                                                                                      | 76/300 [02:25<07:11,  1.93s/it]"
     ]
    },
    {
     "name": "stdout",
     "output_type": "stream",
     "text": [
      "Epoch 75/100\tval_acc 78.06%\n",
      "Epoch 76/100\tIt 0/40\tloss 0.388265 (0.388265)\titer_time 0.196291 (0.196291)\n"
     ]
    },
    {
     "name": "stderr",
     "output_type": "stream",
     "text": [
      " 26%|███████████████████████████████████▏                                                                                                     | 77/300 [02:27<07:09,  1.92s/it]"
     ]
    },
    {
     "name": "stdout",
     "output_type": "stream",
     "text": [
      "Epoch 76/100\tval_acc 78.22%\n",
      "Epoch 77/100\tIt 0/40\tloss 0.589281 (0.589281)\titer_time 0.195219 (0.195219)\n"
     ]
    },
    {
     "name": "stderr",
     "output_type": "stream",
     "text": [
      " 26%|███████████████████████████████████▌                                                                                                     | 78/300 [02:29<07:06,  1.92s/it]"
     ]
    },
    {
     "name": "stdout",
     "output_type": "stream",
     "text": [
      "Epoch 77/100\tval_acc 78.31%\n",
      "Epoch 78/100\tIt 0/40\tloss 0.560108 (0.560108)\titer_time 0.176059 (0.176059)\n"
     ]
    },
    {
     "name": "stderr",
     "output_type": "stream",
     "text": [
      " 26%|████████████████████████████████████                                                                                                     | 79/300 [02:31<07:02,  1.91s/it]"
     ]
    },
    {
     "name": "stdout",
     "output_type": "stream",
     "text": [
      "Epoch 78/100\tval_acc 78.45%\n",
      "Epoch 79/100\tIt 0/40\tloss 0.346133 (0.346133)\titer_time 0.166720 (0.166720)\n"
     ]
    },
    {
     "name": "stderr",
     "output_type": "stream",
     "text": [
      " 27%|████████████████████████████████████▌                                                                                                    | 80/300 [02:33<06:59,  1.91s/it]"
     ]
    },
    {
     "name": "stdout",
     "output_type": "stream",
     "text": [
      "Epoch 79/100\tval_acc 78.15%\n",
      "Epoch 80/100\tIt 0/40\tloss 0.491644 (0.491644)\titer_time 0.159605 (0.159605)\n"
     ]
    },
    {
     "name": "stderr",
     "output_type": "stream",
     "text": [
      " 27%|████████████████████████████████████▉                                                                                                    | 81/300 [02:35<06:57,  1.91s/it]"
     ]
    },
    {
     "name": "stdout",
     "output_type": "stream",
     "text": [
      "Epoch 80/100\tval_acc 78.34%\n",
      "Epoch 81/100\tIt 0/40\tloss 0.512349 (0.512349)\titer_time 0.182082 (0.182082)\n"
     ]
    },
    {
     "name": "stderr",
     "output_type": "stream",
     "text": [
      " 27%|█████████████████████████████████████▍                                                                                                   | 82/300 [02:37<06:57,  1.91s/it]"
     ]
    },
    {
     "name": "stdout",
     "output_type": "stream",
     "text": [
      "Epoch 81/100\tval_acc 78.45%\n",
      "Epoch 82/100\tIt 0/40\tloss 0.418894 (0.418894)\titer_time 0.165463 (0.165463)\n"
     ]
    },
    {
     "name": "stderr",
     "output_type": "stream",
     "text": [
      " 28%|█████████████████████████████████████▉                                                                                                   | 83/300 [02:39<06:53,  1.91s/it]"
     ]
    },
    {
     "name": "stdout",
     "output_type": "stream",
     "text": [
      "Epoch 82/100\tval_acc 78.26%\n",
      "Epoch 83/100\tIt 0/40\tloss 0.504078 (0.504078)\titer_time 0.179247 (0.179247)\n"
     ]
    },
    {
     "name": "stderr",
     "output_type": "stream",
     "text": [
      " 28%|██████████████████████████████████████▎                                                                                                  | 84/300 [02:41<06:50,  1.90s/it]"
     ]
    },
    {
     "name": "stdout",
     "output_type": "stream",
     "text": [
      "Epoch 83/100\tval_acc 78.41%\n",
      "Epoch 84/100\tIt 0/40\tloss 0.570640 (0.570640)\titer_time 0.194570 (0.194570)\n"
     ]
    },
    {
     "name": "stderr",
     "output_type": "stream",
     "text": [
      " 28%|██████████████████████████████████████▊                                                                                                  | 85/300 [02:42<06:49,  1.90s/it]"
     ]
    },
    {
     "name": "stdout",
     "output_type": "stream",
     "text": [
      "Epoch 84/100\tval_acc 78.29%\n",
      "Epoch 85/100\tIt 0/40\tloss 0.516358 (0.516358)\titer_time 0.199173 (0.199173)\n"
     ]
    },
    {
     "name": "stderr",
     "output_type": "stream",
     "text": [
      " 29%|███████████████████████████████████████▎                                                                                                 | 86/300 [02:44<06:50,  1.92s/it]"
     ]
    },
    {
     "name": "stdout",
     "output_type": "stream",
     "text": [
      "Epoch 85/100\tval_acc 78.46%\n",
      "Epoch 86/100\tIt 0/40\tloss 0.373774 (0.373774)\titer_time 0.167516 (0.167516)\n"
     ]
    },
    {
     "name": "stderr",
     "output_type": "stream",
     "text": [
      " 29%|███████████████████████████████████████▋                                                                                                 | 87/300 [02:46<06:46,  1.91s/it]"
     ]
    },
    {
     "name": "stdout",
     "output_type": "stream",
     "text": [
      "Epoch 86/100\tval_acc 78.29%\n",
      "Epoch 87/100\tIt 0/40\tloss 0.507456 (0.507456)\titer_time 0.196975 (0.196975)\n"
     ]
    },
    {
     "name": "stderr",
     "output_type": "stream",
     "text": [
      " 29%|████████████████████████████████████████▏                                                                                                | 88/300 [02:48<06:47,  1.92s/it]"
     ]
    },
    {
     "name": "stdout",
     "output_type": "stream",
     "text": [
      "Epoch 87/100\tval_acc 78.54%\n",
      "Epoch 88/100\tIt 0/40\tloss 0.534094 (0.534094)\titer_time 0.197204 (0.197204)\n"
     ]
    },
    {
     "name": "stderr",
     "output_type": "stream",
     "text": [
      " 30%|████████████████████████████████████████▋                                                                                                | 89/300 [02:50<06:46,  1.93s/it]"
     ]
    },
    {
     "name": "stdout",
     "output_type": "stream",
     "text": [
      "Epoch 88/100\tval_acc 78.44%\n",
      "Epoch 89/100\tIt 0/40\tloss 0.417706 (0.417706)\titer_time 0.194492 (0.194492)\n"
     ]
    },
    {
     "name": "stderr",
     "output_type": "stream",
     "text": [
      " 30%|█████████████████████████████████████████                                                                                                | 90/300 [02:52<06:44,  1.93s/it]"
     ]
    },
    {
     "name": "stdout",
     "output_type": "stream",
     "text": [
      "Epoch 89/100\tval_acc 78.42%\n",
      "Epoch 90/100\tIt 0/40\tloss 0.508354 (0.508354)\titer_time 0.196307 (0.196307)\n"
     ]
    },
    {
     "name": "stderr",
     "output_type": "stream",
     "text": [
      " 30%|█████████████████████████████████████████▌                                                                                               | 91/300 [02:54<06:42,  1.92s/it]"
     ]
    },
    {
     "name": "stdout",
     "output_type": "stream",
     "text": [
      "Epoch 90/100\tval_acc 78.47%\n",
      "Epoch 91/100\tIt 0/40\tloss 0.518649 (0.518649)\titer_time 0.161921 (0.161921)\n"
     ]
    },
    {
     "name": "stderr",
     "output_type": "stream",
     "text": [
      " 31%|██████████████████████████████████████████                                                                                               | 92/300 [02:56<06:39,  1.92s/it]"
     ]
    },
    {
     "name": "stdout",
     "output_type": "stream",
     "text": [
      "Epoch 91/100\tval_acc 78.38%\n",
      "Epoch 92/100\tIt 0/40\tloss 0.516637 (0.516637)\titer_time 0.159432 (0.159432)\n"
     ]
    },
    {
     "name": "stderr",
     "output_type": "stream",
     "text": [
      " 31%|██████████████████████████████████████████▍                                                                                              | 93/300 [02:58<06:35,  1.91s/it]"
     ]
    },
    {
     "name": "stdout",
     "output_type": "stream",
     "text": [
      "Epoch 92/100\tval_acc 78.39%\n",
      "Epoch 93/100\tIt 0/40\tloss 0.515171 (0.515171)\titer_time 0.196063 (0.196063)\n"
     ]
    },
    {
     "name": "stderr",
     "output_type": "stream",
     "text": [
      " 31%|██████████████████████████████████████████▉                                                                                              | 94/300 [03:00<06:36,  1.92s/it]"
     ]
    },
    {
     "name": "stdout",
     "output_type": "stream",
     "text": [
      "Epoch 93/100\tval_acc 78.54%\n",
      "Epoch 94/100\tIt 0/40\tloss 0.480285 (0.480285)\titer_time 0.164690 (0.164690)\n"
     ]
    },
    {
     "name": "stderr",
     "output_type": "stream",
     "text": [
      " 32%|███████████████████████████████████████████▍                                                                                             | 95/300 [03:02<06:34,  1.93s/it]"
     ]
    },
    {
     "name": "stdout",
     "output_type": "stream",
     "text": [
      "Epoch 94/100\tval_acc 78.3%\n",
      "Epoch 95/100\tIt 0/40\tloss 0.525917 (0.525917)\titer_time 0.196891 (0.196891)\n"
     ]
    },
    {
     "name": "stderr",
     "output_type": "stream",
     "text": [
      " 32%|███████████████████████████████████████████▊                                                                                             | 96/300 [03:04<06:33,  1.93s/it]"
     ]
    },
    {
     "name": "stdout",
     "output_type": "stream",
     "text": [
      "Epoch 95/100\tval_acc 78.35%\n",
      "Epoch 96/100\tIt 0/40\tloss 0.615306 (0.615306)\titer_time 0.193340 (0.193340)\n"
     ]
    },
    {
     "name": "stderr",
     "output_type": "stream",
     "text": [
      " 32%|████████████████████████████████████████████▎                                                                                            | 97/300 [03:06<06:30,  1.92s/it]"
     ]
    },
    {
     "name": "stdout",
     "output_type": "stream",
     "text": [
      "Epoch 96/100\tval_acc 78.33%\n",
      "Epoch 97/100\tIt 0/40\tloss 0.356446 (0.356446)\titer_time 0.160687 (0.160687)\n"
     ]
    },
    {
     "name": "stderr",
     "output_type": "stream",
     "text": [
      " 33%|████████████████████████████████████████████▊                                                                                            | 98/300 [03:07<06:27,  1.92s/it]"
     ]
    },
    {
     "name": "stdout",
     "output_type": "stream",
     "text": [
      "Epoch 97/100\tval_acc 78.38%\n",
      "Epoch 98/100\tIt 0/40\tloss 0.376741 (0.376741)\titer_time 0.196711 (0.196711)\n"
     ]
    },
    {
     "name": "stderr",
     "output_type": "stream",
     "text": [
      " 33%|█████████████████████████████████████████████▏                                                                                           | 99/300 [03:09<06:25,  1.92s/it]"
     ]
    },
    {
     "name": "stdout",
     "output_type": "stream",
     "text": [
      "Epoch 98/100\tval_acc 78.49%\n",
      "Epoch 99/100\tIt 0/40\tloss 0.449468 (0.449468)\titer_time 0.164806 (0.164806)\n"
     ]
    },
    {
     "name": "stderr",
     "output_type": "stream",
     "text": [
      " 33%|█████████████████████████████████████████████▎                                                                                          | 100/300 [03:11<06:22,  1.91s/it]"
     ]
    },
    {
     "name": "stdout",
     "output_type": "stream",
     "text": [
      "Epoch 99/100\tval_acc 78.47%\n",
      "Epoch 100/100\tIt 0/40\tloss 0.381624 (0.381624)\titer_time 0.196541 (0.196541)\n"
     ]
    },
    {
     "name": "stderr",
     "output_type": "stream",
     "text": [
      " 34%|█████████████████████████████████████████████▊                                                                                          | 101/300 [03:13<06:23,  1.93s/it]"
     ]
    },
    {
     "name": "stdout",
     "output_type": "stream",
     "text": [
      "Epoch 100/100\tval_acc 78.64%\n",
      "Epoch 101/100\tIt 0/40\tloss 0.362568 (0.362568)\titer_time 0.168052 (0.168052)\n"
     ]
    },
    {
     "name": "stderr",
     "output_type": "stream",
     "text": [
      " 34%|██████████████████████████████████████████████▏                                                                                         | 102/300 [03:15<06:19,  1.92s/it]"
     ]
    },
    {
     "name": "stdout",
     "output_type": "stream",
     "text": [
      "Epoch 101/100\tval_acc 78.53%\n",
      "Epoch 102/100\tIt 0/40\tloss 0.370550 (0.370550)\titer_time 0.160975 (0.160975)\n"
     ]
    },
    {
     "name": "stderr",
     "output_type": "stream",
     "text": [
      " 34%|██████████████████████████████████████████████▋                                                                                         | 103/300 [03:17<06:16,  1.91s/it]"
     ]
    },
    {
     "name": "stdout",
     "output_type": "stream",
     "text": [
      "Epoch 102/100\tval_acc 78.53%\n",
      "Epoch 103/100\tIt 0/40\tloss 0.429971 (0.429971)\titer_time 0.181682 (0.181682)\n"
     ]
    },
    {
     "name": "stderr",
     "output_type": "stream",
     "text": [
      " 35%|███████████████████████████████████████████████▏                                                                                        | 104/300 [03:19<06:16,  1.92s/it]"
     ]
    },
    {
     "name": "stdout",
     "output_type": "stream",
     "text": [
      "Epoch 103/100\tval_acc 78.59%\n",
      "Epoch 104/100\tIt 0/40\tloss 0.367353 (0.367353)\titer_time 0.200170 (0.200170)\n"
     ]
    },
    {
     "name": "stderr",
     "output_type": "stream",
     "text": [
      " 35%|███████████████████████████████████████████████▌                                                                                        | 105/300 [03:21<06:14,  1.92s/it]"
     ]
    },
    {
     "name": "stdout",
     "output_type": "stream",
     "text": [
      "Epoch 104/100\tval_acc 78.49%\n",
      "Epoch 105/100\tIt 0/40\tloss 0.439524 (0.439524)\titer_time 0.195984 (0.195984)\n"
     ]
    },
    {
     "name": "stderr",
     "output_type": "stream",
     "text": [
      " 35%|████████████████████████████████████████████████                                                                                        | 106/300 [03:23<06:15,  1.94s/it]"
     ]
    },
    {
     "name": "stdout",
     "output_type": "stream",
     "text": [
      "Epoch 105/100\tval_acc 78.57%\n",
      "Epoch 106/100\tIt 0/40\tloss 0.343785 (0.343785)\titer_time 0.197330 (0.197330)\n"
     ]
    },
    {
     "name": "stderr",
     "output_type": "stream",
     "text": [
      " 36%|████████████████████████████████████████████████▌                                                                                       | 107/300 [03:25<06:15,  1.95s/it]"
     ]
    },
    {
     "name": "stdout",
     "output_type": "stream",
     "text": [
      "Epoch 106/100\tval_acc 78.51%\n",
      "Epoch 107/100\tIt 0/40\tloss 0.482713 (0.482713)\titer_time 0.163105 (0.163105)\n"
     ]
    },
    {
     "name": "stderr",
     "output_type": "stream",
     "text": [
      " 36%|████████████████████████████████████████████████▉                                                                                       | 108/300 [03:27<06:19,  1.98s/it]"
     ]
    },
    {
     "name": "stdout",
     "output_type": "stream",
     "text": [
      "Epoch 107/100\tval_acc 78.54%\n",
      "Epoch 108/100\tIt 0/40\tloss 0.391690 (0.391690)\titer_time 0.193018 (0.193018)\n"
     ]
    },
    {
     "name": "stderr",
     "output_type": "stream",
     "text": [
      " 36%|█████████████████████████████████████████████████▍                                                                                      | 109/300 [03:29<06:15,  1.97s/it]"
     ]
    },
    {
     "name": "stdout",
     "output_type": "stream",
     "text": [
      "Epoch 108/100\tval_acc 78.56%\n",
      "Epoch 109/100\tIt 0/40\tloss 0.447234 (0.447234)\titer_time 0.164951 (0.164951)\n"
     ]
    },
    {
     "name": "stderr",
     "output_type": "stream",
     "text": [
      " 37%|█████████████████████████████████████████████████▊                                                                                      | 110/300 [03:31<06:11,  1.95s/it]"
     ]
    },
    {
     "name": "stdout",
     "output_type": "stream",
     "text": [
      "Epoch 109/100\tval_acc 78.45%\n",
      "Epoch 110/100\tIt 0/40\tloss 0.437058 (0.437058)\titer_time 0.184692 (0.184692)\n"
     ]
    },
    {
     "name": "stderr",
     "output_type": "stream",
     "text": [
      " 37%|██████████████████████████████████████████████████▎                                                                                     | 111/300 [03:33<06:07,  1.94s/it]"
     ]
    },
    {
     "name": "stdout",
     "output_type": "stream",
     "text": [
      "Epoch 110/100\tval_acc 78.49%\n",
      "Epoch 111/100\tIt 0/40\tloss 0.603182 (0.603182)\titer_time 0.178817 (0.178817)\n"
     ]
    },
    {
     "name": "stderr",
     "output_type": "stream",
     "text": [
      " 37%|██████████████████████████████████████████████████▊                                                                                     | 112/300 [03:35<06:04,  1.94s/it]"
     ]
    },
    {
     "name": "stdout",
     "output_type": "stream",
     "text": [
      "Epoch 111/100\tval_acc 78.59%\n",
      "Epoch 112/100\tIt 0/40\tloss 0.439820 (0.439820)\titer_time 0.202223 (0.202223)\n"
     ]
    },
    {
     "name": "stderr",
     "output_type": "stream",
     "text": [
      " 38%|███████████████████████████████████████████████████▏                                                                                    | 113/300 [03:37<06:04,  1.95s/it]"
     ]
    },
    {
     "name": "stdout",
     "output_type": "stream",
     "text": [
      "Epoch 112/100\tval_acc 78.55%\n",
      "Epoch 113/100\tIt 0/40\tloss 0.431521 (0.431521)\titer_time 0.163477 (0.163477)\n"
     ]
    },
    {
     "name": "stderr",
     "output_type": "stream",
     "text": [
      " 38%|███████████████████████████████████████████████████▋                                                                                    | 114/300 [03:39<06:01,  1.94s/it]"
     ]
    },
    {
     "name": "stdout",
     "output_type": "stream",
     "text": [
      "Epoch 113/100\tval_acc 78.39%\n",
      "Epoch 114/100\tIt 0/40\tloss 0.435380 (0.435380)\titer_time 0.178789 (0.178789)\n"
     ]
    },
    {
     "name": "stderr",
     "output_type": "stream",
     "text": [
      " 38%|████████████████████████████████████████████████████▏                                                                                   | 115/300 [03:40<05:57,  1.93s/it]"
     ]
    },
    {
     "name": "stdout",
     "output_type": "stream",
     "text": [
      "Epoch 114/100\tval_acc 78.49%\n",
      "Epoch 115/100\tIt 0/40\tloss 0.503938 (0.503938)\titer_time 0.164700 (0.164700)\n"
     ]
    },
    {
     "name": "stderr",
     "output_type": "stream",
     "text": [
      " 39%|████████████████████████████████████████████████████▌                                                                                   | 116/300 [03:42<05:54,  1.93s/it]"
     ]
    },
    {
     "name": "stdout",
     "output_type": "stream",
     "text": [
      "Epoch 115/100\tval_acc 78.44%\n",
      "Epoch 116/100\tIt 0/40\tloss 0.493067 (0.493067)\titer_time 0.181591 (0.181591)\n"
     ]
    },
    {
     "name": "stderr",
     "output_type": "stream",
     "text": [
      " 39%|█████████████████████████████████████████████████████                                                                                   | 117/300 [03:44<05:51,  1.92s/it]"
     ]
    },
    {
     "name": "stdout",
     "output_type": "stream",
     "text": [
      "Epoch 116/100\tval_acc 78.39%\n",
      "Epoch 117/100\tIt 0/40\tloss 0.474566 (0.474566)\titer_time 0.188787 (0.188787)\n"
     ]
    },
    {
     "name": "stderr",
     "output_type": "stream",
     "text": [
      " 39%|█████████████████████████████████████████████████████▍                                                                                  | 118/300 [03:46<05:49,  1.92s/it]"
     ]
    },
    {
     "name": "stdout",
     "output_type": "stream",
     "text": [
      "Epoch 117/100\tval_acc 78.36%\n",
      "Epoch 118/100\tIt 0/40\tloss 0.512752 (0.512752)\titer_time 0.201020 (0.201020)\n"
     ]
    },
    {
     "name": "stderr",
     "output_type": "stream",
     "text": [
      " 40%|█████████████████████████████████████████████████████▉                                                                                  | 119/300 [03:48<05:47,  1.92s/it]"
     ]
    },
    {
     "name": "stdout",
     "output_type": "stream",
     "text": [
      "Epoch 118/100\tval_acc 78.39%\n",
      "Epoch 119/100\tIt 0/40\tloss 0.472589 (0.472589)\titer_time 0.160451 (0.160451)\n"
     ]
    },
    {
     "name": "stderr",
     "output_type": "stream",
     "text": [
      " 40%|██████████████████████████████████████████████████████▍                                                                                 | 120/300 [03:50<05:43,  1.91s/it]"
     ]
    },
    {
     "name": "stdout",
     "output_type": "stream",
     "text": [
      "Epoch 119/100\tval_acc 78.38%\n",
      "Epoch 120/100\tIt 0/40\tloss 0.393208 (0.393208)\titer_time 0.169493 (0.169493)\n"
     ]
    },
    {
     "name": "stderr",
     "output_type": "stream",
     "text": [
      " 40%|██████████████████████████████████████████████████████▊                                                                                 | 121/300 [03:52<05:42,  1.91s/it]"
     ]
    },
    {
     "name": "stdout",
     "output_type": "stream",
     "text": [
      "Epoch 120/100\tval_acc 78.46%\n",
      "Epoch 121/100\tIt 0/40\tloss 0.447318 (0.447318)\titer_time 0.185899 (0.185899)\n"
     ]
    },
    {
     "name": "stderr",
     "output_type": "stream",
     "text": [
      " 41%|███████████████████████████████████████████████████████▎                                                                                | 122/300 [03:54<05:41,  1.92s/it]"
     ]
    },
    {
     "name": "stdout",
     "output_type": "stream",
     "text": [
      "Epoch 121/100\tval_acc 78.34%\n",
      "Epoch 122/100\tIt 0/40\tloss 0.586199 (0.586199)\titer_time 0.174759 (0.174759)\n"
     ]
    },
    {
     "name": "stderr",
     "output_type": "stream",
     "text": [
      " 41%|███████████████████████████████████████████████████████▊                                                                                | 123/300 [03:56<05:40,  1.92s/it]"
     ]
    },
    {
     "name": "stdout",
     "output_type": "stream",
     "text": [
      "Epoch 122/100\tval_acc 78.31%\n",
      "Epoch 123/100\tIt 0/40\tloss 0.459709 (0.459709)\titer_time 0.177722 (0.177722)\n"
     ]
    },
    {
     "name": "stderr",
     "output_type": "stream",
     "text": [
      " 41%|████████████████████████████████████████████████████████▏                                                                               | 124/300 [03:58<05:37,  1.91s/it]"
     ]
    },
    {
     "name": "stdout",
     "output_type": "stream",
     "text": [
      "Epoch 123/100\tval_acc 78.61%\n",
      "Epoch 124/100\tIt 0/40\tloss 0.360896 (0.360896)\titer_time 0.160513 (0.160513)\n"
     ]
    },
    {
     "name": "stderr",
     "output_type": "stream",
     "text": [
      " 42%|████████████████████████████████████████████████████████▋                                                                               | 125/300 [04:00<05:35,  1.92s/it]"
     ]
    },
    {
     "name": "stdout",
     "output_type": "stream",
     "text": [
      "Epoch 124/100\tval_acc 78.4%\n",
      "Epoch 125/100\tIt 0/40\tloss 0.471813 (0.471813)\titer_time 0.160771 (0.160771)\n"
     ]
    },
    {
     "name": "stderr",
     "output_type": "stream",
     "text": [
      " 42%|█████████████████████████████████████████████████████████                                                                               | 126/300 [04:02<05:34,  1.92s/it]"
     ]
    },
    {
     "name": "stdout",
     "output_type": "stream",
     "text": [
      "Epoch 125/100\tval_acc 78.41%\n",
      "Epoch 126/100\tIt 0/40\tloss 0.510554 (0.510554)\titer_time 0.166588 (0.166588)\n"
     ]
    },
    {
     "name": "stderr",
     "output_type": "stream",
     "text": [
      " 42%|█████████████████████████████████████████████████████████▌                                                                              | 127/300 [04:03<05:30,  1.91s/it]"
     ]
    },
    {
     "name": "stdout",
     "output_type": "stream",
     "text": [
      "Epoch 126/100\tval_acc 78.55%\n",
      "Epoch 127/100\tIt 0/40\tloss 0.433713 (0.433713)\titer_time 0.165609 (0.165609)\n"
     ]
    },
    {
     "name": "stderr",
     "output_type": "stream",
     "text": [
      " 43%|██████████████████████████████████████████████████████████                                                                              | 128/300 [04:05<05:28,  1.91s/it]"
     ]
    },
    {
     "name": "stdout",
     "output_type": "stream",
     "text": [
      "Epoch 127/100\tval_acc 78.51%\n",
      "Epoch 128/100\tIt 0/40\tloss 0.457552 (0.457552)\titer_time 0.177906 (0.177906)\n"
     ]
    },
    {
     "name": "stderr",
     "output_type": "stream",
     "text": [
      " 43%|██████████████████████████████████████████████████████████▍                                                                             | 129/300 [04:07<05:26,  1.91s/it]"
     ]
    },
    {
     "name": "stdout",
     "output_type": "stream",
     "text": [
      "Epoch 128/100\tval_acc 78.39%\n",
      "Epoch 129/100\tIt 0/40\tloss 0.330788 (0.330788)\titer_time 0.162864 (0.162864)\n"
     ]
    },
    {
     "name": "stderr",
     "output_type": "stream",
     "text": [
      " 43%|██████████████████████████████████████████████████████████▉                                                                             | 130/300 [04:09<05:23,  1.90s/it]"
     ]
    },
    {
     "name": "stdout",
     "output_type": "stream",
     "text": [
      "Epoch 129/100\tval_acc 78.5%\n",
      "Epoch 130/100\tIt 0/40\tloss 0.557065 (0.557065)\titer_time 0.162370 (0.162370)\n"
     ]
    },
    {
     "name": "stderr",
     "output_type": "stream",
     "text": [
      " 44%|███████████████████████████████████████████████████████████▍                                                                            | 131/300 [04:11<05:21,  1.91s/it]"
     ]
    },
    {
     "name": "stdout",
     "output_type": "stream",
     "text": [
      "Epoch 130/100\tval_acc 78.53%\n",
      "Epoch 131/100\tIt 0/40\tloss 0.397261 (0.397261)\titer_time 0.178265 (0.178265)\n"
     ]
    },
    {
     "name": "stderr",
     "output_type": "stream",
     "text": [
      " 44%|███████████████████████████████████████████████████████████▊                                                                            | 132/300 [04:13<05:20,  1.91s/it]"
     ]
    },
    {
     "name": "stdout",
     "output_type": "stream",
     "text": [
      "Epoch 131/100\tval_acc 78.35%\n",
      "Epoch 132/100\tIt 0/40\tloss 0.391268 (0.391268)\titer_time 0.196323 (0.196323)\n"
     ]
    },
    {
     "name": "stderr",
     "output_type": "stream",
     "text": [
      " 44%|████████████████████████████████████████████████████████████▎                                                                           | 133/300 [04:15<05:20,  1.92s/it]"
     ]
    },
    {
     "name": "stdout",
     "output_type": "stream",
     "text": [
      "Epoch 132/100\tval_acc 78.5%\n",
      "Epoch 133/100\tIt 0/40\tloss 0.485168 (0.485168)\titer_time 0.160889 (0.160889)\n"
     ]
    },
    {
     "name": "stderr",
     "output_type": "stream",
     "text": [
      " 45%|████████████████████████████████████████████████████████████▋                                                                           | 134/300 [04:17<05:18,  1.92s/it]"
     ]
    },
    {
     "name": "stdout",
     "output_type": "stream",
     "text": [
      "Epoch 133/100\tval_acc 78.49%\n",
      "Epoch 134/100\tIt 0/40\tloss 0.440450 (0.440450)\titer_time 0.162059 (0.162059)\n"
     ]
    },
    {
     "name": "stderr",
     "output_type": "stream",
     "text": [
      " 45%|█████████████████████████████████████████████████████████████▏                                                                          | 135/300 [04:19<05:17,  1.92s/it]"
     ]
    },
    {
     "name": "stdout",
     "output_type": "stream",
     "text": [
      "Epoch 134/100\tval_acc 78.55%\n",
      "Epoch 135/100\tIt 0/40\tloss 0.519141 (0.519141)\titer_time 0.185553 (0.185553)\n"
     ]
    },
    {
     "name": "stderr",
     "output_type": "stream",
     "text": [
      " 45%|█████████████████████████████████████████████████████████████▋                                                                          | 136/300 [04:21<05:15,  1.92s/it]"
     ]
    },
    {
     "name": "stdout",
     "output_type": "stream",
     "text": [
      "Epoch 135/100\tval_acc 78.4%\n",
      "Epoch 136/100\tIt 0/40\tloss 0.465263 (0.465263)\titer_time 0.194814 (0.194814)\n"
     ]
    },
    {
     "name": "stderr",
     "output_type": "stream",
     "text": [
      " 46%|██████████████████████████████████████████████████████████████                                                                          | 137/300 [04:23<05:13,  1.92s/it]"
     ]
    },
    {
     "name": "stdout",
     "output_type": "stream",
     "text": [
      "Epoch 136/100\tval_acc 78.51%\n",
      "Epoch 137/100\tIt 0/40\tloss 0.489112 (0.489112)\titer_time 0.194548 (0.194548)\n"
     ]
    },
    {
     "name": "stderr",
     "output_type": "stream",
     "text": [
      " 46%|██████████████████████████████████████████████████████████████▌                                                                         | 138/300 [04:25<05:12,  1.93s/it]"
     ]
    },
    {
     "name": "stdout",
     "output_type": "stream",
     "text": [
      "Epoch 137/100\tval_acc 78.39%\n",
      "Epoch 138/100\tIt 0/40\tloss 0.354380 (0.354380)\titer_time 0.192966 (0.192966)\n"
     ]
    },
    {
     "name": "stderr",
     "output_type": "stream",
     "text": [
      " 46%|███████████████████████████████████████████████████████████████                                                                         | 139/300 [04:26<05:11,  1.93s/it]"
     ]
    },
    {
     "name": "stdout",
     "output_type": "stream",
     "text": [
      "Epoch 138/100\tval_acc 78.21%\n",
      "Epoch 139/100\tIt 0/40\tloss 0.514442 (0.514442)\titer_time 0.162334 (0.162334)\n"
     ]
    },
    {
     "name": "stderr",
     "output_type": "stream",
     "text": [
      " 47%|███████████████████████████████████████████████████████████████▍                                                                        | 140/300 [04:28<05:06,  1.91s/it]"
     ]
    },
    {
     "name": "stdout",
     "output_type": "stream",
     "text": [
      "Epoch 139/100\tval_acc 78.33%\n",
      "Epoch 140/100\tIt 0/40\tloss 0.637624 (0.637624)\titer_time 0.160376 (0.160376)\n"
     ]
    },
    {
     "name": "stderr",
     "output_type": "stream",
     "text": [
      " 47%|███████████████████████████████████████████████████████████████▉                                                                        | 141/300 [04:30<05:03,  1.91s/it]"
     ]
    },
    {
     "name": "stdout",
     "output_type": "stream",
     "text": [
      "Epoch 140/100\tval_acc 78.41%\n",
      "Epoch 141/100\tIt 0/40\tloss 0.355125 (0.355125)\titer_time 0.166460 (0.166460)\n"
     ]
    },
    {
     "name": "stderr",
     "output_type": "stream",
     "text": [
      " 47%|████████████████████████████████████████████████████████████████▎                                                                       | 142/300 [04:32<05:00,  1.90s/it]"
     ]
    },
    {
     "name": "stdout",
     "output_type": "stream",
     "text": [
      "Epoch 141/100\tval_acc 78.36%\n",
      "Epoch 142/100\tIt 0/40\tloss 0.408856 (0.408856)\titer_time 0.164411 (0.164411)\n"
     ]
    },
    {
     "name": "stderr",
     "output_type": "stream",
     "text": [
      " 48%|████████████████████████████████████████████████████████████████▊                                                                       | 143/300 [04:34<04:57,  1.90s/it]"
     ]
    },
    {
     "name": "stdout",
     "output_type": "stream",
     "text": [
      "Epoch 142/100\tval_acc 78.44%\n",
      "Epoch 143/100\tIt 0/40\tloss 0.450997 (0.450997)\titer_time 0.198339 (0.198339)\n"
     ]
    },
    {
     "name": "stderr",
     "output_type": "stream",
     "text": [
      " 48%|█████████████████████████████████████████████████████████████████▎                                                                      | 144/300 [04:36<04:56,  1.90s/it]"
     ]
    },
    {
     "name": "stdout",
     "output_type": "stream",
     "text": [
      "Epoch 143/100\tval_acc 78.35%\n",
      "Epoch 144/100\tIt 0/40\tloss 0.400749 (0.400749)\titer_time 0.201474 (0.201474)\n"
     ]
    },
    {
     "name": "stderr",
     "output_type": "stream",
     "text": [
      " 48%|█████████████████████████████████████████████████████████████████▋                                                                      | 145/300 [04:38<04:56,  1.91s/it]"
     ]
    },
    {
     "name": "stdout",
     "output_type": "stream",
     "text": [
      "Epoch 144/100\tval_acc 78.27%\n",
      "Epoch 145/100\tIt 0/40\tloss 0.448783 (0.448783)\titer_time 0.161224 (0.161224)\n"
     ]
    },
    {
     "name": "stderr",
     "output_type": "stream",
     "text": [
      " 49%|██████████████████████████████████████████████████████████████████▏                                                                     | 146/300 [04:40<04:54,  1.91s/it]"
     ]
    },
    {
     "name": "stdout",
     "output_type": "stream",
     "text": [
      "Epoch 145/100\tval_acc 78.49%\n",
      "Epoch 146/100\tIt 0/40\tloss 0.534825 (0.534825)\titer_time 0.197791 (0.197791)\n"
     ]
    },
    {
     "name": "stderr",
     "output_type": "stream",
     "text": [
      " 49%|██████████████████████████████████████████████████████████████████▋                                                                     | 147/300 [04:42<04:53,  1.92s/it]"
     ]
    },
    {
     "name": "stdout",
     "output_type": "stream",
     "text": [
      "Epoch 146/100\tval_acc 78.34%\n",
      "Epoch 147/100\tIt 0/40\tloss 0.359366 (0.359366)\titer_time 0.197635 (0.197635)\n"
     ]
    },
    {
     "name": "stderr",
     "output_type": "stream",
     "text": [
      " 49%|███████████████████████████████████████████████████████████████████                                                                     | 148/300 [04:44<04:53,  1.93s/it]"
     ]
    },
    {
     "name": "stdout",
     "output_type": "stream",
     "text": [
      "Epoch 147/100\tval_acc 78.36%\n",
      "Epoch 148/100\tIt 0/40\tloss 0.441555 (0.441555)\titer_time 0.158466 (0.158466)\n"
     ]
    },
    {
     "name": "stderr",
     "output_type": "stream",
     "text": [
      " 50%|███████████████████████████████████████████████████████████████████▌                                                                    | 149/300 [04:46<04:50,  1.92s/it]"
     ]
    },
    {
     "name": "stdout",
     "output_type": "stream",
     "text": [
      "Epoch 148/100\tval_acc 78.4%\n",
      "Epoch 149/100\tIt 0/40\tloss 0.432210 (0.432210)\titer_time 0.160003 (0.160003)\n"
     ]
    },
    {
     "name": "stderr",
     "output_type": "stream",
     "text": [
      " 50%|████████████████████████████████████████████████████████████████████                                                                    | 150/300 [04:47<04:47,  1.92s/it]"
     ]
    },
    {
     "name": "stdout",
     "output_type": "stream",
     "text": [
      "Epoch 149/100\tval_acc 78.45%\n",
      "Epoch 150/100\tIt 0/40\tloss 0.406542 (0.406542)\titer_time 0.196085 (0.196085)\n"
     ]
    },
    {
     "name": "stderr",
     "output_type": "stream",
     "text": [
      " 50%|████████████████████████████████████████████████████████████████████▍                                                                   | 151/300 [04:49<04:46,  1.92s/it]"
     ]
    },
    {
     "name": "stdout",
     "output_type": "stream",
     "text": [
      "Epoch 150/100\tval_acc 78.45%\n",
      "Epoch 151/100\tIt 0/40\tloss 0.446905 (0.446905)\titer_time 0.165407 (0.165407)\n"
     ]
    },
    {
     "name": "stderr",
     "output_type": "stream",
     "text": [
      " 51%|████████████████████████████████████████████████████████████████████▉                                                                   | 152/300 [04:51<04:43,  1.91s/it]"
     ]
    },
    {
     "name": "stdout",
     "output_type": "stream",
     "text": [
      "Epoch 151/100\tval_acc 78.3%\n",
      "Epoch 152/100\tIt 0/40\tloss 0.518876 (0.518876)\titer_time 0.196520 (0.196520)\n"
     ]
    },
    {
     "name": "stderr",
     "output_type": "stream",
     "text": [
      " 51%|█████████████████████████████████████████████████████████████████████▎                                                                  | 153/300 [04:53<04:41,  1.91s/it]"
     ]
    },
    {
     "name": "stdout",
     "output_type": "stream",
     "text": [
      "Epoch 152/100\tval_acc 78.38%\n",
      "Epoch 153/100\tIt 0/40\tloss 0.444754 (0.444754)\titer_time 0.196752 (0.196752)\n"
     ]
    },
    {
     "name": "stderr",
     "output_type": "stream",
     "text": [
      " 51%|█████████████████████████████████████████████████████████████████████▊                                                                  | 154/300 [04:55<04:40,  1.92s/it]"
     ]
    },
    {
     "name": "stdout",
     "output_type": "stream",
     "text": [
      "Epoch 153/100\tval_acc 78.21%\n",
      "Epoch 154/100\tIt 0/40\tloss 0.457143 (0.457143)\titer_time 0.161075 (0.161075)\n"
     ]
    },
    {
     "name": "stderr",
     "output_type": "stream",
     "text": [
      " 52%|██████████████████████████████████████████████████████████████████████▎                                                                 | 155/300 [04:57<04:37,  1.92s/it]"
     ]
    },
    {
     "name": "stdout",
     "output_type": "stream",
     "text": [
      "Epoch 154/100\tval_acc 78.26%\n",
      "Epoch 155/100\tIt 0/40\tloss 0.426943 (0.426943)\titer_time 0.200879 (0.200879)\n"
     ]
    },
    {
     "name": "stderr",
     "output_type": "stream",
     "text": [
      " 52%|██████████████████████████████████████████████████████████████████████▋                                                                 | 156/300 [04:59<04:37,  1.93s/it]"
     ]
    },
    {
     "name": "stdout",
     "output_type": "stream",
     "text": [
      "Epoch 155/100\tval_acc 78.3%\n",
      "Epoch 156/100\tIt 0/40\tloss 0.499235 (0.499235)\titer_time 0.160932 (0.160932)\n"
     ]
    },
    {
     "name": "stderr",
     "output_type": "stream",
     "text": [
      " 52%|███████████████████████████████████████████████████████████████████████▏                                                                | 157/300 [05:01<04:35,  1.93s/it]"
     ]
    },
    {
     "name": "stdout",
     "output_type": "stream",
     "text": [
      "Epoch 156/100\tval_acc 78.29%\n",
      "Epoch 157/100\tIt 0/40\tloss 0.381206 (0.381206)\titer_time 0.199914 (0.199914)\n"
     ]
    },
    {
     "name": "stderr",
     "output_type": "stream",
     "text": [
      " 53%|███████████████████████████████████████████████████████████████████████▋                                                                | 158/300 [05:03<04:34,  1.93s/it]"
     ]
    },
    {
     "name": "stdout",
     "output_type": "stream",
     "text": [
      "Epoch 157/100\tval_acc 78.33%\n",
      "Epoch 158/100\tIt 0/40\tloss 0.486512 (0.486512)\titer_time 0.196036 (0.196036)\n"
     ]
    },
    {
     "name": "stderr",
     "output_type": "stream",
     "text": [
      " 53%|████████████████████████████████████████████████████████████████████████                                                                | 159/300 [05:05<04:32,  1.93s/it]"
     ]
    },
    {
     "name": "stdout",
     "output_type": "stream",
     "text": [
      "Epoch 158/100\tval_acc 78.33%\n",
      "Epoch 159/100\tIt 0/40\tloss 0.417639 (0.417639)\titer_time 0.168513 (0.168513)\n"
     ]
    },
    {
     "name": "stderr",
     "output_type": "stream",
     "text": [
      " 53%|████████████████████████████████████████████████████████████████████████▌                                                               | 160/300 [05:07<04:30,  1.93s/it]"
     ]
    },
    {
     "name": "stdout",
     "output_type": "stream",
     "text": [
      "Epoch 159/100\tval_acc 78.36%\n",
      "Epoch 160/100\tIt 0/40\tloss 0.471621 (0.471621)\titer_time 0.162444 (0.162444)\n"
     ]
    },
    {
     "name": "stderr",
     "output_type": "stream",
     "text": [
      " 54%|████████████████████████████████████████████████████████████████████████▉                                                               | 161/300 [05:09<04:27,  1.93s/it]"
     ]
    },
    {
     "name": "stdout",
     "output_type": "stream",
     "text": [
      "Epoch 160/100\tval_acc 78.57%\n",
      "Epoch 161/100\tIt 0/40\tloss 0.410989 (0.410989)\titer_time 0.183811 (0.183811)\n"
     ]
    },
    {
     "name": "stderr",
     "output_type": "stream",
     "text": [
      " 54%|█████████████████████████████████████████████████████████████████████████▍                                                              | 162/300 [05:11<04:25,  1.92s/it]"
     ]
    },
    {
     "name": "stdout",
     "output_type": "stream",
     "text": [
      "Epoch 161/100\tval_acc 78.45%\n",
      "Epoch 162/100\tIt 0/40\tloss 0.397707 (0.397707)\titer_time 0.160191 (0.160191)\n"
     ]
    },
    {
     "name": "stderr",
     "output_type": "stream",
     "text": [
      " 54%|█████████████████████████████████████████████████████████████████████████▉                                                              | 163/300 [05:12<04:22,  1.92s/it]"
     ]
    },
    {
     "name": "stdout",
     "output_type": "stream",
     "text": [
      "Epoch 162/100\tval_acc 78.21%\n",
      "Epoch 163/100\tIt 0/40\tloss 0.509826 (0.509826)\titer_time 0.172121 (0.172121)\n"
     ]
    },
    {
     "name": "stderr",
     "output_type": "stream",
     "text": [
      " 55%|██████████████████████████████████████████████████████████████████████████▎                                                             | 164/300 [05:14<04:20,  1.92s/it]"
     ]
    },
    {
     "name": "stdout",
     "output_type": "stream",
     "text": [
      "Epoch 163/100\tval_acc 78.26%\n",
      "Epoch 164/100\tIt 0/40\tloss 0.399505 (0.399505)\titer_time 0.160765 (0.160765)\n"
     ]
    },
    {
     "name": "stderr",
     "output_type": "stream",
     "text": [
      " 55%|██████████████████████████████████████████████████████████████████████████▊                                                             | 165/300 [05:16<04:18,  1.92s/it]"
     ]
    },
    {
     "name": "stdout",
     "output_type": "stream",
     "text": [
      "Epoch 164/100\tval_acc 78.34%\n",
      "Epoch 165/100\tIt 0/40\tloss 0.502388 (0.502388)\titer_time 0.179321 (0.179321)\n"
     ]
    },
    {
     "name": "stderr",
     "output_type": "stream",
     "text": [
      " 55%|███████████████████████████████████████████████████████████████████████████▎                                                            | 166/300 [05:18<04:16,  1.91s/it]"
     ]
    },
    {
     "name": "stdout",
     "output_type": "stream",
     "text": [
      "Epoch 165/100\tval_acc 78.36%\n",
      "Epoch 166/100\tIt 0/40\tloss 0.382289 (0.382289)\titer_time 0.167648 (0.167648)\n"
     ]
    },
    {
     "name": "stderr",
     "output_type": "stream",
     "text": [
      " 56%|███████████████████████████████████████████████████████████████████████████▋                                                            | 167/300 [05:20<04:13,  1.91s/it]"
     ]
    },
    {
     "name": "stdout",
     "output_type": "stream",
     "text": [
      "Epoch 166/100\tval_acc 78.38%\n",
      "Epoch 167/100\tIt 0/40\tloss 0.434409 (0.434409)\titer_time 0.162990 (0.162990)\n"
     ]
    },
    {
     "name": "stderr",
     "output_type": "stream",
     "text": [
      " 56%|████████████████████████████████████████████████████████████████████████████▏                                                           | 168/300 [05:22<04:10,  1.90s/it]"
     ]
    },
    {
     "name": "stdout",
     "output_type": "stream",
     "text": [
      "Epoch 167/100\tval_acc 78.38%\n",
      "Epoch 168/100\tIt 0/40\tloss 0.508736 (0.508736)\titer_time 0.164422 (0.164422)\n"
     ]
    },
    {
     "name": "stderr",
     "output_type": "stream",
     "text": [
      " 56%|████████████████████████████████████████████████████████████████████████████▌                                                           | 169/300 [05:24<04:07,  1.89s/it]"
     ]
    },
    {
     "name": "stdout",
     "output_type": "stream",
     "text": [
      "Epoch 168/100\tval_acc 78.42%\n",
      "Epoch 169/100\tIt 0/40\tloss 0.559053 (0.559053)\titer_time 0.181843 (0.181843)\n"
     ]
    },
    {
     "name": "stderr",
     "output_type": "stream",
     "text": [
      " 57%|█████████████████████████████████████████████████████████████████████████████                                                           | 170/300 [05:26<04:06,  1.90s/it]"
     ]
    },
    {
     "name": "stdout",
     "output_type": "stream",
     "text": [
      "Epoch 169/100\tval_acc 78.4%\n",
      "Epoch 170/100\tIt 0/40\tloss 0.460238 (0.460238)\titer_time 0.159507 (0.159507)\n"
     ]
    },
    {
     "name": "stderr",
     "output_type": "stream",
     "text": [
      " 57%|█████████████████████████████████████████████████████████████████████████████▌                                                          | 171/300 [05:28<04:06,  1.91s/it]"
     ]
    },
    {
     "name": "stdout",
     "output_type": "stream",
     "text": [
      "Epoch 170/100\tval_acc 78.42%\n",
      "Epoch 171/100\tIt 0/40\tloss 0.605311 (0.605311)\titer_time 0.170142 (0.170142)\n"
     ]
    },
    {
     "name": "stderr",
     "output_type": "stream",
     "text": [
      " 57%|█████████████████████████████████████████████████████████████████████████████▉                                                          | 172/300 [05:30<04:04,  1.91s/it]"
     ]
    },
    {
     "name": "stdout",
     "output_type": "stream",
     "text": [
      "Epoch 171/100\tval_acc 78.41%\n",
      "Epoch 172/100\tIt 0/40\tloss 0.437615 (0.437615)\titer_time 0.170973 (0.170973)\n"
     ]
    },
    {
     "name": "stderr",
     "output_type": "stream",
     "text": [
      " 58%|██████████████████████████████████████████████████████████████████████████████▍                                                         | 173/300 [05:31<04:01,  1.90s/it]"
     ]
    },
    {
     "name": "stdout",
     "output_type": "stream",
     "text": [
      "Epoch 172/100\tval_acc 78.42%\n",
      "Epoch 173/100\tIt 0/40\tloss 0.511395 (0.511395)\titer_time 0.196207 (0.196207)\n"
     ]
    },
    {
     "name": "stderr",
     "output_type": "stream",
     "text": [
      " 58%|██████████████████████████████████████████████████████████████████████████████▉                                                         | 174/300 [05:33<04:00,  1.91s/it]"
     ]
    },
    {
     "name": "stdout",
     "output_type": "stream",
     "text": [
      "Epoch 173/100\tval_acc 78.4%\n",
      "Epoch 174/100\tIt 0/40\tloss 0.408307 (0.408307)\titer_time 0.200584 (0.200584)\n"
     ]
    },
    {
     "name": "stderr",
     "output_type": "stream",
     "text": [
      " 58%|███████████████████████████████████████████████████████████████████████████████▎                                                        | 175/300 [05:35<04:00,  1.92s/it]"
     ]
    },
    {
     "name": "stdout",
     "output_type": "stream",
     "text": [
      "Epoch 174/100\tval_acc 78.36%\n",
      "Epoch 175/100\tIt 0/40\tloss 0.338404 (0.338404)\titer_time 0.194724 (0.194724)\n"
     ]
    },
    {
     "name": "stderr",
     "output_type": "stream",
     "text": [
      " 59%|███████████████████████████████████████████████████████████████████████████████▊                                                        | 176/300 [05:37<03:59,  1.93s/it]"
     ]
    },
    {
     "name": "stdout",
     "output_type": "stream",
     "text": [
      "Epoch 175/100\tval_acc 78.38%\n",
      "Epoch 176/100\tIt 0/40\tloss 0.575018 (0.575018)\titer_time 0.195501 (0.195501)\n"
     ]
    },
    {
     "name": "stderr",
     "output_type": "stream",
     "text": [
      " 59%|████████████████████████████████████████████████████████████████████████████████▏                                                       | 177/300 [05:39<03:58,  1.94s/it]"
     ]
    },
    {
     "name": "stdout",
     "output_type": "stream",
     "text": [
      "Epoch 176/100\tval_acc 78.21%\n",
      "Epoch 177/100\tIt 0/40\tloss 0.353136 (0.353136)\titer_time 0.165772 (0.165772)\n"
     ]
    },
    {
     "name": "stderr",
     "output_type": "stream",
     "text": [
      " 59%|████████████████████████████████████████████████████████████████████████████████▋                                                       | 178/300 [05:41<03:55,  1.93s/it]"
     ]
    },
    {
     "name": "stdout",
     "output_type": "stream",
     "text": [
      "Epoch 177/100\tval_acc 78.26%\n",
      "Epoch 178/100\tIt 0/40\tloss 0.378152 (0.378152)\titer_time 0.180582 (0.180582)\n"
     ]
    },
    {
     "name": "stderr",
     "output_type": "stream",
     "text": [
      " 60%|█████████████████████████████████████████████████████████████████████████████████▏                                                      | 179/300 [05:43<03:53,  1.93s/it]"
     ]
    },
    {
     "name": "stdout",
     "output_type": "stream",
     "text": [
      "Epoch 178/100\tval_acc 78.27%\n",
      "Epoch 179/100\tIt 0/40\tloss 0.477829 (0.477829)\titer_time 0.195793 (0.195793)\n"
     ]
    },
    {
     "name": "stderr",
     "output_type": "stream",
     "text": [
      " 60%|█████████████████████████████████████████████████████████████████████████████████▌                                                      | 180/300 [05:45<03:50,  1.92s/it]"
     ]
    },
    {
     "name": "stdout",
     "output_type": "stream",
     "text": [
      "Epoch 179/100\tval_acc 78.29%\n",
      "Epoch 180/100\tIt 0/40\tloss 0.392516 (0.392516)\titer_time 0.186219 (0.186219)\n"
     ]
    },
    {
     "name": "stderr",
     "output_type": "stream",
     "text": [
      " 60%|██████████████████████████████████████████████████████████████████████████████████                                                      | 181/300 [05:47<03:49,  1.92s/it]"
     ]
    },
    {
     "name": "stdout",
     "output_type": "stream",
     "text": [
      "Epoch 180/100\tval_acc 78.27%\n",
      "Epoch 181/100\tIt 0/40\tloss 0.430068 (0.430068)\titer_time 0.160291 (0.160291)\n"
     ]
    },
    {
     "name": "stderr",
     "output_type": "stream",
     "text": [
      " 61%|██████████████████████████████████████████████████████████████████████████████████▌                                                     | 182/300 [05:49<03:46,  1.92s/it]"
     ]
    },
    {
     "name": "stdout",
     "output_type": "stream",
     "text": [
      "Epoch 181/100\tval_acc 78.38%\n",
      "Epoch 182/100\tIt 0/40\tloss 0.455377 (0.455377)\titer_time 0.158900 (0.158900)\n"
     ]
    },
    {
     "name": "stderr",
     "output_type": "stream",
     "text": [
      " 61%|██████████████████████████████████████████████████████████████████████████████████▉                                                     | 183/300 [05:51<03:43,  1.91s/it]"
     ]
    },
    {
     "name": "stdout",
     "output_type": "stream",
     "text": [
      "Epoch 182/100\tval_acc 78.35%\n",
      "Epoch 183/100\tIt 0/40\tloss 0.441603 (0.441603)\titer_time 0.197718 (0.197718)\n"
     ]
    },
    {
     "name": "stderr",
     "output_type": "stream",
     "text": [
      " 61%|███████████████████████████████████████████████████████████████████████████████████▍                                                    | 184/300 [05:53<03:42,  1.92s/it]"
     ]
    },
    {
     "name": "stdout",
     "output_type": "stream",
     "text": [
      "Epoch 183/100\tval_acc 78.3%\n",
      "Epoch 184/100\tIt 0/40\tloss 0.554444 (0.554444)\titer_time 0.163738 (0.163738)\n"
     ]
    },
    {
     "name": "stderr",
     "output_type": "stream",
     "text": [
      " 62%|███████████████████████████████████████████████████████████████████████████████████▊                                                    | 185/300 [05:55<03:40,  1.92s/it]"
     ]
    },
    {
     "name": "stdout",
     "output_type": "stream",
     "text": [
      "Epoch 184/100\tval_acc 78.45%\n",
      "Epoch 185/100\tIt 0/40\tloss 0.479514 (0.479514)\titer_time 0.165009 (0.165009)\n"
     ]
    },
    {
     "name": "stderr",
     "output_type": "stream",
     "text": [
      " 62%|████████████████████████████████████████████████████████████████████████████████████▎                                                   | 186/300 [05:57<03:38,  1.91s/it]"
     ]
    },
    {
     "name": "stdout",
     "output_type": "stream",
     "text": [
      "Epoch 185/100\tval_acc 78.54%\n",
      "Epoch 186/100\tIt 0/40\tloss 0.435737 (0.435737)\titer_time 0.198255 (0.198255)\n"
     ]
    },
    {
     "name": "stderr",
     "output_type": "stream",
     "text": [
      " 62%|████████████████████████████████████████████████████████████████████████████████████▊                                                   | 187/300 [05:58<03:36,  1.92s/it]"
     ]
    },
    {
     "name": "stdout",
     "output_type": "stream",
     "text": [
      "Epoch 186/100\tval_acc 78.24%\n",
      "Epoch 187/100\tIt 0/40\tloss 0.337894 (0.337894)\titer_time 0.183883 (0.183883)\n"
     ]
    },
    {
     "name": "stderr",
     "output_type": "stream",
     "text": [
      " 63%|█████████████████████████████████████████████████████████████████████████████████████▏                                                  | 188/300 [06:00<03:35,  1.93s/it]"
     ]
    },
    {
     "name": "stdout",
     "output_type": "stream",
     "text": [
      "Epoch 187/100\tval_acc 78.44%\n",
      "Epoch 188/100\tIt 0/40\tloss 0.457180 (0.457180)\titer_time 0.164811 (0.164811)\n"
     ]
    },
    {
     "name": "stderr",
     "output_type": "stream",
     "text": [
      " 63%|█████████████████████████████████████████████████████████████████████████████████████▋                                                  | 189/300 [06:02<03:33,  1.92s/it]"
     ]
    },
    {
     "name": "stdout",
     "output_type": "stream",
     "text": [
      "Epoch 188/100\tval_acc 78.51%\n",
      "Epoch 189/100\tIt 0/40\tloss 0.423163 (0.423163)\titer_time 0.195548 (0.195548)\n"
     ]
    },
    {
     "name": "stderr",
     "output_type": "stream",
     "text": [
      " 63%|██████████████████████████████████████████████████████████████████████████████████████▏                                                 | 190/300 [06:04<03:31,  1.92s/it]"
     ]
    },
    {
     "name": "stdout",
     "output_type": "stream",
     "text": [
      "Epoch 189/100\tval_acc 78.56%\n",
      "Epoch 190/100\tIt 0/40\tloss 0.527550 (0.527550)\titer_time 0.162611 (0.162611)\n"
     ]
    },
    {
     "name": "stderr",
     "output_type": "stream",
     "text": [
      " 64%|██████████████████████████████████████████████████████████████████████████████████████▌                                                 | 191/300 [06:06<03:28,  1.91s/it]"
     ]
    },
    {
     "name": "stdout",
     "output_type": "stream",
     "text": [
      "Epoch 190/100\tval_acc 78.4%\n",
      "Epoch 191/100\tIt 0/40\tloss 0.435822 (0.435822)\titer_time 0.178503 (0.178503)\n"
     ]
    },
    {
     "name": "stderr",
     "output_type": "stream",
     "text": [
      " 64%|███████████████████████████████████████████████████████████████████████████████████████                                                 | 192/300 [06:08<03:26,  1.91s/it]"
     ]
    },
    {
     "name": "stdout",
     "output_type": "stream",
     "text": [
      "Epoch 191/100\tval_acc 78.56%\n",
      "Epoch 192/100\tIt 0/40\tloss 0.494434 (0.494434)\titer_time 0.160968 (0.160968)\n"
     ]
    },
    {
     "name": "stderr",
     "output_type": "stream",
     "text": [
      " 64%|███████████████████████████████████████████████████████████████████████████████████████▍                                                | 193/300 [06:10<03:24,  1.91s/it]"
     ]
    },
    {
     "name": "stdout",
     "output_type": "stream",
     "text": [
      "Epoch 192/100\tval_acc 78.46%\n",
      "Epoch 193/100\tIt 0/40\tloss 0.394850 (0.394850)\titer_time 0.198210 (0.198210)\n"
     ]
    },
    {
     "name": "stderr",
     "output_type": "stream",
     "text": [
      " 65%|███████████████████████████████████████████████████████████████████████████████████████▉                                                | 194/300 [06:12<03:23,  1.92s/it]"
     ]
    },
    {
     "name": "stdout",
     "output_type": "stream",
     "text": [
      "Epoch 193/100\tval_acc 78.46%\n",
      "Epoch 194/100\tIt 0/40\tloss 0.379445 (0.379445)\titer_time 0.186795 (0.186795)\n"
     ]
    },
    {
     "name": "stderr",
     "output_type": "stream",
     "text": [
      " 65%|████████████████████████████████████████████████████████████████████████████████████████▍                                               | 195/300 [06:14<03:20,  1.91s/it]"
     ]
    },
    {
     "name": "stdout",
     "output_type": "stream",
     "text": [
      "Epoch 194/100\tval_acc 78.62%\n",
      "Epoch 195/100\tIt 0/40\tloss 0.561190 (0.561190)\titer_time 0.167425 (0.167425)\n"
     ]
    },
    {
     "name": "stderr",
     "output_type": "stream",
     "text": [
      " 65%|████████████████████████████████████████████████████████████████████████████████████████▊                                               | 196/300 [06:16<03:18,  1.91s/it]"
     ]
    },
    {
     "name": "stdout",
     "output_type": "stream",
     "text": [
      "Epoch 195/100\tval_acc 78.56%\n",
      "Epoch 196/100\tIt 0/40\tloss 0.552800 (0.552800)\titer_time 0.196655 (0.196655)\n"
     ]
    },
    {
     "name": "stderr",
     "output_type": "stream",
     "text": [
      " 66%|█████████████████████████████████████████████████████████████████████████████████████████▎                                              | 197/300 [06:18<03:16,  1.91s/it]"
     ]
    },
    {
     "name": "stdout",
     "output_type": "stream",
     "text": [
      "Epoch 196/100\tval_acc 78.61%\n",
      "Epoch 197/100\tIt 0/40\tloss 0.373312 (0.373312)\titer_time 0.161818 (0.161818)\n"
     ]
    },
    {
     "name": "stderr",
     "output_type": "stream",
     "text": [
      " 66%|█████████████████████████████████████████████████████████████████████████████████████████▊                                              | 198/300 [06:19<03:14,  1.91s/it]"
     ]
    },
    {
     "name": "stdout",
     "output_type": "stream",
     "text": [
      "Epoch 197/100\tval_acc 78.34%\n",
      "Epoch 198/100\tIt 0/40\tloss 0.457704 (0.457704)\titer_time 0.171459 (0.171459)\n"
     ]
    },
    {
     "name": "stderr",
     "output_type": "stream",
     "text": [
      " 66%|██████████████████████████████████████████████████████████████████████████████████████████▏                                             | 199/300 [06:21<03:12,  1.91s/it]"
     ]
    },
    {
     "name": "stdout",
     "output_type": "stream",
     "text": [
      "Epoch 198/100\tval_acc 78.4%\n",
      "Epoch 199/100\tIt 0/40\tloss 0.397596 (0.397596)\titer_time 0.194930 (0.194930)\n"
     ]
    },
    {
     "name": "stderr",
     "output_type": "stream",
     "text": [
      " 67%|██████████████████████████████████████████████████████████████████████████████████████████▋                                             | 200/300 [06:23<03:10,  1.91s/it]"
     ]
    },
    {
     "name": "stdout",
     "output_type": "stream",
     "text": [
      "Epoch 199/100\tval_acc 78.3%\n",
      "Epoch 200/100\tIt 0/40\tloss 0.379509 (0.379509)\titer_time 0.195173 (0.195173)\n"
     ]
    },
    {
     "name": "stderr",
     "output_type": "stream",
     "text": [
      " 67%|███████████████████████████████████████████████████████████████████████████████████████████                                             | 201/300 [06:25<03:09,  1.92s/it]"
     ]
    },
    {
     "name": "stdout",
     "output_type": "stream",
     "text": [
      "Epoch 200/100\tval_acc 78.54%\n",
      "Epoch 201/100\tIt 0/40\tloss 0.423094 (0.423094)\titer_time 0.181851 (0.181851)\n"
     ]
    },
    {
     "name": "stderr",
     "output_type": "stream",
     "text": [
      " 67%|███████████████████████████████████████████████████████████████████████████████████████████▌                                            | 202/300 [06:27<03:08,  1.92s/it]"
     ]
    },
    {
     "name": "stdout",
     "output_type": "stream",
     "text": [
      "Epoch 201/100\tval_acc 78.56%\n",
      "Epoch 202/100\tIt 0/40\tloss 0.410393 (0.410393)\titer_time 0.189337 (0.189337)\n"
     ]
    },
    {
     "name": "stderr",
     "output_type": "stream",
     "text": [
      " 68%|████████████████████████████████████████████████████████████████████████████████████████████                                            | 203/300 [06:29<03:06,  1.92s/it]"
     ]
    },
    {
     "name": "stdout",
     "output_type": "stream",
     "text": [
      "Epoch 202/100\tval_acc 78.4%\n",
      "Epoch 203/100\tIt 0/40\tloss 0.449440 (0.449440)\titer_time 0.161693 (0.161693)\n"
     ]
    },
    {
     "name": "stderr",
     "output_type": "stream",
     "text": [
      " 68%|████████████████████████████████████████████████████████████████████████████████████████████▍                                           | 204/300 [06:31<03:04,  1.92s/it]"
     ]
    },
    {
     "name": "stdout",
     "output_type": "stream",
     "text": [
      "Epoch 203/100\tval_acc 78.36%\n",
      "Epoch 204/100\tIt 0/40\tloss 0.531314 (0.531314)\titer_time 0.180834 (0.180834)\n"
     ]
    },
    {
     "name": "stderr",
     "output_type": "stream",
     "text": [
      " 68%|████████████████████████████████████████████████████████████████████████████████████████████▉                                           | 205/300 [06:33<03:02,  1.92s/it]"
     ]
    },
    {
     "name": "stdout",
     "output_type": "stream",
     "text": [
      "Epoch 204/100\tval_acc 78.35%\n",
      "Epoch 205/100\tIt 0/40\tloss 0.433238 (0.433238)\titer_time 0.195461 (0.195461)\n"
     ]
    },
    {
     "name": "stderr",
     "output_type": "stream",
     "text": [
      " 69%|█████████████████████████████████████████████████████████████████████████████████████████████▍                                          | 206/300 [06:35<03:01,  1.93s/it]"
     ]
    },
    {
     "name": "stdout",
     "output_type": "stream",
     "text": [
      "Epoch 205/100\tval_acc 78.45%\n",
      "Epoch 206/100\tIt 0/40\tloss 0.470499 (0.470499)\titer_time 0.197606 (0.197606)\n"
     ]
    },
    {
     "name": "stderr",
     "output_type": "stream",
     "text": [
      " 69%|█████████████████████████████████████████████████████████████████████████████████████████████▊                                          | 207/300 [06:37<02:59,  1.93s/it]"
     ]
    },
    {
     "name": "stdout",
     "output_type": "stream",
     "text": [
      "Epoch 206/100\tval_acc 78.4%\n",
      "Epoch 207/100\tIt 0/40\tloss 0.442632 (0.442632)\titer_time 0.200137 (0.200137)\n"
     ]
    },
    {
     "name": "stderr",
     "output_type": "stream",
     "text": [
      " 69%|██████████████████████████████████████████████████████████████████████████████████████████████▎                                         | 208/300 [06:39<02:57,  1.93s/it]"
     ]
    },
    {
     "name": "stdout",
     "output_type": "stream",
     "text": [
      "Epoch 207/100\tval_acc 78.45%\n",
      "Epoch 208/100\tIt 0/40\tloss 0.375014 (0.375014)\titer_time 0.179626 (0.179626)\n"
     ]
    },
    {
     "name": "stderr",
     "output_type": "stream",
     "text": [
      " 70%|██████████████████████████████████████████████████████████████████████████████████████████████▋                                         | 209/300 [06:41<02:55,  1.92s/it]"
     ]
    },
    {
     "name": "stdout",
     "output_type": "stream",
     "text": [
      "Epoch 208/100\tval_acc 78.41%\n",
      "Epoch 209/100\tIt 0/40\tloss 0.518472 (0.518472)\titer_time 0.199191 (0.199191)\n"
     ]
    },
    {
     "name": "stderr",
     "output_type": "stream",
     "text": [
      " 70%|███████████████████████████████████████████████████████████████████████████████████████████████▏                                        | 210/300 [06:43<02:54,  1.94s/it]"
     ]
    },
    {
     "name": "stdout",
     "output_type": "stream",
     "text": [
      "Epoch 209/100\tval_acc 78.49%\n",
      "Epoch 210/100\tIt 0/40\tloss 0.349212 (0.349212)\titer_time 0.197538 (0.197538)\n"
     ]
    },
    {
     "name": "stderr",
     "output_type": "stream",
     "text": [
      " 70%|███████████████████████████████████████████████████████████████████████████████████████████████▋                                        | 211/300 [06:45<02:51,  1.93s/it]"
     ]
    },
    {
     "name": "stdout",
     "output_type": "stream",
     "text": [
      "Epoch 210/100\tval_acc 78.47%\n",
      "Epoch 211/100\tIt 0/40\tloss 0.496263 (0.496263)\titer_time 0.194279 (0.194279)\n"
     ]
    },
    {
     "name": "stderr",
     "output_type": "stream",
     "text": [
      " 71%|████████████████████████████████████████████████████████████████████████████████████████████████                                        | 212/300 [06:46<02:49,  1.93s/it]"
     ]
    },
    {
     "name": "stdout",
     "output_type": "stream",
     "text": [
      "Epoch 211/100\tval_acc 78.35%\n",
      "Epoch 212/100\tIt 0/40\tloss 0.516004 (0.516004)\titer_time 0.160806 (0.160806)\n"
     ]
    },
    {
     "name": "stderr",
     "output_type": "stream",
     "text": [
      " 71%|████████████████████████████████████████████████████████████████████████████████████████████████▌                                       | 213/300 [06:48<02:47,  1.92s/it]"
     ]
    },
    {
     "name": "stdout",
     "output_type": "stream",
     "text": [
      "Epoch 212/100\tval_acc 78.54%\n",
      "Epoch 213/100\tIt 0/40\tloss 0.489574 (0.489574)\titer_time 0.164445 (0.164445)\n"
     ]
    },
    {
     "name": "stderr",
     "output_type": "stream",
     "text": [
      " 71%|█████████████████████████████████████████████████████████████████████████████████████████████████                                       | 214/300 [06:50<02:45,  1.92s/it]"
     ]
    },
    {
     "name": "stdout",
     "output_type": "stream",
     "text": [
      "Epoch 213/100\tval_acc 78.42%\n",
      "Epoch 214/100\tIt 0/40\tloss 0.502414 (0.502414)\titer_time 0.176598 (0.176598)\n"
     ]
    },
    {
     "name": "stderr",
     "output_type": "stream",
     "text": [
      " 72%|█████████████████████████████████████████████████████████████████████████████████████████████████▍                                      | 215/300 [06:52<02:42,  1.92s/it]"
     ]
    },
    {
     "name": "stdout",
     "output_type": "stream",
     "text": [
      "Epoch 214/100\tval_acc 78.4%\n",
      "Epoch 215/100\tIt 0/40\tloss 0.413278 (0.413278)\titer_time 0.162287 (0.162287)\n"
     ]
    },
    {
     "name": "stderr",
     "output_type": "stream",
     "text": [
      " 72%|█████████████████████████████████████████████████████████████████████████████████████████████████▉                                      | 216/300 [06:54<02:40,  1.92s/it]"
     ]
    },
    {
     "name": "stdout",
     "output_type": "stream",
     "text": [
      "Epoch 215/100\tval_acc 78.33%\n",
      "Epoch 216/100\tIt 0/40\tloss 0.554563 (0.554563)\titer_time 0.168607 (0.168607)\n"
     ]
    },
    {
     "name": "stderr",
     "output_type": "stream",
     "text": [
      " 72%|██████████████████████████████████████████████████████████████████████████████████████████████████▎                                     | 217/300 [06:56<02:39,  1.92s/it]"
     ]
    },
    {
     "name": "stdout",
     "output_type": "stream",
     "text": [
      "Epoch 216/100\tval_acc 78.41%\n",
      "Epoch 217/100\tIt 0/40\tloss 0.489160 (0.489160)\titer_time 0.165786 (0.165786)\n"
     ]
    },
    {
     "name": "stderr",
     "output_type": "stream",
     "text": [
      " 73%|██████████████████████████████████████████████████████████████████████████████████████████████████▊                                     | 218/300 [06:58<02:36,  1.91s/it]"
     ]
    },
    {
     "name": "stdout",
     "output_type": "stream",
     "text": [
      "Epoch 217/100\tval_acc 78.36%\n",
      "Epoch 218/100\tIt 0/40\tloss 0.350374 (0.350374)\titer_time 0.195748 (0.195748)\n"
     ]
    },
    {
     "name": "stderr",
     "output_type": "stream",
     "text": [
      " 73%|███████████████████████████████████████████████████████████████████████████████████████████████████▎                                    | 219/300 [07:00<02:35,  1.91s/it]"
     ]
    },
    {
     "name": "stdout",
     "output_type": "stream",
     "text": [
      "Epoch 218/100\tval_acc 78.33%\n",
      "Epoch 219/100\tIt 0/40\tloss 0.388233 (0.388233)\titer_time 0.167005 (0.167005)\n"
     ]
    },
    {
     "name": "stderr",
     "output_type": "stream",
     "text": [
      " 73%|███████████████████████████████████████████████████████████████████████████████████████████████████▋                                    | 220/300 [07:02<02:32,  1.91s/it]"
     ]
    },
    {
     "name": "stdout",
     "output_type": "stream",
     "text": [
      "Epoch 219/100\tval_acc 78.47%\n",
      "Epoch 220/100\tIt 0/40\tloss 0.491535 (0.491535)\titer_time 0.197484 (0.197484)\n"
     ]
    },
    {
     "name": "stderr",
     "output_type": "stream",
     "text": [
      " 74%|████████████████████████████████████████████████████████████████████████████████████████████████████▏                                   | 221/300 [07:04<02:31,  1.91s/it]"
     ]
    },
    {
     "name": "stdout",
     "output_type": "stream",
     "text": [
      "Epoch 220/100\tval_acc 78.51%\n",
      "Epoch 221/100\tIt 0/40\tloss 0.475818 (0.475818)\titer_time 0.195669 (0.195669)\n"
     ]
    },
    {
     "name": "stderr",
     "output_type": "stream",
     "text": [
      " 74%|████████████████████████████████████████████████████████████████████████████████████████████████████▋                                   | 222/300 [07:06<02:30,  1.92s/it]"
     ]
    },
    {
     "name": "stdout",
     "output_type": "stream",
     "text": [
      "Epoch 221/100\tval_acc 78.41%\n",
      "Epoch 222/100\tIt 0/40\tloss 0.371824 (0.371824)\titer_time 0.197796 (0.197796)\n"
     ]
    },
    {
     "name": "stderr",
     "output_type": "stream",
     "text": [
      " 74%|█████████████████████████████████████████████████████████████████████████████████████████████████████                                   | 223/300 [07:08<02:28,  1.93s/it]"
     ]
    },
    {
     "name": "stdout",
     "output_type": "stream",
     "text": [
      "Epoch 222/100\tval_acc 78.41%\n",
      "Epoch 223/100\tIt 0/40\tloss 0.347975 (0.347975)\titer_time 0.163744 (0.163744)\n"
     ]
    },
    {
     "name": "stderr",
     "output_type": "stream",
     "text": [
      " 75%|█████████████████████████████████████████████████████████████████████████████████████████████████████▌                                  | 224/300 [07:09<02:26,  1.93s/it]"
     ]
    },
    {
     "name": "stdout",
     "output_type": "stream",
     "text": [
      "Epoch 223/100\tval_acc 78.33%\n",
      "Epoch 224/100\tIt 0/40\tloss 0.321356 (0.321356)\titer_time 0.165751 (0.165751)\n"
     ]
    },
    {
     "name": "stderr",
     "output_type": "stream",
     "text": [
      " 75%|██████████████████████████████████████████████████████████████████████████████████████████████████████                                  | 225/300 [07:11<02:24,  1.93s/it]"
     ]
    },
    {
     "name": "stdout",
     "output_type": "stream",
     "text": [
      "Epoch 224/100\tval_acc 78.51%\n",
      "Epoch 225/100\tIt 0/40\tloss 0.475428 (0.475428)\titer_time 0.160250 (0.160250)\n"
     ]
    },
    {
     "name": "stderr",
     "output_type": "stream",
     "text": [
      " 75%|██████████████████████████████████████████████████████████████████████████████████████████████████████▍                                 | 226/300 [07:13<02:22,  1.93s/it]"
     ]
    },
    {
     "name": "stdout",
     "output_type": "stream",
     "text": [
      "Epoch 225/100\tval_acc 78.51%\n",
      "Epoch 226/100\tIt 0/40\tloss 0.410671 (0.410671)\titer_time 0.201873 (0.201873)\n"
     ]
    },
    {
     "name": "stderr",
     "output_type": "stream",
     "text": [
      " 76%|██████████████████████████████████████████████████████████████████████████████████████████████████████▉                                 | 227/300 [07:15<02:21,  1.94s/it]"
     ]
    },
    {
     "name": "stdout",
     "output_type": "stream",
     "text": [
      "Epoch 226/100\tval_acc 78.42%\n",
      "Epoch 227/100\tIt 0/40\tloss 0.447217 (0.447217)\titer_time 0.195642 (0.195642)\n"
     ]
    },
    {
     "name": "stderr",
     "output_type": "stream",
     "text": [
      " 76%|███████████████████████████████████████████████████████████████████████████████████████████████████████▎                                | 228/300 [07:17<02:19,  1.93s/it]"
     ]
    },
    {
     "name": "stdout",
     "output_type": "stream",
     "text": [
      "Epoch 227/100\tval_acc 78.27%\n",
      "Epoch 228/100\tIt 0/40\tloss 0.390107 (0.390107)\titer_time 0.177942 (0.177942)\n"
     ]
    },
    {
     "name": "stderr",
     "output_type": "stream",
     "text": [
      " 76%|███████████████████████████████████████████████████████████████████████████████████████████████████████▊                                | 229/300 [07:19<02:16,  1.92s/it]"
     ]
    },
    {
     "name": "stdout",
     "output_type": "stream",
     "text": [
      "Epoch 228/100\tval_acc 78.62%\n",
      "Epoch 229/100\tIt 0/40\tloss 0.475773 (0.475773)\titer_time 0.161024 (0.161024)\n"
     ]
    },
    {
     "name": "stderr",
     "output_type": "stream",
     "text": [
      " 77%|████████████████████████████████████████████████████████████████████████████████████████████████████████▎                               | 230/300 [07:21<02:14,  1.92s/it]"
     ]
    },
    {
     "name": "stdout",
     "output_type": "stream",
     "text": [
      "Epoch 229/100\tval_acc 78.57%\n",
      "Epoch 230/100\tIt 0/40\tloss 0.295959 (0.295959)\titer_time 0.159939 (0.159939)\n"
     ]
    },
    {
     "name": "stderr",
     "output_type": "stream",
     "text": [
      " 77%|████████████████████████████████████████████████████████████████████████████████████████████████████████▋                               | 231/300 [07:23<02:11,  1.91s/it]"
     ]
    },
    {
     "name": "stdout",
     "output_type": "stream",
     "text": [
      "Epoch 230/100\tval_acc 78.49%\n",
      "Epoch 231/100\tIt 0/40\tloss 0.408905 (0.408905)\titer_time 0.195161 (0.195161)\n"
     ]
    },
    {
     "name": "stderr",
     "output_type": "stream",
     "text": [
      " 77%|█████████████████████████████████████████████████████████████████████████████████████████████████████████▏                              | 232/300 [07:25<02:10,  1.92s/it]"
     ]
    },
    {
     "name": "stdout",
     "output_type": "stream",
     "text": [
      "Epoch 231/100\tval_acc 78.57%\n",
      "Epoch 232/100\tIt 0/40\tloss 0.466298 (0.466298)\titer_time 0.195844 (0.195844)\n"
     ]
    },
    {
     "name": "stderr",
     "output_type": "stream",
     "text": [
      " 78%|█████████████████████████████████████████████████████████████████████████████████████████████████████████▋                              | 233/300 [07:27<02:09,  1.93s/it]"
     ]
    },
    {
     "name": "stdout",
     "output_type": "stream",
     "text": [
      "Epoch 232/100\tval_acc 78.35%\n",
      "Epoch 233/100\tIt 0/40\tloss 0.482784 (0.482784)\titer_time 0.164679 (0.164679)\n"
     ]
    },
    {
     "name": "stderr",
     "output_type": "stream",
     "text": [
      " 78%|██████████████████████████████████████████████████████████████████████████████████████████████████████████                              | 234/300 [07:29<02:06,  1.92s/it]"
     ]
    },
    {
     "name": "stdout",
     "output_type": "stream",
     "text": [
      "Epoch 233/100\tval_acc 78.46%\n",
      "Epoch 234/100\tIt 0/40\tloss 0.452844 (0.452844)\titer_time 0.194729 (0.194729)\n"
     ]
    },
    {
     "name": "stderr",
     "output_type": "stream",
     "text": [
      " 78%|██████████████████████████████████████████████████████████████████████████████████████████████████████████▌                             | 235/300 [07:31<02:04,  1.92s/it]"
     ]
    },
    {
     "name": "stdout",
     "output_type": "stream",
     "text": [
      "Epoch 234/100\tval_acc 78.5%\n",
      "Epoch 235/100\tIt 0/40\tloss 0.476294 (0.476294)\titer_time 0.165967 (0.165967)\n"
     ]
    },
    {
     "name": "stderr",
     "output_type": "stream",
     "text": [
      " 79%|██████████████████████████████████████████████████████████████████████████████████████████████████████████▉                             | 236/300 [07:33<02:02,  1.92s/it]"
     ]
    },
    {
     "name": "stdout",
     "output_type": "stream",
     "text": [
      "Epoch 235/100\tval_acc 78.49%\n",
      "Epoch 236/100\tIt 0/40\tloss 0.336030 (0.336030)\titer_time 0.196309 (0.196309)\n"
     ]
    },
    {
     "name": "stderr",
     "output_type": "stream",
     "text": [
      " 79%|███████████████████████████████████████████████████████████████████████████████████████████████████████████▍                            | 237/300 [07:34<02:01,  1.93s/it]"
     ]
    },
    {
     "name": "stdout",
     "output_type": "stream",
     "text": [
      "Epoch 236/100\tval_acc 78.7%\n",
      "Epoch 237/100\tIt 0/40\tloss 0.441331 (0.441331)\titer_time 0.169463 (0.169463)\n"
     ]
    },
    {
     "name": "stderr",
     "output_type": "stream",
     "text": [
      " 79%|███████████████████████████████████████████████████████████████████████████████████████████████████████████▉                            | 238/300 [07:36<01:59,  1.93s/it]"
     ]
    },
    {
     "name": "stdout",
     "output_type": "stream",
     "text": [
      "Epoch 237/100\tval_acc 78.66%\n",
      "Epoch 238/100\tIt 0/40\tloss 0.532445 (0.532445)\titer_time 0.191345 (0.191345)\n"
     ]
    },
    {
     "name": "stderr",
     "output_type": "stream",
     "text": [
      " 80%|████████████████████████████████████████████████████████████████████████████████████████████████████████████▎                           | 239/300 [07:38<01:57,  1.92s/it]"
     ]
    },
    {
     "name": "stdout",
     "output_type": "stream",
     "text": [
      "Epoch 238/100\tval_acc 78.56%\n",
      "Epoch 239/100\tIt 0/40\tloss 0.502483 (0.502483)\titer_time 0.195459 (0.195459)\n"
     ]
    },
    {
     "name": "stderr",
     "output_type": "stream",
     "text": [
      " 80%|████████████████████████████████████████████████████████████████████████████████████████████████████████████▊                           | 240/300 [07:40<01:55,  1.92s/it]"
     ]
    },
    {
     "name": "stdout",
     "output_type": "stream",
     "text": [
      "Epoch 239/100\tval_acc 78.42%\n",
      "Epoch 240/100\tIt 0/40\tloss 0.374590 (0.374590)\titer_time 0.199710 (0.199710)\n"
     ]
    },
    {
     "name": "stderr",
     "output_type": "stream",
     "text": [
      " 80%|█████████████████████████████████████████████████████████████████████████████████████████████████████████████▎                          | 241/300 [07:42<01:54,  1.93s/it]"
     ]
    },
    {
     "name": "stdout",
     "output_type": "stream",
     "text": [
      "Epoch 240/100\tval_acc 78.49%\n",
      "Epoch 241/100\tIt 0/40\tloss 0.367709 (0.367709)\titer_time 0.188687 (0.188687)\n"
     ]
    },
    {
     "name": "stderr",
     "output_type": "stream",
     "text": [
      " 81%|█████████████████████████████████████████████████████████████████████████████████████████████████████████████▋                          | 242/300 [07:44<01:52,  1.93s/it]"
     ]
    },
    {
     "name": "stdout",
     "output_type": "stream",
     "text": [
      "Epoch 241/100\tval_acc 78.47%\n",
      "Epoch 242/100\tIt 0/40\tloss 0.459979 (0.459979)\titer_time 0.185758 (0.185758)\n"
     ]
    },
    {
     "name": "stderr",
     "output_type": "stream",
     "text": [
      " 81%|██████████████████████████████████████████████████████████████████████████████████████████████████████████████▏                         | 243/300 [07:46<01:50,  1.93s/it]"
     ]
    },
    {
     "name": "stdout",
     "output_type": "stream",
     "text": [
      "Epoch 242/100\tval_acc 78.59%\n",
      "Epoch 243/100\tIt 0/40\tloss 0.393202 (0.393202)\titer_time 0.193707 (0.193707)\n"
     ]
    },
    {
     "name": "stderr",
     "output_type": "stream",
     "text": [
      " 81%|██████████████████████████████████████████████████████████████████████████████████████████████████████████████▌                         | 244/300 [07:48<01:48,  1.93s/it]"
     ]
    },
    {
     "name": "stdout",
     "output_type": "stream",
     "text": [
      "Epoch 243/100\tval_acc 78.51%\n",
      "Epoch 244/100\tIt 0/40\tloss 0.406222 (0.406222)\titer_time 0.164315 (0.164315)\n"
     ]
    },
    {
     "name": "stderr",
     "output_type": "stream",
     "text": [
      " 82%|███████████████████████████████████████████████████████████████████████████████████████████████████████████████                         | 245/300 [07:50<01:45,  1.92s/it]"
     ]
    },
    {
     "name": "stdout",
     "output_type": "stream",
     "text": [
      "Epoch 244/100\tval_acc 78.38%\n",
      "Epoch 245/100\tIt 0/40\tloss 0.330685 (0.330685)\titer_time 0.190170 (0.190170)\n"
     ]
    },
    {
     "name": "stderr",
     "output_type": "stream",
     "text": [
      " 82%|███████████████████████████████████████████████████████████████████████████████████████████████████████████████▌                        | 246/300 [07:52<01:43,  1.92s/it]"
     ]
    },
    {
     "name": "stdout",
     "output_type": "stream",
     "text": [
      "Epoch 245/100\tval_acc 78.59%\n",
      "Epoch 246/100\tIt 0/40\tloss 0.505635 (0.505635)\titer_time 0.198400 (0.198400)\n"
     ]
    },
    {
     "name": "stderr",
     "output_type": "stream",
     "text": [
      " 82%|███████████████████████████████████████████████████████████████████████████████████████████████████████████████▉                        | 247/300 [07:54<01:41,  1.92s/it]"
     ]
    },
    {
     "name": "stdout",
     "output_type": "stream",
     "text": [
      "Epoch 246/100\tval_acc 78.56%\n",
      "Epoch 247/100\tIt 0/40\tloss 0.490566 (0.490566)\titer_time 0.163130 (0.163130)\n"
     ]
    },
    {
     "name": "stderr",
     "output_type": "stream",
     "text": [
      " 83%|████████████████████████████████████████████████████████████████████████████████████████████████████████████████▍                       | 248/300 [07:56<01:39,  1.92s/it]"
     ]
    },
    {
     "name": "stdout",
     "output_type": "stream",
     "text": [
      "Epoch 247/100\tval_acc 78.59%\n",
      "Epoch 248/100\tIt 0/40\tloss 0.510514 (0.510514)\titer_time 0.180475 (0.180475)\n"
     ]
    },
    {
     "name": "stderr",
     "output_type": "stream",
     "text": [
      " 83%|████████████████████████████████████████████████████████████████████████████████████████████████████████████████▉                       | 249/300 [07:58<01:37,  1.92s/it]"
     ]
    },
    {
     "name": "stdout",
     "output_type": "stream",
     "text": [
      "Epoch 248/100\tval_acc 78.46%\n",
      "Epoch 249/100\tIt 0/40\tloss 0.485024 (0.485024)\titer_time 0.161142 (0.161142)\n"
     ]
    },
    {
     "name": "stderr",
     "output_type": "stream",
     "text": [
      " 83%|█████████████████████████████████████████████████████████████████████████████████████████████████████████████████▎                      | 250/300 [07:59<01:35,  1.92s/it]"
     ]
    },
    {
     "name": "stdout",
     "output_type": "stream",
     "text": [
      "Epoch 249/100\tval_acc 78.6%\n",
      "Epoch 250/100\tIt 0/40\tloss 0.417922 (0.417922)\titer_time 0.167912 (0.167912)\n"
     ]
    },
    {
     "name": "stderr",
     "output_type": "stream",
     "text": [
      " 84%|█████████████████████████████████████████████████████████████████████████████████████████████████████████████████▊                      | 251/300 [08:01<01:33,  1.91s/it]"
     ]
    },
    {
     "name": "stdout",
     "output_type": "stream",
     "text": [
      "Epoch 250/100\tval_acc 78.36%\n",
      "Epoch 251/100\tIt 0/40\tloss 0.445796 (0.445796)\titer_time 0.164083 (0.164083)\n"
     ]
    },
    {
     "name": "stderr",
     "output_type": "stream",
     "text": [
      " 84%|██████████████████████████████████████████████████████████████████████████████████████████████████████████████████▏                     | 252/300 [08:03<01:31,  1.90s/it]"
     ]
    },
    {
     "name": "stdout",
     "output_type": "stream",
     "text": [
      "Epoch 251/100\tval_acc 78.47%\n",
      "Epoch 252/100\tIt 0/40\tloss 0.513649 (0.513649)\titer_time 0.180380 (0.180380)\n"
     ]
    },
    {
     "name": "stderr",
     "output_type": "stream",
     "text": [
      " 84%|██████████████████████████████████████████████████████████████████████████████████████████████████████████████████▋                     | 253/300 [08:05<01:29,  1.91s/it]"
     ]
    },
    {
     "name": "stdout",
     "output_type": "stream",
     "text": [
      "Epoch 252/100\tval_acc 78.53%\n",
      "Epoch 253/100\tIt 0/40\tloss 0.479545 (0.479545)\titer_time 0.160972 (0.160972)\n"
     ]
    },
    {
     "name": "stderr",
     "output_type": "stream",
     "text": [
      " 85%|███████████████████████████████████████████████████████████████████████████████████████████████████████████████████▏                    | 254/300 [08:07<01:27,  1.90s/it]"
     ]
    },
    {
     "name": "stdout",
     "output_type": "stream",
     "text": [
      "Epoch 253/100\tval_acc 78.44%\n",
      "Epoch 254/100\tIt 0/40\tloss 0.392522 (0.392522)\titer_time 0.169984 (0.169984)\n"
     ]
    },
    {
     "name": "stderr",
     "output_type": "stream",
     "text": [
      " 85%|███████████████████████████████████████████████████████████████████████████████████████████████████████████████████▌                    | 255/300 [08:09<01:25,  1.90s/it]"
     ]
    },
    {
     "name": "stdout",
     "output_type": "stream",
     "text": [
      "Epoch 254/100\tval_acc 78.59%\n",
      "Epoch 255/100\tIt 0/40\tloss 0.518870 (0.518870)\titer_time 0.195132 (0.195132)\n"
     ]
    },
    {
     "name": "stderr",
     "output_type": "stream",
     "text": [
      " 85%|████████████████████████████████████████████████████████████████████████████████████████████████████████████████████                    | 256/300 [08:11<01:23,  1.91s/it]"
     ]
    },
    {
     "name": "stdout",
     "output_type": "stream",
     "text": [
      "Epoch 255/100\tval_acc 78.61%\n",
      "Epoch 256/100\tIt 0/40\tloss 0.475375 (0.475375)\titer_time 0.196680 (0.196680)\n"
     ]
    },
    {
     "name": "stderr",
     "output_type": "stream",
     "text": [
      " 86%|████████████████████████████████████████████████████████████████████████████████████████████████████████████████████▌                   | 257/300 [08:13<01:22,  1.92s/it]"
     ]
    },
    {
     "name": "stdout",
     "output_type": "stream",
     "text": [
      "Epoch 256/100\tval_acc 78.44%\n",
      "Epoch 257/100\tIt 0/40\tloss 0.467630 (0.467630)\titer_time 0.169675 (0.169675)\n"
     ]
    },
    {
     "name": "stderr",
     "output_type": "stream",
     "text": [
      " 86%|████████████████████████████████████████████████████████████████████████████████████████████████████████████████████▉                   | 258/300 [08:15<01:20,  1.92s/it]"
     ]
    },
    {
     "name": "stdout",
     "output_type": "stream",
     "text": [
      "Epoch 257/100\tval_acc 78.45%\n",
      "Epoch 258/100\tIt 0/40\tloss 0.418456 (0.418456)\titer_time 0.164023 (0.164023)\n"
     ]
    },
    {
     "name": "stderr",
     "output_type": "stream",
     "text": [
      " 86%|█████████████████████████████████████████████████████████████████████████████████████████████████████████████████████▍                  | 259/300 [08:17<01:18,  1.91s/it]"
     ]
    },
    {
     "name": "stdout",
     "output_type": "stream",
     "text": [
      "Epoch 258/100\tval_acc 78.4%\n",
      "Epoch 259/100\tIt 0/40\tloss 0.514753 (0.514753)\titer_time 0.164438 (0.164438)\n"
     ]
    },
    {
     "name": "stderr",
     "output_type": "stream",
     "text": [
      " 87%|█████████████████████████████████████████████████████████████████████████████████████████████████████████████████████▊                  | 260/300 [08:19<01:16,  1.91s/it]"
     ]
    },
    {
     "name": "stdout",
     "output_type": "stream",
     "text": [
      "Epoch 259/100\tval_acc 78.46%\n",
      "Epoch 260/100\tIt 0/40\tloss 0.387234 (0.387234)\titer_time 0.200227 (0.200227)\n"
     ]
    },
    {
     "name": "stderr",
     "output_type": "stream",
     "text": [
      " 87%|██████████████████████████████████████████████████████████████████████████████████████████████████████████████████████▎                 | 261/300 [08:21<01:15,  1.92s/it]"
     ]
    },
    {
     "name": "stdout",
     "output_type": "stream",
     "text": [
      "Epoch 260/100\tval_acc 78.65%\n",
      "Epoch 261/100\tIt 0/40\tloss 0.358511 (0.358511)\titer_time 0.195798 (0.195798)\n"
     ]
    },
    {
     "name": "stderr",
     "output_type": "stream",
     "text": [
      " 87%|██████████████████████████████████████████████████████████████████████████████████████████████████████████████████████▊                 | 262/300 [08:22<01:12,  1.92s/it]"
     ]
    },
    {
     "name": "stdout",
     "output_type": "stream",
     "text": [
      "Epoch 261/100\tval_acc 78.56%\n",
      "Epoch 262/100\tIt 0/40\tloss 0.388047 (0.388047)\titer_time 0.171133 (0.171133)\n"
     ]
    },
    {
     "name": "stderr",
     "output_type": "stream",
     "text": [
      " 88%|███████████████████████████████████████████████████████████████████████████████████████████████████████████████████████▏                | 263/300 [08:24<01:11,  1.92s/it]"
     ]
    },
    {
     "name": "stdout",
     "output_type": "stream",
     "text": [
      "Epoch 262/100\tval_acc 78.59%\n",
      "Epoch 263/100\tIt 0/40\tloss 0.330030 (0.330030)\titer_time 0.165962 (0.165962)\n"
     ]
    },
    {
     "name": "stderr",
     "output_type": "stream",
     "text": [
      " 88%|███████████████████████████████████████████████████████████████████████████████████████████████████████████████████████▋                | 264/300 [08:26<01:08,  1.91s/it]"
     ]
    },
    {
     "name": "stdout",
     "output_type": "stream",
     "text": [
      "Epoch 263/100\tval_acc 78.59%\n",
      "Epoch 264/100\tIt 0/40\tloss 0.485032 (0.485032)\titer_time 0.203363 (0.203363)\n"
     ]
    },
    {
     "name": "stderr",
     "output_type": "stream",
     "text": [
      " 88%|████████████████████████████████████████████████████████████████████████████████████████████████████████████████████████▏               | 265/300 [08:28<01:07,  1.92s/it]"
     ]
    },
    {
     "name": "stdout",
     "output_type": "stream",
     "text": [
      "Epoch 264/100\tval_acc 78.65%\n",
      "Epoch 265/100\tIt 0/40\tloss 0.394431 (0.394431)\titer_time 0.170178 (0.170178)\n"
     ]
    },
    {
     "name": "stderr",
     "output_type": "stream",
     "text": [
      " 89%|████████████████████████████████████████████████████████████████████████████████████████████████████████████████████████▌               | 266/300 [08:30<01:05,  1.92s/it]"
     ]
    },
    {
     "name": "stdout",
     "output_type": "stream",
     "text": [
      "Epoch 265/100\tval_acc 78.56%\n",
      "Epoch 266/100\tIt 0/40\tloss 0.434888 (0.434888)\titer_time 0.175552 (0.175552)\n"
     ]
    },
    {
     "name": "stderr",
     "output_type": "stream",
     "text": [
      " 89%|█████████████████████████████████████████████████████████████████████████████████████████████████████████████████████████               | 267/300 [08:32<01:03,  1.92s/it]"
     ]
    },
    {
     "name": "stdout",
     "output_type": "stream",
     "text": [
      "Epoch 266/100\tval_acc 78.5%\n",
      "Epoch 267/100\tIt 0/40\tloss 0.441220 (0.441220)\titer_time 0.161936 (0.161936)\n"
     ]
    },
    {
     "name": "stderr",
     "output_type": "stream",
     "text": [
      " 89%|█████████████████████████████████████████████████████████████████████████████████████████████████████████████████████████▍              | 268/300 [08:34<01:01,  1.92s/it]"
     ]
    },
    {
     "name": "stdout",
     "output_type": "stream",
     "text": [
      "Epoch 267/100\tval_acc 78.57%\n",
      "Epoch 268/100\tIt 0/40\tloss 0.605922 (0.605922)\titer_time 0.200134 (0.200134)\n"
     ]
    },
    {
     "name": "stderr",
     "output_type": "stream",
     "text": [
      " 90%|█████████████████████████████████████████████████████████████████████████████████████████████████████████████████████████▉              | 269/300 [08:36<00:59,  1.93s/it]"
     ]
    },
    {
     "name": "stdout",
     "output_type": "stream",
     "text": [
      "Epoch 268/100\tval_acc 78.47%\n",
      "Epoch 269/100\tIt 0/40\tloss 0.423282 (0.423282)\titer_time 0.189328 (0.189328)\n"
     ]
    },
    {
     "name": "stderr",
     "output_type": "stream",
     "text": [
      " 90%|██████████████████████████████████████████████████████████████████████████████████████████████████████████████████████████▍             | 270/300 [08:38<00:57,  1.92s/it]"
     ]
    },
    {
     "name": "stdout",
     "output_type": "stream",
     "text": [
      "Epoch 269/100\tval_acc 78.54%\n",
      "Epoch 270/100\tIt 0/40\tloss 0.440964 (0.440964)\titer_time 0.169123 (0.169123)\n"
     ]
    },
    {
     "name": "stderr",
     "output_type": "stream",
     "text": [
      " 90%|██████████████████████████████████████████████████████████████████████████████████████████████████████████████████████████▊             | 271/300 [08:40<00:55,  1.92s/it]"
     ]
    },
    {
     "name": "stdout",
     "output_type": "stream",
     "text": [
      "Epoch 270/100\tval_acc 78.5%\n",
      "Epoch 271/100\tIt 0/40\tloss 0.598762 (0.598762)\titer_time 0.182680 (0.182680)\n"
     ]
    },
    {
     "name": "stderr",
     "output_type": "stream",
     "text": [
      " 91%|███████████████████████████████████████████████████████████████████████████████████████████████████████████████████████████▎            | 272/300 [08:42<00:53,  1.92s/it]"
     ]
    },
    {
     "name": "stdout",
     "output_type": "stream",
     "text": [
      "Epoch 271/100\tval_acc 78.49%\n",
      "Epoch 272/100\tIt 0/40\tloss 0.445914 (0.445914)\titer_time 0.169240 (0.169240)\n"
     ]
    },
    {
     "name": "stderr",
     "output_type": "stream",
     "text": [
      " 91%|███████████████████████████████████████████████████████████████████████████████████████████████████████████████████████████▊            | 273/300 [08:44<00:51,  1.92s/it]"
     ]
    },
    {
     "name": "stdout",
     "output_type": "stream",
     "text": [
      "Epoch 272/100\tval_acc 78.47%\n",
      "Epoch 273/100\tIt 0/40\tloss 0.452519 (0.452519)\titer_time 0.178741 (0.178741)\n"
     ]
    },
    {
     "name": "stderr",
     "output_type": "stream",
     "text": [
      " 91%|████████████████████████████████████████████████████████████████████████████████████████████████████████████████████████████▏           | 274/300 [08:45<00:49,  1.92s/it]"
     ]
    },
    {
     "name": "stdout",
     "output_type": "stream",
     "text": [
      "Epoch 273/100\tval_acc 78.61%\n",
      "Epoch 274/100\tIt 0/40\tloss 0.507587 (0.507587)\titer_time 0.194490 (0.194490)\n"
     ]
    },
    {
     "name": "stderr",
     "output_type": "stream",
     "text": [
      " 92%|████████████████████████████████████████████████████████████████████████████████████████████████████████████████████████████▋           | 275/300 [08:47<00:48,  1.93s/it]"
     ]
    },
    {
     "name": "stdout",
     "output_type": "stream",
     "text": [
      "Epoch 274/100\tval_acc 78.61%\n",
      "Epoch 275/100\tIt 0/40\tloss 0.498272 (0.498272)\titer_time 0.196247 (0.196247)\n"
     ]
    },
    {
     "name": "stderr",
     "output_type": "stream",
     "text": [
      " 92%|█████████████████████████████████████████████████████████████████████████████████████████████████████████████████████████████           | 276/300 [08:49<00:46,  1.93s/it]"
     ]
    },
    {
     "name": "stdout",
     "output_type": "stream",
     "text": [
      "Epoch 275/100\tval_acc 78.56%\n",
      "Epoch 276/100\tIt 0/40\tloss 0.494691 (0.494691)\titer_time 0.164703 (0.164703)\n"
     ]
    },
    {
     "name": "stderr",
     "output_type": "stream",
     "text": [
      " 92%|█████████████████████████████████████████████████████████████████████████████████████████████████████████████████████████████▌          | 277/300 [08:51<00:44,  1.92s/it]"
     ]
    },
    {
     "name": "stdout",
     "output_type": "stream",
     "text": [
      "Epoch 276/100\tval_acc 78.53%\n",
      "Epoch 277/100\tIt 0/40\tloss 0.596561 (0.596561)\titer_time 0.191740 (0.191740)\n"
     ]
    },
    {
     "name": "stderr",
     "output_type": "stream",
     "text": [
      " 93%|██████████████████████████████████████████████████████████████████████████████████████████████████████████████████████████████          | 278/300 [08:53<00:42,  1.93s/it]"
     ]
    },
    {
     "name": "stdout",
     "output_type": "stream",
     "text": [
      "Epoch 277/100\tval_acc 78.59%\n",
      "Epoch 278/100\tIt 0/40\tloss 0.388002 (0.388002)\titer_time 0.197738 (0.197738)\n"
     ]
    },
    {
     "name": "stderr",
     "output_type": "stream",
     "text": [
      " 93%|██████████████████████████████████████████████████████████████████████████████████████████████████████████████████████████████▍         | 279/300 [08:55<00:40,  1.92s/it]"
     ]
    },
    {
     "name": "stdout",
     "output_type": "stream",
     "text": [
      "Epoch 278/100\tval_acc 78.47%\n",
      "Epoch 279/100\tIt 0/40\tloss 0.438046 (0.438046)\titer_time 0.196969 (0.196969)\n"
     ]
    },
    {
     "name": "stderr",
     "output_type": "stream",
     "text": [
      " 93%|██████████████████████████████████████████████████████████████████████████████████████████████████████████████████████████████▉         | 280/300 [08:57<00:38,  1.93s/it]"
     ]
    },
    {
     "name": "stdout",
     "output_type": "stream",
     "text": [
      "Epoch 279/100\tval_acc 78.38%\n",
      "Epoch 280/100\tIt 0/40\tloss 0.447443 (0.447443)\titer_time 0.170430 (0.170430)\n"
     ]
    },
    {
     "name": "stderr",
     "output_type": "stream",
     "text": [
      " 94%|███████████████████████████████████████████████████████████████████████████████████████████████████████████████████████████████▍        | 281/300 [08:59<00:36,  1.92s/it]"
     ]
    },
    {
     "name": "stdout",
     "output_type": "stream",
     "text": [
      "Epoch 280/100\tval_acc 78.47%\n",
      "Epoch 281/100\tIt 0/40\tloss 0.530268 (0.530268)\titer_time 0.162121 (0.162121)\n"
     ]
    },
    {
     "name": "stderr",
     "output_type": "stream",
     "text": [
      " 94%|███████████████████████████████████████████████████████████████████████████████████████████████████████████████████████████████▊        | 282/300 [09:01<00:34,  1.92s/it]"
     ]
    },
    {
     "name": "stdout",
     "output_type": "stream",
     "text": [
      "Epoch 281/100\tval_acc 78.42%\n",
      "Epoch 282/100\tIt 0/40\tloss 0.597281 (0.597281)\titer_time 0.176183 (0.176183)\n"
     ]
    },
    {
     "name": "stderr",
     "output_type": "stream",
     "text": [
      " 94%|████████████████████████████████████████████████████████████████████████████████████████████████████████████████████████████████▎       | 283/300 [09:03<00:32,  1.92s/it]"
     ]
    },
    {
     "name": "stdout",
     "output_type": "stream",
     "text": [
      "Epoch 282/100\tval_acc 78.34%\n",
      "Epoch 283/100\tIt 0/40\tloss 0.474035 (0.474035)\titer_time 0.194766 (0.194766)\n"
     ]
    },
    {
     "name": "stderr",
     "output_type": "stream",
     "text": [
      " 95%|████████████████████████████████████████████████████████████████████████████████████████████████████████████████████████████████▋       | 284/300 [09:05<00:30,  1.93s/it]"
     ]
    },
    {
     "name": "stdout",
     "output_type": "stream",
     "text": [
      "Epoch 283/100\tval_acc 78.47%\n",
      "Epoch 284/100\tIt 0/40\tloss 0.415582 (0.415582)\titer_time 0.181913 (0.181913)\n"
     ]
    },
    {
     "name": "stderr",
     "output_type": "stream",
     "text": [
      " 95%|█████████████████████████████████████████████████████████████████████████████████████████████████████████████████████████████████▏      | 285/300 [09:07<00:28,  1.92s/it]"
     ]
    },
    {
     "name": "stdout",
     "output_type": "stream",
     "text": [
      "Epoch 284/100\tval_acc 78.53%\n",
      "Epoch 285/100\tIt 0/40\tloss 0.483575 (0.483575)\titer_time 0.200302 (0.200302)\n"
     ]
    },
    {
     "name": "stderr",
     "output_type": "stream",
     "text": [
      " 95%|█████████████████████████████████████████████████████████████████████████████████████████████████████████████████████████████████▋      | 286/300 [09:09<00:26,  1.92s/it]"
     ]
    },
    {
     "name": "stdout",
     "output_type": "stream",
     "text": [
      "Epoch 285/100\tval_acc 78.5%\n",
      "Epoch 286/100\tIt 0/40\tloss 0.531639 (0.531639)\titer_time 0.172313 (0.172313)\n"
     ]
    },
    {
     "name": "stderr",
     "output_type": "stream",
     "text": [
      " 96%|██████████████████████████████████████████████████████████████████████████████████████████████████████████████████████████████████      | 287/300 [09:10<00:25,  1.92s/it]"
     ]
    },
    {
     "name": "stdout",
     "output_type": "stream",
     "text": [
      "Epoch 286/100\tval_acc 78.5%\n",
      "Epoch 287/100\tIt 0/40\tloss 0.386731 (0.386731)\titer_time 0.166940 (0.166940)\n"
     ]
    },
    {
     "name": "stderr",
     "output_type": "stream",
     "text": [
      " 96%|██████████████████████████████████████████████████████████████████████████████████████████████████████████████████████████████████▌     | 288/300 [09:12<00:22,  1.91s/it]"
     ]
    },
    {
     "name": "stdout",
     "output_type": "stream",
     "text": [
      "Epoch 287/100\tval_acc 78.45%\n",
      "Epoch 288/100\tIt 0/40\tloss 0.461550 (0.461550)\titer_time 0.164539 (0.164539)\n"
     ]
    },
    {
     "name": "stderr",
     "output_type": "stream",
     "text": [
      " 96%|███████████████████████████████████████████████████████████████████████████████████████████████████████████████████████████████████     | 289/300 [09:14<00:21,  1.92s/it]"
     ]
    },
    {
     "name": "stdout",
     "output_type": "stream",
     "text": [
      "Epoch 288/100\tval_acc 78.33%\n",
      "Epoch 289/100\tIt 0/40\tloss 0.379210 (0.379210)\titer_time 0.161001 (0.161001)\n"
     ]
    },
    {
     "name": "stderr",
     "output_type": "stream",
     "text": [
      " 97%|███████████████████████████████████████████████████████████████████████████████████████████████████████████████████████████████████▍    | 290/300 [09:16<00:19,  1.91s/it]"
     ]
    },
    {
     "name": "stdout",
     "output_type": "stream",
     "text": [
      "Epoch 289/100\tval_acc 78.62%\n",
      "Epoch 290/100\tIt 0/40\tloss 0.463907 (0.463907)\titer_time 0.195376 (0.195376)\n"
     ]
    },
    {
     "name": "stderr",
     "output_type": "stream",
     "text": [
      " 97%|███████████████████████████████████████████████████████████████████████████████████████████████████████████████████████████████████▉    | 291/300 [09:18<00:17,  1.92s/it]"
     ]
    },
    {
     "name": "stdout",
     "output_type": "stream",
     "text": [
      "Epoch 290/100\tval_acc 78.66%\n",
      "Epoch 291/100\tIt 0/40\tloss 0.381830 (0.381830)\titer_time 0.195576 (0.195576)\n"
     ]
    },
    {
     "name": "stderr",
     "output_type": "stream",
     "text": [
      " 97%|████████████████████████████████████████████████████████████████████████████████████████████████████████████████████████████████████▎   | 292/300 [09:20<00:15,  1.92s/it]"
     ]
    },
    {
     "name": "stdout",
     "output_type": "stream",
     "text": [
      "Epoch 291/100\tval_acc 78.54%\n",
      "Epoch 292/100\tIt 0/40\tloss 0.431647 (0.431647)\titer_time 0.160975 (0.160975)\n"
     ]
    },
    {
     "name": "stderr",
     "output_type": "stream",
     "text": [
      " 98%|████████████████████████████████████████████████████████████████████████████████████████████████████████████████████████████████████▊   | 293/300 [09:22<00:13,  1.91s/it]"
     ]
    },
    {
     "name": "stdout",
     "output_type": "stream",
     "text": [
      "Epoch 292/100\tval_acc 78.51%\n",
      "Epoch 293/100\tIt 0/40\tloss 0.365600 (0.365600)\titer_time 0.159918 (0.159918)\n"
     ]
    },
    {
     "name": "stderr",
     "output_type": "stream",
     "text": [
      " 98%|█████████████████████████████████████████████████████████████████████████████████████████████████████████████████████████████████████▎  | 294/300 [09:24<00:11,  1.90s/it]"
     ]
    },
    {
     "name": "stdout",
     "output_type": "stream",
     "text": [
      "Epoch 293/100\tval_acc 78.55%\n",
      "Epoch 294/100\tIt 0/40\tloss 0.500999 (0.500999)\titer_time 0.162096 (0.162096)\n"
     ]
    },
    {
     "name": "stderr",
     "output_type": "stream",
     "text": [
      " 98%|█████████████████████████████████████████████████████████████████████████████████████████████████████████████████████████████████████▋  | 295/300 [09:26<00:09,  1.90s/it]"
     ]
    },
    {
     "name": "stdout",
     "output_type": "stream",
     "text": [
      "Epoch 294/100\tval_acc 78.54%\n",
      "Epoch 295/100\tIt 0/40\tloss 0.467611 (0.467611)\titer_time 0.197102 (0.197102)\n"
     ]
    },
    {
     "name": "stderr",
     "output_type": "stream",
     "text": [
      " 99%|██████████████████████████████████████████████████████████████████████████████████████████████████████████████████████████████████████▏ | 296/300 [09:28<00:07,  1.92s/it]"
     ]
    },
    {
     "name": "stdout",
     "output_type": "stream",
     "text": [
      "Epoch 295/100\tval_acc 78.53%\n",
      "Epoch 296/100\tIt 0/40\tloss 0.382900 (0.382900)\titer_time 0.187022 (0.187022)\n"
     ]
    },
    {
     "name": "stderr",
     "output_type": "stream",
     "text": [
      " 99%|██████████████████████████████████████████████████████████████████████████████████████████████████████████████████████████████████████▋ | 297/300 [09:30<00:05,  1.92s/it]"
     ]
    },
    {
     "name": "stdout",
     "output_type": "stream",
     "text": [
      "Epoch 296/100\tval_acc 78.47%\n",
      "Epoch 297/100\tIt 0/40\tloss 0.467877 (0.467877)\titer_time 0.199445 (0.199445)\n"
     ]
    },
    {
     "name": "stderr",
     "output_type": "stream",
     "text": [
      " 99%|███████████████████████████████████████████████████████████████████████████████████████████████████████████████████████████████████████ | 298/300 [09:32<00:03,  1.93s/it]"
     ]
    },
    {
     "name": "stdout",
     "output_type": "stream",
     "text": [
      "Epoch 297/100\tval_acc 78.42%\n",
      "Epoch 298/100\tIt 0/40\tloss 0.452458 (0.452458)\titer_time 0.170992 (0.170992)\n"
     ]
    },
    {
     "name": "stderr",
     "output_type": "stream",
     "text": [
      "100%|███████████████████████████████████████████████████████████████████████████████████████████████████████████████████████████████████████▌| 299/300 [09:33<00:01,  1.93s/it]"
     ]
    },
    {
     "name": "stdout",
     "output_type": "stream",
     "text": [
      "Epoch 298/100\tval_acc 78.42%\n",
      "Epoch 299/100\tIt 0/40\tloss 0.560639 (0.560639)\titer_time 0.197676 (0.197676)\n"
     ]
    },
    {
     "name": "stderr",
     "output_type": "stream",
     "text": [
      "100%|████████████████████████████████████████████████████████████████████████████████████████████████████████████████████████████████████████| 300/300 [09:35<00:00,  1.92s/it]"
     ]
    },
    {
     "name": "stdout",
     "output_type": "stream",
     "text": [
      "Epoch 299/100\tval_acc 78.39%\n",
      "Best validation accuracy 0.787\n"
     ]
    },
    {
     "name": "stderr",
     "output_type": "stream",
     "text": [
      "\n"
     ]
    }
   ],
   "source": [
    "opt = parse_option()\n",
    "\n",
    "opt.gpu=opt.gpus[0]\n",
    "torch.cuda.set_device(opt.gpus[0])\n",
    "torch.backends.cudnn.deterministic = True\n",
    "torch.backends.cudnn.benchmark = True\n",
    "\n",
    "encoder.eval()\n",
    "train_loader, val_loader = get_data_loaders(opt)\n",
    "\n",
    "with torch.no_grad():\n",
    "    sample, _ = train_loader.dataset.dataset[0]\n",
    "    eval_numel = encoder(sample.unsqueeze(0).to(opt.gpus[0]),torch.ones((1,len(labels_2_keep)+1)).to(opt.gpus[0]), layer_index=opt.layer_index).numel()\n",
    "print(f'Feature dimension: {eval_numel}')\n",
    "\n",
    "\n",
    "classifier = nn.Linear(eval_numel, 10).to(opt.gpus[0]) if not USE_MOD_LBL else nn.Linear( eval_numel + len(labels_2_keep) + 1,10).to(opt.gpus[0])\n",
    "\n",
    "optim = torch.optim.Adam(classifier.parameters(), lr=opt.lr, betas=(0.5, 0.999))\n",
    "scheduler = torch.optim.lr_scheduler.MultiStepLR(optim, gamma=opt.lr_decay_rate,\n",
    "                                                 milestones=opt.lr_decay_epochs)\n",
    "\n",
    "val_accs = []\n",
    "loss_meter = AverageMeter('loss')\n",
    "it_time_meter = AverageMeter('iter_time')\n",
    "for epoch in tqdm(range(300)):\n",
    "    loss_meter.reset()\n",
    "    it_time_meter.reset()\n",
    "    t0 = time.time()\n",
    "    for ii, (images, labels_mod, labels) in enumerate(train_loader):\n",
    "        optim.zero_grad()\n",
    "        with torch.no_grad():\n",
    "            labels_mod_onehot = torch.nn.functional.one_hot(labels_mod,num_classes=len(labels_2_keep) + 1).to(opt.gpus[0])\n",
    "            feats = encoder(images.to(opt.gpus[0]),labels_mod_onehot,layer_index=opt.layer_index).flatten(1)\n",
    "\n",
    "        if USE_MOD_LBL:\n",
    "            logits = classifier(torch.cat( (feats, torch.nn.functional.one_hot(labels_mod.to(opt.gpus[0]), num_classes=len(labels_2_keep)+1 )),dim=1))\n",
    "        else:\n",
    "            logits = classifier(feats)\n",
    "        \n",
    "        loss = F.cross_entropy(logits, labels.to(opt.gpus[0]))\n",
    "        loss_meter.update(loss, images.shape[0])\n",
    "        loss.backward()\n",
    "        optim.step()\n",
    "        it_time_meter.update(time.time() - t0)\n",
    "        if ii % opt.log_interval == 0:\n",
    "            print(f\"Epoch {epoch}/{opt.epochs}\\tIt {ii}/{len(train_loader)}\\t{loss_meter}\\t{it_time_meter}\")\n",
    "        t0 = time.time()\n",
    "    scheduler.step()\n",
    "    val_acc = validate_comb(opt,encoder,classifier,val_loader) if USE_MOD_LBL else validate(opt, encoder, classifier, val_loader) \n",
    "    val_accs.append(val_acc)\n",
    "    print(f\"Epoch {epoch}/{opt.epochs}\\tval_acc {val_acc*100:.4g}%\")\n",
    "print(f\"Best validation accuracy {max(val_accs)}\")"
   ]
  },
  {
   "cell_type": "code",
   "execution_count": 50,
   "id": "ff8ec922-53df-43fb-b312-d086ffd3ea57",
   "metadata": {},
   "outputs": [
    {
     "data": {
      "text/plain": [
       "torch.Size([128, 128])"
      ]
     },
     "execution_count": 50,
     "metadata": {},
     "output_type": "execute_result"
    }
   ],
   "source": [
    "feats.shape"
   ]
  },
  {
   "cell_type": "code",
   "execution_count": 25,
   "id": "bb6e45b1-ad0e-4f22-b509-690942b53dbb",
   "metadata": {},
   "outputs": [
    {
     "data": {
      "text/plain": [
       "encoder.SmallAlexNet"
      ]
     },
     "execution_count": 25,
     "metadata": {},
     "output_type": "execute_result"
    }
   ],
   "source": [
    "type(encoder)"
   ]
  },
  {
   "cell_type": "code",
   "execution_count": null,
   "id": "db218d6b-07c0-4658-88bc-26f7351bab9f",
   "metadata": {},
   "outputs": [],
   "source": []
  }
 ],
 "metadata": {
  "kernelspec": {
   "display_name": "usmatching_env",
   "language": "python",
   "name": "usmatching_env"
  },
  "language_info": {
   "codemirror_mode": {
    "name": "ipython",
    "version": 3
   },
   "file_extension": ".py",
   "mimetype": "text/x-python",
   "name": "python",
   "nbconvert_exporter": "python",
   "pygments_lexer": "ipython3",
   "version": "3.9.18"
  }
 },
 "nbformat": 4,
 "nbformat_minor": 5
}
