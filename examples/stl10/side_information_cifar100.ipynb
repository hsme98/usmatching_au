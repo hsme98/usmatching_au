{
 "cells": [
  {
   "cell_type": "code",
   "execution_count": null,
   "id": "b222518e-b8d4-44f7-8759-e74ef01e414c",
   "metadata": {},
   "outputs": [],
   "source": [
    "import os\n",
    "import time\n",
    "import argparse\n",
    "\n",
    "import torchvision\n",
    "import torch\n",
    "import torch.nn as nn\n",
    "\n",
    "from util import AverageMeter\n",
    "from encoder import SmallAlexNet\n",
    "from align_uniform import align_loss, uniform_loss_prelog\n",
    "from tqdm import tqdm\n",
    "from collections import defaultdict\n",
    "import copy\n",
    "\n",
    "import matplotlib.pyplot as plt\n",
    "\n",
    "\n",
    "class TwoAugUnsupervisedDatasetLbl(torch.utils.data.Dataset):\n",
    "    r\"\"\"Returns two augmentation and no labels.\"\"\"\n",
    "\n",
    "    def __init__(self, dataset, transform, lblmap=None):\n",
    "        self.dataset = dataset\n",
    "        self.transform = transform\n",
    "        self.lblmap = copy.deepcopy(lblmap)\n",
    "\n",
    "    def __getitem__(self, index):\n",
    "        image, lbl = self.dataset[index]\n",
    "        lbl2return = lbl if self.lblmap is None else self.lblmap[lbl]\n",
    "        return self.transform(image), self.transform(image), lbl2return\n",
    "\n",
    "    def __len__(self):\n",
    "        return len(self.dataset)\n",
    "\n",
    "def parse_option():\n",
    "    parser = argparse.ArgumentParser('STL-10 Representation Learning with Alignment and Uniformity Losses')\n",
    "\n",
    "    parser.add_argument('--align_w', type=float, default=1, help='Alignment loss weight')\n",
    "    parser.add_argument('--unif_w', type=float, default=1, help='Uniformity loss weight')\n",
    "    parser.add_argument('--align_alpha', type=float, default=2, help='alpha in alignment loss')\n",
    "    parser.add_argument('--unif_t', type=float, default=2, help='t in uniformity loss')\n",
    "\n",
    "    parser.add_argument('--batch_size', type=int, default=256, help='Batch size')\n",
    "    parser.add_argument('--epochs', type=int, default=400, help='Number of training epochs')\n",
    "    parser.add_argument('--iter', type=int, default=0, help='Number of training epochs')\n",
    "    parser.add_argument('--lr', type=float, default=None,\n",
    "                        help='Learning rate. Default is linear scaling 0.12 per 256 batch size')\n",
    "    parser.add_argument('--lr_decay_rate', type=float, default=0.1, help='Learning rate decay rate')\n",
    "    parser.add_argument('--lr_decay_epochs', default=[155, 170, 185], nargs='*', type=int,\n",
    "                        help='When to decay learning rate')\n",
    "    parser.add_argument('--momentum', type=float, default=0.9, help='SGD momentum')\n",
    "    parser.add_argument('--weight_decay', type=float, default=1e-4, help='L2 weight decay')\n",
    "    parser.add_argument('--feat_dim', type=int, default=128, help='Feature dimensionality')\n",
    "\n",
    "    parser.add_argument('--num_workers', type=int, default=4, help='Number of data loader workers to use')\n",
    "    parser.add_argument('--log_interval', type=int, default=40, help='Number of iterations between logs')\n",
    "    parser.add_argument('--gpus', default=[0], nargs='*', type=int,\n",
    "                        help='List of GPU indices to use, e.g., --gpus 0 1 2 3')\n",
    "\n",
    "    parser.add_argument('--data_folder', type=str, default='./data', help='Path to data')\n",
    "    parser.add_argument('--result_folder', type=str, default='./results', help='Base directory to save model')\n",
    "\n",
    "    opt = parser.parse_args(\"\")\n",
    "\n",
    "    if opt.lr is None:\n",
    "        opt.lr = 0.12 * (opt.batch_size / 256)\n",
    "\n",
    "    opt.gpus = list(map(lambda x: torch.device('cuda', x), opt.gpus))\n",
    "\n",
    "    opt.save_folder = os.path.join(\n",
    "        opt.result_folder,\n",
    "        f\"cifar100_{opt.epochs}_4_sideinformation_align{opt.align_w:g}alpha{opt.align_alpha:g}_unif{opt.unif_w:g}t{opt.unif_t:g}_iter{opt.iter}\"\n",
    "    )\n",
    "    os.makedirs(opt.save_folder, exist_ok=True)\n",
    "\n",
    "    return opt\n",
    "\n",
    "\n",
    "opt = parse_option()"
   ]
  },
  {
   "cell_type": "code",
   "execution_count": null,
   "id": "d516e1e3-c712-47e8-8915-724ce21f0f38",
   "metadata": {},
   "outputs": [],
   "source": [
    "transform = torchvision.transforms.Compose([\n",
    "        torchvision.transforms.RandomResizedCrop(32, scale=(0.08, 1)),\n",
    "        torchvision.transforms.RandomHorizontalFlip(),\n",
    "        torchvision.transforms.ColorJitter(0.4, 0.4, 0.4, 0.4),\n",
    "        torchvision.transforms.RandomGrayscale(p=0.2),\n",
    "        torchvision.transforms.ToTensor(),\n",
    "        torchvision.transforms.Normalize(\n",
    "            (0.44087801806139126, 0.42790631331699347, 0.3867879370752931),\n",
    "            (0.26826768628079806, 0.2610450402318512, 0.26866836876860795),\n",
    "        ),\n",
    "    ])\n",
    "\n",
    "old_lbls = list(range(10))\n",
    "labels_2_keep = [0,1]\n",
    "# labels_2_keep = [0,1,2,3]\n",
    "\n",
    "old2new = {}\n",
    "count = 0\n",
    "for old_lbl in old_lbls:\n",
    "    if old_lbl in labels_2_keep: \n",
    "        old2new[old_lbl] = count\n",
    "        count += 1\n",
    "\n",
    "for old_lbl in old_lbls:\n",
    "    if old_lbl not in labels_2_keep: \n",
    "        old2new[old_lbl] = count\n",
    "\n",
    "new_lbls = list(range(count+1))"
   ]
  },
  {
   "cell_type": "code",
   "execution_count": 11,
   "id": "da97cad4-1401-46e3-96c9-aad3f6fbedff",
   "metadata": {},
   "outputs": [
    {
     "name": "stdout",
     "output_type": "stream",
     "text": [
      "Optimize: 1 * loss_align(alpha=2) + 1 * loss_uniform(t=2)\n",
      "Files already downloaded and verified\n",
      "Epoch 0/400\tIt 0/20\talign_loss 1.298860 (1.298860)\tuniform_loss -2.720523 (-2.720523)\ttotal_loss -1.421663 (-1.421663)\titer_time 2.359052 (2.359052)\n",
      "Epoch 1/400\tIt 0/20\talign_loss 0.323790 (0.323790)\tuniform_loss -0.629418 (-0.629418)\ttotal_loss -0.305628 (-0.305628)\titer_time 0.556997 (0.556997)\n",
      "Epoch 2/400\tIt 0/20\talign_loss 0.487992 (0.487992)\tuniform_loss -1.008581 (-1.008581)\ttotal_loss -0.520589 (-0.520589)\titer_time 0.594481 (0.594481)\n",
      "Epoch 3/400\tIt 0/20\talign_loss 0.610227 (0.610227)\tuniform_loss -1.310382 (-1.310382)\ttotal_loss -0.700156 (-0.700156)\titer_time 0.594522 (0.594522)\n",
      "Epoch 4/400\tIt 0/20\talign_loss 0.673948 (0.673948)\tuniform_loss -1.651645 (-1.651645)\ttotal_loss -0.977697 (-0.977697)\titer_time 0.570518 (0.570518)\n",
      "Epoch 5/400\tIt 0/20\talign_loss 0.702533 (0.702533)\tuniform_loss -1.835233 (-1.835233)\ttotal_loss -1.132699 (-1.132699)\titer_time 0.576284 (0.576284)\n",
      "Epoch 6/400\tIt 0/20\talign_loss 0.648192 (0.648192)\tuniform_loss -1.978783 (-1.978783)\ttotal_loss -1.330591 (-1.330591)\titer_time 0.563994 (0.563994)\n",
      "Epoch 7/400\tIt 0/20\talign_loss 0.723421 (0.723421)\tuniform_loss -2.177579 (-2.177579)\ttotal_loss -1.454157 (-1.454157)\titer_time 0.576261 (0.576261)\n",
      "Epoch 8/400\tIt 0/20\talign_loss 0.800820 (0.800820)\tuniform_loss -2.294822 (-2.294822)\ttotal_loss -1.494002 (-1.494002)\titer_time 0.560841 (0.560841)\n",
      "Epoch 9/400\tIt 0/20\talign_loss 0.829452 (0.829452)\tuniform_loss -2.401110 (-2.401110)\ttotal_loss -1.571658 (-1.571658)\titer_time 0.561707 (0.561707)\n",
      "Epoch 10/400\tIt 0/20\talign_loss 0.769867 (0.769867)\tuniform_loss -2.527782 (-2.527782)\ttotal_loss -1.757915 (-1.757915)\titer_time 0.572107 (0.572107)\n",
      "Epoch 11/400\tIt 0/20\talign_loss 0.868602 (0.868602)\tuniform_loss -2.750927 (-2.750927)\ttotal_loss -1.882325 (-1.882325)\titer_time 0.557402 (0.557402)\n",
      "Epoch 12/400\tIt 0/20\talign_loss 0.784582 (0.784582)\tuniform_loss -2.820854 (-2.820854)\ttotal_loss -2.036272 (-2.036272)\titer_time 0.550377 (0.550377)\n",
      "Epoch 13/400\tIt 0/20\talign_loss 0.844060 (0.844060)\tuniform_loss -2.895921 (-2.895921)\ttotal_loss -2.051861 (-2.051861)\titer_time 0.541477 (0.541477)\n",
      "Epoch 14/400\tIt 0/20\talign_loss 0.795802 (0.795802)\tuniform_loss -2.952744 (-2.952744)\ttotal_loss -2.156941 (-2.156941)\titer_time 0.568096 (0.568096)\n",
      "Epoch 15/400\tIt 0/20\talign_loss 0.707101 (0.707101)\tuniform_loss -3.002191 (-3.002191)\ttotal_loss -2.295090 (-2.295090)\titer_time 0.552078 (0.552078)\n",
      "Epoch 16/400\tIt 0/20\talign_loss 0.863595 (0.863595)\tuniform_loss -3.087092 (-3.087092)\ttotal_loss -2.223497 (-2.223497)\titer_time 0.545747 (0.545747)\n",
      "Epoch 17/400\tIt 0/20\talign_loss 0.895087 (0.895087)\tuniform_loss -3.142481 (-3.142481)\ttotal_loss -2.247394 (-2.247394)\titer_time 0.558198 (0.558198)\n",
      "Epoch 18/400\tIt 0/20\talign_loss 0.884190 (0.884190)\tuniform_loss -3.157497 (-3.157497)\ttotal_loss -2.273307 (-2.273307)\titer_time 0.573408 (0.573408)\n",
      "Epoch 19/400\tIt 0/20\talign_loss 0.797762 (0.797762)\tuniform_loss -3.182276 (-3.182276)\ttotal_loss -2.384514 (-2.384514)\titer_time 0.584895 (0.584895)\n",
      "Epoch 20/400\tIt 0/20\talign_loss 0.833283 (0.833283)\tuniform_loss -3.207160 (-3.207160)\ttotal_loss -2.373877 (-2.373877)\titer_time 0.685023 (0.685023)\n",
      "Epoch 21/400\tIt 0/20\talign_loss 0.861044 (0.861044)\tuniform_loss -3.231146 (-3.231146)\ttotal_loss -2.370102 (-2.370102)\titer_time 0.578904 (0.578904)\n",
      "Epoch 22/400\tIt 0/20\talign_loss 0.837434 (0.837434)\tuniform_loss -3.257275 (-3.257275)\ttotal_loss -2.419841 (-2.419841)\titer_time 0.587970 (0.587970)\n",
      "Epoch 23/400\tIt 0/20\talign_loss 0.876257 (0.876257)\tuniform_loss -3.269014 (-3.269014)\ttotal_loss -2.392758 (-2.392758)\titer_time 0.592651 (0.592651)\n",
      "Epoch 24/400\tIt 0/20\talign_loss 0.836529 (0.836529)\tuniform_loss -3.311771 (-3.311771)\ttotal_loss -2.475242 (-2.475242)\titer_time 0.574701 (0.574701)\n",
      "Epoch 25/400\tIt 0/20\talign_loss 0.834016 (0.834016)\tuniform_loss -3.336205 (-3.336205)\ttotal_loss -2.502190 (-2.502190)\titer_time 0.604395 (0.604395)\n",
      "Epoch 26/400\tIt 0/20\talign_loss 0.880235 (0.880235)\tuniform_loss -3.387172 (-3.387172)\ttotal_loss -2.506937 (-2.506937)\titer_time 0.607312 (0.607312)\n",
      "Epoch 27/400\tIt 0/20\talign_loss 0.801423 (0.801423)\tuniform_loss -3.405062 (-3.405062)\ttotal_loss -2.603640 (-2.603640)\titer_time 0.596795 (0.596795)\n",
      "Epoch 28/400\tIt 0/20\talign_loss 0.867344 (0.867344)\tuniform_loss -3.402533 (-3.402533)\ttotal_loss -2.535189 (-2.535189)\titer_time 0.602179 (0.602179)\n",
      "Epoch 29/400\tIt 0/20\talign_loss 0.855591 (0.855591)\tuniform_loss -3.414518 (-3.414518)\ttotal_loss -2.558928 (-2.558928)\titer_time 0.587498 (0.587498)\n",
      "Epoch 30/400\tIt 0/20\talign_loss 0.861436 (0.861436)\tuniform_loss -3.430842 (-3.430842)\ttotal_loss -2.569407 (-2.569407)\titer_time 0.590954 (0.590954)\n",
      "Epoch 31/400\tIt 0/20\talign_loss 0.844699 (0.844699)\tuniform_loss -3.440328 (-3.440328)\ttotal_loss -2.595629 (-2.595629)\titer_time 0.568719 (0.568719)\n",
      "Epoch 32/400\tIt 0/20\talign_loss 0.819715 (0.819715)\tuniform_loss -3.456029 (-3.456029)\ttotal_loss -2.636314 (-2.636314)\titer_time 0.568129 (0.568129)\n",
      "Epoch 33/400\tIt 0/20\talign_loss 0.815363 (0.815363)\tuniform_loss -3.453525 (-3.453525)\ttotal_loss -2.638162 (-2.638162)\titer_time 0.574956 (0.574956)\n",
      "Epoch 34/400\tIt 0/20\talign_loss 0.831745 (0.831745)\tuniform_loss -3.488528 (-3.488528)\ttotal_loss -2.656783 (-2.656783)\titer_time 0.592414 (0.592414)\n",
      "Epoch 35/400\tIt 0/20\talign_loss 0.787936 (0.787936)\tuniform_loss -3.498086 (-3.498086)\ttotal_loss -2.710150 (-2.710150)\titer_time 0.562839 (0.562839)\n",
      "Epoch 36/400\tIt 0/20\talign_loss 0.782340 (0.782340)\tuniform_loss -3.501658 (-3.501658)\ttotal_loss -2.719318 (-2.719318)\titer_time 0.625338 (0.625338)\n",
      "Epoch 37/400\tIt 0/20\talign_loss 0.855615 (0.855615)\tuniform_loss -3.487044 (-3.487044)\ttotal_loss -2.631429 (-2.631429)\titer_time 0.544905 (0.544905)\n",
      "Epoch 38/400\tIt 0/20\talign_loss 0.777668 (0.777668)\tuniform_loss -3.497309 (-3.497309)\ttotal_loss -2.719642 (-2.719642)\titer_time 0.579355 (0.579355)\n",
      "Epoch 39/400\tIt 0/20\talign_loss 0.803881 (0.803881)\tuniform_loss -3.502358 (-3.502358)\ttotal_loss -2.698478 (-2.698478)\titer_time 0.813386 (0.813386)\n",
      "Epoch 40/400\tIt 0/20\talign_loss 0.855066 (0.855066)\tuniform_loss -3.527650 (-3.527650)\ttotal_loss -2.672585 (-2.672585)\titer_time 0.774870 (0.774870)\n",
      "Epoch 41/400\tIt 0/20\talign_loss 0.862903 (0.862903)\tuniform_loss -3.538314 (-3.538314)\ttotal_loss -2.675411 (-2.675411)\titer_time 0.728613 (0.728613)\n",
      "Epoch 42/400\tIt 0/20\talign_loss 0.873634 (0.873634)\tuniform_loss -3.542102 (-3.542102)\ttotal_loss -2.668468 (-2.668468)\titer_time 0.955175 (0.955175)\n",
      "Epoch 43/400\tIt 0/20\talign_loss 0.858020 (0.858020)\tuniform_loss -3.557642 (-3.557642)\ttotal_loss -2.699622 (-2.699622)\titer_time 0.815948 (0.815948)\n",
      "Epoch 44/400\tIt 0/20\talign_loss 0.787461 (0.787461)\tuniform_loss -3.553838 (-3.553838)\ttotal_loss -2.766377 (-2.766377)\titer_time 0.731128 (0.731128)\n",
      "Epoch 45/400\tIt 0/20\talign_loss 0.760371 (0.760371)\tuniform_loss -3.528758 (-3.528758)\ttotal_loss -2.768386 (-2.768386)\titer_time 0.855441 (0.855441)\n",
      "Epoch 46/400\tIt 0/20\talign_loss 0.741027 (0.741027)\tuniform_loss -3.554036 (-3.554036)\ttotal_loss -2.813009 (-2.813009)\titer_time 0.770165 (0.770165)\n",
      "Epoch 47/400\tIt 0/20\talign_loss 0.827745 (0.827745)\tuniform_loss -3.578846 (-3.578846)\ttotal_loss -2.751101 (-2.751101)\titer_time 0.814055 (0.814055)\n",
      "Epoch 48/400\tIt 0/20\talign_loss 0.830648 (0.830648)\tuniform_loss -3.584449 (-3.584449)\ttotal_loss -2.753801 (-2.753801)\titer_time 0.779854 (0.779854)\n",
      "Epoch 49/400\tIt 0/20\talign_loss 0.797474 (0.797474)\tuniform_loss -3.587719 (-3.587719)\ttotal_loss -2.790246 (-2.790246)\titer_time 0.770678 (0.770678)\n",
      "Epoch 50/400\tIt 0/20\talign_loss 0.816350 (0.816350)\tuniform_loss -3.584336 (-3.584336)\ttotal_loss -2.767986 (-2.767986)\titer_time 0.821995 (0.821995)\n",
      "Epoch 51/400\tIt 0/20\talign_loss 0.762766 (0.762766)\tuniform_loss -3.565018 (-3.565018)\ttotal_loss -2.802251 (-2.802251)\titer_time 0.836700 (0.836700)\n",
      "Epoch 52/400\tIt 0/20\talign_loss 0.753805 (0.753805)\tuniform_loss -3.584182 (-3.584182)\ttotal_loss -2.830377 (-2.830377)\titer_time 0.727526 (0.727526)\n",
      "Epoch 53/400\tIt 0/20\talign_loss 0.796947 (0.796947)\tuniform_loss -3.603655 (-3.603655)\ttotal_loss -2.806708 (-2.806708)\titer_time 0.912177 (0.912177)\n",
      "Epoch 54/400\tIt 0/20\talign_loss 0.758548 (0.758548)\tuniform_loss -3.588804 (-3.588804)\ttotal_loss -2.830256 (-2.830256)\titer_time 0.947122 (0.947122)\n",
      "Epoch 55/400\tIt 0/20\talign_loss 0.775539 (0.775539)\tuniform_loss -3.606006 (-3.606006)\ttotal_loss -2.830467 (-2.830467)\titer_time 0.858876 (0.858876)\n",
      "Epoch 56/400\tIt 0/20\talign_loss 0.687135 (0.687135)\tuniform_loss -3.601158 (-3.601158)\ttotal_loss -2.914023 (-2.914023)\titer_time 0.820061 (0.820061)\n",
      "Epoch 57/400\tIt 0/20\talign_loss 0.722455 (0.722455)\tuniform_loss -3.613476 (-3.613476)\ttotal_loss -2.891020 (-2.891020)\titer_time 0.743203 (0.743203)\n",
      "Epoch 138/400\tIt 0/20\talign_loss 0.594354 (0.594354)\tuniform_loss -3.712680 (-3.712680)\ttotal_loss -3.118326 (-3.118326)\titer_time 0.812797 (0.812797)\n",
      "Epoch 139/400\tIt 0/20\talign_loss 0.625321 (0.625321)\tuniform_loss -3.713159 (-3.713159)\ttotal_loss -3.087838 (-3.087838)\titer_time 0.785326 (0.785326)\n",
      "Epoch 140/400\tIt 0/20\talign_loss 0.602891 (0.602891)\tuniform_loss -3.708328 (-3.708328)\ttotal_loss -3.105437 (-3.105437)\titer_time 0.781189 (0.781189)\n",
      "Epoch 141/400\tIt 0/20\talign_loss 0.614853 (0.614853)\tuniform_loss -3.708981 (-3.708981)\ttotal_loss -3.094128 (-3.094128)\titer_time 0.789191 (0.789191)\n",
      "Epoch 142/400\tIt 0/20\talign_loss 0.585589 (0.585589)\tuniform_loss -3.718223 (-3.718223)\ttotal_loss -3.132635 (-3.132635)\titer_time 0.961272 (0.961272)\n",
      "Epoch 143/400\tIt 0/20\talign_loss 0.628122 (0.628122)\tuniform_loss -3.717602 (-3.717602)\ttotal_loss -3.089480 (-3.089480)\titer_time 0.780703 (0.780703)\n",
      "Epoch 144/400\tIt 0/20\talign_loss 0.640745 (0.640745)\tuniform_loss -3.714504 (-3.714504)\ttotal_loss -3.073759 (-3.073759)\titer_time 0.848259 (0.848259)\n",
      "Epoch 145/400\tIt 0/20\talign_loss 0.671692 (0.671692)\tuniform_loss -3.728235 (-3.728235)\ttotal_loss -3.056543 (-3.056543)\titer_time 0.826399 (0.826399)\n",
      "Epoch 146/400\tIt 0/20\talign_loss 0.638489 (0.638489)\tuniform_loss -3.727731 (-3.727731)\ttotal_loss -3.089242 (-3.089242)\titer_time 0.822248 (0.822248)\n",
      "Epoch 147/400\tIt 0/20\talign_loss 0.624328 (0.624328)\tuniform_loss -3.713960 (-3.713960)\ttotal_loss -3.089631 (-3.089631)\titer_time 0.767357 (0.767357)\n",
      "Epoch 148/400\tIt 0/20\talign_loss 0.579213 (0.579213)\tuniform_loss -3.710478 (-3.710478)\ttotal_loss -3.131265 (-3.131265)\titer_time 0.794597 (0.794597)\n",
      "Epoch 149/400\tIt 0/20\talign_loss 0.604306 (0.604306)\tuniform_loss -3.718592 (-3.718592)\ttotal_loss -3.114286 (-3.114286)\titer_time 0.796611 (0.796611)\n",
      "Epoch 150/400\tIt 0/20\talign_loss 0.562509 (0.562509)\tuniform_loss -3.699781 (-3.699781)\ttotal_loss -3.137272 (-3.137272)\titer_time 0.756428 (0.756428)\n",
      "Epoch 151/400\tIt 0/20\talign_loss 0.610984 (0.610984)\tuniform_loss -3.713178 (-3.713178)\ttotal_loss -3.102194 (-3.102194)\titer_time 0.848964 (0.848964)\n",
      "Epoch 152/400\tIt 0/20\talign_loss 0.563061 (0.563061)\tuniform_loss -3.710060 (-3.710060)\ttotal_loss -3.146999 (-3.146999)\titer_time 0.779948 (0.779948)\n",
      "Epoch 153/400\tIt 0/20\talign_loss 0.614967 (0.614967)\tuniform_loss -3.723440 (-3.723440)\ttotal_loss -3.108473 (-3.108473)\titer_time 0.912910 (0.912910)\n",
      "Epoch 154/400\tIt 0/20\talign_loss 0.617155 (0.617155)\tuniform_loss -3.716020 (-3.716020)\ttotal_loss -3.098865 (-3.098865)\titer_time 0.783625 (0.783625)\n",
      "Epoch 155/400\tIt 0/20\talign_loss 0.632425 (0.632425)\tuniform_loss -3.726521 (-3.726521)\ttotal_loss -3.094096 (-3.094096)\titer_time 0.827965 (0.827965)\n",
      "Epoch 172/400\tIt 0/20\talign_loss 0.519064 (0.519064)\tuniform_loss -3.724620 (-3.724620)\ttotal_loss -3.205555 (-3.205555)\titer_time 0.741942 (0.741942)\n",
      "Epoch 173/400\tIt 0/20\talign_loss 0.530211 (0.530211)\tuniform_loss -3.737500 (-3.737500)\ttotal_loss -3.207289 (-3.207289)\titer_time 0.672260 (0.672260)\n",
      "Epoch 174/400\tIt 0/20\talign_loss 0.521362 (0.521362)\tuniform_loss -3.734390 (-3.734390)\ttotal_loss -3.213028 (-3.213028)\titer_time 0.773639 (0.773639)\n",
      "Epoch 175/400\tIt 0/20\talign_loss 0.521806 (0.521806)\tuniform_loss -3.728737 (-3.728737)\ttotal_loss -3.206931 (-3.206931)\titer_time 0.725443 (0.725443)\n",
      "Epoch 176/400\tIt 0/20\talign_loss 0.588146 (0.588146)\tuniform_loss -3.726616 (-3.726616)\ttotal_loss -3.138469 (-3.138469)\titer_time 0.726679 (0.726679)\n",
      "Epoch 196/400\tIt 0/20\talign_loss 0.564206 (0.564206)\tuniform_loss -3.737769 (-3.737769)\ttotal_loss -3.173563 (-3.173563)\titer_time 0.750247 (0.750247)\n",
      "Epoch 197/400\tIt 0/20\talign_loss 0.536857 (0.536857)\tuniform_loss -3.730641 (-3.730641)\ttotal_loss -3.193784 (-3.193784)\titer_time 0.762112 (0.762112)\n",
      "Epoch 198/400\tIt 0/20\talign_loss 0.581494 (0.581494)\tuniform_loss -3.728591 (-3.728591)\ttotal_loss -3.147097 (-3.147097)\titer_time 0.736255 (0.736255)\n",
      "Epoch 199/400\tIt 0/20\talign_loss 0.574392 (0.574392)\tuniform_loss -3.719839 (-3.719839)\ttotal_loss -3.145447 (-3.145447)\titer_time 0.902308 (0.902308)\n",
      "Epoch 208/400\tIt 0/20\talign_loss 0.607415 (0.607415)\tuniform_loss -3.733884 (-3.733884)\ttotal_loss -3.126470 (-3.126470)\titer_time 0.848614 (0.848614)\n",
      "Epoch 209/400\tIt 0/20\talign_loss 0.559464 (0.559464)\tuniform_loss -3.732946 (-3.732946)\ttotal_loss -3.173482 (-3.173482)\titer_time 0.885266 (0.885266)\n",
      "Epoch 210/400\tIt 0/20\talign_loss 0.523979 (0.523979)\tuniform_loss -3.731354 (-3.731354)\ttotal_loss -3.207375 (-3.207375)\titer_time 0.685946 (0.685946)\n",
      "Epoch 211/400\tIt 0/20\talign_loss 0.560219 (0.560219)\tuniform_loss -3.733798 (-3.733798)\ttotal_loss -3.173578 (-3.173578)\titer_time 0.744761 (0.744761)\n",
      "Epoch 212/400\tIt 0/20\talign_loss 0.537699 (0.537699)\tuniform_loss -3.732182 (-3.732182)\ttotal_loss -3.194483 (-3.194483)\titer_time 0.736759 (0.736759)\n",
      "Epoch 213/400\tIt 0/20\talign_loss 0.542662 (0.542662)\tuniform_loss -3.732659 (-3.732659)\ttotal_loss -3.189997 (-3.189997)\titer_time 0.736380 (0.736380)\n",
      "Epoch 214/400\tIt 0/20\talign_loss 0.573469 (0.573469)\tuniform_loss -3.721576 (-3.721576)\ttotal_loss -3.148107 (-3.148107)\titer_time 0.769707 (0.769707)\n",
      "Epoch 215/400\tIt 0/20\talign_loss 0.561020 (0.561020)\tuniform_loss -3.734453 (-3.734453)\ttotal_loss -3.173433 (-3.173433)\titer_time 0.733964 (0.733964)\n",
      "Epoch 216/400\tIt 0/20\talign_loss 0.571892 (0.571892)\tuniform_loss -3.730318 (-3.730318)\ttotal_loss -3.158426 (-3.158426)\titer_time 0.889127 (0.889127)\n",
      "Epoch 217/400\tIt 0/20\talign_loss 0.556886 (0.556886)\tuniform_loss -3.742580 (-3.742580)\ttotal_loss -3.185694 (-3.185694)\titer_time 0.726018 (0.726018)\n",
      "Epoch 218/400\tIt 0/20\talign_loss 0.562288 (0.562288)\tuniform_loss -3.738904 (-3.738904)\ttotal_loss -3.176616 (-3.176616)\titer_time 0.758424 (0.758424)\n",
      "Epoch 219/400\tIt 0/20\talign_loss 0.558568 (0.558568)\tuniform_loss -3.735735 (-3.735735)\ttotal_loss -3.177167 (-3.177167)\titer_time 0.920556 (0.920556)\n",
      "Epoch 220/400\tIt 0/20\talign_loss 0.544853 (0.544853)\tuniform_loss -3.732037 (-3.732037)\ttotal_loss -3.187184 (-3.187184)\titer_time 0.689113 (0.689113)\n",
      "Epoch 221/400\tIt 0/20\talign_loss 0.571209 (0.571209)\tuniform_loss -3.736367 (-3.736367)\ttotal_loss -3.165158 (-3.165158)\titer_time 0.815867 (0.815867)\n",
      "Epoch 222/400\tIt 0/20\talign_loss 0.542504 (0.542504)\tuniform_loss -3.749173 (-3.749173)\ttotal_loss -3.206669 (-3.206669)\titer_time 0.699736 (0.699736)\n",
      "Epoch 223/400\tIt 0/20\talign_loss 0.537400 (0.537400)\tuniform_loss -3.733402 (-3.733402)\ttotal_loss -3.196002 (-3.196002)\titer_time 0.708242 (0.708242)\n",
      "Epoch 224/400\tIt 0/20\talign_loss 0.560385 (0.560385)\tuniform_loss -3.736338 (-3.736338)\ttotal_loss -3.175952 (-3.175952)\titer_time 0.749257 (0.749257)\n",
      "Epoch 225/400\tIt 0/20\talign_loss 0.523363 (0.523363)\tuniform_loss -3.731102 (-3.731102)\ttotal_loss -3.207739 (-3.207739)\titer_time 0.928621 (0.928621)\n",
      "Epoch 226/400\tIt 0/20\talign_loss 0.560910 (0.560910)\tuniform_loss -3.737367 (-3.737367)\ttotal_loss -3.176458 (-3.176458)\titer_time 0.768017 (0.768017)\n",
      "Epoch 227/400\tIt 0/20\talign_loss 0.584904 (0.584904)\tuniform_loss -3.726241 (-3.726241)\ttotal_loss -3.141337 (-3.141337)\titer_time 0.693053 (0.693053)\n",
      "Epoch 228/400\tIt 0/20\talign_loss 0.531112 (0.531112)\tuniform_loss -3.738006 (-3.738006)\ttotal_loss -3.206893 (-3.206893)\titer_time 0.691560 (0.691560)\n",
      "Epoch 237/400\tIt 0/20\talign_loss 0.560513 (0.560513)\tuniform_loss -3.732433 (-3.732433)\ttotal_loss -3.171920 (-3.171920)\titer_time 0.758609 (0.758609)\n",
      "Epoch 238/400\tIt 0/20\talign_loss 0.575916 (0.575916)\tuniform_loss -3.749235 (-3.749235)\ttotal_loss -3.173319 (-3.173319)\titer_time 0.766701 (0.766701)\n",
      "Epoch 239/400\tIt 0/20\talign_loss 0.582617 (0.582617)\tuniform_loss -3.741720 (-3.741720)\ttotal_loss -3.159104 (-3.159104)\titer_time 0.786689 (0.786689)\n",
      "Epoch 240/400\tIt 0/20\talign_loss 0.547536 (0.547536)\tuniform_loss -3.727805 (-3.727805)\ttotal_loss -3.180269 (-3.180269)\titer_time 0.759869 (0.759869)\n",
      "Epoch 241/400\tIt 0/20\talign_loss 0.525904 (0.525904)\tuniform_loss -3.732757 (-3.732757)\ttotal_loss -3.206853 (-3.206853)\titer_time 0.724714 (0.724714)\n",
      "Epoch 242/400\tIt 0/20\talign_loss 0.555658 (0.555658)\tuniform_loss -3.733190 (-3.733190)\ttotal_loss -3.177532 (-3.177532)\titer_time 0.722992 (0.722992)\n",
      "Epoch 353/400\tIt 0/20\talign_loss 0.540493 (0.540493)\tuniform_loss -3.720949 (-3.720949)\ttotal_loss -3.180456 (-3.180456)\titer_time 0.592569 (0.592569)\n",
      "Epoch 354/400\tIt 0/20\talign_loss 0.551789 (0.551789)\tuniform_loss -3.728432 (-3.728432)\ttotal_loss -3.176644 (-3.176644)\titer_time 0.589098 (0.589098)\n",
      "Epoch 355/400\tIt 0/20\talign_loss 0.553947 (0.553947)\tuniform_loss -3.730338 (-3.730338)\ttotal_loss -3.176391 (-3.176391)\titer_time 0.594893 (0.594893)\n",
      "Epoch 356/400\tIt 0/20\talign_loss 0.576185 (0.576185)\tuniform_loss -3.731084 (-3.731084)\ttotal_loss -3.154899 (-3.154899)\titer_time 0.561311 (0.561311)\n",
      "Epoch 357/400\tIt 0/20\talign_loss 0.518854 (0.518854)\tuniform_loss -3.724920 (-3.724920)\ttotal_loss -3.206065 (-3.206065)\titer_time 0.546288 (0.546288)\n",
      "Epoch 358/400\tIt 0/20\talign_loss 0.542016 (0.542016)\tuniform_loss -3.732504 (-3.732504)\ttotal_loss -3.190488 (-3.190488)\titer_time 0.575091 (0.575091)\n",
      "Epoch 359/400\tIt 0/20\talign_loss 0.598266 (0.598266)\tuniform_loss -3.731546 (-3.731546)\ttotal_loss -3.133280 (-3.133280)\titer_time 0.601166 (0.601166)\n",
      "Epoch 360/400\tIt 0/20\talign_loss 0.563210 (0.563210)\tuniform_loss -3.734466 (-3.734466)\ttotal_loss -3.171256 (-3.171256)\titer_time 0.554290 (0.554290)\n",
      "Epoch 361/400\tIt 0/20\talign_loss 0.544573 (0.544573)\tuniform_loss -3.732739 (-3.732739)\ttotal_loss -3.188166 (-3.188166)\titer_time 0.565908 (0.565908)\n",
      "Epoch 362/400\tIt 0/20\talign_loss 0.561675 (0.561675)\tuniform_loss -3.724440 (-3.724440)\ttotal_loss -3.162765 (-3.162765)\titer_time 0.603916 (0.603916)\n",
      "Epoch 363/400\tIt 0/20\talign_loss 0.570019 (0.570019)\tuniform_loss -3.739034 (-3.739034)\ttotal_loss -3.169016 (-3.169016)\titer_time 0.590862 (0.590862)\n",
      "Epoch 364/400\tIt 0/20\talign_loss 0.530224 (0.530224)\tuniform_loss -3.743248 (-3.743248)\ttotal_loss -3.213024 (-3.213024)\titer_time 0.536140 (0.536140)\n",
      "Epoch 365/400\tIt 0/20\talign_loss 0.547930 (0.547930)\tuniform_loss -3.734768 (-3.734768)\ttotal_loss -3.186838 (-3.186838)\titer_time 0.526343 (0.526343)\n",
      "Epoch 366/400\tIt 0/20\talign_loss 0.549952 (0.549952)\tuniform_loss -3.738397 (-3.738397)\ttotal_loss -3.188445 (-3.188445)\titer_time 0.573775 (0.573775)\n",
      "Epoch 367/400\tIt 0/20\talign_loss 0.491905 (0.491905)\tuniform_loss -3.729487 (-3.729487)\ttotal_loss -3.237582 (-3.237582)\titer_time 0.601668 (0.601668)\n",
      "Epoch 368/400\tIt 0/20\talign_loss 0.528629 (0.528629)\tuniform_loss -3.728523 (-3.728523)\ttotal_loss -3.199895 (-3.199895)\titer_time 0.582644 (0.582644)\n",
      "Epoch 369/400\tIt 0/20\talign_loss 0.569454 (0.569454)\tuniform_loss -3.728285 (-3.728285)\ttotal_loss -3.158831 (-3.158831)\titer_time 0.600089 (0.600089)\n",
      "Epoch 370/400\tIt 0/20\talign_loss 0.576597 (0.576597)\tuniform_loss -3.739154 (-3.739154)\ttotal_loss -3.162557 (-3.162557)\titer_time 0.534672 (0.534672)\n",
      "Epoch 371/400\tIt 0/20\talign_loss 0.549711 (0.549711)\tuniform_loss -3.750949 (-3.750949)\ttotal_loss -3.201238 (-3.201238)\titer_time 0.538238 (0.538238)\n",
      "Epoch 372/400\tIt 0/20\talign_loss 0.528484 (0.528484)\tuniform_loss -3.722123 (-3.722123)\ttotal_loss -3.193639 (-3.193639)\titer_time 0.587595 (0.587595)\n",
      "Epoch 373/400\tIt 0/20\talign_loss 0.537356 (0.537356)\tuniform_loss -3.728216 (-3.728216)\ttotal_loss -3.190860 (-3.190860)\titer_time 0.604244 (0.604244)\n",
      "Epoch 374/400\tIt 0/20\talign_loss 0.571742 (0.571742)\tuniform_loss -3.733323 (-3.733323)\ttotal_loss -3.161581 (-3.161581)\titer_time 0.595722 (0.595722)\n",
      "Epoch 375/400\tIt 0/20\talign_loss 0.510652 (0.510652)\tuniform_loss -3.735582 (-3.735582)\ttotal_loss -3.224930 (-3.224930)\titer_time 0.558953 (0.558953)\n",
      "Epoch 376/400\tIt 0/20\talign_loss 0.525904 (0.525904)\tuniform_loss -3.728674 (-3.728674)\ttotal_loss -3.202770 (-3.202770)\titer_time 0.594675 (0.594675)\n",
      "Epoch 377/400\tIt 0/20\talign_loss 0.569645 (0.569645)\tuniform_loss -3.725782 (-3.725782)\ttotal_loss -3.156137 (-3.156137)\titer_time 0.597078 (0.597078)\n",
      "Epoch 378/400\tIt 0/20\talign_loss 0.558826 (0.558826)\tuniform_loss -3.731150 (-3.731150)\ttotal_loss -3.172324 (-3.172324)\titer_time 0.617706 (0.617706)\n",
      "Epoch 379/400\tIt 0/20\talign_loss 0.565393 (0.565393)\tuniform_loss -3.735739 (-3.735739)\ttotal_loss -3.170346 (-3.170346)\titer_time 0.591907 (0.591907)\n",
      "Epoch 380/400\tIt 0/20\talign_loss 0.512095 (0.512095)\tuniform_loss -3.735652 (-3.735652)\ttotal_loss -3.223557 (-3.223557)\titer_time 0.609430 (0.609430)\n",
      "Epoch 381/400\tIt 0/20\talign_loss 0.517405 (0.517405)\tuniform_loss -3.717793 (-3.717793)\ttotal_loss -3.200387 (-3.200387)\titer_time 0.596507 (0.596507)\n",
      "Epoch 382/400\tIt 0/20\talign_loss 0.531742 (0.531742)\tuniform_loss -3.730482 (-3.730482)\ttotal_loss -3.198740 (-3.198740)\titer_time 0.584339 (0.584339)\n",
      "Epoch 383/400\tIt 0/20\talign_loss 0.535090 (0.535090)\tuniform_loss -3.723170 (-3.723170)\ttotal_loss -3.188081 (-3.188081)\titer_time 0.535062 (0.535062)\n",
      "Epoch 384/400\tIt 0/20\talign_loss 0.549717 (0.549717)\tuniform_loss -3.728859 (-3.728859)\ttotal_loss -3.179142 (-3.179142)\titer_time 0.545859 (0.545859)\n",
      "Epoch 385/400\tIt 0/20\talign_loss 0.593182 (0.593182)\tuniform_loss -3.733217 (-3.733217)\ttotal_loss -3.140035 (-3.140035)\titer_time 0.532865 (0.532865)\n",
      "Epoch 386/400\tIt 0/20\talign_loss 0.539811 (0.539811)\tuniform_loss -3.735826 (-3.735826)\ttotal_loss -3.196015 (-3.196015)\titer_time 0.577919 (0.577919)\n",
      "Epoch 387/400\tIt 0/20\talign_loss 0.531586 (0.531586)\tuniform_loss -3.735990 (-3.735990)\ttotal_loss -3.204404 (-3.204404)\titer_time 0.557414 (0.557414)\n",
      "Epoch 388/400\tIt 0/20\talign_loss 0.573866 (0.573866)\tuniform_loss -3.735428 (-3.735428)\ttotal_loss -3.161562 (-3.161562)\titer_time 0.532555 (0.532555)\n",
      "Epoch 389/400\tIt 0/20\talign_loss 0.540558 (0.540558)\tuniform_loss -3.736328 (-3.736328)\ttotal_loss -3.195771 (-3.195771)\titer_time 0.534792 (0.534792)\n",
      "Epoch 390/400\tIt 0/20\talign_loss 0.548667 (0.548667)\tuniform_loss -3.733907 (-3.733907)\ttotal_loss -3.185239 (-3.185239)\titer_time 0.522987 (0.522987)\n",
      "Epoch 391/400\tIt 0/20\talign_loss 0.524247 (0.524247)\tuniform_loss -3.737284 (-3.737284)\ttotal_loss -3.213037 (-3.213037)\titer_time 0.537346 (0.537346)\n",
      "Epoch 392/400\tIt 0/20\talign_loss 0.553033 (0.553033)\tuniform_loss -3.739771 (-3.739771)\ttotal_loss -3.186738 (-3.186738)\titer_time 0.524054 (0.524054)\n",
      "Epoch 393/400\tIt 0/20\talign_loss 0.564509 (0.564509)\tuniform_loss -3.735373 (-3.735373)\ttotal_loss -3.170864 (-3.170864)\titer_time 0.543248 (0.543248)\n",
      "Epoch 394/400\tIt 0/20\talign_loss 0.520862 (0.520862)\tuniform_loss -3.738052 (-3.738052)\ttotal_loss -3.217190 (-3.217190)\titer_time 0.541932 (0.541932)\n",
      "Epoch 395/400\tIt 0/20\talign_loss 0.541439 (0.541439)\tuniform_loss -3.741257 (-3.741257)\ttotal_loss -3.199817 (-3.199817)\titer_time 0.527081 (0.527081)\n",
      "Epoch 396/400\tIt 0/20\talign_loss 0.534916 (0.534916)\tuniform_loss -3.733426 (-3.733426)\ttotal_loss -3.198510 (-3.198510)\titer_time 0.562737 (0.562737)\n",
      "Epoch 397/400\tIt 0/20\talign_loss 0.573153 (0.573153)\tuniform_loss -3.735031 (-3.735031)\ttotal_loss -3.161878 (-3.161878)\titer_time 0.538437 (0.538437)\n",
      "Epoch 398/400\tIt 0/20\talign_loss 0.502386 (0.502386)\tuniform_loss -3.725298 (-3.725298)\ttotal_loss -3.222912 (-3.222912)\titer_time 0.540024 (0.540024)\n",
      "Epoch 399/400\tIt 0/20\talign_loss 0.582801 (0.582801)\tuniform_loss -3.732935 (-3.732935)\ttotal_loss -3.150134 (-3.150134)\titer_time 0.527570 (0.527570)\n",
      "Saved to ./results/cifar100_400_4_sideinformation_align1alpha2_unif1t2_iter0/encoder.pth\n"
     ]
    }
   ],
   "source": [
    "def get_data_loader(opt):\n",
    "    transform = torchvision.transforms.Compose([\n",
    "        torchvision.transforms.RandomResizedCrop(32, scale=(0.08, 1)),\n",
    "        torchvision.transforms.RandomHorizontalFlip(),\n",
    "        torchvision.transforms.ColorJitter(0.4, 0.4, 0.4, 0.4),\n",
    "        torchvision.transforms.RandomGrayscale(p=0.2),\n",
    "        torchvision.transforms.ToTensor(),\n",
    "        torchvision.transforms.Normalize(\n",
    "            (0.44087801806139126, 0.42790631331699347, 0.3867879370752931),\n",
    "            (0.26826768628079806, 0.2610450402318512, 0.26866836876860795),\n",
    "        ),\n",
    "    ])\n",
    "    dataset = TwoAugUnsupervisedDatasetLbl(\n",
    "        torchvision.datasets.STL10(opt.data_folder, 'train', download=True), \n",
    "        transform=transform, \n",
    "        lblmap=old2new )\n",
    "    \n",
    "    return torch.utils.data.DataLoader(dataset, batch_size=opt.batch_size, num_workers=opt.num_workers,\n",
    "                                       shuffle=True, pin_memory=True)\n",
    "\n",
    "\n",
    "print(f'Optimize: {opt.align_w:g} * loss_align(alpha={opt.align_alpha:g}) + {opt.unif_w:g} * loss_uniform(t={opt.unif_t:g})')\n",
    "\n",
    "torch.cuda.set_device(opt.gpus[0])\n",
    "torch.backends.cudnn.deterministic = True\n",
    "torch.backends.cudnn.benchmark = True\n",
    "\n",
    "encoder = SmallAlexNet(feat_dim=opt.feat_dim, cifar=True).to(opt.gpus[0])\n",
    "\n",
    "optim = torch.optim.Adam(encoder.parameters(), lr=1e-2)\n",
    "scheduler = torch.optim.lr_scheduler.MultiStepLR(optim, gamma=opt.lr_decay_rate,\n",
    "                                                 milestones=opt.lr_decay_epochs)\n",
    "\n",
    "loader = get_data_loader(opt)\n",
    "align_meter = AverageMeter('align_loss')\n",
    "unif_meter = AverageMeter('uniform_loss')\n",
    "loss_meter = AverageMeter('total_loss')\n",
    "it_time_meter = AverageMeter('iter_time')\n",
    "\n",
    "for epoch in range(opt.epochs):\n",
    "    align_meter.reset()\n",
    "    unif_meter.reset()\n",
    "    loss_meter.reset()\n",
    "    it_time_meter.reset()\n",
    "    t0 = time.time()\n",
    "    for ii, (im_x, im_y, lbl) in enumerate(loader):\n",
    "        optim.zero_grad()\n",
    "        x, y = encoder(torch.cat([im_x.to(opt.gpus[0]), im_y.to(opt.gpus[0])])).chunk(2)\n",
    "        \n",
    "        align_loss_val = align_loss(x, y, alpha=opt.align_alpha)\n",
    "        # group according to new_lbls\n",
    "\n",
    "        z = torch.cat( [x, y])\n",
    "        lbl_z = torch.cat([lbl, lbl])\n",
    "        unif_losses = torch.cat([uniform_loss_prelog(z[lbl_z==new_lbl]) for new_lbl in new_lbls])\n",
    "        unif_loss_val = torch.log( torch.mean(unif_losses) )\n",
    "        \n",
    "        loss = align_loss_val * opt.align_w + unif_loss_val * opt.unif_w\n",
    "        align_meter.update(align_loss_val, x.shape[0])\n",
    "        unif_meter.update(unif_loss_val)\n",
    "        loss_meter.update(loss, x.shape[0])\n",
    "        loss.backward()\n",
    "        optim.step()\n",
    "        it_time_meter.update(time.time() - t0)\n",
    "        if ii % opt.log_interval == 0:\n",
    "            print(f\"Epoch {epoch}/{opt.epochs}\\tIt {ii}/{len(loader)}\\t\" +\n",
    "                  f\"{align_meter}\\t{unif_meter}\\t{loss_meter}\\t{it_time_meter}\")\n",
    "        t0 = time.time()\n",
    "    scheduler.step()\n",
    "\n",
    "ckpt_file = os.path.join(opt.save_folder, 'encoder.pth')\n",
    "torch.save(encoder.state_dict(), ckpt_file)\n",
    "print(f'Saved to {ckpt_file}')"
   ]
  },
  {
   "cell_type": "code",
   "execution_count": 25,
   "id": "46dfeed1-b6e6-4cb3-a96b-68fa78bcf010",
   "metadata": {},
   "outputs": [
    {
     "data": {
      "text/plain": [
       "<All keys matched successfully>"
      ]
     },
     "execution_count": 25,
     "metadata": {},
     "output_type": "execute_result"
    }
   ],
   "source": [
    "\"\"\"\n",
    "    Here we  do the linear evaluation, the old labels are provided to the linear objective as one hot\n",
    "\"\"\"\n",
    "import time\n",
    "import argparse\n",
    "\n",
    "import torchvision\n",
    "import torch\n",
    "import torch.nn as nn\n",
    "import torch.nn.functional as F\n",
    "\n",
    "from util import AverageMeter\n",
    "from encoder import SmallAlexNet\n",
    "MODEL_2_LOAD = \"./results/base_200_sideinformation_align1alpha2_unif1t2_iter0/encoder.pth\"\n",
    "MODEL_2_LOAD = \"./results/base_200_4_sideinformation_align1alpha2_unif1t2_iter0/encoder.pth\"\n",
    "MODEL_2_LOAD=\"./results/manual_labels_align1alpha2_unif1t2_iter0/encoder.pth\"\n",
    "MODEL_2_LOAD=\"./results/base_cifar100_400_resize_transform_align1alpha2_unif1t2_iter0/encoder.pth\"\n",
    "MODEL_2_LOAD=\"./results/cifar100_400_4_sideinformation_align1alpha2_unif1t2_iter0/encoder.pth\"\n",
    "MODEL_2_LOAD=\"./results/base_cifar100_400_resize_transform_align1alpha2_unif1t2_iter0/encoder.pth\"\n",
    "\n",
    "USE_MOD_LBL = True\n",
    "encoder = SmallAlexNet(feat_dim=opt.feat_dim,cifar=True).to(opt.gpus[0])\n",
    "encoder.load_state_dict(torch.load(MODEL_2_LOAD))"
   ]
  },
  {
   "cell_type": "code",
   "execution_count": 26,
   "id": "00c18248-7d9a-4388-a6e3-e3304ba5f363",
   "metadata": {},
   "outputs": [],
   "source": [
    "def parse_option():\n",
    "    parser = argparse.ArgumentParser('STL-10 Representation Learning with Alignment and Uniformity Losses')\n",
    "\n",
    "    parser.add_argument('--encoder_checkpoint', type=str, help='Encoder checkpoint to evaluate', default=MODEL_2_LOAD)\n",
    "    parser.add_argument('--feat_dim', type=int, default=128, help='Encoder feature dimensionality')\n",
    "    parser.add_argument('--layer_index', type=int, default=-2, help='Evaluation layer')\n",
    "\n",
    "    parser.add_argument('--batch_size', type=int, default=128, help='Batch size')\n",
    "    parser.add_argument('--epochs', type=int, default=100, help='Number of training epochs')\n",
    "    parser.add_argument('--lr', type=float, default=1e-3, help='Learning rate')\n",
    "    parser.add_argument('--lr_decay_rate', type=float, default=0.2, help='Learning rate decay rate')\n",
    "    parser.add_argument('--lr_decay_epochs', type=str, default='60,80', help='When to decay learning rate')\n",
    "\n",
    "    parser.add_argument('--num_workers', type=int, default=6, help='Number of data loader workers to use')\n",
    "    parser.add_argument('--log_interval', type=int, default=40, help='Number of iterations between logs')\n",
    "    parser.add_argument('--gpus', default=[0], nargs='*', type=int,\n",
    "                        help='List of GPU indices to use, e.g., --gpus 0 1 2 3')\n",
    "\n",
    "    parser.add_argument('--data_folder', type=str, default='./data', help='Path to data')\n",
    "\n",
    "    opt = parser.parse_args(\"\")\n",
    "\n",
    "    if opt.lr is None:\n",
    "        opt.lr = 0.12 * (opt.batch_size / 256)\n",
    "\n",
    "    opt.gpu = torch.device('cuda', opt.gpus[0])\n",
    "    opt.lr_decay_epochs = list(map(int, opt.lr_decay_epochs.split(',')))\n",
    "\n",
    "    return opt\n",
    "\n",
    "\n",
    "class DatasetModifiedLbl(torch.utils.data.Dataset):\n",
    "    r\"\"\"Returns two augmentation and no labels.\"\"\"\n",
    "\n",
    "    def __init__(self, dataset, lblmap=None):\n",
    "        self.dataset = dataset\n",
    "        self.lblmap = copy.deepcopy(lblmap)\n",
    "\n",
    "    def __getitem__(self, index):\n",
    "        image, lbl = self.dataset[index]\n",
    "        lbl2return = lbl if self.lblmap is None else self.lblmap[lbl]\n",
    "        return image, lbl2return\n",
    "\n",
    "    def __len__(self):\n",
    "        return len(self.dataset)"
   ]
  },
  {
   "cell_type": "code",
   "execution_count": 27,
   "id": "42651724-4da3-439f-b35d-f15b322ebc46",
   "metadata": {},
   "outputs": [],
   "source": [
    "class DatasetModifiedLblandLbl(torch.utils.data.Dataset):\n",
    "    r\"\"\"Returns two augmentation and no labels.\"\"\"\n",
    "\n",
    "    def __init__(self, dataset, lblmap):\n",
    "        self.dataset = dataset\n",
    "        self.lblmap = copy.deepcopy(lblmap)\n",
    "\n",
    "    def __getitem__(self, index):\n",
    "        image, lbl = self.dataset[index]\n",
    "        return image, self.lblmap[lbl], lbl\n",
    "\n",
    "    def __len__(self):\n",
    "        return len(self.dataset)"
   ]
  },
  {
   "cell_type": "code",
   "execution_count": 28,
   "id": "bb10fe91-33c3-4ee2-b5b7-d3f1011380de",
   "metadata": {},
   "outputs": [],
   "source": [
    "def get_data_loaders(opt):\n",
    "    train_transform = torchvision.transforms.Compose([\n",
    "        torchvision.transforms.RandomResizedCrop(32, scale=(0.08, 1)),\n",
    "        torchvision.transforms.ToTensor(),\n",
    "        torchvision.transforms.Normalize(\n",
    "            (0.44087801806139126, 0.42790631331699347, 0.3867879370752931),\n",
    "            (0.26826768628079806, 0.2610450402318512, 0.26866836876860795),\n",
    "        ),\n",
    "        torchvision.transforms.RandomHorizontalFlip()\n",
    "    ])\n",
    "    val_transform = torchvision.transforms.Compose([\n",
    "        torchvision.transforms.Resize(70),\n",
    "        torchvision.transforms.CenterCrop(32),\n",
    "        torchvision.transforms.ToTensor(),\n",
    "        torchvision.transforms.Normalize(\n",
    "            (0.44087801806139126, 0.42790631331699347, 0.3867879370752931),\n",
    "            (0.26826768628079806, 0.2610450402318512, 0.26866836876860795),\n",
    "        ),\n",
    "    ])\n",
    "    train_dataset = DatasetModifiedLblandLbl( torchvision.datasets.STL10(opt.data_folder, 'train', download=True, transform=train_transform), lblmap=old2new)\n",
    "    val_dataset =  DatasetModifiedLblandLbl( torchvision.datasets.STL10(opt.data_folder, 'test', transform=val_transform), lblmap=old2new)\n",
    "    train_loader = torch.utils.data.DataLoader(train_dataset, batch_size=opt.batch_size,\n",
    "                                               num_workers=opt.num_workers, shuffle=True, pin_memory=True)\n",
    "    val_loader = torch.utils.data.DataLoader(val_dataset, batch_size=opt.batch_size,\n",
    "                                             num_workers=opt.num_workers, pin_memory=True)\n",
    "    return train_loader, val_loader\n",
    "\n",
    "\n",
    "def validate_comb(opt, encoder, classifier, val_loader):\n",
    "    correct = 0\n",
    "    with torch.no_grad():\n",
    "        for images, labels_mod, labels_act in val_loader:\n",
    "            pred = classifier(torch.cat( (encoder(images.to(opt.gpus[0]), layer_index=opt.layer_index).flatten(1), torch.nn.functional.one_hot(labels_mod.to(opt.gpus[0]), num_classes=len(labels_2_keep)+1)), dim=1)).argmax(dim=1)\n",
    "            correct += (pred.cpu() == labels_act).sum().item()\n",
    "    return correct / len(val_loader.dataset)\n",
    "\n",
    "def validate(opt, encoder, classifier, val_loader):\n",
    "    correct = 0\n",
    "    with torch.no_grad():\n",
    "        for images, labels_mod, labels_act in val_loader:\n",
    "            pred = classifier( encoder(images.to(opt.gpus[0]), layer_index=opt.layer_index).flatten(1) ).argmax(dim=1)\n",
    "            correct += (pred.cpu() == labels_act).sum().item()\n",
    "    return correct / len(val_loader.dataset)"
   ]
  },
  {
   "cell_type": "code",
   "execution_count": 29,
   "id": "146282ba-d904-4d56-ae75-491417d7eb3c",
   "metadata": {},
   "outputs": [],
   "source": [
    "opt.gpu=opt.gpus[0]"
   ]
  },
  {
   "cell_type": "code",
   "execution_count": 30,
   "id": "7b0e8d1a-d5f1-4580-9ad6-37b38c2827ef",
   "metadata": {},
   "outputs": [
    {
     "name": "stdout",
     "output_type": "stream",
     "text": [
      "Files already downloaded and verified\n",
      "Feature dimension: 4096\n"
     ]
    },
    {
     "name": "stderr",
     "output_type": "stream",
     "text": [
      "  0%|          | 0/100 [00:00<?, ?it/s]"
     ]
    },
    {
     "name": "stdout",
     "output_type": "stream",
     "text": [
      "Epoch 0/100\tIt 0/40\tloss 2.317669 (2.317669)\titer_time 0.643054 (0.643054)\n"
     ]
    },
    {
     "name": "stderr",
     "output_type": "stream",
     "text": [
      "  1%|          | 1/100 [00:01<02:55,  1.77s/it]"
     ]
    },
    {
     "name": "stdout",
     "output_type": "stream",
     "text": [
      "Epoch 0/100\tval_acc 51.59%\n",
      "Epoch 1/100\tIt 0/40\tloss 1.347377 (1.347377)\titer_time 0.140231 (0.140231)\n"
     ]
    },
    {
     "name": "stderr",
     "output_type": "stream",
     "text": [
      "  2%|▏         | 2/100 [00:03<02:24,  1.47s/it]"
     ]
    },
    {
     "name": "stdout",
     "output_type": "stream",
     "text": [
      "Epoch 1/100\tval_acc 54.2%\n",
      "Epoch 2/100\tIt 0/40\tloss 1.179149 (1.179149)\titer_time 0.158372 (0.158372)\n"
     ]
    },
    {
     "name": "stderr",
     "output_type": "stream",
     "text": [
      "  3%|▎         | 3/100 [00:04<02:14,  1.39s/it]"
     ]
    },
    {
     "name": "stdout",
     "output_type": "stream",
     "text": [
      "Epoch 2/100\tval_acc 55.16%\n",
      "Epoch 3/100\tIt 0/40\tloss 1.074468 (1.074468)\titer_time 0.188010 (0.188010)\n"
     ]
    },
    {
     "name": "stderr",
     "output_type": "stream",
     "text": [
      "  4%|▍         | 4/100 [00:05<02:09,  1.35s/it]"
     ]
    },
    {
     "name": "stdout",
     "output_type": "stream",
     "text": [
      "Epoch 3/100\tval_acc 57.35%\n",
      "Epoch 4/100\tIt 0/40\tloss 1.077220 (1.077220)\titer_time 0.138690 (0.138690)\n"
     ]
    },
    {
     "name": "stderr",
     "output_type": "stream",
     "text": [
      "  5%|▌         | 5/100 [00:06<02:05,  1.32s/it]"
     ]
    },
    {
     "name": "stdout",
     "output_type": "stream",
     "text": [
      "Epoch 4/100\tval_acc 57.66%\n",
      "Epoch 5/100\tIt 0/40\tloss 1.094635 (1.094635)\titer_time 0.247242 (0.247242)\n"
     ]
    },
    {
     "name": "stderr",
     "output_type": "stream",
     "text": [
      "  6%|▌         | 6/100 [00:08<02:06,  1.34s/it]"
     ]
    },
    {
     "name": "stdout",
     "output_type": "stream",
     "text": [
      "Epoch 5/100\tval_acc 59.33%\n",
      "Epoch 6/100\tIt 0/40\tloss 0.907721 (0.907721)\titer_time 0.168980 (0.168980)\n"
     ]
    },
    {
     "name": "stderr",
     "output_type": "stream",
     "text": [
      "  7%|▋         | 7/100 [00:09<02:04,  1.34s/it]"
     ]
    },
    {
     "name": "stdout",
     "output_type": "stream",
     "text": [
      "Epoch 6/100\tval_acc 59.41%\n",
      "Epoch 7/100\tIt 0/40\tloss 0.979732 (0.979732)\titer_time 0.129158 (0.129158)\n"
     ]
    },
    {
     "name": "stderr",
     "output_type": "stream",
     "text": [
      "  8%|▊         | 8/100 [00:10<02:00,  1.31s/it]"
     ]
    },
    {
     "name": "stdout",
     "output_type": "stream",
     "text": [
      "Epoch 7/100\tval_acc 59.4%\n",
      "Epoch 8/100\tIt 0/40\tloss 0.831983 (0.831983)\titer_time 0.167577 (0.167577)\n"
     ]
    },
    {
     "name": "stderr",
     "output_type": "stream",
     "text": [
      "  9%|▉         | 9/100 [00:12<01:58,  1.30s/it]"
     ]
    },
    {
     "name": "stdout",
     "output_type": "stream",
     "text": [
      "Epoch 8/100\tval_acc 60.45%\n",
      "Epoch 9/100\tIt 0/40\tloss 0.927104 (0.927104)\titer_time 0.186994 (0.186994)\n"
     ]
    },
    {
     "name": "stderr",
     "output_type": "stream",
     "text": [
      " 10%|█         | 10/100 [00:13<01:56,  1.29s/it]"
     ]
    },
    {
     "name": "stdout",
     "output_type": "stream",
     "text": [
      "Epoch 9/100\tval_acc 60.35%\n",
      "Epoch 10/100\tIt 0/40\tloss 0.841688 (0.841688)\titer_time 0.120916 (0.120916)\n"
     ]
    },
    {
     "name": "stderr",
     "output_type": "stream",
     "text": [
      " 11%|█         | 11/100 [00:14<01:54,  1.29s/it]"
     ]
    },
    {
     "name": "stdout",
     "output_type": "stream",
     "text": [
      "Epoch 10/100\tval_acc 61.19%\n",
      "Epoch 11/100\tIt 0/40\tloss 0.828138 (0.828138)\titer_time 0.176086 (0.176086)\n"
     ]
    },
    {
     "name": "stderr",
     "output_type": "stream",
     "text": [
      " 12%|█▏        | 12/100 [00:16<01:55,  1.31s/it]"
     ]
    },
    {
     "name": "stdout",
     "output_type": "stream",
     "text": [
      "Epoch 11/100\tval_acc 61.27%\n",
      "Epoch 12/100\tIt 0/40\tloss 0.907684 (0.907684)\titer_time 0.170757 (0.170757)\n"
     ]
    },
    {
     "name": "stderr",
     "output_type": "stream",
     "text": [
      " 13%|█▎        | 13/100 [00:17<01:54,  1.32s/it]"
     ]
    },
    {
     "name": "stdout",
     "output_type": "stream",
     "text": [
      "Epoch 12/100\tval_acc 62%\n",
      "Epoch 13/100\tIt 0/40\tloss 0.797824 (0.797824)\titer_time 0.175897 (0.175897)\n"
     ]
    },
    {
     "name": "stderr",
     "output_type": "stream",
     "text": [
      " 14%|█▍        | 14/100 [00:18<01:55,  1.34s/it]"
     ]
    },
    {
     "name": "stdout",
     "output_type": "stream",
     "text": [
      "Epoch 13/100\tval_acc 62.18%\n",
      "Epoch 14/100\tIt 0/40\tloss 0.786929 (0.786929)\titer_time 0.153615 (0.153615)\n"
     ]
    },
    {
     "name": "stderr",
     "output_type": "stream",
     "text": [
      " 15%|█▌        | 15/100 [00:20<01:51,  1.32s/it]"
     ]
    },
    {
     "name": "stdout",
     "output_type": "stream",
     "text": [
      "Epoch 14/100\tval_acc 62.29%\n",
      "Epoch 15/100\tIt 0/40\tloss 0.755933 (0.755933)\titer_time 0.194819 (0.194819)\n"
     ]
    },
    {
     "name": "stderr",
     "output_type": "stream",
     "text": [
      " 16%|█▌        | 16/100 [00:21<01:50,  1.32s/it]"
     ]
    },
    {
     "name": "stdout",
     "output_type": "stream",
     "text": [
      "Epoch 15/100\tval_acc 62.65%\n",
      "Epoch 16/100\tIt 0/40\tloss 0.743983 (0.743983)\titer_time 0.126901 (0.126901)\n"
     ]
    },
    {
     "name": "stderr",
     "output_type": "stream",
     "text": [
      " 17%|█▋        | 17/100 [00:22<01:48,  1.30s/it]"
     ]
    },
    {
     "name": "stdout",
     "output_type": "stream",
     "text": [
      "Epoch 16/100\tval_acc 62.4%\n",
      "Epoch 17/100\tIt 0/40\tloss 0.856573 (0.856573)\titer_time 0.152627 (0.152627)\n"
     ]
    },
    {
     "name": "stderr",
     "output_type": "stream",
     "text": [
      " 18%|█▊        | 18/100 [00:23<01:46,  1.29s/it]"
     ]
    },
    {
     "name": "stdout",
     "output_type": "stream",
     "text": [
      "Epoch 17/100\tval_acc 63.39%\n",
      "Epoch 18/100\tIt 0/40\tloss 0.996817 (0.996817)\titer_time 0.149961 (0.149961)\n"
     ]
    },
    {
     "name": "stderr",
     "output_type": "stream",
     "text": [
      " 19%|█▉        | 19/100 [00:25<01:44,  1.29s/it]"
     ]
    },
    {
     "name": "stdout",
     "output_type": "stream",
     "text": [
      "Epoch 18/100\tval_acc 63.4%\n",
      "Epoch 19/100\tIt 0/40\tloss 0.748335 (0.748335)\titer_time 0.167104 (0.167104)\n"
     ]
    },
    {
     "name": "stderr",
     "output_type": "stream",
     "text": [
      " 20%|██        | 20/100 [00:26<01:42,  1.28s/it]"
     ]
    },
    {
     "name": "stdout",
     "output_type": "stream",
     "text": [
      "Epoch 19/100\tval_acc 63.76%\n",
      "Epoch 20/100\tIt 0/40\tloss 0.665994 (0.665994)\titer_time 0.129084 (0.129084)\n"
     ]
    },
    {
     "name": "stderr",
     "output_type": "stream",
     "text": [
      " 21%|██        | 21/100 [00:27<01:40,  1.27s/it]"
     ]
    },
    {
     "name": "stdout",
     "output_type": "stream",
     "text": [
      "Epoch 20/100\tval_acc 63.71%\n",
      "Epoch 21/100\tIt 0/40\tloss 0.765240 (0.765240)\titer_time 0.165035 (0.165035)\n"
     ]
    },
    {
     "name": "stderr",
     "output_type": "stream",
     "text": [
      " 22%|██▏       | 22/100 [00:28<01:39,  1.28s/it]"
     ]
    },
    {
     "name": "stdout",
     "output_type": "stream",
     "text": [
      "Epoch 21/100\tval_acc 63.85%\n",
      "Epoch 22/100\tIt 0/40\tloss 0.785096 (0.785096)\titer_time 0.151135 (0.151135)\n"
     ]
    },
    {
     "name": "stderr",
     "output_type": "stream",
     "text": [
      " 23%|██▎       | 23/100 [00:30<01:38,  1.28s/it]"
     ]
    },
    {
     "name": "stdout",
     "output_type": "stream",
     "text": [
      "Epoch 22/100\tval_acc 63.76%\n",
      "Epoch 23/100\tIt 0/40\tloss 0.697388 (0.697388)\titer_time 0.141931 (0.141931)\n"
     ]
    },
    {
     "name": "stderr",
     "output_type": "stream",
     "text": [
      " 24%|██▍       | 24/100 [00:31<01:37,  1.28s/it]"
     ]
    },
    {
     "name": "stdout",
     "output_type": "stream",
     "text": [
      "Epoch 23/100\tval_acc 64.84%\n",
      "Epoch 24/100\tIt 0/40\tloss 0.618923 (0.618923)\titer_time 0.162297 (0.162297)\n"
     ]
    },
    {
     "name": "stderr",
     "output_type": "stream",
     "text": [
      " 25%|██▌       | 25/100 [00:32<01:35,  1.28s/it]"
     ]
    },
    {
     "name": "stdout",
     "output_type": "stream",
     "text": [
      "Epoch 24/100\tval_acc 64.34%\n",
      "Epoch 25/100\tIt 0/40\tloss 0.878883 (0.878883)\titer_time 0.129265 (0.129265)\n"
     ]
    },
    {
     "name": "stderr",
     "output_type": "stream",
     "text": [
      " 26%|██▌       | 26/100 [00:34<01:33,  1.27s/it]"
     ]
    },
    {
     "name": "stdout",
     "output_type": "stream",
     "text": [
      "Epoch 25/100\tval_acc 64.15%\n",
      "Epoch 26/100\tIt 0/40\tloss 0.698757 (0.698757)\titer_time 0.156944 (0.156944)\n"
     ]
    },
    {
     "name": "stderr",
     "output_type": "stream",
     "text": [
      " 27%|██▋       | 27/100 [00:35<01:32,  1.26s/it]"
     ]
    },
    {
     "name": "stdout",
     "output_type": "stream",
     "text": [
      "Epoch 26/100\tval_acc 64.69%\n",
      "Epoch 27/100\tIt 0/40\tloss 0.676458 (0.676458)\titer_time 0.142217 (0.142217)\n"
     ]
    },
    {
     "name": "stderr",
     "output_type": "stream",
     "text": [
      " 28%|██▊       | 28/100 [00:36<01:31,  1.27s/it]"
     ]
    },
    {
     "name": "stdout",
     "output_type": "stream",
     "text": [
      "Epoch 27/100\tval_acc 64.26%\n",
      "Epoch 28/100\tIt 0/40\tloss 0.614755 (0.614755)\titer_time 0.132313 (0.132313)\n"
     ]
    },
    {
     "name": "stderr",
     "output_type": "stream",
     "text": [
      " 29%|██▉       | 29/100 [00:37<01:29,  1.26s/it]"
     ]
    },
    {
     "name": "stdout",
     "output_type": "stream",
     "text": [
      "Epoch 28/100\tval_acc 64.76%\n",
      "Epoch 29/100\tIt 0/40\tloss 0.643382 (0.643382)\titer_time 0.161837 (0.161837)\n"
     ]
    },
    {
     "name": "stderr",
     "output_type": "stream",
     "text": [
      " 30%|███       | 30/100 [00:39<01:29,  1.28s/it]"
     ]
    },
    {
     "name": "stdout",
     "output_type": "stream",
     "text": [
      "Epoch 29/100\tval_acc 65.66%\n",
      "Epoch 30/100\tIt 0/40\tloss 0.673461 (0.673461)\titer_time 0.129699 (0.129699)\n"
     ]
    },
    {
     "name": "stderr",
     "output_type": "stream",
     "text": [
      " 31%|███       | 31/100 [00:40<01:29,  1.29s/it]"
     ]
    },
    {
     "name": "stdout",
     "output_type": "stream",
     "text": [
      "Epoch 30/100\tval_acc 65.33%\n",
      "Epoch 31/100\tIt 0/40\tloss 0.540164 (0.540164)\titer_time 0.156794 (0.156794)\n"
     ]
    },
    {
     "name": "stderr",
     "output_type": "stream",
     "text": [
      " 32%|███▏      | 32/100 [00:41<01:28,  1.30s/it]"
     ]
    },
    {
     "name": "stdout",
     "output_type": "stream",
     "text": [
      "Epoch 31/100\tval_acc 65.54%\n",
      "Epoch 32/100\tIt 0/40\tloss 0.606209 (0.606209)\titer_time 0.155382 (0.155382)\n"
     ]
    },
    {
     "name": "stderr",
     "output_type": "stream",
     "text": [
      " 33%|███▎      | 33/100 [00:43<01:28,  1.32s/it]"
     ]
    },
    {
     "name": "stdout",
     "output_type": "stream",
     "text": [
      "Epoch 32/100\tval_acc 65.4%\n",
      "Epoch 33/100\tIt 0/40\tloss 0.667767 (0.667767)\titer_time 0.158487 (0.158487)\n"
     ]
    },
    {
     "name": "stderr",
     "output_type": "stream",
     "text": [
      " 34%|███▍      | 34/100 [00:44<01:25,  1.30s/it]"
     ]
    },
    {
     "name": "stdout",
     "output_type": "stream",
     "text": [
      "Epoch 33/100\tval_acc 65.54%\n",
      "Epoch 34/100\tIt 0/40\tloss 0.588110 (0.588110)\titer_time 0.164415 (0.164415)\n"
     ]
    },
    {
     "name": "stderr",
     "output_type": "stream",
     "text": [
      " 35%|███▌      | 35/100 [00:45<01:24,  1.30s/it]"
     ]
    },
    {
     "name": "stdout",
     "output_type": "stream",
     "text": [
      "Epoch 34/100\tval_acc 65.49%\n",
      "Epoch 35/100\tIt 0/40\tloss 0.628757 (0.628757)\titer_time 0.190547 (0.190547)\n"
     ]
    },
    {
     "name": "stderr",
     "output_type": "stream",
     "text": [
      " 36%|███▌      | 36/100 [00:46<01:22,  1.30s/it]"
     ]
    },
    {
     "name": "stdout",
     "output_type": "stream",
     "text": [
      "Epoch 35/100\tval_acc 66.3%\n",
      "Epoch 36/100\tIt 0/40\tloss 0.691093 (0.691093)\titer_time 0.131629 (0.131629)\n"
     ]
    },
    {
     "name": "stderr",
     "output_type": "stream",
     "text": [
      " 37%|███▋      | 37/100 [00:48<01:20,  1.27s/it]"
     ]
    },
    {
     "name": "stdout",
     "output_type": "stream",
     "text": [
      "Epoch 36/100\tval_acc 66%\n",
      "Epoch 37/100\tIt 0/40\tloss 0.723042 (0.723042)\titer_time 0.130217 (0.130217)\n"
     ]
    },
    {
     "name": "stderr",
     "output_type": "stream",
     "text": [
      " 38%|███▊      | 38/100 [00:49<01:18,  1.27s/it]"
     ]
    },
    {
     "name": "stdout",
     "output_type": "stream",
     "text": [
      "Epoch 37/100\tval_acc 65.77%\n",
      "Epoch 38/100\tIt 0/40\tloss 0.723599 (0.723599)\titer_time 0.127830 (0.127830)\n"
     ]
    },
    {
     "name": "stderr",
     "output_type": "stream",
     "text": [
      " 39%|███▉      | 39/100 [00:50<01:16,  1.26s/it]"
     ]
    },
    {
     "name": "stdout",
     "output_type": "stream",
     "text": [
      "Epoch 38/100\tval_acc 65.64%\n",
      "Epoch 39/100\tIt 0/40\tloss 0.694763 (0.694763)\titer_time 0.137837 (0.137837)\n"
     ]
    },
    {
     "name": "stderr",
     "output_type": "stream",
     "text": [
      " 40%|████      | 40/100 [00:51<01:14,  1.25s/it]"
     ]
    },
    {
     "name": "stdout",
     "output_type": "stream",
     "text": [
      "Epoch 39/100\tval_acc 65.56%\n",
      "Epoch 40/100\tIt 0/40\tloss 0.586016 (0.586016)\titer_time 0.226323 (0.226323)\n"
     ]
    },
    {
     "name": "stderr",
     "output_type": "stream",
     "text": [
      " 41%|████      | 41/100 [00:53<01:14,  1.27s/it]"
     ]
    },
    {
     "name": "stdout",
     "output_type": "stream",
     "text": [
      "Epoch 40/100\tval_acc 65.49%\n",
      "Epoch 41/100\tIt 0/40\tloss 0.681377 (0.681377)\titer_time 0.133758 (0.133758)\n"
     ]
    },
    {
     "name": "stderr",
     "output_type": "stream",
     "text": [
      " 42%|████▏     | 42/100 [00:54<01:13,  1.27s/it]"
     ]
    },
    {
     "name": "stdout",
     "output_type": "stream",
     "text": [
      "Epoch 41/100\tval_acc 65.96%\n",
      "Epoch 42/100\tIt 0/40\tloss 0.587108 (0.587108)\titer_time 0.181894 (0.181894)\n"
     ]
    },
    {
     "name": "stderr",
     "output_type": "stream",
     "text": [
      " 43%|████▎     | 43/100 [00:55<01:12,  1.27s/it]"
     ]
    },
    {
     "name": "stdout",
     "output_type": "stream",
     "text": [
      "Epoch 42/100\tval_acc 66.24%\n",
      "Epoch 43/100\tIt 0/40\tloss 0.677060 (0.677060)\titer_time 0.173625 (0.173625)\n"
     ]
    },
    {
     "name": "stderr",
     "output_type": "stream",
     "text": [
      " 44%|████▍     | 44/100 [00:57<01:11,  1.28s/it]"
     ]
    },
    {
     "name": "stdout",
     "output_type": "stream",
     "text": [
      "Epoch 43/100\tval_acc 66.46%\n",
      "Epoch 44/100\tIt 0/40\tloss 0.560449 (0.560449)\titer_time 0.173075 (0.173075)\n"
     ]
    },
    {
     "name": "stderr",
     "output_type": "stream",
     "text": [
      " 45%|████▌     | 45/100 [00:58<01:11,  1.30s/it]"
     ]
    },
    {
     "name": "stdout",
     "output_type": "stream",
     "text": [
      "Epoch 44/100\tval_acc 65.77%\n",
      "Epoch 45/100\tIt 0/40\tloss 0.548829 (0.548829)\titer_time 0.144733 (0.144733)\n"
     ]
    },
    {
     "name": "stderr",
     "output_type": "stream",
     "text": [
      " 46%|████▌     | 46/100 [00:59<01:09,  1.28s/it]"
     ]
    },
    {
     "name": "stdout",
     "output_type": "stream",
     "text": [
      "Epoch 45/100\tval_acc 66.24%\n",
      "Epoch 46/100\tIt 0/40\tloss 0.594334 (0.594334)\titer_time 0.178492 (0.178492)\n"
     ]
    },
    {
     "name": "stderr",
     "output_type": "stream",
     "text": [
      " 47%|████▋     | 47/100 [01:00<01:07,  1.28s/it]"
     ]
    },
    {
     "name": "stdout",
     "output_type": "stream",
     "text": [
      "Epoch 46/100\tval_acc 66.09%\n",
      "Epoch 47/100\tIt 0/40\tloss 0.408554 (0.408554)\titer_time 0.130188 (0.130188)\n"
     ]
    },
    {
     "name": "stderr",
     "output_type": "stream",
     "text": [
      " 48%|████▊     | 48/100 [01:02<01:05,  1.26s/it]"
     ]
    },
    {
     "name": "stdout",
     "output_type": "stream",
     "text": [
      "Epoch 47/100\tval_acc 65.88%\n",
      "Epoch 48/100\tIt 0/40\tloss 0.546549 (0.546549)\titer_time 0.186718 (0.186718)\n"
     ]
    },
    {
     "name": "stderr",
     "output_type": "stream",
     "text": [
      " 49%|████▉     | 49/100 [01:03<01:04,  1.27s/it]"
     ]
    },
    {
     "name": "stdout",
     "output_type": "stream",
     "text": [
      "Epoch 48/100\tval_acc 66.99%\n",
      "Epoch 49/100\tIt 0/40\tloss 0.559753 (0.559753)\titer_time 0.196218 (0.196218)\n"
     ]
    },
    {
     "name": "stderr",
     "output_type": "stream",
     "text": [
      " 50%|█████     | 50/100 [01:04<01:03,  1.26s/it]"
     ]
    },
    {
     "name": "stdout",
     "output_type": "stream",
     "text": [
      "Epoch 49/100\tval_acc 66.38%\n",
      "Epoch 50/100\tIt 0/40\tloss 0.603024 (0.603024)\titer_time 0.135448 (0.135448)\n"
     ]
    },
    {
     "name": "stderr",
     "output_type": "stream",
     "text": [
      " 51%|█████     | 51/100 [01:05<01:02,  1.27s/it]"
     ]
    },
    {
     "name": "stdout",
     "output_type": "stream",
     "text": [
      "Epoch 50/100\tval_acc 67.11%\n",
      "Epoch 51/100\tIt 0/40\tloss 0.630170 (0.630170)\titer_time 0.151525 (0.151525)\n"
     ]
    },
    {
     "name": "stderr",
     "output_type": "stream",
     "text": [
      " 52%|█████▏    | 52/100 [01:07<01:01,  1.27s/it]"
     ]
    },
    {
     "name": "stdout",
     "output_type": "stream",
     "text": [
      "Epoch 51/100\tval_acc 66.22%\n",
      "Epoch 52/100\tIt 0/40\tloss 0.589007 (0.589007)\titer_time 0.136746 (0.136746)\n"
     ]
    },
    {
     "name": "stderr",
     "output_type": "stream",
     "text": [
      " 53%|█████▎    | 53/100 [01:08<00:59,  1.27s/it]"
     ]
    },
    {
     "name": "stdout",
     "output_type": "stream",
     "text": [
      "Epoch 52/100\tval_acc 66.38%\n",
      "Epoch 53/100\tIt 0/40\tloss 0.489609 (0.489609)\titer_time 0.130348 (0.130348)\n"
     ]
    },
    {
     "name": "stderr",
     "output_type": "stream",
     "text": [
      " 54%|█████▍    | 54/100 [01:09<00:58,  1.26s/it]"
     ]
    },
    {
     "name": "stdout",
     "output_type": "stream",
     "text": [
      "Epoch 53/100\tval_acc 66.83%\n",
      "Epoch 54/100\tIt 0/40\tloss 0.639273 (0.639273)\titer_time 0.140299 (0.140299)\n"
     ]
    },
    {
     "name": "stderr",
     "output_type": "stream",
     "text": [
      " 55%|█████▌    | 55/100 [01:11<00:57,  1.27s/it]"
     ]
    },
    {
     "name": "stdout",
     "output_type": "stream",
     "text": [
      "Epoch 54/100\tval_acc 66.97%\n",
      "Epoch 55/100\tIt 0/40\tloss 0.630125 (0.630125)\titer_time 0.136673 (0.136673)\n"
     ]
    },
    {
     "name": "stderr",
     "output_type": "stream",
     "text": [
      " 56%|█████▌    | 56/100 [01:12<00:55,  1.26s/it]"
     ]
    },
    {
     "name": "stdout",
     "output_type": "stream",
     "text": [
      "Epoch 55/100\tval_acc 66.51%\n",
      "Epoch 56/100\tIt 0/40\tloss 0.640424 (0.640424)\titer_time 0.184545 (0.184545)\n"
     ]
    },
    {
     "name": "stderr",
     "output_type": "stream",
     "text": [
      " 57%|█████▋    | 57/100 [01:13<00:54,  1.27s/it]"
     ]
    },
    {
     "name": "stdout",
     "output_type": "stream",
     "text": [
      "Epoch 56/100\tval_acc 66.41%\n",
      "Epoch 57/100\tIt 0/40\tloss 0.451903 (0.451903)\titer_time 0.137591 (0.137591)\n"
     ]
    },
    {
     "name": "stderr",
     "output_type": "stream",
     "text": [
      " 58%|█████▊    | 58/100 [01:14<00:53,  1.27s/it]"
     ]
    },
    {
     "name": "stdout",
     "output_type": "stream",
     "text": [
      "Epoch 57/100\tval_acc 66.61%\n",
      "Epoch 58/100\tIt 0/40\tloss 0.540828 (0.540828)\titer_time 0.127867 (0.127867)\n"
     ]
    },
    {
     "name": "stderr",
     "output_type": "stream",
     "text": [
      " 59%|█████▉    | 59/100 [01:16<00:52,  1.28s/it]"
     ]
    },
    {
     "name": "stdout",
     "output_type": "stream",
     "text": [
      "Epoch 58/100\tval_acc 66.71%\n",
      "Epoch 59/100\tIt 0/40\tloss 0.462482 (0.462482)\titer_time 0.137296 (0.137296)\n"
     ]
    },
    {
     "name": "stderr",
     "output_type": "stream",
     "text": [
      " 60%|██████    | 60/100 [01:17<00:51,  1.28s/it]"
     ]
    },
    {
     "name": "stdout",
     "output_type": "stream",
     "text": [
      "Epoch 59/100\tval_acc 66.69%\n",
      "Epoch 60/100\tIt 0/40\tloss 0.599504 (0.599504)\titer_time 0.162778 (0.162778)\n"
     ]
    },
    {
     "name": "stderr",
     "output_type": "stream",
     "text": [
      " 61%|██████    | 61/100 [01:18<00:50,  1.28s/it]"
     ]
    },
    {
     "name": "stdout",
     "output_type": "stream",
     "text": [
      "Epoch 60/100\tval_acc 66.71%\n",
      "Epoch 61/100\tIt 0/40\tloss 0.509995 (0.509995)\titer_time 0.130297 (0.130297)\n"
     ]
    },
    {
     "name": "stderr",
     "output_type": "stream",
     "text": [
      " 62%|██████▏   | 62/100 [01:20<00:48,  1.28s/it]"
     ]
    },
    {
     "name": "stdout",
     "output_type": "stream",
     "text": [
      "Epoch 61/100\tval_acc 66.89%\n",
      "Epoch 62/100\tIt 0/40\tloss 0.561208 (0.561208)\titer_time 0.215965 (0.215965)\n"
     ]
    },
    {
     "name": "stderr",
     "output_type": "stream",
     "text": [
      " 63%|██████▎   | 63/100 [01:21<00:47,  1.29s/it]"
     ]
    },
    {
     "name": "stdout",
     "output_type": "stream",
     "text": [
      "Epoch 62/100\tval_acc 66.95%\n",
      "Epoch 63/100\tIt 0/40\tloss 0.606518 (0.606518)\titer_time 0.130065 (0.130065)\n"
     ]
    },
    {
     "name": "stderr",
     "output_type": "stream",
     "text": [
      " 64%|██████▍   | 64/100 [01:22<00:46,  1.28s/it]"
     ]
    },
    {
     "name": "stdout",
     "output_type": "stream",
     "text": [
      "Epoch 63/100\tval_acc 67.01%\n",
      "Epoch 64/100\tIt 0/40\tloss 0.536094 (0.536094)\titer_time 0.154241 (0.154241)\n"
     ]
    },
    {
     "name": "stderr",
     "output_type": "stream",
     "text": [
      " 65%|██████▌   | 65/100 [01:23<00:44,  1.27s/it]"
     ]
    },
    {
     "name": "stdout",
     "output_type": "stream",
     "text": [
      "Epoch 64/100\tval_acc 66.96%\n",
      "Epoch 65/100\tIt 0/40\tloss 0.543198 (0.543198)\titer_time 0.146537 (0.146537)\n"
     ]
    },
    {
     "name": "stderr",
     "output_type": "stream",
     "text": [
      " 66%|██████▌   | 66/100 [01:25<00:43,  1.27s/it]"
     ]
    },
    {
     "name": "stdout",
     "output_type": "stream",
     "text": [
      "Epoch 65/100\tval_acc 66.94%\n",
      "Epoch 66/100\tIt 0/40\tloss 0.574198 (0.574198)\titer_time 0.145601 (0.145601)\n"
     ]
    },
    {
     "name": "stderr",
     "output_type": "stream",
     "text": [
      " 67%|██████▋   | 67/100 [01:26<00:41,  1.26s/it]"
     ]
    },
    {
     "name": "stdout",
     "output_type": "stream",
     "text": [
      "Epoch 66/100\tval_acc 67.04%\n",
      "Epoch 67/100\tIt 0/40\tloss 0.471654 (0.471654)\titer_time 0.152508 (0.152508)\n"
     ]
    },
    {
     "name": "stderr",
     "output_type": "stream",
     "text": [
      " 68%|██████▊   | 68/100 [01:27<00:40,  1.26s/it]"
     ]
    },
    {
     "name": "stdout",
     "output_type": "stream",
     "text": [
      "Epoch 67/100\tval_acc 67.15%\n",
      "Epoch 68/100\tIt 0/40\tloss 0.546541 (0.546541)\titer_time 0.132300 (0.132300)\n"
     ]
    },
    {
     "name": "stderr",
     "output_type": "stream",
     "text": [
      " 69%|██████▉   | 69/100 [01:28<00:39,  1.27s/it]"
     ]
    },
    {
     "name": "stdout",
     "output_type": "stream",
     "text": [
      "Epoch 68/100\tval_acc 67.17%\n",
      "Epoch 69/100\tIt 0/40\tloss 0.585553 (0.585553)\titer_time 0.123107 (0.123107)\n"
     ]
    },
    {
     "name": "stderr",
     "output_type": "stream",
     "text": [
      " 70%|███████   | 70/100 [01:30<00:37,  1.26s/it]"
     ]
    },
    {
     "name": "stdout",
     "output_type": "stream",
     "text": [
      "Epoch 69/100\tval_acc 67.25%\n",
      "Epoch 70/100\tIt 0/40\tloss 0.528602 (0.528602)\titer_time 0.160890 (0.160890)\n"
     ]
    },
    {
     "name": "stderr",
     "output_type": "stream",
     "text": [
      " 71%|███████   | 71/100 [01:31<00:36,  1.26s/it]"
     ]
    },
    {
     "name": "stdout",
     "output_type": "stream",
     "text": [
      "Epoch 70/100\tval_acc 67.2%\n",
      "Epoch 71/100\tIt 0/40\tloss 0.599262 (0.599262)\titer_time 0.207910 (0.207910)\n"
     ]
    },
    {
     "name": "stderr",
     "output_type": "stream",
     "text": [
      " 72%|███████▏  | 72/100 [01:32<00:35,  1.27s/it]"
     ]
    },
    {
     "name": "stdout",
     "output_type": "stream",
     "text": [
      "Epoch 71/100\tval_acc 67.27%\n",
      "Epoch 72/100\tIt 0/40\tloss 0.615647 (0.615647)\titer_time 0.166551 (0.166551)\n"
     ]
    },
    {
     "name": "stderr",
     "output_type": "stream",
     "text": [
      " 73%|███████▎  | 73/100 [01:33<00:33,  1.26s/it]"
     ]
    },
    {
     "name": "stdout",
     "output_type": "stream",
     "text": [
      "Epoch 72/100\tval_acc 67.19%\n",
      "Epoch 73/100\tIt 0/40\tloss 0.526935 (0.526935)\titer_time 0.126176 (0.126176)\n"
     ]
    },
    {
     "name": "stderr",
     "output_type": "stream",
     "text": [
      " 74%|███████▍  | 74/100 [01:35<00:32,  1.24s/it]"
     ]
    },
    {
     "name": "stdout",
     "output_type": "stream",
     "text": [
      "Epoch 73/100\tval_acc 67.34%\n",
      "Epoch 74/100\tIt 0/40\tloss 0.517050 (0.517050)\titer_time 0.196997 (0.196997)\n"
     ]
    },
    {
     "name": "stderr",
     "output_type": "stream",
     "text": [
      " 75%|███████▌  | 75/100 [01:36<00:31,  1.26s/it]"
     ]
    },
    {
     "name": "stdout",
     "output_type": "stream",
     "text": [
      "Epoch 74/100\tval_acc 67.15%\n",
      "Epoch 75/100\tIt 0/40\tloss 0.535559 (0.535559)\titer_time 0.130949 (0.130949)\n"
     ]
    },
    {
     "name": "stderr",
     "output_type": "stream",
     "text": [
      " 76%|███████▌  | 76/100 [01:37<00:30,  1.25s/it]"
     ]
    },
    {
     "name": "stdout",
     "output_type": "stream",
     "text": [
      "Epoch 75/100\tval_acc 67.12%\n",
      "Epoch 76/100\tIt 0/40\tloss 0.503226 (0.503226)\titer_time 0.156032 (0.156032)\n"
     ]
    },
    {
     "name": "stderr",
     "output_type": "stream",
     "text": [
      " 77%|███████▋  | 77/100 [01:38<00:28,  1.25s/it]"
     ]
    },
    {
     "name": "stdout",
     "output_type": "stream",
     "text": [
      "Epoch 76/100\tval_acc 67.25%\n",
      "Epoch 77/100\tIt 0/40\tloss 0.533539 (0.533539)\titer_time 0.148157 (0.148157)\n"
     ]
    },
    {
     "name": "stderr",
     "output_type": "stream",
     "text": [
      " 78%|███████▊  | 78/100 [01:40<00:27,  1.25s/it]"
     ]
    },
    {
     "name": "stdout",
     "output_type": "stream",
     "text": [
      "Epoch 77/100\tval_acc 67.34%\n",
      "Epoch 78/100\tIt 0/40\tloss 0.559428 (0.559428)\titer_time 0.154558 (0.154558)\n"
     ]
    },
    {
     "name": "stderr",
     "output_type": "stream",
     "text": [
      " 79%|███████▉  | 79/100 [01:41<00:26,  1.25s/it]"
     ]
    },
    {
     "name": "stdout",
     "output_type": "stream",
     "text": [
      "Epoch 78/100\tval_acc 67.35%\n",
      "Epoch 79/100\tIt 0/40\tloss 0.616487 (0.616487)\titer_time 0.143486 (0.143486)\n"
     ]
    },
    {
     "name": "stderr",
     "output_type": "stream",
     "text": [
      " 80%|████████  | 80/100 [01:42<00:25,  1.25s/it]"
     ]
    },
    {
     "name": "stdout",
     "output_type": "stream",
     "text": [
      "Epoch 79/100\tval_acc 67.42%\n",
      "Epoch 80/100\tIt 0/40\tloss 0.488645 (0.488645)\titer_time 0.127620 (0.127620)\n"
     ]
    },
    {
     "name": "stderr",
     "output_type": "stream",
     "text": [
      " 81%|████████  | 81/100 [01:43<00:23,  1.26s/it]"
     ]
    },
    {
     "name": "stdout",
     "output_type": "stream",
     "text": [
      "Epoch 80/100\tval_acc 67.38%\n",
      "Epoch 81/100\tIt 0/40\tloss 0.515724 (0.515724)\titer_time 0.170518 (0.170518)\n"
     ]
    },
    {
     "name": "stderr",
     "output_type": "stream",
     "text": [
      " 82%|████████▏ | 82/100 [01:45<00:22,  1.27s/it]"
     ]
    },
    {
     "name": "stdout",
     "output_type": "stream",
     "text": [
      "Epoch 81/100\tval_acc 67.46%\n",
      "Epoch 82/100\tIt 0/40\tloss 0.625685 (0.625685)\titer_time 0.156350 (0.156350)\n"
     ]
    },
    {
     "name": "stderr",
     "output_type": "stream",
     "text": [
      " 83%|████████▎ | 83/100 [01:46<00:21,  1.28s/it]"
     ]
    },
    {
     "name": "stdout",
     "output_type": "stream",
     "text": [
      "Epoch 82/100\tval_acc 67.47%\n",
      "Epoch 83/100\tIt 0/40\tloss 0.552087 (0.552087)\titer_time 0.171879 (0.171879)\n"
     ]
    },
    {
     "name": "stderr",
     "output_type": "stream",
     "text": [
      " 84%|████████▍ | 84/100 [01:47<00:20,  1.30s/it]"
     ]
    },
    {
     "name": "stdout",
     "output_type": "stream",
     "text": [
      "Epoch 83/100\tval_acc 67.41%\n",
      "Epoch 84/100\tIt 0/40\tloss 0.641250 (0.641250)\titer_time 0.172864 (0.172864)\n"
     ]
    },
    {
     "name": "stderr",
     "output_type": "stream",
     "text": [
      " 85%|████████▌ | 85/100 [01:49<00:19,  1.29s/it]"
     ]
    },
    {
     "name": "stdout",
     "output_type": "stream",
     "text": [
      "Epoch 84/100\tval_acc 67.41%\n",
      "Epoch 85/100\tIt 0/40\tloss 0.424724 (0.424724)\titer_time 0.169298 (0.169298)\n"
     ]
    },
    {
     "name": "stderr",
     "output_type": "stream",
     "text": [
      " 86%|████████▌ | 86/100 [01:50<00:18,  1.31s/it]"
     ]
    },
    {
     "name": "stdout",
     "output_type": "stream",
     "text": [
      "Epoch 85/100\tval_acc 67.44%\n",
      "Epoch 86/100\tIt 0/40\tloss 0.629648 (0.629648)\titer_time 0.210585 (0.210585)\n"
     ]
    },
    {
     "name": "stderr",
     "output_type": "stream",
     "text": [
      " 87%|████████▋ | 87/100 [01:51<00:17,  1.34s/it]"
     ]
    },
    {
     "name": "stdout",
     "output_type": "stream",
     "text": [
      "Epoch 86/100\tval_acc 67.42%\n",
      "Epoch 87/100\tIt 0/40\tloss 0.625604 (0.625604)\titer_time 0.170725 (0.170725)\n"
     ]
    },
    {
     "name": "stderr",
     "output_type": "stream",
     "text": [
      " 88%|████████▊ | 88/100 [01:53<00:15,  1.31s/it]"
     ]
    },
    {
     "name": "stdout",
     "output_type": "stream",
     "text": [
      "Epoch 87/100\tval_acc 67.41%\n",
      "Epoch 88/100\tIt 0/40\tloss 0.661369 (0.661369)\titer_time 0.131286 (0.131286)\n"
     ]
    },
    {
     "name": "stderr",
     "output_type": "stream",
     "text": [
      " 89%|████████▉ | 89/100 [01:54<00:14,  1.30s/it]"
     ]
    },
    {
     "name": "stdout",
     "output_type": "stream",
     "text": [
      "Epoch 88/100\tval_acc 67.49%\n",
      "Epoch 89/100\tIt 0/40\tloss 0.514093 (0.514093)\titer_time 0.180659 (0.180659)\n"
     ]
    },
    {
     "name": "stderr",
     "output_type": "stream",
     "text": [
      " 90%|█████████ | 90/100 [01:55<00:12,  1.30s/it]"
     ]
    },
    {
     "name": "stdout",
     "output_type": "stream",
     "text": [
      "Epoch 89/100\tval_acc 67.47%\n",
      "Epoch 90/100\tIt 0/40\tloss 0.544140 (0.544140)\titer_time 0.201684 (0.201684)\n"
     ]
    },
    {
     "name": "stderr",
     "output_type": "stream",
     "text": [
      " 91%|█████████ | 91/100 [01:56<00:11,  1.29s/it]"
     ]
    },
    {
     "name": "stdout",
     "output_type": "stream",
     "text": [
      "Epoch 90/100\tval_acc 67.46%\n",
      "Epoch 91/100\tIt 0/40\tloss 0.461486 (0.461486)\titer_time 0.162254 (0.162254)\n"
     ]
    },
    {
     "name": "stderr",
     "output_type": "stream",
     "text": [
      " 92%|█████████▏| 92/100 [01:58<00:10,  1.29s/it]"
     ]
    },
    {
     "name": "stdout",
     "output_type": "stream",
     "text": [
      "Epoch 91/100\tval_acc 67.56%\n",
      "Epoch 92/100\tIt 0/40\tloss 0.594819 (0.594819)\titer_time 0.130205 (0.130205)\n"
     ]
    },
    {
     "name": "stderr",
     "output_type": "stream",
     "text": [
      " 93%|█████████▎| 93/100 [01:59<00:08,  1.27s/it]"
     ]
    },
    {
     "name": "stdout",
     "output_type": "stream",
     "text": [
      "Epoch 92/100\tval_acc 67.54%\n",
      "Epoch 93/100\tIt 0/40\tloss 0.631848 (0.631848)\titer_time 0.133519 (0.133519)\n"
     ]
    },
    {
     "name": "stderr",
     "output_type": "stream",
     "text": [
      " 94%|█████████▍| 94/100 [02:00<00:07,  1.28s/it]"
     ]
    },
    {
     "name": "stdout",
     "output_type": "stream",
     "text": [
      "Epoch 93/100\tval_acc 67.53%\n",
      "Epoch 94/100\tIt 0/40\tloss 0.467117 (0.467117)\titer_time 0.159647 (0.159647)\n"
     ]
    },
    {
     "name": "stderr",
     "output_type": "stream",
     "text": [
      " 95%|█████████▌| 95/100 [02:02<00:06,  1.28s/it]"
     ]
    },
    {
     "name": "stdout",
     "output_type": "stream",
     "text": [
      "Epoch 94/100\tval_acc 67.54%\n",
      "Epoch 95/100\tIt 0/40\tloss 0.410187 (0.410187)\titer_time 0.160288 (0.160288)\n"
     ]
    },
    {
     "name": "stderr",
     "output_type": "stream",
     "text": [
      " 96%|█████████▌| 96/100 [02:03<00:05,  1.27s/it]"
     ]
    },
    {
     "name": "stdout",
     "output_type": "stream",
     "text": [
      "Epoch 95/100\tval_acc 67.44%\n",
      "Epoch 96/100\tIt 0/40\tloss 0.446972 (0.446972)\titer_time 0.134611 (0.134611)\n"
     ]
    },
    {
     "name": "stderr",
     "output_type": "stream",
     "text": [
      " 97%|█████████▋| 97/100 [02:04<00:03,  1.27s/it]"
     ]
    },
    {
     "name": "stdout",
     "output_type": "stream",
     "text": [
      "Epoch 96/100\tval_acc 67.46%\n",
      "Epoch 97/100\tIt 0/40\tloss 0.482620 (0.482620)\titer_time 0.161258 (0.161258)\n"
     ]
    },
    {
     "name": "stderr",
     "output_type": "stream",
     "text": [
      " 98%|█████████▊| 98/100 [02:05<00:02,  1.27s/it]"
     ]
    },
    {
     "name": "stdout",
     "output_type": "stream",
     "text": [
      "Epoch 97/100\tval_acc 67.42%\n",
      "Epoch 98/100\tIt 0/40\tloss 0.446620 (0.446620)\titer_time 0.173109 (0.173109)\n"
     ]
    },
    {
     "name": "stderr",
     "output_type": "stream",
     "text": [
      " 99%|█████████▉| 99/100 [02:07<00:01,  1.27s/it]"
     ]
    },
    {
     "name": "stdout",
     "output_type": "stream",
     "text": [
      "Epoch 98/100\tval_acc 67.49%\n",
      "Epoch 99/100\tIt 0/40\tloss 0.483180 (0.483180)\titer_time 0.170703 (0.170703)\n"
     ]
    },
    {
     "name": "stderr",
     "output_type": "stream",
     "text": [
      "100%|██████████| 100/100 [02:08<00:00,  1.28s/it]"
     ]
    },
    {
     "name": "stdout",
     "output_type": "stream",
     "text": [
      "Epoch 99/100\tval_acc 67.46%\n",
      "Best validation accuracy 0.675625\n"
     ]
    },
    {
     "name": "stderr",
     "output_type": "stream",
     "text": [
      "\n"
     ]
    }
   ],
   "source": [
    "opt = parse_option()\n",
    "\n",
    "opt.gpu=opt.gpus[0]\n",
    "torch.cuda.set_device(opt.gpus[0])\n",
    "torch.backends.cudnn.deterministic = True\n",
    "torch.backends.cudnn.benchmark = True\n",
    "\n",
    "encoder.eval()\n",
    "train_loader, val_loader = get_data_loaders(opt)\n",
    "\n",
    "with torch.no_grad():\n",
    "    sample, _ = train_loader.dataset.dataset[0]\n",
    "    eval_numel = encoder(sample.unsqueeze(0).to(opt.gpus[0]), layer_index=opt.layer_index).numel()\n",
    "print(f'Feature dimension: {eval_numel}')\n",
    "\n",
    "\n",
    "classifier = nn.Linear(eval_numel, 10).to(opt.gpus[0]) if not USE_MOD_LBL else nn.Linear( eval_numel + len(labels_2_keep) + 1,10).to(opt.gpus[0])\n",
    "\n",
    "optim = torch.optim.Adam(classifier.parameters(), lr=opt.lr, betas=(0.5, 0.999))\n",
    "scheduler = torch.optim.lr_scheduler.MultiStepLR(optim, gamma=opt.lr_decay_rate,\n",
    "                                                 milestones=opt.lr_decay_epochs)\n",
    "\n",
    "val_accs = []\n",
    "loss_meter = AverageMeter('loss')\n",
    "it_time_meter = AverageMeter('iter_time')\n",
    "for epoch in tqdm(range(opt.epochs)):\n",
    "    loss_meter.reset()\n",
    "    it_time_meter.reset()\n",
    "    t0 = time.time()\n",
    "    for ii, (images, labels_mod, labels) in enumerate(train_loader):\n",
    "        optim.zero_grad()\n",
    "        with torch.no_grad():\n",
    "            feats = encoder(images.to(opt.gpus[0]), layer_index=opt.layer_index).flatten(1)\n",
    "\n",
    "        if USE_MOD_LBL:\n",
    "            logits = classifier(torch.cat( (feats, torch.nn.functional.one_hot(labels_mod.to(opt.gpus[0]), num_classes=len(labels_2_keep)+1 )),dim=1))\n",
    "        else:\n",
    "            logits = classifier(feats)\n",
    "        \n",
    "        loss = F.cross_entropy(logits, labels.to(opt.gpus[0]))\n",
    "        loss_meter.update(loss, images.shape[0])\n",
    "        loss.backward()\n",
    "        optim.step()\n",
    "        it_time_meter.update(time.time() - t0)\n",
    "        if ii % opt.log_interval == 0:\n",
    "            print(f\"Epoch {epoch}/{opt.epochs}\\tIt {ii}/{len(train_loader)}\\t{loss_meter}\\t{it_time_meter}\")\n",
    "        t0 = time.time()\n",
    "    scheduler.step()\n",
    "    val_acc = validate_comb(opt,encoder,classifier,val_loader) if USE_MOD_LBL else validate(opt, encoder, classifier, val_loader) \n",
    "    val_accs.append(val_acc)\n",
    "    print(f\"Epoch {epoch}/{opt.epochs}\\tval_acc {val_acc*100:.4g}%\")\n",
    "print(f\"Best validation accuracy {max(val_accs)}\")"
   ]
  },
  {
   "cell_type": "code",
   "execution_count": null,
   "id": "1517052b-c1c3-4859-ae38-0754015ba0fb",
   "metadata": {},
   "outputs": [],
   "source": []
  },
  {
   "cell_type": "code",
   "execution_count": null,
   "id": "6d87f65e-6345-4adb-a127-8e7f1b441ec9",
   "metadata": {},
   "outputs": [],
   "source": []
  }
 ],
 "metadata": {
  "kernelspec": {
   "display_name": "usmatching_env",
   "language": "python",
   "name": "usmatching_env"
  },
  "language_info": {
   "codemirror_mode": {
    "name": "ipython",
    "version": 3
   },
   "file_extension": ".py",
   "mimetype": "text/x-python",
   "name": "python",
   "nbconvert_exporter": "python",
   "pygments_lexer": "ipython3",
   "version": "3.9.18"
  }
 },
 "nbformat": 4,
 "nbformat_minor": 5
}
