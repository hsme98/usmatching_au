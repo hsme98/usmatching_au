{
 "cells": [
  {
   "cell_type": "code",
   "execution_count": 1,
   "id": "b222518e-b8d4-44f7-8759-e74ef01e414c",
   "metadata": {},
   "outputs": [],
   "source": [
    "import os\n",
    "import time\n",
    "import argparse\n",
    "\n",
    "import torchvision\n",
    "import torch\n",
    "import torch.nn as nn\n",
    "\n",
    "from util import AverageMeter\n",
    "from encoder import SmallAlexNet\n",
    "from align_uniform import align_loss, uniform_loss_prelog\n",
    "from tqdm import tqdm\n",
    "from collections import defaultdict\n",
    "import copy\n",
    "\n",
    "import matplotlib.pyplot as plt\n",
    "\n",
    "\n",
    "class TwoAugUnsupervisedDatasetLbl(torch.utils.data.Dataset):\n",
    "    r\"\"\"Returns two augmentation and no labels.\"\"\"\n",
    "\n",
    "    def __init__(self, dataset, transform, lblmap=None):\n",
    "        self.dataset = dataset\n",
    "        self.transform = transform\n",
    "        self.lblmap = copy.deepcopy(lblmap)\n",
    "\n",
    "    def __getitem__(self, index):\n",
    "        image, lbl = self.dataset[index]\n",
    "        lbl2return = lbl if self.lblmap is None else self.lblmap[lbl]\n",
    "        return self.transform(image), self.transform(image), lbl2return\n",
    "\n",
    "    def __len__(self):\n",
    "        return len(self.dataset)\n",
    "\n",
    "def parse_option():\n",
    "    parser = argparse.ArgumentParser('STL-10 Representation Learning with Alignment and Uniformity Losses')\n",
    "\n",
    "    parser.add_argument('--align_w', type=float, default=1, help='Alignment loss weight')\n",
    "    parser.add_argument('--unif_w', type=float, default=1, help='Uniformity loss weight')\n",
    "    parser.add_argument('--align_alpha', type=float, default=2, help='alpha in alignment loss')\n",
    "    parser.add_argument('--unif_t', type=float, default=2, help='t in uniformity loss')\n",
    "\n",
    "    parser.add_argument('--batch_size', type=int, default=256, help='Batch size')\n",
    "    parser.add_argument('--epochs', type=int, default=200, help='Number of training epochs')\n",
    "    parser.add_argument('--iter', type=int, default=0, help='Number of training epochs')\n",
    "    parser.add_argument('--lr', type=float, default=None,\n",
    "                        help='Learning rate. Default is linear scaling 0.12 per 256 batch size')\n",
    "    parser.add_argument('--lr_decay_rate', type=float, default=0.1, help='Learning rate decay rate')\n",
    "    parser.add_argument('--lr_decay_epochs', default=[155, 170, 185], nargs='*', type=int,\n",
    "                        help='When to decay learning rate')\n",
    "    parser.add_argument('--momentum', type=float, default=0.9, help='SGD momentum')\n",
    "    parser.add_argument('--weight_decay', type=float, default=1e-4, help='L2 weight decay')\n",
    "    parser.add_argument('--feat_dim', type=int, default=128, help='Feature dimensionality')\n",
    "\n",
    "    parser.add_argument('--num_workers', type=int, default=4, help='Number of data loader workers to use')\n",
    "    parser.add_argument('--log_interval', type=int, default=40, help='Number of iterations between logs')\n",
    "    parser.add_argument('--gpus', default=[0], nargs='*', type=int,\n",
    "                        help='List of GPU indices to use, e.g., --gpus 0 1 2 3')\n",
    "\n",
    "    parser.add_argument('--data_folder', type=str, default='./data', help='Path to data')\n",
    "    parser.add_argument('--result_folder', type=str, default='./results', help='Base directory to save model')\n",
    "\n",
    "    opt = parser.parse_args(\"\")\n",
    "\n",
    "    if opt.lr is None:\n",
    "        opt.lr = 0.12 * (opt.batch_size / 256)\n",
    "\n",
    "    opt.gpus = list(map(lambda x: torch.device('cuda', x), opt.gpus))\n",
    "\n",
    "    opt.save_folder = os.path.join(\n",
    "        opt.result_folder,\n",
    "        f\"base_200_4_sideinformation_align{opt.align_w:g}alpha{opt.align_alpha:g}_unif{opt.unif_w:g}t{opt.unif_t:g}_iter{opt.iter}\"\n",
    "    )\n",
    "    os.makedirs(opt.save_folder, exist_ok=True)\n",
    "\n",
    "    return opt\n",
    "\n",
    "\n",
    "opt = parse_option()"
   ]
  },
  {
   "cell_type": "code",
   "execution_count": 2,
   "id": "d516e1e3-c712-47e8-8915-724ce21f0f38",
   "metadata": {},
   "outputs": [],
   "source": [
    "transform = torchvision.transforms.Compose([\n",
    "        torchvision.transforms.RandomResizedCrop(64, scale=(0.08, 1)),\n",
    "        torchvision.transforms.RandomHorizontalFlip(),\n",
    "        torchvision.transforms.ColorJitter(0.4, 0.4, 0.4, 0.4),\n",
    "        torchvision.transforms.RandomGrayscale(p=0.2),\n",
    "        torchvision.transforms.ToTensor(),\n",
    "        torchvision.transforms.Normalize(\n",
    "            (0.44087801806139126, 0.42790631331699347, 0.3867879370752931),\n",
    "            (0.26826768628079806, 0.2610450402318512, 0.26866836876860795),\n",
    "        ),\n",
    "    ])\n",
    "\n",
    "old_lbls = list(range(10))\n",
    "labels_2_keep = [0,1]\n",
    "# labels_2_keep = [0,1,2,3]\n",
    "\n",
    "old2new = {}\n",
    "count = 0\n",
    "for old_lbl in old_lbls:\n",
    "    if old_lbl in labels_2_keep: \n",
    "        old2new[old_lbl] = count\n",
    "        count += 1\n",
    "\n",
    "for old_lbl in old_lbls:\n",
    "    if old_lbl not in labels_2_keep: \n",
    "        old2new[old_lbl] = count\n",
    "\n",
    "new_lbls = list(range(count+1))"
   ]
  },
  {
   "cell_type": "code",
   "execution_count": 3,
   "id": "da97cad4-1401-46e3-96c9-aad3f6fbedff",
   "metadata": {},
   "outputs": [
    {
     "name": "stdout",
     "output_type": "stream",
     "text": [
      "Optimize: 1 * loss_align(alpha=2) + 1 * loss_uniform(t=2)\n",
      "Files already downloaded and verified\n",
      "Epoch 0/200\tIt 0/20\talign_loss 1.330336 (1.330336)\tuniform_loss -2.787965 (-2.787965)\ttotal_loss -1.457629 (-1.457629)\titer_time 7.948113 (7.948113)\n",
      "Epoch 1/200\tIt 0/20\talign_loss 1.326892 (1.326892)\tuniform_loss -3.396714 (-3.396714)\ttotal_loss -2.069822 (-2.069822)\titer_time 0.678991 (0.678991)\n",
      "Epoch 2/200\tIt 0/20\talign_loss 1.304813 (1.304813)\tuniform_loss -3.509347 (-3.509347)\ttotal_loss -2.204534 (-2.204534)\titer_time 0.672780 (0.672780)\n",
      "Epoch 3/200\tIt 0/20\talign_loss 1.206030 (1.206030)\tuniform_loss -3.521413 (-3.521413)\ttotal_loss -2.315383 (-2.315383)\titer_time 0.646332 (0.646332)\n",
      "Epoch 4/200\tIt 0/20\talign_loss 1.175633 (1.175633)\tuniform_loss -3.512029 (-3.512029)\ttotal_loss -2.336397 (-2.336397)\titer_time 0.645188 (0.645188)\n",
      "Epoch 5/200\tIt 0/20\talign_loss 1.106644 (1.106644)\tuniform_loss -3.554926 (-3.554926)\ttotal_loss -2.448282 (-2.448282)\titer_time 0.671833 (0.671833)\n",
      "Epoch 6/200\tIt 0/20\talign_loss 1.154512 (1.154512)\tuniform_loss -3.565031 (-3.565031)\ttotal_loss -2.410519 (-2.410519)\titer_time 0.663586 (0.663586)\n",
      "Epoch 7/200\tIt 0/20\talign_loss 0.989724 (0.989724)\tuniform_loss -3.552015 (-3.552015)\ttotal_loss -2.562290 (-2.562290)\titer_time 0.645462 (0.645462)\n",
      "Epoch 8/200\tIt 0/20\talign_loss 1.019681 (1.019681)\tuniform_loss -3.562383 (-3.562383)\ttotal_loss -2.542702 (-2.542702)\titer_time 0.657078 (0.657078)\n",
      "Epoch 9/200\tIt 0/20\talign_loss 1.075572 (1.075572)\tuniform_loss -3.581672 (-3.581672)\ttotal_loss -2.506100 (-2.506100)\titer_time 0.644933 (0.644933)\n",
      "Epoch 10/200\tIt 0/20\talign_loss 0.982765 (0.982765)\tuniform_loss -3.588261 (-3.588261)\ttotal_loss -2.605496 (-2.605496)\titer_time 0.676973 (0.676973)\n",
      "Epoch 11/200\tIt 0/20\talign_loss 0.975081 (0.975081)\tuniform_loss -3.588545 (-3.588545)\ttotal_loss -2.613464 (-2.613464)\titer_time 0.672387 (0.672387)\n",
      "Epoch 12/200\tIt 0/20\talign_loss 0.918832 (0.918832)\tuniform_loss -3.598374 (-3.598374)\ttotal_loss -2.679542 (-2.679542)\titer_time 0.659568 (0.659568)\n",
      "Epoch 13/200\tIt 0/20\talign_loss 0.985036 (0.985036)\tuniform_loss -3.613834 (-3.613834)\ttotal_loss -2.628798 (-2.628798)\titer_time 0.651055 (0.651055)\n",
      "Epoch 14/200\tIt 0/20\talign_loss 0.950136 (0.950136)\tuniform_loss -3.578197 (-3.578197)\ttotal_loss -2.628061 (-2.628061)\titer_time 0.668303 (0.668303)\n",
      "Epoch 15/200\tIt 0/20\talign_loss 0.913713 (0.913713)\tuniform_loss -3.616863 (-3.616863)\ttotal_loss -2.703150 (-2.703150)\titer_time 0.647781 (0.647781)\n",
      "Epoch 16/200\tIt 0/20\talign_loss 0.924412 (0.924412)\tuniform_loss -3.604720 (-3.604720)\ttotal_loss -2.680308 (-2.680308)\titer_time 0.668673 (0.668673)\n",
      "Epoch 17/200\tIt 0/20\talign_loss 0.928335 (0.928335)\tuniform_loss -3.606494 (-3.606494)\ttotal_loss -2.678159 (-2.678159)\titer_time 0.673975 (0.673975)\n",
      "Epoch 18/200\tIt 0/20\talign_loss 0.888088 (0.888088)\tuniform_loss -3.601864 (-3.601864)\ttotal_loss -2.713776 (-2.713776)\titer_time 0.673059 (0.673059)\n",
      "Epoch 19/200\tIt 0/20\talign_loss 0.772703 (0.772703)\tuniform_loss -3.576933 (-3.576933)\ttotal_loss -2.804230 (-2.804230)\titer_time 0.667201 (0.667201)\n",
      "Epoch 20/200\tIt 0/20\talign_loss 0.908967 (0.908967)\tuniform_loss -3.582070 (-3.582070)\ttotal_loss -2.673103 (-2.673103)\titer_time 0.656130 (0.656130)\n",
      "Epoch 21/200\tIt 0/20\talign_loss 0.862426 (0.862426)\tuniform_loss -3.637192 (-3.637192)\ttotal_loss -2.774765 (-2.774765)\titer_time 0.672260 (0.672260)\n",
      "Epoch 22/200\tIt 0/20\talign_loss 0.796673 (0.796673)\tuniform_loss -3.610335 (-3.610335)\ttotal_loss -2.813662 (-2.813662)\titer_time 0.663420 (0.663420)\n",
      "Epoch 23/200\tIt 0/20\talign_loss 0.869073 (0.869073)\tuniform_loss -3.635323 (-3.635323)\ttotal_loss -2.766250 (-2.766250)\titer_time 0.682709 (0.682709)\n",
      "Epoch 24/200\tIt 0/20\talign_loss 0.878663 (0.878663)\tuniform_loss -3.641870 (-3.641870)\ttotal_loss -2.763207 (-2.763207)\titer_time 0.647408 (0.647408)\n",
      "Epoch 25/200\tIt 0/20\talign_loss 0.850598 (0.850598)\tuniform_loss -3.612036 (-3.612036)\ttotal_loss -2.761438 (-2.761438)\titer_time 0.641407 (0.641407)\n",
      "Epoch 26/200\tIt 0/20\talign_loss 0.824260 (0.824260)\tuniform_loss -3.616607 (-3.616607)\ttotal_loss -2.792347 (-2.792347)\titer_time 0.644088 (0.644088)\n",
      "Epoch 27/200\tIt 0/20\talign_loss 0.837966 (0.837966)\tuniform_loss -3.647351 (-3.647351)\ttotal_loss -2.809385 (-2.809385)\titer_time 0.650996 (0.650996)\n",
      "Epoch 28/200\tIt 0/20\talign_loss 0.836413 (0.836413)\tuniform_loss -3.630048 (-3.630048)\ttotal_loss -2.793635 (-2.793635)\titer_time 0.664268 (0.664268)\n",
      "Epoch 29/200\tIt 0/20\talign_loss 0.777350 (0.777350)\tuniform_loss -3.616817 (-3.616817)\ttotal_loss -2.839468 (-2.839468)\titer_time 0.672652 (0.672652)\n",
      "Epoch 30/200\tIt 0/20\talign_loss 0.793101 (0.793101)\tuniform_loss -3.595710 (-3.595710)\ttotal_loss -2.802609 (-2.802609)\titer_time 0.668216 (0.668216)\n",
      "Epoch 31/200\tIt 0/20\talign_loss 0.859640 (0.859640)\tuniform_loss -3.648601 (-3.648601)\ttotal_loss -2.788961 (-2.788961)\titer_time 0.666073 (0.666073)\n",
      "Epoch 32/200\tIt 0/20\talign_loss 0.809139 (0.809139)\tuniform_loss -3.631724 (-3.631724)\ttotal_loss -2.822585 (-2.822585)\titer_time 0.644110 (0.644110)\n",
      "Epoch 33/200\tIt 0/20\talign_loss 0.792111 (0.792111)\tuniform_loss -3.644081 (-3.644081)\ttotal_loss -2.851969 (-2.851969)\titer_time 0.833959 (0.833959)\n",
      "Epoch 34/200\tIt 0/20\talign_loss 0.780092 (0.780092)\tuniform_loss -3.621781 (-3.621781)\ttotal_loss -2.841690 (-2.841690)\titer_time 0.657181 (0.657181)\n",
      "Epoch 35/200\tIt 0/20\talign_loss 0.783957 (0.783957)\tuniform_loss -3.645671 (-3.645671)\ttotal_loss -2.861713 (-2.861713)\titer_time 0.667646 (0.667646)\n",
      "Epoch 36/200\tIt 0/20\talign_loss 0.698139 (0.698139)\tuniform_loss -3.619590 (-3.619590)\ttotal_loss -2.921451 (-2.921451)\titer_time 0.670277 (0.670277)\n",
      "Epoch 37/200\tIt 0/20\talign_loss 0.862045 (0.862045)\tuniform_loss -3.657476 (-3.657476)\ttotal_loss -2.795431 (-2.795431)\titer_time 0.677957 (0.677957)\n",
      "Epoch 38/200\tIt 0/20\talign_loss 0.737082 (0.737082)\tuniform_loss -3.631069 (-3.631069)\ttotal_loss -2.893986 (-2.893986)\titer_time 0.649515 (0.649515)\n",
      "Epoch 39/200\tIt 0/20\talign_loss 0.812415 (0.812415)\tuniform_loss -3.629512 (-3.629512)\ttotal_loss -2.817096 (-2.817096)\titer_time 0.650408 (0.650408)\n",
      "Epoch 40/200\tIt 0/20\talign_loss 0.836191 (0.836191)\tuniform_loss -3.650609 (-3.650609)\ttotal_loss -2.814418 (-2.814418)\titer_time 0.661526 (0.661526)\n",
      "Epoch 41/200\tIt 0/20\talign_loss 0.766337 (0.766337)\tuniform_loss -3.639173 (-3.639173)\ttotal_loss -2.872837 (-2.872837)\titer_time 0.668896 (0.668896)\n",
      "Epoch 42/200\tIt 0/20\talign_loss 0.728896 (0.728896)\tuniform_loss -3.662228 (-3.662228)\ttotal_loss -2.933333 (-2.933333)\titer_time 0.677124 (0.677124)\n",
      "Epoch 43/200\tIt 0/20\talign_loss 0.767429 (0.767429)\tuniform_loss -3.630052 (-3.630052)\ttotal_loss -2.862623 (-2.862623)\titer_time 0.674760 (0.674760)\n",
      "Epoch 44/200\tIt 0/20\talign_loss 0.769790 (0.769790)\tuniform_loss -3.659275 (-3.659275)\ttotal_loss -2.889485 (-2.889485)\titer_time 0.642114 (0.642114)\n",
      "Epoch 45/200\tIt 0/20\talign_loss 0.786862 (0.786862)\tuniform_loss -3.612408 (-3.612408)\ttotal_loss -2.825545 (-2.825545)\titer_time 0.671230 (0.671230)\n",
      "Epoch 46/200\tIt 0/20\talign_loss 0.792684 (0.792684)\tuniform_loss -3.653276 (-3.653276)\ttotal_loss -2.860591 (-2.860591)\titer_time 0.648561 (0.648561)\n",
      "Epoch 47/200\tIt 0/20\talign_loss 0.808890 (0.808890)\tuniform_loss -3.679368 (-3.679368)\ttotal_loss -2.870478 (-2.870478)\titer_time 0.680065 (0.680065)\n",
      "Epoch 48/200\tIt 0/20\talign_loss 0.755042 (0.755042)\tuniform_loss -3.630505 (-3.630505)\ttotal_loss -2.875463 (-2.875463)\titer_time 0.658147 (0.658147)\n",
      "Epoch 49/200\tIt 0/20\talign_loss 0.742055 (0.742055)\tuniform_loss -3.653905 (-3.653905)\ttotal_loss -2.911849 (-2.911849)\titer_time 0.679734 (0.679734)\n",
      "Epoch 50/200\tIt 0/20\talign_loss 0.756281 (0.756281)\tuniform_loss -3.673437 (-3.673437)\ttotal_loss -2.917155 (-2.917155)\titer_time 0.646601 (0.646601)\n",
      "Epoch 51/200\tIt 0/20\talign_loss 0.691810 (0.691810)\tuniform_loss -3.636924 (-3.636924)\ttotal_loss -2.945113 (-2.945113)\titer_time 0.675225 (0.675225)\n",
      "Epoch 52/200\tIt 0/20\talign_loss 0.777703 (0.777703)\tuniform_loss -3.670287 (-3.670287)\ttotal_loss -2.892584 (-2.892584)\titer_time 0.641467 (0.641467)\n",
      "Epoch 53/200\tIt 0/20\talign_loss 0.741452 (0.741452)\tuniform_loss -3.655199 (-3.655199)\ttotal_loss -2.913747 (-2.913747)\titer_time 0.657284 (0.657284)\n",
      "Epoch 54/200\tIt 0/20\talign_loss 0.735129 (0.735129)\tuniform_loss -3.677149 (-3.677149)\ttotal_loss -2.942020 (-2.942020)\titer_time 0.672861 (0.672861)\n",
      "Epoch 55/200\tIt 0/20\talign_loss 0.715561 (0.715561)\tuniform_loss -3.638781 (-3.638781)\ttotal_loss -2.923220 (-2.923220)\titer_time 0.666182 (0.666182)\n",
      "Epoch 56/200\tIt 0/20\talign_loss 0.714203 (0.714203)\tuniform_loss -3.637981 (-3.637981)\ttotal_loss -2.923778 (-2.923778)\titer_time 0.675060 (0.675060)\n",
      "Epoch 57/200\tIt 0/20\talign_loss 0.746243 (0.746243)\tuniform_loss -3.658903 (-3.658903)\ttotal_loss -2.912660 (-2.912660)\titer_time 0.672040 (0.672040)\n",
      "Epoch 58/200\tIt 0/20\talign_loss 0.732439 (0.732439)\tuniform_loss -3.662611 (-3.662611)\ttotal_loss -2.930172 (-2.930172)\titer_time 0.651811 (0.651811)\n",
      "Epoch 59/200\tIt 0/20\talign_loss 0.753976 (0.753976)\tuniform_loss -3.677374 (-3.677374)\ttotal_loss -2.923398 (-2.923398)\titer_time 0.645509 (0.645509)\n",
      "Epoch 60/200\tIt 0/20\talign_loss 0.681292 (0.681292)\tuniform_loss -3.658849 (-3.658849)\ttotal_loss -2.977558 (-2.977558)\titer_time 0.682897 (0.682897)\n",
      "Epoch 61/200\tIt 0/20\talign_loss 0.754977 (0.754977)\tuniform_loss -3.682347 (-3.682347)\ttotal_loss -2.927369 (-2.927369)\titer_time 0.677108 (0.677108)\n",
      "Epoch 62/200\tIt 0/20\talign_loss 0.686954 (0.686954)\tuniform_loss -3.676059 (-3.676059)\ttotal_loss -2.989104 (-2.989104)\titer_time 0.662581 (0.662581)\n",
      "Epoch 63/200\tIt 0/20\talign_loss 0.816846 (0.816846)\tuniform_loss -3.699580 (-3.699580)\ttotal_loss -2.882734 (-2.882734)\titer_time 0.670520 (0.670520)\n",
      "Epoch 64/200\tIt 0/20\talign_loss 0.724570 (0.724570)\tuniform_loss -3.667576 (-3.667576)\ttotal_loss -2.943006 (-2.943006)\titer_time 0.664678 (0.664678)\n",
      "Epoch 65/200\tIt 0/20\talign_loss 0.764138 (0.764138)\tuniform_loss -3.681484 (-3.681484)\ttotal_loss -2.917346 (-2.917346)\titer_time 0.675659 (0.675659)\n",
      "Epoch 66/200\tIt 0/20\talign_loss 0.686028 (0.686028)\tuniform_loss -3.661368 (-3.661368)\ttotal_loss -2.975340 (-2.975340)\titer_time 0.648058 (0.648058)\n",
      "Epoch 67/200\tIt 0/20\talign_loss 0.752208 (0.752208)\tuniform_loss -3.698542 (-3.698542)\ttotal_loss -2.946334 (-2.946334)\titer_time 0.665905 (0.665905)\n",
      "Epoch 68/200\tIt 0/20\talign_loss 0.724335 (0.724335)\tuniform_loss -3.676998 (-3.676998)\ttotal_loss -2.952663 (-2.952663)\titer_time 0.642693 (0.642693)\n",
      "Epoch 69/200\tIt 0/20\talign_loss 0.682272 (0.682272)\tuniform_loss -3.668124 (-3.668124)\ttotal_loss -2.985852 (-2.985852)\titer_time 0.672922 (0.672922)\n",
      "Epoch 70/200\tIt 0/20\talign_loss 0.753906 (0.753906)\tuniform_loss -3.671973 (-3.671973)\ttotal_loss -2.918067 (-2.918067)\titer_time 0.674620 (0.674620)\n",
      "Epoch 71/200\tIt 0/20\talign_loss 0.720259 (0.720259)\tuniform_loss -3.657568 (-3.657568)\ttotal_loss -2.937310 (-2.937310)\titer_time 0.673940 (0.673940)\n",
      "Epoch 72/200\tIt 0/20\talign_loss 0.708392 (0.708392)\tuniform_loss -3.644833 (-3.644833)\ttotal_loss -2.936441 (-2.936441)\titer_time 0.662044 (0.662044)\n",
      "Epoch 73/200\tIt 0/20\talign_loss 0.718980 (0.718980)\tuniform_loss -3.674628 (-3.674628)\ttotal_loss -2.955648 (-2.955648)\titer_time 0.655487 (0.655487)\n",
      "Epoch 74/200\tIt 0/20\talign_loss 0.672991 (0.672991)\tuniform_loss -3.665738 (-3.665738)\ttotal_loss -2.992747 (-2.992747)\titer_time 0.639284 (0.639284)\n",
      "Epoch 75/200\tIt 0/20\talign_loss 0.688521 (0.688521)\tuniform_loss -3.672418 (-3.672418)\ttotal_loss -2.983897 (-2.983897)\titer_time 0.677757 (0.677757)\n",
      "Epoch 76/200\tIt 0/20\talign_loss 0.690774 (0.690774)\tuniform_loss -3.679540 (-3.679540)\ttotal_loss -2.988766 (-2.988766)\titer_time 0.666973 (0.666973)\n",
      "Epoch 77/200\tIt 0/20\talign_loss 0.683448 (0.683448)\tuniform_loss -3.668319 (-3.668319)\ttotal_loss -2.984871 (-2.984871)\titer_time 0.647528 (0.647528)\n",
      "Epoch 78/200\tIt 0/20\talign_loss 0.705910 (0.705910)\tuniform_loss -3.677459 (-3.677459)\ttotal_loss -2.971549 (-2.971549)\titer_time 0.668353 (0.668353)\n",
      "Epoch 79/200\tIt 0/20\talign_loss 0.698131 (0.698131)\tuniform_loss -3.660432 (-3.660432)\ttotal_loss -2.962302 (-2.962302)\titer_time 0.665573 (0.665573)\n",
      "Epoch 80/200\tIt 0/20\talign_loss 0.679208 (0.679208)\tuniform_loss -3.668881 (-3.668881)\ttotal_loss -2.989673 (-2.989673)\titer_time 0.678217 (0.678217)\n",
      "Epoch 81/200\tIt 0/20\talign_loss 0.708717 (0.708717)\tuniform_loss -3.689175 (-3.689175)\ttotal_loss -2.980457 (-2.980457)\titer_time 0.649427 (0.649427)\n",
      "Epoch 82/200\tIt 0/20\talign_loss 0.742531 (0.742531)\tuniform_loss -3.694056 (-3.694056)\ttotal_loss -2.951525 (-2.951525)\titer_time 0.659111 (0.659111)\n",
      "Epoch 83/200\tIt 0/20\talign_loss 0.681441 (0.681441)\tuniform_loss -3.668191 (-3.668191)\ttotal_loss -2.986750 (-2.986750)\titer_time 0.678553 (0.678553)\n",
      "Epoch 84/200\tIt 0/20\talign_loss 0.639936 (0.639936)\tuniform_loss -3.659334 (-3.659334)\ttotal_loss -3.019398 (-3.019398)\titer_time 0.673109 (0.673109)\n",
      "Epoch 85/200\tIt 0/20\talign_loss 0.683602 (0.683602)\tuniform_loss -3.674463 (-3.674463)\ttotal_loss -2.990861 (-2.990861)\titer_time 0.680453 (0.680453)\n",
      "Epoch 86/200\tIt 0/20\talign_loss 0.677224 (0.677224)\tuniform_loss -3.682033 (-3.682033)\ttotal_loss -3.004808 (-3.004808)\titer_time 0.656955 (0.656955)\n",
      "Epoch 87/200\tIt 0/20\talign_loss 0.678281 (0.678281)\tuniform_loss -3.657654 (-3.657654)\ttotal_loss -2.979373 (-2.979373)\titer_time 0.665776 (0.665776)\n",
      "Epoch 88/200\tIt 0/20\talign_loss 0.675551 (0.675551)\tuniform_loss -3.684017 (-3.684017)\ttotal_loss -3.008466 (-3.008466)\titer_time 0.659368 (0.659368)\n",
      "Epoch 89/200\tIt 0/20\talign_loss 0.706485 (0.706485)\tuniform_loss -3.689014 (-3.689014)\ttotal_loss -2.982529 (-2.982529)\titer_time 0.647476 (0.647476)\n",
      "Epoch 90/200\tIt 0/20\talign_loss 0.725578 (0.725578)\tuniform_loss -3.683643 (-3.683643)\ttotal_loss -2.958065 (-2.958065)\titer_time 0.674039 (0.674039)\n",
      "Epoch 91/200\tIt 0/20\talign_loss 0.672038 (0.672038)\tuniform_loss -3.672502 (-3.672502)\ttotal_loss -3.000464 (-3.000464)\titer_time 0.673049 (0.673049)\n",
      "Epoch 92/200\tIt 0/20\talign_loss 0.697295 (0.697295)\tuniform_loss -3.672814 (-3.672814)\ttotal_loss -2.975520 (-2.975520)\titer_time 0.650557 (0.650557)\n",
      "Epoch 93/200\tIt 0/20\talign_loss 0.651560 (0.651560)\tuniform_loss -3.677459 (-3.677459)\ttotal_loss -3.025899 (-3.025899)\titer_time 0.649814 (0.649814)\n",
      "Epoch 94/200\tIt 0/20\talign_loss 0.638436 (0.638436)\tuniform_loss -3.662706 (-3.662706)\ttotal_loss -3.024270 (-3.024270)\titer_time 0.649402 (0.649402)\n",
      "Epoch 95/200\tIt 0/20\talign_loss 0.688060 (0.688060)\tuniform_loss -3.688267 (-3.688267)\ttotal_loss -3.000207 (-3.000207)\titer_time 0.662163 (0.662163)\n",
      "Epoch 96/200\tIt 0/20\talign_loss 0.615995 (0.615995)\tuniform_loss -3.680199 (-3.680199)\ttotal_loss -3.064204 (-3.064204)\titer_time 0.672227 (0.672227)\n",
      "Epoch 97/200\tIt 0/20\talign_loss 0.646011 (0.646011)\tuniform_loss -3.661233 (-3.661233)\ttotal_loss -3.015222 (-3.015222)\titer_time 0.663730 (0.663730)\n",
      "Epoch 98/200\tIt 0/20\talign_loss 0.683496 (0.683496)\tuniform_loss -3.686123 (-3.686123)\ttotal_loss -3.002627 (-3.002627)\titer_time 0.658507 (0.658507)\n",
      "Epoch 99/200\tIt 0/20\talign_loss 0.678972 (0.678972)\tuniform_loss -3.682086 (-3.682086)\ttotal_loss -3.003114 (-3.003114)\titer_time 0.650043 (0.650043)\n",
      "Epoch 100/200\tIt 0/20\talign_loss 0.656931 (0.656931)\tuniform_loss -3.689648 (-3.689648)\ttotal_loss -3.032718 (-3.032718)\titer_time 0.654584 (0.654584)\n",
      "Epoch 101/200\tIt 0/20\talign_loss 0.683325 (0.683325)\tuniform_loss -3.685084 (-3.685084)\ttotal_loss -3.001759 (-3.001759)\titer_time 0.661940 (0.661940)\n",
      "Epoch 102/200\tIt 0/20\talign_loss 0.644706 (0.644706)\tuniform_loss -3.686104 (-3.686104)\ttotal_loss -3.041398 (-3.041398)\titer_time 0.658163 (0.658163)\n",
      "Epoch 103/200\tIt 0/20\talign_loss 0.683656 (0.683656)\tuniform_loss -3.694195 (-3.694195)\ttotal_loss -3.010539 (-3.010539)\titer_time 0.677929 (0.677929)\n",
      "Epoch 104/200\tIt 0/20\talign_loss 0.650068 (0.650068)\tuniform_loss -3.672626 (-3.672626)\ttotal_loss -3.022557 (-3.022557)\titer_time 0.660254 (0.660254)\n",
      "Epoch 105/200\tIt 0/20\talign_loss 0.666477 (0.666477)\tuniform_loss -3.704014 (-3.704014)\ttotal_loss -3.037537 (-3.037537)\titer_time 0.643090 (0.643090)\n",
      "Epoch 106/200\tIt 0/20\talign_loss 0.664097 (0.664097)\tuniform_loss -3.687594 (-3.687594)\ttotal_loss -3.023497 (-3.023497)\titer_time 0.653862 (0.653862)\n",
      "Epoch 107/200\tIt 0/20\talign_loss 0.663531 (0.663531)\tuniform_loss -3.685402 (-3.685402)\ttotal_loss -3.021871 (-3.021871)\titer_time 0.666446 (0.666446)\n",
      "Epoch 108/200\tIt 0/20\talign_loss 0.646867 (0.646867)\tuniform_loss -3.692321 (-3.692321)\ttotal_loss -3.045454 (-3.045454)\titer_time 0.666769 (0.666769)\n",
      "Epoch 109/200\tIt 0/20\talign_loss 0.599504 (0.599504)\tuniform_loss -3.661092 (-3.661092)\ttotal_loss -3.061587 (-3.061587)\titer_time 0.649782 (0.649782)\n",
      "Epoch 110/200\tIt 0/20\talign_loss 0.623482 (0.623482)\tuniform_loss -3.672051 (-3.672051)\ttotal_loss -3.048569 (-3.048569)\titer_time 0.664534 (0.664534)\n",
      "Epoch 111/200\tIt 0/20\talign_loss 0.628675 (0.628675)\tuniform_loss -3.678760 (-3.678760)\ttotal_loss -3.050085 (-3.050085)\titer_time 0.649856 (0.649856)\n",
      "Epoch 112/200\tIt 0/20\talign_loss 0.645832 (0.645832)\tuniform_loss -3.700866 (-3.700866)\ttotal_loss -3.055034 (-3.055034)\titer_time 0.654446 (0.654446)\n",
      "Epoch 113/200\tIt 0/20\talign_loss 0.682481 (0.682481)\tuniform_loss -3.684176 (-3.684176)\ttotal_loss -3.001695 (-3.001695)\titer_time 0.655630 (0.655630)\n",
      "Epoch 114/200\tIt 0/20\talign_loss 0.625248 (0.625248)\tuniform_loss -3.699790 (-3.699790)\ttotal_loss -3.074542 (-3.074542)\titer_time 0.656667 (0.656667)\n",
      "Epoch 115/200\tIt 0/20\talign_loss 0.634350 (0.634350)\tuniform_loss -3.691302 (-3.691302)\ttotal_loss -3.056952 (-3.056952)\titer_time 0.654171 (0.654171)\n",
      "Epoch 116/200\tIt 0/20\talign_loss 0.668429 (0.668429)\tuniform_loss -3.684898 (-3.684898)\ttotal_loss -3.016469 (-3.016469)\titer_time 0.656842 (0.656842)\n",
      "Epoch 117/200\tIt 0/20\talign_loss 0.663660 (0.663660)\tuniform_loss -3.680852 (-3.680852)\ttotal_loss -3.017192 (-3.017192)\titer_time 0.669321 (0.669321)\n",
      "Epoch 118/200\tIt 0/20\talign_loss 0.588768 (0.588768)\tuniform_loss -3.689978 (-3.689978)\ttotal_loss -3.101210 (-3.101210)\titer_time 0.660328 (0.660328)\n",
      "Epoch 119/200\tIt 0/20\talign_loss 0.643144 (0.643144)\tuniform_loss -3.683798 (-3.683798)\ttotal_loss -3.040654 (-3.040654)\titer_time 0.657701 (0.657701)\n",
      "Epoch 120/200\tIt 0/20\talign_loss 0.606782 (0.606782)\tuniform_loss -3.705142 (-3.705142)\ttotal_loss -3.098360 (-3.098360)\titer_time 0.660806 (0.660806)\n",
      "Epoch 121/200\tIt 0/20\talign_loss 0.599794 (0.599794)\tuniform_loss -3.687842 (-3.687842)\ttotal_loss -3.088048 (-3.088048)\titer_time 0.654984 (0.654984)\n",
      "Epoch 122/200\tIt 0/20\talign_loss 0.600996 (0.600996)\tuniform_loss -3.706029 (-3.706029)\ttotal_loss -3.105033 (-3.105033)\titer_time 0.656549 (0.656549)\n",
      "Epoch 123/200\tIt 0/20\talign_loss 0.636741 (0.636741)\tuniform_loss -3.689271 (-3.689271)\ttotal_loss -3.052531 (-3.052531)\titer_time 0.689805 (0.689805)\n",
      "Epoch 124/200\tIt 0/20\talign_loss 0.607629 (0.607629)\tuniform_loss -3.678030 (-3.678030)\ttotal_loss -3.070401 (-3.070401)\titer_time 0.641389 (0.641389)\n",
      "Epoch 125/200\tIt 0/20\talign_loss 0.651909 (0.651909)\tuniform_loss -3.676022 (-3.676022)\ttotal_loss -3.024114 (-3.024114)\titer_time 0.650766 (0.650766)\n",
      "Epoch 126/200\tIt 0/20\talign_loss 0.603476 (0.603476)\tuniform_loss -3.692521 (-3.692521)\ttotal_loss -3.089044 (-3.089044)\titer_time 0.652491 (0.652491)\n",
      "Epoch 127/200\tIt 0/20\talign_loss 0.645374 (0.645374)\tuniform_loss -3.673427 (-3.673427)\ttotal_loss -3.028053 (-3.028053)\titer_time 0.674156 (0.674156)\n",
      "Epoch 128/200\tIt 0/20\talign_loss 0.635339 (0.635339)\tuniform_loss -3.694988 (-3.694988)\ttotal_loss -3.059649 (-3.059649)\titer_time 0.649174 (0.649174)\n",
      "Epoch 129/200\tIt 0/20\talign_loss 0.587462 (0.587462)\tuniform_loss -3.690325 (-3.690325)\ttotal_loss -3.102864 (-3.102864)\titer_time 0.654949 (0.654949)\n",
      "Epoch 130/200\tIt 0/20\talign_loss 0.631898 (0.631898)\tuniform_loss -3.712783 (-3.712783)\ttotal_loss -3.080885 (-3.080885)\titer_time 0.656846 (0.656846)\n",
      "Epoch 131/200\tIt 0/20\talign_loss 0.583553 (0.583553)\tuniform_loss -3.684115 (-3.684115)\ttotal_loss -3.100563 (-3.100563)\titer_time 0.653780 (0.653780)\n",
      "Epoch 132/200\tIt 0/20\talign_loss 0.619022 (0.619022)\tuniform_loss -3.679687 (-3.679687)\ttotal_loss -3.060665 (-3.060665)\titer_time 0.661232 (0.661232)\n",
      "Epoch 133/200\tIt 0/20\talign_loss 0.673132 (0.673132)\tuniform_loss -3.703734 (-3.703734)\ttotal_loss -3.030602 (-3.030602)\titer_time 0.669880 (0.669880)\n",
      "Epoch 134/200\tIt 0/20\talign_loss 0.642561 (0.642561)\tuniform_loss -3.696814 (-3.696814)\ttotal_loss -3.054252 (-3.054252)\titer_time 0.651969 (0.651969)\n",
      "Epoch 135/200\tIt 0/20\talign_loss 0.638178 (0.638178)\tuniform_loss -3.690637 (-3.690637)\ttotal_loss -3.052459 (-3.052459)\titer_time 0.662737 (0.662737)\n",
      "Epoch 136/200\tIt 0/20\talign_loss 0.624126 (0.624126)\tuniform_loss -3.714903 (-3.714903)\ttotal_loss -3.090777 (-3.090777)\titer_time 0.668216 (0.668216)\n",
      "Epoch 137/200\tIt 0/20\talign_loss 0.637153 (0.637153)\tuniform_loss -3.698947 (-3.698947)\ttotal_loss -3.061794 (-3.061794)\titer_time 0.647404 (0.647404)\n",
      "Epoch 138/200\tIt 0/20\talign_loss 0.566697 (0.566697)\tuniform_loss -3.696006 (-3.696006)\ttotal_loss -3.129309 (-3.129309)\titer_time 0.651612 (0.651612)\n",
      "Epoch 139/200\tIt 0/20\talign_loss 0.625888 (0.625888)\tuniform_loss -3.690899 (-3.690899)\ttotal_loss -3.065010 (-3.065010)\titer_time 0.658960 (0.658960)\n",
      "Epoch 140/200\tIt 0/20\talign_loss 0.629193 (0.629193)\tuniform_loss -3.692553 (-3.692553)\ttotal_loss -3.063360 (-3.063360)\titer_time 0.658755 (0.658755)\n",
      "Epoch 141/200\tIt 0/20\talign_loss 0.650704 (0.650704)\tuniform_loss -3.692664 (-3.692664)\ttotal_loss -3.041960 (-3.041960)\titer_time 0.651018 (0.651018)\n",
      "Epoch 142/200\tIt 0/20\talign_loss 0.591809 (0.591809)\tuniform_loss -3.713258 (-3.713258)\ttotal_loss -3.121449 (-3.121449)\titer_time 0.670030 (0.670030)\n",
      "Epoch 143/200\tIt 0/20\talign_loss 0.624040 (0.624040)\tuniform_loss -3.702208 (-3.702208)\ttotal_loss -3.078168 (-3.078168)\titer_time 0.654644 (0.654644)\n",
      "Epoch 144/200\tIt 0/20\talign_loss 0.632597 (0.632597)\tuniform_loss -3.688505 (-3.688505)\ttotal_loss -3.055908 (-3.055908)\titer_time 0.643618 (0.643618)\n",
      "Epoch 145/200\tIt 0/20\talign_loss 0.577818 (0.577818)\tuniform_loss -3.692407 (-3.692407)\ttotal_loss -3.114589 (-3.114589)\titer_time 0.667747 (0.667747)\n",
      "Epoch 146/200\tIt 0/20\talign_loss 0.630282 (0.630282)\tuniform_loss -3.707413 (-3.707413)\ttotal_loss -3.077130 (-3.077130)\titer_time 0.666704 (0.666704)\n",
      "Epoch 147/200\tIt 0/20\talign_loss 0.603079 (0.603079)\tuniform_loss -3.703676 (-3.703676)\ttotal_loss -3.100598 (-3.100598)\titer_time 0.660191 (0.660191)\n",
      "Epoch 148/200\tIt 0/20\talign_loss 0.580360 (0.580360)\tuniform_loss -3.686602 (-3.686602)\ttotal_loss -3.106242 (-3.106242)\titer_time 0.672028 (0.672028)\n",
      "Epoch 149/200\tIt 0/20\talign_loss 0.633680 (0.633680)\tuniform_loss -3.701431 (-3.701431)\ttotal_loss -3.067752 (-3.067752)\titer_time 0.643250 (0.643250)\n",
      "Epoch 150/200\tIt 0/20\talign_loss 0.662242 (0.662242)\tuniform_loss -3.690114 (-3.690114)\ttotal_loss -3.027872 (-3.027872)\titer_time 0.654002 (0.654002)\n",
      "Epoch 151/200\tIt 0/20\talign_loss 0.571195 (0.571195)\tuniform_loss -3.677509 (-3.677509)\ttotal_loss -3.106314 (-3.106314)\titer_time 0.649364 (0.649364)\n",
      "Epoch 152/200\tIt 0/20\talign_loss 0.564641 (0.564641)\tuniform_loss -3.686704 (-3.686704)\ttotal_loss -3.122063 (-3.122063)\titer_time 0.661048 (0.661048)\n",
      "Epoch 153/200\tIt 0/20\talign_loss 0.578692 (0.578692)\tuniform_loss -3.707653 (-3.707653)\ttotal_loss -3.128962 (-3.128962)\titer_time 0.674870 (0.674870)\n",
      "Epoch 154/200\tIt 0/20\talign_loss 0.530872 (0.530872)\tuniform_loss -3.667809 (-3.667809)\ttotal_loss -3.136937 (-3.136937)\titer_time 0.651402 (0.651402)\n",
      "Epoch 155/200\tIt 0/20\talign_loss 0.547045 (0.547045)\tuniform_loss -3.671608 (-3.671608)\ttotal_loss -3.124564 (-3.124564)\titer_time 0.664243 (0.664243)\n",
      "Epoch 156/200\tIt 0/20\talign_loss 0.616624 (0.616624)\tuniform_loss -3.733071 (-3.733071)\ttotal_loss -3.116447 (-3.116447)\titer_time 0.662601 (0.662601)\n",
      "Epoch 157/200\tIt 0/20\talign_loss 0.552014 (0.552014)\tuniform_loss -3.708968 (-3.708968)\ttotal_loss -3.156953 (-3.156953)\titer_time 0.649432 (0.649432)\n",
      "Epoch 158/200\tIt 0/20\talign_loss 0.547840 (0.547840)\tuniform_loss -3.702237 (-3.702237)\ttotal_loss -3.154397 (-3.154397)\titer_time 0.668164 (0.668164)\n",
      "Epoch 159/200\tIt 0/20\talign_loss 0.600274 (0.600274)\tuniform_loss -3.713692 (-3.713692)\ttotal_loss -3.113418 (-3.113418)\titer_time 0.646390 (0.646390)\n",
      "Epoch 160/200\tIt 0/20\talign_loss 0.528443 (0.528443)\tuniform_loss -3.708200 (-3.708200)\ttotal_loss -3.179757 (-3.179757)\titer_time 0.664312 (0.664312)\n",
      "Epoch 161/200\tIt 0/20\talign_loss 0.568111 (0.568111)\tuniform_loss -3.722456 (-3.722456)\ttotal_loss -3.154345 (-3.154345)\titer_time 0.661825 (0.661825)\n",
      "Epoch 162/200\tIt 0/20\talign_loss 0.549483 (0.549483)\tuniform_loss -3.711876 (-3.711876)\ttotal_loss -3.162392 (-3.162392)\titer_time 0.648439 (0.648439)\n",
      "Epoch 163/200\tIt 0/20\talign_loss 0.528292 (0.528292)\tuniform_loss -3.710989 (-3.710989)\ttotal_loss -3.182697 (-3.182697)\titer_time 0.656704 (0.656704)\n",
      "Epoch 164/200\tIt 0/20\talign_loss 0.552743 (0.552743)\tuniform_loss -3.714108 (-3.714108)\ttotal_loss -3.161366 (-3.161366)\titer_time 0.647310 (0.647310)\n",
      "Epoch 165/200\tIt 0/20\talign_loss 0.614603 (0.614603)\tuniform_loss -3.722801 (-3.722801)\ttotal_loss -3.108198 (-3.108198)\titer_time 0.675580 (0.675580)\n",
      "Epoch 166/200\tIt 0/20\talign_loss 0.560529 (0.560529)\tuniform_loss -3.702817 (-3.702817)\ttotal_loss -3.142287 (-3.142287)\titer_time 0.647056 (0.647056)\n",
      "Epoch 167/200\tIt 0/20\talign_loss 0.564576 (0.564576)\tuniform_loss -3.719411 (-3.719411)\ttotal_loss -3.154835 (-3.154835)\titer_time 0.676211 (0.676211)\n",
      "Epoch 168/200\tIt 0/20\talign_loss 0.539523 (0.539523)\tuniform_loss -3.713058 (-3.713058)\ttotal_loss -3.173534 (-3.173534)\titer_time 0.667846 (0.667846)\n",
      "Epoch 169/200\tIt 0/20\talign_loss 0.541346 (0.541346)\tuniform_loss -3.710687 (-3.710687)\ttotal_loss -3.169341 (-3.169341)\titer_time 0.647882 (0.647882)\n",
      "Epoch 170/200\tIt 0/20\talign_loss 0.544212 (0.544212)\tuniform_loss -3.711643 (-3.711643)\ttotal_loss -3.167430 (-3.167430)\titer_time 0.655203 (0.655203)\n",
      "Epoch 171/200\tIt 0/20\talign_loss 0.568951 (0.568951)\tuniform_loss -3.727507 (-3.727507)\ttotal_loss -3.158556 (-3.158556)\titer_time 0.660336 (0.660336)\n",
      "Epoch 172/200\tIt 0/20\talign_loss 0.595835 (0.595835)\tuniform_loss -3.734089 (-3.734089)\ttotal_loss -3.138254 (-3.138254)\titer_time 0.662094 (0.662094)\n",
      "Epoch 173/200\tIt 0/20\talign_loss 0.534505 (0.534505)\tuniform_loss -3.711437 (-3.711437)\ttotal_loss -3.176932 (-3.176932)\titer_time 0.665152 (0.665152)\n",
      "Epoch 174/200\tIt 0/20\talign_loss 0.536649 (0.536649)\tuniform_loss -3.716241 (-3.716241)\ttotal_loss -3.179592 (-3.179592)\titer_time 0.670132 (0.670132)\n",
      "Epoch 175/200\tIt 0/20\talign_loss 0.551320 (0.551320)\tuniform_loss -3.696437 (-3.696437)\ttotal_loss -3.145117 (-3.145117)\titer_time 0.671574 (0.671574)\n",
      "Epoch 176/200\tIt 0/20\talign_loss 0.565575 (0.565575)\tuniform_loss -3.721832 (-3.721832)\ttotal_loss -3.156256 (-3.156256)\titer_time 0.646386 (0.646386)\n",
      "Epoch 177/200\tIt 0/20\talign_loss 0.577609 (0.577609)\tuniform_loss -3.722779 (-3.722779)\ttotal_loss -3.145170 (-3.145170)\titer_time 0.677375 (0.677375)\n",
      "Epoch 178/200\tIt 0/20\talign_loss 0.543024 (0.543024)\tuniform_loss -3.702995 (-3.702995)\ttotal_loss -3.159971 (-3.159971)\titer_time 0.672133 (0.672133)\n",
      "Epoch 179/200\tIt 0/20\talign_loss 0.567713 (0.567713)\tuniform_loss -3.721197 (-3.721197)\ttotal_loss -3.153484 (-3.153484)\titer_time 0.667549 (0.667549)\n",
      "Epoch 180/200\tIt 0/20\talign_loss 0.592690 (0.592690)\tuniform_loss -3.720212 (-3.720212)\ttotal_loss -3.127522 (-3.127522)\titer_time 0.654941 (0.654941)\n",
      "Epoch 181/200\tIt 0/20\talign_loss 0.528701 (0.528701)\tuniform_loss -3.728458 (-3.728458)\ttotal_loss -3.199758 (-3.199758)\titer_time 0.646770 (0.646770)\n",
      "Epoch 182/200\tIt 0/20\talign_loss 0.566030 (0.566030)\tuniform_loss -3.740582 (-3.740582)\ttotal_loss -3.174552 (-3.174552)\titer_time 0.676453 (0.676453)\n",
      "Epoch 183/200\tIt 0/20\talign_loss 0.506727 (0.506727)\tuniform_loss -3.688384 (-3.688384)\ttotal_loss -3.181656 (-3.181656)\titer_time 0.658119 (0.658119)\n",
      "Epoch 184/200\tIt 0/20\talign_loss 0.583104 (0.583104)\tuniform_loss -3.719962 (-3.719962)\ttotal_loss -3.136858 (-3.136858)\titer_time 0.646760 (0.646760)\n",
      "Epoch 185/200\tIt 0/20\talign_loss 0.574996 (0.574996)\tuniform_loss -3.729923 (-3.729923)\ttotal_loss -3.154927 (-3.154927)\titer_time 0.670464 (0.670464)\n",
      "Epoch 186/200\tIt 0/20\talign_loss 0.557875 (0.557875)\tuniform_loss -3.710545 (-3.710545)\ttotal_loss -3.152670 (-3.152670)\titer_time 0.666885 (0.666885)\n",
      "Epoch 187/200\tIt 0/20\talign_loss 0.566176 (0.566176)\tuniform_loss -3.731463 (-3.731463)\ttotal_loss -3.165287 (-3.165287)\titer_time 0.650914 (0.650914)\n",
      "Epoch 188/200\tIt 0/20\talign_loss 0.596487 (0.596487)\tuniform_loss -3.723292 (-3.723292)\ttotal_loss -3.126806 (-3.126806)\titer_time 0.672734 (0.672734)\n",
      "Epoch 189/200\tIt 0/20\talign_loss 0.616467 (0.616467)\tuniform_loss -3.713110 (-3.713110)\ttotal_loss -3.096643 (-3.096643)\titer_time 0.668235 (0.668235)\n",
      "Epoch 190/200\tIt 0/20\talign_loss 0.559572 (0.559572)\tuniform_loss -3.695707 (-3.695707)\ttotal_loss -3.136134 (-3.136134)\titer_time 0.655731 (0.655731)\n",
      "Epoch 191/200\tIt 0/20\talign_loss 0.583788 (0.583788)\tuniform_loss -3.725884 (-3.725884)\ttotal_loss -3.142097 (-3.142097)\titer_time 0.665471 (0.665471)\n",
      "Epoch 192/200\tIt 0/20\talign_loss 0.551945 (0.551945)\tuniform_loss -3.706548 (-3.706548)\ttotal_loss -3.154603 (-3.154603)\titer_time 0.657087 (0.657087)\n",
      "Epoch 193/200\tIt 0/20\talign_loss 0.539152 (0.539152)\tuniform_loss -3.710650 (-3.710650)\ttotal_loss -3.171498 (-3.171498)\titer_time 0.646146 (0.646146)\n",
      "Epoch 194/200\tIt 0/20\talign_loss 0.554286 (0.554286)\tuniform_loss -3.715631 (-3.715631)\ttotal_loss -3.161345 (-3.161345)\titer_time 0.661720 (0.661720)\n",
      "Epoch 195/200\tIt 0/20\talign_loss 0.515335 (0.515335)\tuniform_loss -3.712011 (-3.712011)\ttotal_loss -3.196676 (-3.196676)\titer_time 0.645809 (0.645809)\n",
      "Epoch 196/200\tIt 0/20\talign_loss 0.572578 (0.572578)\tuniform_loss -3.710707 (-3.710707)\ttotal_loss -3.138129 (-3.138129)\titer_time 0.648001 (0.648001)\n",
      "Epoch 197/200\tIt 0/20\talign_loss 0.560164 (0.560164)\tuniform_loss -3.741195 (-3.741195)\ttotal_loss -3.181031 (-3.181031)\titer_time 0.672420 (0.672420)\n",
      "Epoch 198/200\tIt 0/20\talign_loss 0.561446 (0.561446)\tuniform_loss -3.722445 (-3.722445)\ttotal_loss -3.160999 (-3.160999)\titer_time 0.650820 (0.650820)\n",
      "Epoch 199/200\tIt 0/20\talign_loss 0.556022 (0.556022)\tuniform_loss -3.691273 (-3.691273)\ttotal_loss -3.135252 (-3.135252)\titer_time 0.645270 (0.645270)\n",
      "Saved to ./results/base_200_4_sideinformation_align1alpha2_unif1t2_iter0/encoder.pth\n"
     ]
    }
   ],
   "source": [
    "def get_data_loader(opt):\n",
    "    transform = torchvision.transforms.Compose([\n",
    "        torchvision.transforms.RandomResizedCrop(64, scale=(0.08, 1)),\n",
    "        torchvision.transforms.RandomHorizontalFlip(),\n",
    "        torchvision.transforms.ColorJitter(0.4, 0.4, 0.4, 0.4),\n",
    "        torchvision.transforms.RandomGrayscale(p=0.2),\n",
    "        torchvision.transforms.ToTensor(),\n",
    "        torchvision.transforms.Normalize(\n",
    "            (0.44087801806139126, 0.42790631331699347, 0.3867879370752931),\n",
    "            (0.26826768628079806, 0.2610450402318512, 0.26866836876860795),\n",
    "        ),\n",
    "    ])\n",
    "    dataset = TwoAugUnsupervisedDatasetLbl(\n",
    "        torchvision.datasets.STL10(opt.data_folder, 'train', download=True), \n",
    "        transform=transform, \n",
    "        lblmap=old2new )\n",
    "    \n",
    "    return torch.utils.data.DataLoader(dataset, batch_size=opt.batch_size, num_workers=opt.num_workers,\n",
    "                                       shuffle=True, pin_memory=True)\n",
    "\n",
    "\n",
    "print(f'Optimize: {opt.align_w:g} * loss_align(alpha={opt.align_alpha:g}) + {opt.unif_w:g} * loss_uniform(t={opt.unif_t:g})')\n",
    "\n",
    "torch.cuda.set_device(opt.gpus[0])\n",
    "torch.backends.cudnn.deterministic = True\n",
    "torch.backends.cudnn.benchmark = True\n",
    "\n",
    "encoder = SmallAlexNet(feat_dim=opt.feat_dim).to(opt.gpus[0])\n",
    "\n",
    "optim = torch.optim.SGD(encoder.parameters(), lr=opt.lr,\n",
    "                        momentum=opt.momentum, weight_decay=opt.weight_decay)\n",
    "scheduler = torch.optim.lr_scheduler.MultiStepLR(optim, gamma=opt.lr_decay_rate,\n",
    "                                                 milestones=opt.lr_decay_epochs)\n",
    "\n",
    "loader = get_data_loader(opt)\n",
    "align_meter = AverageMeter('align_loss')\n",
    "unif_meter = AverageMeter('uniform_loss')\n",
    "loss_meter = AverageMeter('total_loss')\n",
    "it_time_meter = AverageMeter('iter_time')\n",
    "\n",
    "for epoch in range(opt.epochs):\n",
    "    align_meter.reset()\n",
    "    unif_meter.reset()\n",
    "    loss_meter.reset()\n",
    "    it_time_meter.reset()\n",
    "    t0 = time.time()\n",
    "    for ii, (im_x, im_y, lbl) in enumerate(loader):\n",
    "        optim.zero_grad()\n",
    "        x, y = encoder(torch.cat([im_x.to(opt.gpus[0]), im_y.to(opt.gpus[0])])).chunk(2)\n",
    "        \n",
    "        align_loss_val = align_loss(x, y, alpha=opt.align_alpha)\n",
    "        # group according to new_lbls\n",
    "\n",
    "        z = torch.cat( [x, y])\n",
    "        lbl_z = torch.cat([lbl, lbl])\n",
    "        unif_losses = torch.cat([uniform_loss_prelog(z[lbl_z==new_lbl]) for new_lbl in new_lbls])\n",
    "        unif_loss_val = torch.log( torch.mean(unif_losses) )\n",
    "        \n",
    "        loss = align_loss_val * opt.align_w + unif_loss_val * opt.unif_w\n",
    "        align_meter.update(align_loss_val, x.shape[0])\n",
    "        unif_meter.update(unif_loss_val)\n",
    "        loss_meter.update(loss, x.shape[0])\n",
    "        loss.backward()\n",
    "        optim.step()\n",
    "        it_time_meter.update(time.time() - t0)\n",
    "        if ii % opt.log_interval == 0:\n",
    "            print(f\"Epoch {epoch}/{opt.epochs}\\tIt {ii}/{len(loader)}\\t\" +\n",
    "                  f\"{align_meter}\\t{unif_meter}\\t{loss_meter}\\t{it_time_meter}\")\n",
    "        t0 = time.time()\n",
    "    scheduler.step()\n",
    "\n",
    "ckpt_file = os.path.join(opt.save_folder, 'encoder.pth')\n",
    "torch.save(encoder.state_dict(), ckpt_file)\n",
    "print(f'Saved to {ckpt_file}')"
   ]
  },
  {
   "cell_type": "code",
   "execution_count": 39,
   "id": "46dfeed1-b6e6-4cb3-a96b-68fa78bcf010",
   "metadata": {},
   "outputs": [
    {
     "data": {
      "text/plain": [
       "<All keys matched successfully>"
      ]
     },
     "execution_count": 39,
     "metadata": {},
     "output_type": "execute_result"
    }
   ],
   "source": [
    "\"\"\"\n",
    "    Here we  do the linear evaluation, the old labels are provided to the linear objective as one hot\n",
    "\"\"\"\n",
    "import time\n",
    "import argparse\n",
    "\n",
    "import torchvision\n",
    "import torch\n",
    "import torch.nn as nn\n",
    "import torch.nn.functional as F\n",
    "\n",
    "from util import AverageMeter\n",
    "from encoder import SmallAlexNet\n",
    "MODEL_2_LOAD = \"./results/base_200_sideinformation_align1alpha2_unif1t2_iter0/encoder.pth\"\n",
    "MODEL_2_LOAD = \"./results/base_200_4_sideinformation_align1alpha2_unif1t2_iter0/encoder.pth\"\n",
    "MODEL_2_LOAD=\"./results/manual_labels_align1alpha2_unif1t2_iter0/encoder.pth\"\n",
    "\n",
    "USE_MOD_LBL = True\n",
    "encoder = SmallAlexNet(feat_dim=opt.feat_dim).to(opt.gpus[0])\n",
    "encoder.load_state_dict(torch.load(MODEL_2_LOAD))"
   ]
  },
  {
   "cell_type": "code",
   "execution_count": 40,
   "id": "00c18248-7d9a-4388-a6e3-e3304ba5f363",
   "metadata": {},
   "outputs": [],
   "source": [
    "def parse_option():\n",
    "    parser = argparse.ArgumentParser('STL-10 Representation Learning with Alignment and Uniformity Losses')\n",
    "\n",
    "    parser.add_argument('--encoder_checkpoint', type=str, help='Encoder checkpoint to evaluate', default=MODEL_2_LOAD)\n",
    "    parser.add_argument('--feat_dim', type=int, default=128, help='Encoder feature dimensionality')\n",
    "    parser.add_argument('--layer_index', type=int, default=-2, help='Evaluation layer')\n",
    "\n",
    "    parser.add_argument('--batch_size', type=int, default=128, help='Batch size')\n",
    "    parser.add_argument('--epochs', type=int, default=100, help='Number of training epochs')\n",
    "    parser.add_argument('--lr', type=float, default=1e-3, help='Learning rate')\n",
    "    parser.add_argument('--lr_decay_rate', type=float, default=0.2, help='Learning rate decay rate')\n",
    "    parser.add_argument('--lr_decay_epochs', type=str, default='60,80', help='When to decay learning rate')\n",
    "\n",
    "    parser.add_argument('--num_workers', type=int, default=6, help='Number of data loader workers to use')\n",
    "    parser.add_argument('--log_interval', type=int, default=40, help='Number of iterations between logs')\n",
    "    parser.add_argument('--gpus', default=[0], nargs='*', type=int,\n",
    "                        help='List of GPU indices to use, e.g., --gpus 0 1 2 3')\n",
    "\n",
    "    parser.add_argument('--data_folder', type=str, default='./data', help='Path to data')\n",
    "\n",
    "    opt = parser.parse_args(\"\")\n",
    "\n",
    "    if opt.lr is None:\n",
    "        opt.lr = 0.12 * (opt.batch_size / 256)\n",
    "\n",
    "    opt.gpu = torch.device('cuda', opt.gpus[0])\n",
    "    opt.lr_decay_epochs = list(map(int, opt.lr_decay_epochs.split(',')))\n",
    "\n",
    "    return opt\n",
    "\n",
    "\n",
    "class DatasetModifiedLbl(torch.utils.data.Dataset):\n",
    "    r\"\"\"Returns two augmentation and no labels.\"\"\"\n",
    "\n",
    "    def __init__(self, dataset, lblmap=None):\n",
    "        self.dataset = dataset\n",
    "        self.lblmap = copy.deepcopy(lblmap)\n",
    "\n",
    "    def __getitem__(self, index):\n",
    "        image, lbl = self.dataset[index]\n",
    "        lbl2return = lbl if self.lblmap is None else self.lblmap[lbl]\n",
    "        return image, lbl2return\n",
    "\n",
    "    def __len__(self):\n",
    "        return len(self.dataset)"
   ]
  },
  {
   "cell_type": "code",
   "execution_count": 41,
   "id": "42651724-4da3-439f-b35d-f15b322ebc46",
   "metadata": {},
   "outputs": [],
   "source": [
    "class DatasetModifiedLblandLbl(torch.utils.data.Dataset):\n",
    "    r\"\"\"Returns two augmentation and no labels.\"\"\"\n",
    "\n",
    "    def __init__(self, dataset, lblmap):\n",
    "        self.dataset = dataset\n",
    "        self.lblmap = copy.deepcopy(lblmap)\n",
    "\n",
    "    def __getitem__(self, index):\n",
    "        image, lbl = self.dataset[index]\n",
    "        return image, self.lblmap[lbl], lbl\n",
    "\n",
    "    def __len__(self):\n",
    "        return len(self.dataset)"
   ]
  },
  {
   "cell_type": "code",
   "execution_count": 42,
   "id": "bb10fe91-33c3-4ee2-b5b7-d3f1011380de",
   "metadata": {},
   "outputs": [],
   "source": [
    "def get_data_loaders(opt):\n",
    "    train_transform = torchvision.transforms.Compose([\n",
    "        torchvision.transforms.RandomResizedCrop(64, scale=(0.08, 1)),\n",
    "        torchvision.transforms.ToTensor(),\n",
    "        torchvision.transforms.Normalize(\n",
    "            (0.44087801806139126, 0.42790631331699347, 0.3867879370752931),\n",
    "            (0.26826768628079806, 0.2610450402318512, 0.26866836876860795),\n",
    "        ),\n",
    "        torchvision.transforms.RandomHorizontalFlip()\n",
    "    ])\n",
    "    val_transform = torchvision.transforms.Compose([\n",
    "        torchvision.transforms.Resize(70),\n",
    "        torchvision.transforms.CenterCrop(64),\n",
    "        torchvision.transforms.ToTensor(),\n",
    "        torchvision.transforms.Normalize(\n",
    "            (0.44087801806139126, 0.42790631331699347, 0.3867879370752931),\n",
    "            (0.26826768628079806, 0.2610450402318512, 0.26866836876860795),\n",
    "        ),\n",
    "    ])\n",
    "    train_dataset = DatasetModifiedLblandLbl( torchvision.datasets.STL10(opt.data_folder, 'train', download=True, transform=train_transform), lblmap=old2new)\n",
    "    val_dataset =  DatasetModifiedLblandLbl( torchvision.datasets.STL10(opt.data_folder, 'test', transform=val_transform), lblmap=old2new)\n",
    "    train_loader = torch.utils.data.DataLoader(train_dataset, batch_size=opt.batch_size,\n",
    "                                               num_workers=opt.num_workers, shuffle=True, pin_memory=True)\n",
    "    val_loader = torch.utils.data.DataLoader(val_dataset, batch_size=opt.batch_size,\n",
    "                                             num_workers=opt.num_workers, pin_memory=True)\n",
    "    return train_loader, val_loader\n",
    "\n",
    "\n",
    "def validate_comb(opt, encoder, classifier, val_loader):\n",
    "    correct = 0\n",
    "    with torch.no_grad():\n",
    "        for images, labels_mod, labels_act in val_loader:\n",
    "            pred = classifier(torch.cat( (encoder(images.to(opt.gpus[0]), layer_index=opt.layer_index).flatten(1), torch.nn.functional.one_hot(labels_mod.to(opt.gpus[0]), num_classes=len(labels_2_keep)+1)), dim=1)).argmax(dim=1)\n",
    "            correct += (pred.cpu() == labels_act).sum().item()\n",
    "    return correct / len(val_loader.dataset)\n",
    "\n",
    "def validate(opt, encoder, classifier, val_loader):\n",
    "    correct = 0\n",
    "    with torch.no_grad():\n",
    "        for images, labels_mod, labels_act in val_loader:\n",
    "            pred = classifier( encoder(images.to(opt.gpus[0]), layer_index=opt.layer_index).flatten(1) ).argmax(dim=1)\n",
    "            correct += (pred.cpu() == labels_act).sum().item()\n",
    "    return correct / len(val_loader.dataset)"
   ]
  },
  {
   "cell_type": "code",
   "execution_count": 43,
   "id": "146282ba-d904-4d56-ae75-491417d7eb3c",
   "metadata": {},
   "outputs": [],
   "source": [
    "opt.gpu=opt.gpus[0]"
   ]
  },
  {
   "cell_type": "code",
   "execution_count": 44,
   "id": "7b0e8d1a-d5f1-4580-9ad6-37b38c2827ef",
   "metadata": {},
   "outputs": [
    {
     "name": "stdout",
     "output_type": "stream",
     "text": [
      "Files already downloaded and verified\n",
      "Feature dimension: 4096\n"
     ]
    },
    {
     "name": "stderr",
     "output_type": "stream",
     "text": [
      "  0%|                                                                                                                                                  | 0/100 [00:00<?, ?it/s]"
     ]
    },
    {
     "name": "stdout",
     "output_type": "stream",
     "text": [
      "Epoch 0/100\tIt 0/40\tloss 2.315407 (2.315407)\titer_time 0.152974 (0.152974)\n"
     ]
    },
    {
     "name": "stderr",
     "output_type": "stream",
     "text": [
      "  1%|█▍                                                                                                                                        | 1/100 [00:01<03:06,  1.88s/it]"
     ]
    },
    {
     "name": "stdout",
     "output_type": "stream",
     "text": [
      "Epoch 0/100\tval_acc 60.6%\n",
      "Epoch 1/100\tIt 0/40\tloss 1.113281 (1.113281)\titer_time 0.147594 (0.147594)\n"
     ]
    },
    {
     "name": "stderr",
     "output_type": "stream",
     "text": [
      "  2%|██▊                                                                                                                                       | 2/100 [00:03<03:02,  1.86s/it]"
     ]
    },
    {
     "name": "stdout",
     "output_type": "stream",
     "text": [
      "Epoch 1/100\tval_acc 58.16%\n",
      "Epoch 2/100\tIt 0/40\tloss 1.283967 (1.283967)\titer_time 0.145462 (0.145462)\n"
     ]
    },
    {
     "name": "stderr",
     "output_type": "stream",
     "text": [
      "  3%|████▏                                                                                                                                     | 3/100 [00:05<03:01,  1.88s/it]"
     ]
    },
    {
     "name": "stdout",
     "output_type": "stream",
     "text": [
      "Epoch 2/100\tval_acc 59.69%\n",
      "Epoch 3/100\tIt 0/40\tloss 1.236999 (1.236999)\titer_time 0.146023 (0.146023)\n"
     ]
    },
    {
     "name": "stderr",
     "output_type": "stream",
     "text": [
      "  4%|█████▌                                                                                                                                    | 4/100 [00:07<02:58,  1.86s/it]"
     ]
    },
    {
     "name": "stdout",
     "output_type": "stream",
     "text": [
      "Epoch 3/100\tval_acc 67.54%\n",
      "Epoch 4/100\tIt 0/40\tloss 0.746870 (0.746870)\titer_time 0.149664 (0.149664)\n"
     ]
    },
    {
     "name": "stderr",
     "output_type": "stream",
     "text": [
      "  5%|██████▉                                                                                                                                   | 5/100 [00:09<02:56,  1.86s/it]"
     ]
    },
    {
     "name": "stdout",
     "output_type": "stream",
     "text": [
      "Epoch 4/100\tval_acc 59.14%\n",
      "Epoch 5/100\tIt 0/40\tloss 1.358944 (1.358944)\titer_time 0.182853 (0.182853)\n"
     ]
    },
    {
     "name": "stderr",
     "output_type": "stream",
     "text": [
      "  6%|████████▎                                                                                                                                 | 6/100 [00:11<02:56,  1.88s/it]"
     ]
    },
    {
     "name": "stdout",
     "output_type": "stream",
     "text": [
      "Epoch 5/100\tval_acc 67.15%\n",
      "Epoch 6/100\tIt 0/40\tloss 0.844065 (0.844065)\titer_time 0.147521 (0.147521)\n"
     ]
    },
    {
     "name": "stderr",
     "output_type": "stream",
     "text": [
      "  7%|█████████▋                                                                                                                                | 7/100 [00:13<02:53,  1.87s/it]"
     ]
    },
    {
     "name": "stdout",
     "output_type": "stream",
     "text": [
      "Epoch 6/100\tval_acc 65.54%\n",
      "Epoch 7/100\tIt 0/40\tloss 0.859089 (0.859089)\titer_time 0.148945 (0.148945)\n"
     ]
    },
    {
     "name": "stderr",
     "output_type": "stream",
     "text": [
      "  8%|███████████                                                                                                                               | 8/100 [00:14<02:51,  1.87s/it]"
     ]
    },
    {
     "name": "stdout",
     "output_type": "stream",
     "text": [
      "Epoch 7/100\tval_acc 67.65%\n",
      "Epoch 8/100\tIt 0/40\tloss 0.698131 (0.698131)\titer_time 0.181344 (0.181344)\n"
     ]
    },
    {
     "name": "stderr",
     "output_type": "stream",
     "text": [
      "  9%|████████████▍                                                                                                                             | 9/100 [00:16<02:49,  1.86s/it]"
     ]
    },
    {
     "name": "stdout",
     "output_type": "stream",
     "text": [
      "Epoch 8/100\tval_acc 70.6%\n",
      "Epoch 9/100\tIt 0/40\tloss 0.693164 (0.693164)\titer_time 0.145276 (0.145276)\n"
     ]
    },
    {
     "name": "stderr",
     "output_type": "stream",
     "text": [
      " 10%|█████████████▋                                                                                                                           | 10/100 [00:18<02:47,  1.87s/it]"
     ]
    },
    {
     "name": "stdout",
     "output_type": "stream",
     "text": [
      "Epoch 9/100\tval_acc 69.05%\n",
      "Epoch 10/100\tIt 0/40\tloss 0.768474 (0.768474)\titer_time 0.185470 (0.185470)\n"
     ]
    },
    {
     "name": "stderr",
     "output_type": "stream",
     "text": [
      " 11%|███████████████                                                                                                                          | 11/100 [00:20<02:46,  1.87s/it]"
     ]
    },
    {
     "name": "stdout",
     "output_type": "stream",
     "text": [
      "Epoch 10/100\tval_acc 68.29%\n",
      "Epoch 11/100\tIt 0/40\tloss 0.730297 (0.730297)\titer_time 0.145991 (0.145991)\n"
     ]
    },
    {
     "name": "stderr",
     "output_type": "stream",
     "text": [
      " 12%|████████████████▍                                                                                                                        | 12/100 [00:22<02:44,  1.87s/it]"
     ]
    },
    {
     "name": "stdout",
     "output_type": "stream",
     "text": [
      "Epoch 11/100\tval_acc 70.94%\n",
      "Epoch 12/100\tIt 0/40\tloss 0.700974 (0.700974)\titer_time 0.146771 (0.146771)\n"
     ]
    },
    {
     "name": "stderr",
     "output_type": "stream",
     "text": [
      " 13%|█████████████████▊                                                                                                                       | 13/100 [00:24<02:41,  1.86s/it]"
     ]
    },
    {
     "name": "stdout",
     "output_type": "stream",
     "text": [
      "Epoch 12/100\tval_acc 64.34%\n",
      "Epoch 13/100\tIt 0/40\tloss 0.920518 (0.920518)\titer_time 0.147903 (0.147903)\n"
     ]
    },
    {
     "name": "stderr",
     "output_type": "stream",
     "text": [
      " 14%|███████████████████▏                                                                                                                     | 14/100 [00:26<02:40,  1.86s/it]"
     ]
    },
    {
     "name": "stdout",
     "output_type": "stream",
     "text": [
      "Epoch 13/100\tval_acc 71.1%\n",
      "Epoch 14/100\tIt 0/40\tloss 0.717796 (0.717796)\titer_time 0.146429 (0.146429)\n"
     ]
    },
    {
     "name": "stderr",
     "output_type": "stream",
     "text": [
      " 15%|████████████████████▌                                                                                                                    | 15/100 [00:27<02:38,  1.86s/it]"
     ]
    },
    {
     "name": "stdout",
     "output_type": "stream",
     "text": [
      "Epoch 14/100\tval_acc 71.46%\n",
      "Epoch 15/100\tIt 0/40\tloss 0.632596 (0.632596)\titer_time 0.150702 (0.150702)\n"
     ]
    },
    {
     "name": "stderr",
     "output_type": "stream",
     "text": [
      " 16%|█████████████████████▉                                                                                                                   | 16/100 [00:29<02:37,  1.87s/it]"
     ]
    },
    {
     "name": "stdout",
     "output_type": "stream",
     "text": [
      "Epoch 15/100\tval_acc 69.42%\n",
      "Epoch 16/100\tIt 0/40\tloss 0.832716 (0.832716)\titer_time 0.183172 (0.183172)\n"
     ]
    },
    {
     "name": "stderr",
     "output_type": "stream",
     "text": [
      " 17%|███████████████████████▎                                                                                                                 | 17/100 [00:31<02:35,  1.88s/it]"
     ]
    },
    {
     "name": "stdout",
     "output_type": "stream",
     "text": [
      "Epoch 16/100\tval_acc 72.1%\n",
      "Epoch 17/100\tIt 0/40\tloss 0.715029 (0.715029)\titer_time 0.182192 (0.182192)\n"
     ]
    },
    {
     "name": "stderr",
     "output_type": "stream",
     "text": [
      " 18%|████████████████████████▋                                                                                                                | 18/100 [00:33<02:33,  1.87s/it]"
     ]
    },
    {
     "name": "stdout",
     "output_type": "stream",
     "text": [
      "Epoch 17/100\tval_acc 64.24%\n",
      "Epoch 18/100\tIt 0/40\tloss 1.040629 (1.040629)\titer_time 0.179852 (0.179852)\n"
     ]
    },
    {
     "name": "stderr",
     "output_type": "stream",
     "text": [
      " 19%|██████████████████████████                                                                                                               | 19/100 [00:35<02:31,  1.87s/it]"
     ]
    },
    {
     "name": "stdout",
     "output_type": "stream",
     "text": [
      "Epoch 18/100\tval_acc 67.07%\n",
      "Epoch 19/100\tIt 0/40\tloss 0.933583 (0.933583)\titer_time 0.147811 (0.147811)\n"
     ]
    },
    {
     "name": "stderr",
     "output_type": "stream",
     "text": [
      " 20%|███████████████████████████▍                                                                                                             | 20/100 [00:37<02:29,  1.87s/it]"
     ]
    },
    {
     "name": "stdout",
     "output_type": "stream",
     "text": [
      "Epoch 19/100\tval_acc 73.16%\n",
      "Epoch 20/100\tIt 0/40\tloss 0.747843 (0.747843)\titer_time 0.189450 (0.189450)\n"
     ]
    },
    {
     "name": "stderr",
     "output_type": "stream",
     "text": [
      " 21%|████████████████████████████▊                                                                                                            | 21/100 [00:39<02:28,  1.88s/it]"
     ]
    },
    {
     "name": "stdout",
     "output_type": "stream",
     "text": [
      "Epoch 20/100\tval_acc 65.11%\n",
      "Epoch 21/100\tIt 0/40\tloss 0.875065 (0.875065)\titer_time 0.167238 (0.167238)\n"
     ]
    },
    {
     "name": "stderr",
     "output_type": "stream",
     "text": [
      " 22%|██████████████████████████████▏                                                                                                          | 22/100 [00:41<02:28,  1.90s/it]"
     ]
    },
    {
     "name": "stdout",
     "output_type": "stream",
     "text": [
      "Epoch 21/100\tval_acc 69.86%\n",
      "Epoch 22/100\tIt 0/40\tloss 0.850085 (0.850085)\titer_time 0.150580 (0.150580)\n"
     ]
    },
    {
     "name": "stderr",
     "output_type": "stream",
     "text": [
      " 23%|███████████████████████████████▌                                                                                                         | 23/100 [00:43<02:25,  1.89s/it]"
     ]
    },
    {
     "name": "stdout",
     "output_type": "stream",
     "text": [
      "Epoch 22/100\tval_acc 71.66%\n",
      "Epoch 23/100\tIt 0/40\tloss 0.651299 (0.651299)\titer_time 0.184038 (0.184038)\n"
     ]
    },
    {
     "name": "stderr",
     "output_type": "stream",
     "text": [
      " 24%|████████████████████████████████▉                                                                                                        | 24/100 [00:45<02:25,  1.91s/it]"
     ]
    },
    {
     "name": "stdout",
     "output_type": "stream",
     "text": [
      "Epoch 23/100\tval_acc 73.12%\n",
      "Epoch 24/100\tIt 0/40\tloss 0.660007 (0.660007)\titer_time 0.211951 (0.211951)\n"
     ]
    },
    {
     "name": "stderr",
     "output_type": "stream",
     "text": [
      " 25%|██████████████████████████████████▎                                                                                                      | 25/100 [00:47<02:31,  2.02s/it]"
     ]
    },
    {
     "name": "stdout",
     "output_type": "stream",
     "text": [
      "Epoch 24/100\tval_acc 64.76%\n",
      "Epoch 25/100\tIt 0/40\tloss 0.821158 (0.821158)\titer_time 0.187459 (0.187459)\n"
     ]
    },
    {
     "name": "stderr",
     "output_type": "stream",
     "text": [
      " 26%|███████████████████████████████████▌                                                                                                     | 26/100 [00:49<02:26,  1.98s/it]"
     ]
    },
    {
     "name": "stdout",
     "output_type": "stream",
     "text": [
      "Epoch 25/100\tval_acc 61.52%\n",
      "Epoch 26/100\tIt 0/40\tloss 0.855443 (0.855443)\titer_time 0.178727 (0.178727)\n"
     ]
    },
    {
     "name": "stderr",
     "output_type": "stream",
     "text": [
      " 27%|████████████████████████████████████▉                                                                                                    | 27/100 [00:51<02:22,  1.95s/it]"
     ]
    },
    {
     "name": "stdout",
     "output_type": "stream",
     "text": [
      "Epoch 26/100\tval_acc 72.08%\n",
      "Epoch 27/100\tIt 0/40\tloss 0.699668 (0.699668)\titer_time 0.154709 (0.154709)\n"
     ]
    },
    {
     "name": "stderr",
     "output_type": "stream",
     "text": [
      " 28%|██████████████████████████████████████▎                                                                                                  | 28/100 [00:52<02:18,  1.93s/it]"
     ]
    },
    {
     "name": "stdout",
     "output_type": "stream",
     "text": [
      "Epoch 27/100\tval_acc 61.96%\n",
      "Epoch 28/100\tIt 0/40\tloss 0.848558 (0.848558)\titer_time 0.151969 (0.151969)\n"
     ]
    },
    {
     "name": "stderr",
     "output_type": "stream",
     "text": [
      " 29%|███████████████████████████████████████▋                                                                                                 | 29/100 [00:54<02:15,  1.91s/it]"
     ]
    },
    {
     "name": "stdout",
     "output_type": "stream",
     "text": [
      "Epoch 28/100\tval_acc 71.66%\n",
      "Epoch 29/100\tIt 0/40\tloss 0.677972 (0.677972)\titer_time 0.147234 (0.147234)\n"
     ]
    },
    {
     "name": "stderr",
     "output_type": "stream",
     "text": [
      " 30%|█████████████████████████████████████████                                                                                                | 30/100 [00:56<02:12,  1.90s/it]"
     ]
    },
    {
     "name": "stdout",
     "output_type": "stream",
     "text": [
      "Epoch 29/100\tval_acc 74.65%\n",
      "Epoch 30/100\tIt 0/40\tloss 0.530076 (0.530076)\titer_time 0.150324 (0.150324)\n"
     ]
    },
    {
     "name": "stderr",
     "output_type": "stream",
     "text": [
      " 31%|██████████████████████████████████████████▍                                                                                              | 31/100 [00:58<02:10,  1.89s/it]"
     ]
    },
    {
     "name": "stdout",
     "output_type": "stream",
     "text": [
      "Epoch 30/100\tval_acc 71.24%\n",
      "Epoch 31/100\tIt 0/40\tloss 0.629505 (0.629505)\titer_time 0.163294 (0.163294)\n"
     ]
    },
    {
     "name": "stderr",
     "output_type": "stream",
     "text": [
      " 32%|███████████████████████████████████████████▊                                                                                             | 32/100 [01:00<02:08,  1.88s/it]"
     ]
    },
    {
     "name": "stdout",
     "output_type": "stream",
     "text": [
      "Epoch 31/100\tval_acc 67.38%\n",
      "Epoch 32/100\tIt 0/40\tloss 0.858186 (0.858186)\titer_time 0.181876 (0.181876)\n"
     ]
    },
    {
     "name": "stderr",
     "output_type": "stream",
     "text": [
      " 33%|█████████████████████████████████████████████▏                                                                                           | 33/100 [01:02<02:06,  1.88s/it]"
     ]
    },
    {
     "name": "stdout",
     "output_type": "stream",
     "text": [
      "Epoch 32/100\tval_acc 75.14%\n",
      "Epoch 33/100\tIt 0/40\tloss 0.638891 (0.638891)\titer_time 0.146733 (0.146733)\n"
     ]
    },
    {
     "name": "stderr",
     "output_type": "stream",
     "text": [
      " 34%|██████████████████████████████████████████████▌                                                                                          | 34/100 [01:04<02:03,  1.87s/it]"
     ]
    },
    {
     "name": "stdout",
     "output_type": "stream",
     "text": [
      "Epoch 33/100\tval_acc 70.38%\n",
      "Epoch 34/100\tIt 0/40\tloss 0.730793 (0.730793)\titer_time 0.146677 (0.146677)\n"
     ]
    },
    {
     "name": "stderr",
     "output_type": "stream",
     "text": [
      " 35%|███████████████████████████████████████████████▉                                                                                         | 35/100 [01:06<02:02,  1.88s/it]"
     ]
    },
    {
     "name": "stdout",
     "output_type": "stream",
     "text": [
      "Epoch 34/100\tval_acc 68.42%\n",
      "Epoch 35/100\tIt 0/40\tloss 0.759427 (0.759427)\titer_time 0.146289 (0.146289)\n"
     ]
    },
    {
     "name": "stderr",
     "output_type": "stream",
     "text": [
      " 36%|█████████████████████████████████████████████████▎                                                                                       | 36/100 [01:07<02:00,  1.89s/it]"
     ]
    },
    {
     "name": "stdout",
     "output_type": "stream",
     "text": [
      "Epoch 35/100\tval_acc 73.12%\n",
      "Epoch 36/100\tIt 0/40\tloss 0.888276 (0.888276)\titer_time 0.147839 (0.147839)\n"
     ]
    },
    {
     "name": "stderr",
     "output_type": "stream",
     "text": [
      " 37%|██████████████████████████████████████████████████▋                                                                                      | 37/100 [01:09<01:58,  1.89s/it]"
     ]
    },
    {
     "name": "stdout",
     "output_type": "stream",
     "text": [
      "Epoch 36/100\tval_acc 71.84%\n",
      "Epoch 37/100\tIt 0/40\tloss 0.634805 (0.634805)\titer_time 0.181090 (0.181090)\n"
     ]
    },
    {
     "name": "stderr",
     "output_type": "stream",
     "text": [
      " 38%|████████████████████████████████████████████████████                                                                                     | 38/100 [01:11<01:57,  1.90s/it]"
     ]
    },
    {
     "name": "stdout",
     "output_type": "stream",
     "text": [
      "Epoch 37/100\tval_acc 75.7%\n",
      "Epoch 38/100\tIt 0/40\tloss 0.408260 (0.408260)\titer_time 0.183058 (0.183058)\n"
     ]
    },
    {
     "name": "stderr",
     "output_type": "stream",
     "text": [
      " 39%|█████████████████████████████████████████████████████▍                                                                                   | 39/100 [01:13<01:55,  1.90s/it]"
     ]
    },
    {
     "name": "stdout",
     "output_type": "stream",
     "text": [
      "Epoch 38/100\tval_acc 74.72%\n",
      "Epoch 39/100\tIt 0/40\tloss 0.628029 (0.628029)\titer_time 0.177483 (0.177483)\n"
     ]
    },
    {
     "name": "stderr",
     "output_type": "stream",
     "text": [
      " 40%|██████████████████████████████████████████████████████▊                                                                                  | 40/100 [01:15<01:53,  1.89s/it]"
     ]
    },
    {
     "name": "stdout",
     "output_type": "stream",
     "text": [
      "Epoch 39/100\tval_acc 74.02%\n",
      "Epoch 40/100\tIt 0/40\tloss 0.595396 (0.595396)\titer_time 0.180567 (0.180567)\n"
     ]
    },
    {
     "name": "stderr",
     "output_type": "stream",
     "text": [
      " 41%|████████████████████████████████████████████████████████▏                                                                                | 41/100 [01:17<01:51,  1.90s/it]"
     ]
    },
    {
     "name": "stdout",
     "output_type": "stream",
     "text": [
      "Epoch 40/100\tval_acc 73.91%\n",
      "Epoch 41/100\tIt 0/40\tloss 0.655508 (0.655508)\titer_time 0.148385 (0.148385)\n"
     ]
    },
    {
     "name": "stderr",
     "output_type": "stream",
     "text": [
      " 42%|█████████████████████████████████████████████████████████▌                                                                               | 42/100 [01:19<01:49,  1.88s/it]"
     ]
    },
    {
     "name": "stdout",
     "output_type": "stream",
     "text": [
      "Epoch 41/100\tval_acc 74.85%\n",
      "Epoch 42/100\tIt 0/40\tloss 0.638136 (0.638136)\titer_time 0.146959 (0.146959)\n"
     ]
    },
    {
     "name": "stderr",
     "output_type": "stream",
     "text": [
      " 43%|██████████████████████████████████████████████████████████▉                                                                              | 43/100 [01:21<01:47,  1.88s/it]"
     ]
    },
    {
     "name": "stdout",
     "output_type": "stream",
     "text": [
      "Epoch 42/100\tval_acc 73.79%\n",
      "Epoch 43/100\tIt 0/40\tloss 0.617727 (0.617727)\titer_time 0.151305 (0.151305)\n"
     ]
    },
    {
     "name": "stderr",
     "output_type": "stream",
     "text": [
      " 44%|████████████████████████████████████████████████████████████▎                                                                            | 44/100 [01:23<01:46,  1.89s/it]"
     ]
    },
    {
     "name": "stdout",
     "output_type": "stream",
     "text": [
      "Epoch 43/100\tval_acc 71.79%\n",
      "Epoch 44/100\tIt 0/40\tloss 0.581577 (0.581577)\titer_time 0.186067 (0.186067)\n"
     ]
    },
    {
     "name": "stderr",
     "output_type": "stream",
     "text": [
      " 45%|█████████████████████████████████████████████████████████████▋                                                                           | 45/100 [01:25<01:44,  1.90s/it]"
     ]
    },
    {
     "name": "stdout",
     "output_type": "stream",
     "text": [
      "Epoch 44/100\tval_acc 74.85%\n",
      "Epoch 45/100\tIt 0/40\tloss 0.530192 (0.530192)\titer_time 0.184637 (0.184637)\n"
     ]
    },
    {
     "name": "stderr",
     "output_type": "stream",
     "text": [
      " 46%|███████████████████████████████████████████████████████████████                                                                          | 46/100 [01:26<01:43,  1.91s/it]"
     ]
    },
    {
     "name": "stdout",
     "output_type": "stream",
     "text": [
      "Epoch 45/100\tval_acc 72.36%\n",
      "Epoch 46/100\tIt 0/40\tloss 0.690623 (0.690623)\titer_time 0.150993 (0.150993)\n"
     ]
    },
    {
     "name": "stderr",
     "output_type": "stream",
     "text": [
      " 47%|████████████████████████████████████████████████████████████████▍                                                                        | 47/100 [01:28<01:40,  1.90s/it]"
     ]
    },
    {
     "name": "stdout",
     "output_type": "stream",
     "text": [
      "Epoch 46/100\tval_acc 72.52%\n",
      "Epoch 47/100\tIt 0/40\tloss 0.498163 (0.498163)\titer_time 0.149387 (0.149387)\n"
     ]
    },
    {
     "name": "stderr",
     "output_type": "stream",
     "text": [
      " 48%|█████████████████████████████████████████████████████████████████▊                                                                       | 48/100 [01:30<01:39,  1.91s/it]"
     ]
    },
    {
     "name": "stdout",
     "output_type": "stream",
     "text": [
      "Epoch 47/100\tval_acc 71.69%\n",
      "Epoch 48/100\tIt 0/40\tloss 0.655998 (0.655998)\titer_time 0.165848 (0.165848)\n"
     ]
    },
    {
     "name": "stderr",
     "output_type": "stream",
     "text": [
      " 49%|███████████████████████████████████████████████████████████████████▏                                                                     | 49/100 [01:32<01:36,  1.90s/it]"
     ]
    },
    {
     "name": "stdout",
     "output_type": "stream",
     "text": [
      "Epoch 48/100\tval_acc 76.5%\n",
      "Epoch 49/100\tIt 0/40\tloss 0.506080 (0.506080)\titer_time 0.147544 (0.147544)\n"
     ]
    },
    {
     "name": "stderr",
     "output_type": "stream",
     "text": [
      " 50%|████████████████████████████████████████████████████████████████████▌                                                                    | 50/100 [01:34<01:34,  1.89s/it]"
     ]
    },
    {
     "name": "stdout",
     "output_type": "stream",
     "text": [
      "Epoch 49/100\tval_acc 75.09%\n",
      "Epoch 50/100\tIt 0/40\tloss 0.564652 (0.564652)\titer_time 0.180514 (0.180514)\n"
     ]
    },
    {
     "name": "stderr",
     "output_type": "stream",
     "text": [
      " 51%|█████████████████████████████████████████████████████████████████████▊                                                                   | 51/100 [01:36<01:33,  1.90s/it]"
     ]
    },
    {
     "name": "stdout",
     "output_type": "stream",
     "text": [
      "Epoch 50/100\tval_acc 77.24%\n",
      "Epoch 51/100\tIt 0/40\tloss 0.531256 (0.531256)\titer_time 0.148772 (0.148772)\n"
     ]
    },
    {
     "name": "stderr",
     "output_type": "stream",
     "text": [
      " 52%|███████████████████████████████████████████████████████████████████████▏                                                                 | 52/100 [01:38<01:31,  1.90s/it]"
     ]
    },
    {
     "name": "stdout",
     "output_type": "stream",
     "text": [
      "Epoch 51/100\tval_acc 71.04%\n",
      "Epoch 52/100\tIt 0/40\tloss 0.763923 (0.763923)\titer_time 0.147419 (0.147419)\n"
     ]
    },
    {
     "name": "stderr",
     "output_type": "stream",
     "text": [
      " 53%|████████████████████████████████████████████████████████████████████████▌                                                                | 53/100 [01:40<01:29,  1.90s/it]"
     ]
    },
    {
     "name": "stdout",
     "output_type": "stream",
     "text": [
      "Epoch 52/100\tval_acc 75.04%\n",
      "Epoch 53/100\tIt 0/40\tloss 0.665200 (0.665200)\titer_time 0.179657 (0.179657)\n"
     ]
    },
    {
     "name": "stderr",
     "output_type": "stream",
     "text": [
      " 54%|█████████████████████████████████████████████████████████████████████████▉                                                               | 54/100 [01:42<01:26,  1.89s/it]"
     ]
    },
    {
     "name": "stdout",
     "output_type": "stream",
     "text": [
      "Epoch 53/100\tval_acc 74.56%\n",
      "Epoch 54/100\tIt 0/40\tloss 0.646827 (0.646827)\titer_time 0.184800 (0.184800)\n"
     ]
    },
    {
     "name": "stderr",
     "output_type": "stream",
     "text": [
      " 55%|███████████████████████████████████████████████████████████████████████████▎                                                             | 55/100 [01:43<01:24,  1.89s/it]"
     ]
    },
    {
     "name": "stdout",
     "output_type": "stream",
     "text": [
      "Epoch 54/100\tval_acc 75.65%\n",
      "Epoch 55/100\tIt 0/40\tloss 0.528681 (0.528681)\titer_time 0.156167 (0.156167)\n"
     ]
    },
    {
     "name": "stderr",
     "output_type": "stream",
     "text": [
      " 56%|████████████████████████████████████████████████████████████████████████████▋                                                            | 56/100 [01:45<01:23,  1.89s/it]"
     ]
    },
    {
     "name": "stdout",
     "output_type": "stream",
     "text": [
      "Epoch 55/100\tval_acc 74.83%\n",
      "Epoch 56/100\tIt 0/40\tloss 0.645744 (0.645744)\titer_time 0.150903 (0.150903)\n"
     ]
    },
    {
     "name": "stderr",
     "output_type": "stream",
     "text": [
      " 57%|██████████████████████████████████████████████████████████████████████████████                                                           | 57/100 [01:47<01:20,  1.87s/it]"
     ]
    },
    {
     "name": "stdout",
     "output_type": "stream",
     "text": [
      "Epoch 56/100\tval_acc 75.99%\n",
      "Epoch 57/100\tIt 0/40\tloss 0.516355 (0.516355)\titer_time 0.148741 (0.148741)\n"
     ]
    },
    {
     "name": "stderr",
     "output_type": "stream",
     "text": [
      " 58%|███████████████████████████████████████████████████████████████████████████████▍                                                         | 58/100 [01:49<01:18,  1.86s/it]"
     ]
    },
    {
     "name": "stdout",
     "output_type": "stream",
     "text": [
      "Epoch 57/100\tval_acc 74.98%\n",
      "Epoch 58/100\tIt 0/40\tloss 0.457088 (0.457088)\titer_time 0.146414 (0.146414)\n"
     ]
    },
    {
     "name": "stderr",
     "output_type": "stream",
     "text": [
      " 59%|████████████████████████████████████████████████████████████████████████████████▊                                                        | 59/100 [01:51<01:16,  1.86s/it]"
     ]
    },
    {
     "name": "stdout",
     "output_type": "stream",
     "text": [
      "Epoch 58/100\tval_acc 76.26%\n",
      "Epoch 59/100\tIt 0/40\tloss 0.527824 (0.527824)\titer_time 0.180945 (0.180945)\n"
     ]
    },
    {
     "name": "stderr",
     "output_type": "stream",
     "text": [
      " 60%|██████████████████████████████████████████████████████████████████████████████████▏                                                      | 60/100 [01:53<01:14,  1.87s/it]"
     ]
    },
    {
     "name": "stdout",
     "output_type": "stream",
     "text": [
      "Epoch 59/100\tval_acc 75.42%\n",
      "Epoch 60/100\tIt 0/40\tloss 0.573001 (0.573001)\titer_time 0.181473 (0.181473)\n"
     ]
    },
    {
     "name": "stderr",
     "output_type": "stream",
     "text": [
      " 61%|███████████████████████████████████████████████████████████████████████████████████▌                                                     | 61/100 [01:55<01:12,  1.87s/it]"
     ]
    },
    {
     "name": "stdout",
     "output_type": "stream",
     "text": [
      "Epoch 60/100\tval_acc 78.11%\n",
      "Epoch 61/100\tIt 0/40\tloss 0.423609 (0.423609)\titer_time 0.187749 (0.187749)\n"
     ]
    },
    {
     "name": "stderr",
     "output_type": "stream",
     "text": [
      " 62%|████████████████████████████████████████████████████████████████████████████████████▉                                                    | 62/100 [01:57<01:11,  1.87s/it]"
     ]
    },
    {
     "name": "stdout",
     "output_type": "stream",
     "text": [
      "Epoch 61/100\tval_acc 77.83%\n",
      "Epoch 62/100\tIt 0/40\tloss 0.474236 (0.474236)\titer_time 0.146968 (0.146968)\n"
     ]
    },
    {
     "name": "stderr",
     "output_type": "stream",
     "text": [
      " 63%|██████████████████████████████████████████████████████████████████████████████████████▎                                                  | 63/100 [01:58<01:09,  1.88s/it]"
     ]
    },
    {
     "name": "stdout",
     "output_type": "stream",
     "text": [
      "Epoch 62/100\tval_acc 78.69%\n",
      "Epoch 63/100\tIt 0/40\tloss 0.430570 (0.430570)\titer_time 0.153978 (0.153978)\n"
     ]
    },
    {
     "name": "stderr",
     "output_type": "stream",
     "text": [
      " 64%|███████████████████████████████████████████████████████████████████████████████████████▋                                                 | 64/100 [02:00<01:07,  1.87s/it]"
     ]
    },
    {
     "name": "stdout",
     "output_type": "stream",
     "text": [
      "Epoch 63/100\tval_acc 78.41%\n",
      "Epoch 64/100\tIt 0/40\tloss 0.439002 (0.439002)\titer_time 0.147291 (0.147291)\n"
     ]
    },
    {
     "name": "stderr",
     "output_type": "stream",
     "text": [
      " 65%|█████████████████████████████████████████████████████████████████████████████████████████                                                | 65/100 [02:02<01:05,  1.87s/it]"
     ]
    },
    {
     "name": "stdout",
     "output_type": "stream",
     "text": [
      "Epoch 64/100\tval_acc 78.08%\n",
      "Epoch 65/100\tIt 0/40\tloss 0.388716 (0.388716)\titer_time 0.183411 (0.183411)\n"
     ]
    },
    {
     "name": "stderr",
     "output_type": "stream",
     "text": [
      " 66%|██████████████████████████████████████████████████████████████████████████████████████████▍                                              | 66/100 [02:04<01:03,  1.87s/it]"
     ]
    },
    {
     "name": "stdout",
     "output_type": "stream",
     "text": [
      "Epoch 65/100\tval_acc 77.84%\n",
      "Epoch 66/100\tIt 0/40\tloss 0.536802 (0.536802)\titer_time 0.149598 (0.149598)\n"
     ]
    },
    {
     "name": "stderr",
     "output_type": "stream",
     "text": [
      " 67%|███████████████████████████████████████████████████████████████████████████████████████████▊                                             | 67/100 [02:06<01:01,  1.87s/it]"
     ]
    },
    {
     "name": "stdout",
     "output_type": "stream",
     "text": [
      "Epoch 66/100\tval_acc 78.45%\n",
      "Epoch 67/100\tIt 0/40\tloss 0.505698 (0.505698)\titer_time 0.147170 (0.147170)\n"
     ]
    },
    {
     "name": "stderr",
     "output_type": "stream",
     "text": [
      " 68%|█████████████████████████████████████████████████████████████████████████████████████████████▏                                           | 68/100 [02:08<00:59,  1.86s/it]"
     ]
    },
    {
     "name": "stdout",
     "output_type": "stream",
     "text": [
      "Epoch 67/100\tval_acc 78.5%\n",
      "Epoch 68/100\tIt 0/40\tloss 0.340862 (0.340862)\titer_time 0.182783 (0.182783)\n"
     ]
    },
    {
     "name": "stderr",
     "output_type": "stream",
     "text": [
      " 69%|██████████████████████████████████████████████████████████████████████████████████████████████▌                                          | 69/100 [02:10<00:57,  1.86s/it]"
     ]
    },
    {
     "name": "stdout",
     "output_type": "stream",
     "text": [
      "Epoch 68/100\tval_acc 78.24%\n",
      "Epoch 69/100\tIt 0/40\tloss 0.440309 (0.440309)\titer_time 0.147532 (0.147532)\n"
     ]
    },
    {
     "name": "stderr",
     "output_type": "stream",
     "text": [
      " 70%|███████████████████████████████████████████████████████████████████████████████████████████████▉                                         | 70/100 [02:12<00:56,  1.87s/it]"
     ]
    },
    {
     "name": "stdout",
     "output_type": "stream",
     "text": [
      "Epoch 69/100\tval_acc 78.42%\n",
      "Epoch 70/100\tIt 0/40\tloss 0.469702 (0.469702)\titer_time 0.151433 (0.151433)\n"
     ]
    },
    {
     "name": "stderr",
     "output_type": "stream",
     "text": [
      " 71%|█████████████████████████████████████████████████████████████████████████████████████████████████▎                                       | 71/100 [02:13<00:54,  1.87s/it]"
     ]
    },
    {
     "name": "stdout",
     "output_type": "stream",
     "text": [
      "Epoch 70/100\tval_acc 78.51%\n",
      "Epoch 71/100\tIt 0/40\tloss 0.345157 (0.345157)\titer_time 0.161003 (0.161003)\n"
     ]
    },
    {
     "name": "stderr",
     "output_type": "stream",
     "text": [
      " 72%|██████████████████████████████████████████████████████████████████████████████████████████████████▋                                      | 72/100 [02:15<00:52,  1.86s/it]"
     ]
    },
    {
     "name": "stdout",
     "output_type": "stream",
     "text": [
      "Epoch 71/100\tval_acc 78.7%\n",
      "Epoch 72/100\tIt 0/40\tloss 0.417610 (0.417610)\titer_time 0.150665 (0.150665)\n"
     ]
    },
    {
     "name": "stderr",
     "output_type": "stream",
     "text": [
      " 73%|████████████████████████████████████████████████████████████████████████████████████████████████████                                     | 73/100 [02:17<00:50,  1.85s/it]"
     ]
    },
    {
     "name": "stdout",
     "output_type": "stream",
     "text": [
      "Epoch 72/100\tval_acc 78.5%\n",
      "Epoch 73/100\tIt 0/40\tloss 0.589682 (0.589682)\titer_time 0.166918 (0.166918)\n"
     ]
    },
    {
     "name": "stderr",
     "output_type": "stream",
     "text": [
      " 74%|█████████████████████████████████████████████████████████████████████████████████████████████████████▍                                   | 74/100 [02:19<00:48,  1.88s/it]"
     ]
    },
    {
     "name": "stdout",
     "output_type": "stream",
     "text": [
      "Epoch 73/100\tval_acc 78.5%\n",
      "Epoch 74/100\tIt 0/40\tloss 0.472348 (0.472348)\titer_time 0.153754 (0.153754)\n"
     ]
    },
    {
     "name": "stderr",
     "output_type": "stream",
     "text": [
      " 75%|██████████████████████████████████████████████████████████████████████████████████████████████████████▊                                  | 75/100 [02:21<00:47,  1.88s/it]"
     ]
    },
    {
     "name": "stdout",
     "output_type": "stream",
     "text": [
      "Epoch 74/100\tval_acc 78.67%\n",
      "Epoch 75/100\tIt 0/40\tloss 0.408831 (0.408831)\titer_time 0.184254 (0.184254)\n"
     ]
    },
    {
     "name": "stderr",
     "output_type": "stream",
     "text": [
      " 76%|████████████████████████████████████████████████████████████████████████████████████████████████████████                                 | 76/100 [02:23<00:45,  1.89s/it]"
     ]
    },
    {
     "name": "stdout",
     "output_type": "stream",
     "text": [
      "Epoch 75/100\tval_acc 78.42%\n",
      "Epoch 76/100\tIt 0/40\tloss 0.449157 (0.449157)\titer_time 0.175320 (0.175320)\n"
     ]
    },
    {
     "name": "stderr",
     "output_type": "stream",
     "text": [
      " 77%|█████████████████████████████████████████████████████████████████████████████████████████████████████████▍                               | 77/100 [02:25<00:43,  1.90s/it]"
     ]
    },
    {
     "name": "stdout",
     "output_type": "stream",
     "text": [
      "Epoch 76/100\tval_acc 78.29%\n",
      "Epoch 77/100\tIt 0/40\tloss 0.431146 (0.431146)\titer_time 0.149376 (0.149376)\n"
     ]
    },
    {
     "name": "stderr",
     "output_type": "stream",
     "text": [
      " 78%|██████████████████████████████████████████████████████████████████████████████████████████████████████████▊                              | 78/100 [02:27<00:41,  1.89s/it]"
     ]
    },
    {
     "name": "stdout",
     "output_type": "stream",
     "text": [
      "Epoch 77/100\tval_acc 78.27%\n",
      "Epoch 78/100\tIt 0/40\tloss 0.356807 (0.356807)\titer_time 0.154970 (0.154970)\n"
     ]
    },
    {
     "name": "stderr",
     "output_type": "stream",
     "text": [
      " 79%|████████████████████████████████████████████████████████████████████████████████████████████████████████████▏                            | 79/100 [02:28<00:39,  1.89s/it]"
     ]
    },
    {
     "name": "stdout",
     "output_type": "stream",
     "text": [
      "Epoch 78/100\tval_acc 78.38%\n",
      "Epoch 79/100\tIt 0/40\tloss 0.384604 (0.384604)\titer_time 0.173426 (0.173426)\n"
     ]
    },
    {
     "name": "stderr",
     "output_type": "stream",
     "text": [
      " 80%|█████████████████████████████████████████████████████████████████████████████████████████████████████████████▌                           | 80/100 [02:30<00:37,  1.89s/it]"
     ]
    },
    {
     "name": "stdout",
     "output_type": "stream",
     "text": [
      "Epoch 79/100\tval_acc 78.03%\n",
      "Epoch 80/100\tIt 0/40\tloss 0.377588 (0.377588)\titer_time 0.146404 (0.146404)\n"
     ]
    },
    {
     "name": "stderr",
     "output_type": "stream",
     "text": [
      " 81%|██████████████████████████████████████████████████████████████████████████████████████████████████████████████▉                          | 81/100 [02:32<00:35,  1.89s/it]"
     ]
    },
    {
     "name": "stdout",
     "output_type": "stream",
     "text": [
      "Epoch 80/100\tval_acc 78.33%\n",
      "Epoch 81/100\tIt 0/40\tloss 0.394833 (0.394833)\titer_time 0.163101 (0.163101)\n"
     ]
    },
    {
     "name": "stderr",
     "output_type": "stream",
     "text": [
      " 82%|████████████████████████████████████████████████████████████████████████████████████████████████████████████████▎                        | 82/100 [02:34<00:33,  1.88s/it]"
     ]
    },
    {
     "name": "stdout",
     "output_type": "stream",
     "text": [
      "Epoch 81/100\tval_acc 78.51%\n",
      "Epoch 82/100\tIt 0/40\tloss 0.504429 (0.504429)\titer_time 0.168577 (0.168577)\n"
     ]
    },
    {
     "name": "stderr",
     "output_type": "stream",
     "text": [
      " 83%|█████████████████████████████████████████████████████████████████████████████████████████████████████████████████▋                       | 83/100 [02:36<00:31,  1.88s/it]"
     ]
    },
    {
     "name": "stdout",
     "output_type": "stream",
     "text": [
      "Epoch 82/100\tval_acc 78.53%\n",
      "Epoch 83/100\tIt 0/40\tloss 0.498183 (0.498183)\titer_time 0.148728 (0.148728)\n"
     ]
    },
    {
     "name": "stderr",
     "output_type": "stream",
     "text": [
      " 84%|███████████████████████████████████████████████████████████████████████████████████████████████████████████████████                      | 84/100 [02:38<00:30,  1.89s/it]"
     ]
    },
    {
     "name": "stdout",
     "output_type": "stream",
     "text": [
      "Epoch 83/100\tval_acc 78.57%\n",
      "Epoch 84/100\tIt 0/40\tloss 0.366745 (0.366745)\titer_time 0.184486 (0.184486)\n"
     ]
    },
    {
     "name": "stderr",
     "output_type": "stream",
     "text": [
      " 85%|████████████████████████████████████████████████████████████████████████████████████████████████████████████████████▍                    | 85/100 [02:40<00:28,  1.89s/it]"
     ]
    },
    {
     "name": "stdout",
     "output_type": "stream",
     "text": [
      "Epoch 84/100\tval_acc 78.6%\n",
      "Epoch 85/100\tIt 0/40\tloss 0.396371 (0.396371)\titer_time 0.183493 (0.183493)\n"
     ]
    },
    {
     "name": "stderr",
     "output_type": "stream",
     "text": [
      " 86%|█████████████████████████████████████████████████████████████████████████████████████████████████████████████████████▊                   | 86/100 [02:42<00:26,  1.89s/it]"
     ]
    },
    {
     "name": "stdout",
     "output_type": "stream",
     "text": [
      "Epoch 85/100\tval_acc 78.55%\n",
      "Epoch 86/100\tIt 0/40\tloss 0.518094 (0.518094)\titer_time 0.184195 (0.184195)\n"
     ]
    },
    {
     "name": "stderr",
     "output_type": "stream",
     "text": [
      " 87%|███████████████████████████████████████████████████████████████████████████████████████████████████████████████████████▏                 | 87/100 [02:44<00:24,  1.89s/it]"
     ]
    },
    {
     "name": "stdout",
     "output_type": "stream",
     "text": [
      "Epoch 86/100\tval_acc 78.62%\n",
      "Epoch 87/100\tIt 0/40\tloss 0.419102 (0.419102)\titer_time 0.186355 (0.186355)\n"
     ]
    },
    {
     "name": "stderr",
     "output_type": "stream",
     "text": [
      " 88%|████████████████████████████████████████████████████████████████████████████████████████████████████████████████████████▌                | 88/100 [02:45<00:22,  1.89s/it]"
     ]
    },
    {
     "name": "stdout",
     "output_type": "stream",
     "text": [
      "Epoch 87/100\tval_acc 78.76%\n",
      "Epoch 88/100\tIt 0/40\tloss 0.476765 (0.476765)\titer_time 0.185209 (0.185209)\n"
     ]
    },
    {
     "name": "stderr",
     "output_type": "stream",
     "text": [
      " 89%|█████████████████████████████████████████████████████████████████████████████████████████████████████████████████████████▉               | 89/100 [02:47<00:20,  1.88s/it]"
     ]
    },
    {
     "name": "stdout",
     "output_type": "stream",
     "text": [
      "Epoch 88/100\tval_acc 78.61%\n",
      "Epoch 89/100\tIt 0/40\tloss 0.377513 (0.377513)\titer_time 0.146777 (0.146777)\n"
     ]
    },
    {
     "name": "stderr",
     "output_type": "stream",
     "text": [
      " 90%|███████████████████████████████████████████████████████████████████████████████████████████████████████████████████████████▎             | 90/100 [02:49<00:18,  1.88s/it]"
     ]
    },
    {
     "name": "stdout",
     "output_type": "stream",
     "text": [
      "Epoch 89/100\tval_acc 78.64%\n",
      "Epoch 90/100\tIt 0/40\tloss 0.443744 (0.443744)\titer_time 0.147153 (0.147153)\n"
     ]
    },
    {
     "name": "stderr",
     "output_type": "stream",
     "text": [
      " 91%|████████████████████████████████████████████████████████████████████████████████████████████████████████████████████████████▋            | 91/100 [02:51<00:16,  1.87s/it]"
     ]
    },
    {
     "name": "stdout",
     "output_type": "stream",
     "text": [
      "Epoch 90/100\tval_acc 78.83%\n",
      "Epoch 91/100\tIt 0/40\tloss 0.396038 (0.396038)\titer_time 0.180498 (0.180498)\n"
     ]
    },
    {
     "name": "stderr",
     "output_type": "stream",
     "text": [
      " 92%|██████████████████████████████████████████████████████████████████████████████████████████████████████████████████████████████           | 92/100 [02:53<00:15,  1.88s/it]"
     ]
    },
    {
     "name": "stdout",
     "output_type": "stream",
     "text": [
      "Epoch 91/100\tval_acc 78.62%\n",
      "Epoch 92/100\tIt 0/40\tloss 0.319171 (0.319171)\titer_time 0.181764 (0.181764)\n"
     ]
    },
    {
     "name": "stderr",
     "output_type": "stream",
     "text": [
      " 93%|███████████████████████████████████████████████████████████████████████████████████████████████████████████████████████████████▍         | 93/100 [02:55<00:13,  1.88s/it]"
     ]
    },
    {
     "name": "stdout",
     "output_type": "stream",
     "text": [
      "Epoch 92/100\tval_acc 78.69%\n",
      "Epoch 93/100\tIt 0/40\tloss 0.419030 (0.419030)\titer_time 0.146337 (0.146337)\n"
     ]
    },
    {
     "name": "stderr",
     "output_type": "stream",
     "text": [
      " 94%|████████████████████████████████████████████████████████████████████████████████████████████████████████████████████████████████▊        | 94/100 [02:57<00:11,  1.88s/it]"
     ]
    },
    {
     "name": "stdout",
     "output_type": "stream",
     "text": [
      "Epoch 93/100\tval_acc 78.76%\n",
      "Epoch 94/100\tIt 0/40\tloss 0.293209 (0.293209)\titer_time 0.178677 (0.178677)\n"
     ]
    },
    {
     "name": "stderr",
     "output_type": "stream",
     "text": [
      " 95%|██████████████████████████████████████████████████████████████████████████████████████████████████████████████████████████████████▏      | 95/100 [02:59<00:09,  1.87s/it]"
     ]
    },
    {
     "name": "stdout",
     "output_type": "stream",
     "text": [
      "Epoch 94/100\tval_acc 78.72%\n",
      "Epoch 95/100\tIt 0/40\tloss 0.331524 (0.331524)\titer_time 0.154336 (0.154336)\n"
     ]
    },
    {
     "name": "stderr",
     "output_type": "stream",
     "text": [
      " 96%|███████████████████████████████████████████████████████████████████████████████████████████████████████████████████████████████████▌     | 96/100 [03:00<00:07,  1.88s/it]"
     ]
    },
    {
     "name": "stdout",
     "output_type": "stream",
     "text": [
      "Epoch 95/100\tval_acc 78.64%\n",
      "Epoch 96/100\tIt 0/40\tloss 0.542284 (0.542284)\titer_time 0.148722 (0.148722)\n"
     ]
    },
    {
     "name": "stderr",
     "output_type": "stream",
     "text": [
      " 97%|████████████████████████████████████████████████████████████████████████████████████████████████████████████████████████████████████▉    | 97/100 [03:02<00:05,  1.88s/it]"
     ]
    },
    {
     "name": "stdout",
     "output_type": "stream",
     "text": [
      "Epoch 96/100\tval_acc 78.59%\n",
      "Epoch 97/100\tIt 0/40\tloss 0.394838 (0.394838)\titer_time 0.181823 (0.181823)\n"
     ]
    },
    {
     "name": "stderr",
     "output_type": "stream",
     "text": [
      " 98%|██████████████████████████████████████████████████████████████████████████████████████████████████████████████████████████████████████▎  | 98/100 [03:04<00:03,  1.88s/it]"
     ]
    },
    {
     "name": "stdout",
     "output_type": "stream",
     "text": [
      "Epoch 97/100\tval_acc 78.56%\n",
      "Epoch 98/100\tIt 0/40\tloss 0.377082 (0.377082)\titer_time 0.180655 (0.180655)\n"
     ]
    },
    {
     "name": "stderr",
     "output_type": "stream",
     "text": [
      " 99%|███████████████████████████████████████████████████████████████████████████████████████████████████████████████████████████████████████▋ | 99/100 [03:06<00:01,  1.88s/it]"
     ]
    },
    {
     "name": "stdout",
     "output_type": "stream",
     "text": [
      "Epoch 98/100\tval_acc 78.69%\n",
      "Epoch 99/100\tIt 0/40\tloss 0.344903 (0.344903)\titer_time 0.163893 (0.163893)\n"
     ]
    },
    {
     "name": "stderr",
     "output_type": "stream",
     "text": [
      "100%|████████████████████████████████████████████████████████████████████████████████████████████████████████████████████████████████████████| 100/100 [03:08<00:00,  1.88s/it]"
     ]
    },
    {
     "name": "stdout",
     "output_type": "stream",
     "text": [
      "Epoch 99/100\tval_acc 78.71%\n",
      "Best validation accuracy 0.78825\n"
     ]
    },
    {
     "name": "stderr",
     "output_type": "stream",
     "text": [
      "\n"
     ]
    }
   ],
   "source": [
    "opt = parse_option()\n",
    "\n",
    "opt.gpu=opt.gpus[0]\n",
    "torch.cuda.set_device(opt.gpus[0])\n",
    "torch.backends.cudnn.deterministic = True\n",
    "torch.backends.cudnn.benchmark = True\n",
    "\n",
    "encoder.eval()\n",
    "train_loader, val_loader = get_data_loaders(opt)\n",
    "\n",
    "with torch.no_grad():\n",
    "    sample, _ = train_loader.dataset.dataset[0]\n",
    "    eval_numel = encoder(sample.unsqueeze(0).to(opt.gpus[0]), layer_index=opt.layer_index).numel()\n",
    "print(f'Feature dimension: {eval_numel}')\n",
    "\n",
    "\n",
    "classifier = nn.Linear(eval_numel, 10).to(opt.gpus[0]) if not USE_MOD_LBL else nn.Linear( eval_numel + len(labels_2_keep) + 1,10).to(opt.gpus[0])\n",
    "\n",
    "optim = torch.optim.Adam(classifier.parameters(), lr=opt.lr, betas=(0.5, 0.999))\n",
    "scheduler = torch.optim.lr_scheduler.MultiStepLR(optim, gamma=opt.lr_decay_rate,\n",
    "                                                 milestones=opt.lr_decay_epochs)\n",
    "\n",
    "val_accs = []\n",
    "loss_meter = AverageMeter('loss')\n",
    "it_time_meter = AverageMeter('iter_time')\n",
    "for epoch in tqdm(range(opt.epochs)):\n",
    "    loss_meter.reset()\n",
    "    it_time_meter.reset()\n",
    "    t0 = time.time()\n",
    "    for ii, (images, labels_mod, labels) in enumerate(train_loader):\n",
    "        optim.zero_grad()\n",
    "        with torch.no_grad():\n",
    "            feats = encoder(images.to(opt.gpus[0]), layer_index=opt.layer_index).flatten(1)\n",
    "\n",
    "        if USE_MOD_LBL:\n",
    "            logits = classifier(torch.cat( (feats, torch.nn.functional.one_hot(labels_mod.to(opt.gpus[0]), num_classes=len(labels_2_keep)+1 )),dim=1))\n",
    "        else:\n",
    "            logits = classifier(feats)\n",
    "        \n",
    "        loss = F.cross_entropy(logits, labels.to(opt.gpus[0]))\n",
    "        loss_meter.update(loss, images.shape[0])\n",
    "        loss.backward()\n",
    "        optim.step()\n",
    "        it_time_meter.update(time.time() - t0)\n",
    "        if ii % opt.log_interval == 0:\n",
    "            print(f\"Epoch {epoch}/{opt.epochs}\\tIt {ii}/{len(train_loader)}\\t{loss_meter}\\t{it_time_meter}\")\n",
    "        t0 = time.time()\n",
    "    scheduler.step()\n",
    "    val_acc = validate_comb(opt,encoder,classifier,val_loader) if USE_MOD_LBL else validate(opt, encoder, classifier, val_loader) \n",
    "    val_accs.append(val_acc)\n",
    "    print(f\"Epoch {epoch}/{opt.epochs}\\tval_acc {val_acc*100:.4g}%\")\n",
    "print(f\"Best validation accuracy {max(val_accs)}\")"
   ]
  },
  {
   "cell_type": "code",
   "execution_count": null,
   "id": "1517052b-c1c3-4859-ae38-0754015ba0fb",
   "metadata": {},
   "outputs": [],
   "source": []
  }
 ],
 "metadata": {
  "kernelspec": {
   "display_name": "usmatching_env",
   "language": "python",
   "name": "usmatching_env"
  },
  "language_info": {
   "codemirror_mode": {
    "name": "ipython",
    "version": 3
   },
   "file_extension": ".py",
   "mimetype": "text/x-python",
   "name": "python",
   "nbconvert_exporter": "python",
   "pygments_lexer": "ipython3",
   "version": "3.9.18"
  }
 },
 "nbformat": 4,
 "nbformat_minor": 5
}
